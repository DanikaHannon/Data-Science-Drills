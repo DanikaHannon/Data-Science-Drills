{
 "cells": [
  {
   "cell_type": "markdown",
   "metadata": {},
   "source": [
    "## Assignments"
   ]
  },
  {
   "cell_type": "markdown",
   "metadata": {},
   "source": [
    "Write SQL queries to return:\n",
    "\n",
    "- The IDs and durations for all trips of duration greater than 500, ordered by duration.\n",
    "- Every column of the stations table for station id 84.\n",
    "- The min temperatures of all the occurrences of rain in zip 94301."
   ]
  },
  {
   "cell_type": "markdown",
   "metadata": {},
   "source": [
    "### Write SQL queries to return the IDs and durations for all trips of duration greater than 500, ordered by duration:"
   ]
  },
  {
   "cell_type": "markdown",
   "metadata": {},
   "source": [
    "SELECT \n",
    "\ttrip_id, duration\n",
    "FROM \n",
    "\ttrips\n",
    "WHERE\n",
    "\tduration > 500\n",
    "ORDER BY duration ASC;"
   ]
  },
  {
   "cell_type": "markdown",
   "metadata": {},
   "source": [
    "### Write SQL queries to return every column of the stations table for station id 84:"
   ]
  },
  {
   "cell_type": "markdown",
   "metadata": {},
   "source": [
    "SELECT\n",
    "\t*\n",
    "FROM\n",
    "\tstations\n",
    "WHERE\n",
    "\tstation_id = 84;"
   ]
  },
  {
   "cell_type": "markdown",
   "metadata": {},
   "source": [
    "### Write SQL queries to return the min temperatures of all the occurrences of rain in zip 94301:"
   ]
  },
  {
   "cell_type": "markdown",
   "metadata": {},
   "source": [
    "SELECT\n",
    "\tmintemperaturef\n",
    "FROM\n",
    "\tweather\n",
    "WHERE\n",
    "\tprecipitationin > 0 AND\n",
    "\tzip = 94301;"
   ]
  }
 ],
 "metadata": {
  "kernelspec": {
   "display_name": "Python 3",
   "language": "python",
   "name": "python3"
  },
  "language_info": {
   "codemirror_mode": {
    "name": "ipython",
    "version": 3
   },
   "file_extension": ".py",
   "mimetype": "text/x-python",
   "name": "python",
   "nbconvert_exporter": "python",
   "pygments_lexer": "ipython3",
   "version": "3.7.3"
  }
 },
 "nbformat": 4,
 "nbformat_minor": 2
}
