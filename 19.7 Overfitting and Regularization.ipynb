﻿{
 "cells": [
  {
   "cell_type": "markdown",
   "metadata": {},
   "source": [
    "# Assignment\n",
    "\n",
    "In this assignment, you'll continue working with the house prices data. To complete this assignment, submit a link to a Jupyter notebook containing your solutions to the following tasks:\n",
    "\n",
    "- Load the houseprices data from Thinkful's database.\n",
    "- Reimplement your model from the previous checkpoint.\n",
    "- Try OLS, Lasso, Ridge, and ElasticNet regression using the same model specification. This time, you need to do k-fold cross-validation to choose the best hyperparameter values for your models. Which model is the best? Why?\n",
    "\n",
    "This is not a graded checkpoint, but you should discuss your solution with your mentor. After you've submitted your work, take a moment to compare your solution to [this example solution](https://github.com/Thinkful-Ed/machine-learning-regression-problems/blob/master/notebooks/7.solution_overfitting_and_regularization.ipynb)."
   ]
  },
  {
   "cell_type": "markdown",
   "metadata": {},
   "source": [
    "### Import Statements"
   ]
  },
  {
   "cell_type": "code",
   "execution_count": 34,
   "metadata": {},
   "outputs": [],
   "source": [
    "import matplotlib.pyplot as plt\n",
    "import seaborn as sns\n",
    "import numpy as np\n",
    "import pandas as pd\n",
    "import seaborn as sns\n",
    "import scipy.stats as stats\n",
    "from scipy.stats.mstats import winsorize\n",
    "from scipy.stats import bartlett\n",
    "from scipy.stats import levene\n",
    "from scipy.stats import jarque_bera\n",
    "from scipy.stats import normaltest\n",
    "from statsmodels.tsa.stattools import acf\n",
    "from sklearn import linear_model\n",
    "from sklearn.metrics import mean_absolute_error\n",
    "from sklearn.model_selection import train_test_split\n",
    "from sklearn.linear_model import LinearRegression\n",
    "from sklearn.linear_model import Ridge\n",
    "from sklearn.linear_model import Lasso\n",
    "from sklearn.linear_model import ElasticNet\n",
    "from sqlalchemy import create_engine\n",
    "import statsmodels.api as sm\n",
    "from statsmodels.tools.eval_measures import mse, rmse\n",
    "\n",
    "# Display preferences.\n",
    "%matplotlib inline\n",
    "pd.options.display.float_format = '{:.3f}'.format\n",
    "\n",
    "import warnings\n",
    "warnings.filterwarnings('ignore')"
   ]
  },
  {
   "cell_type": "markdown",
   "metadata": {},
   "source": [
    "### Loading the House Prices Dataframe"
   ]
  },
  {
   "cell_type": "code",
   "execution_count": 35,
   "metadata": {},
   "outputs": [],
   "source": [
    "postgres_user = 'dsbc_student'\n",
    "postgres_pw = '7*.8G9QH21'\n",
    "postgres_host = '142.93.121.174'\n",
    "postgres_port = '5432'\n",
    "postgres_db = 'houseprices'\n",
    "\n",
    "engine = create_engine('postgresql://{}:{}@{}:{}/{}'.format(\n",
    "    postgres_user, postgres_pw, postgres_host, postgres_port, postgres_db))\n",
    "house_prices_df = pd.read_sql_query('select * from houseprices',con=engine)\n",
    "\n",
    "engine.dispose()"
   ]
  },
  {
   "cell_type": "markdown",
   "metadata": {},
   "source": [
    "### EDA on the House Prices Dataframe\n",
    "\n",
    "Please note that I'm re-using code from earlier assingments in this module."
   ]
  },
  {
   "cell_type": "code",
   "execution_count": 36,
   "metadata": {},
   "outputs": [],
   "source": [
    "# Dropping columns that don't have less than 800 datapoints (compared to 1400).\n",
    "\n",
    "fist_revision_house_prices_df = house_prices_df.drop(columns=['alley', 'fence', 'fireplacequ', 'poolqc', 'miscfeature', 'id'])"
   ]
  },
  {
   "cell_type": "code",
   "execution_count": 37,
   "metadata": {},
   "outputs": [],
   "source": [
    "# Dropping columns that can't be transformed with one-hot encoding.\n",
    "\n",
    "second_revision_house_prices_df = fist_revision_house_prices_df.drop(columns=['mszoning', 'lotshape', 'landcontour', \n",
    "                                    'lotconfig', 'landslope', 'neighborhood', 'condition1', 'condition2', 'bldgtype', \n",
    "                                    'housestyle', 'roofstyle', 'roofmatl', 'exterior1st', 'exterior2nd', 'masvnrtype', \n",
    "                                    'exterqual', 'extercond', 'foundation', 'bsmtqual', 'bsmtexposure', 'bsmtfintype1', \n",
    "                                    'bsmtfintype2', 'heating', 'heatingqc', 'electrical', 'kitchenqual', 'functional', \n",
    "                                    'garagetype', 'garagefinish', 'garagequal', 'garagecond', 'paveddrive', 'saletype', \n",
    "                                    'salecondition'])"
   ]
  },
  {
   "cell_type": "code",
   "execution_count": 38,
   "metadata": {},
   "outputs": [],
   "source": [
    "# Transforming categorical variables using one-hot encoding.\n",
    "\n",
    "second_revision_house_prices_df['street'] = pd.get_dummies(second_revision_house_prices_df['street'], drop_first=True)\n",
    "\n",
    "second_revision_house_prices_df['utilities'] = pd.get_dummies(second_revision_house_prices_df['utilities'], drop_first=True)\n",
    "\n",
    "second_revision_house_prices_df['bsmtcond'] = pd.get_dummies(second_revision_house_prices_df['bsmtcond'], drop_first=True)\n",
    "\n",
    "second_revision_house_prices_df['centralair'] = pd.get_dummies(second_revision_house_prices_df['centralair'], drop_first=True)"
   ]
  },
  {
   "cell_type": "code",
   "execution_count": 39,
   "metadata": {},
   "outputs": [],
   "source": [
    "# Filling in missing values with means.\n",
    "\n",
    "third_revision_house_prices_df = second_revision_house_prices_df.copy()\n",
    "\n",
    "replace_nans_with_means_list = ['lotfrontage', 'masvnrarea', 'garageyrblt']\n",
    "\n",
    "for col in replace_nans_with_means_list:\n",
    "        third_revision_house_prices_df.fillna(third_revision_house_prices_df[replace_nans_with_means_list\n",
    "        ].mean(), inplace=True)"
   ]
  },
  {
   "cell_type": "code",
   "execution_count": 40,
   "metadata": {},
   "outputs": [
    {
     "data": {
      "text/html": [
       "<div>\n",
       "<style scoped>\n",
       "    .dataframe tbody tr th:only-of-type {\n",
       "        vertical-align: middle;\n",
       "    }\n",
       "\n",
       "    .dataframe tbody tr th {\n",
       "        vertical-align: top;\n",
       "    }\n",
       "\n",
       "    .dataframe thead th {\n",
       "        text-align: right;\n",
       "    }\n",
       "</style>\n",
       "<table border=\"1\" class=\"dataframe\">\n",
       "  <thead>\n",
       "    <tr style=\"text-align: right;\">\n",
       "      <th></th>\n",
       "      <th>mssubclass</th>\n",
       "      <th>lotfrontage</th>\n",
       "      <th>lotarea</th>\n",
       "      <th>street</th>\n",
       "      <th>utilities</th>\n",
       "      <th>overallqual</th>\n",
       "      <th>overallcond</th>\n",
       "      <th>yearbuilt</th>\n",
       "      <th>yearremodadd</th>\n",
       "      <th>masvnrarea</th>\n",
       "      <th>...</th>\n",
       "      <th>wooddecksf</th>\n",
       "      <th>openporchsf</th>\n",
       "      <th>enclosedporch</th>\n",
       "      <th>threessnporch</th>\n",
       "      <th>screenporch</th>\n",
       "      <th>poolarea</th>\n",
       "      <th>miscval</th>\n",
       "      <th>mosold</th>\n",
       "      <th>yrsold</th>\n",
       "      <th>saleprice</th>\n",
       "    </tr>\n",
       "  </thead>\n",
       "  <tbody>\n",
       "    <tr>\n",
       "      <th>0</th>\n",
       "      <td>60</td>\n",
       "      <td>65.000</td>\n",
       "      <td>8450</td>\n",
       "      <td>1</td>\n",
       "      <td>0</td>\n",
       "      <td>7</td>\n",
       "      <td>5</td>\n",
       "      <td>2003</td>\n",
       "      <td>2003</td>\n",
       "      <td>196.000</td>\n",
       "      <td>...</td>\n",
       "      <td>0</td>\n",
       "      <td>61</td>\n",
       "      <td>0</td>\n",
       "      <td>0</td>\n",
       "      <td>0</td>\n",
       "      <td>0</td>\n",
       "      <td>0</td>\n",
       "      <td>2</td>\n",
       "      <td>2008</td>\n",
       "      <td>208500</td>\n",
       "    </tr>\n",
       "    <tr>\n",
       "      <th>1</th>\n",
       "      <td>20</td>\n",
       "      <td>80.000</td>\n",
       "      <td>9600</td>\n",
       "      <td>1</td>\n",
       "      <td>0</td>\n",
       "      <td>6</td>\n",
       "      <td>8</td>\n",
       "      <td>1976</td>\n",
       "      <td>1976</td>\n",
       "      <td>0.000</td>\n",
       "      <td>...</td>\n",
       "      <td>298</td>\n",
       "      <td>0</td>\n",
       "      <td>0</td>\n",
       "      <td>0</td>\n",
       "      <td>0</td>\n",
       "      <td>0</td>\n",
       "      <td>0</td>\n",
       "      <td>5</td>\n",
       "      <td>2007</td>\n",
       "      <td>181500</td>\n",
       "    </tr>\n",
       "    <tr>\n",
       "      <th>2</th>\n",
       "      <td>60</td>\n",
       "      <td>68.000</td>\n",
       "      <td>11250</td>\n",
       "      <td>1</td>\n",
       "      <td>0</td>\n",
       "      <td>7</td>\n",
       "      <td>5</td>\n",
       "      <td>2001</td>\n",
       "      <td>2002</td>\n",
       "      <td>162.000</td>\n",
       "      <td>...</td>\n",
       "      <td>0</td>\n",
       "      <td>42</td>\n",
       "      <td>0</td>\n",
       "      <td>0</td>\n",
       "      <td>0</td>\n",
       "      <td>0</td>\n",
       "      <td>0</td>\n",
       "      <td>9</td>\n",
       "      <td>2008</td>\n",
       "      <td>223500</td>\n",
       "    </tr>\n",
       "    <tr>\n",
       "      <th>3</th>\n",
       "      <td>70</td>\n",
       "      <td>60.000</td>\n",
       "      <td>9550</td>\n",
       "      <td>1</td>\n",
       "      <td>0</td>\n",
       "      <td>7</td>\n",
       "      <td>5</td>\n",
       "      <td>1915</td>\n",
       "      <td>1970</td>\n",
       "      <td>0.000</td>\n",
       "      <td>...</td>\n",
       "      <td>0</td>\n",
       "      <td>35</td>\n",
       "      <td>272</td>\n",
       "      <td>0</td>\n",
       "      <td>0</td>\n",
       "      <td>0</td>\n",
       "      <td>0</td>\n",
       "      <td>2</td>\n",
       "      <td>2006</td>\n",
       "      <td>140000</td>\n",
       "    </tr>\n",
       "    <tr>\n",
       "      <th>4</th>\n",
       "      <td>60</td>\n",
       "      <td>84.000</td>\n",
       "      <td>14260</td>\n",
       "      <td>1</td>\n",
       "      <td>0</td>\n",
       "      <td>8</td>\n",
       "      <td>5</td>\n",
       "      <td>2000</td>\n",
       "      <td>2000</td>\n",
       "      <td>350.000</td>\n",
       "      <td>...</td>\n",
       "      <td>192</td>\n",
       "      <td>84</td>\n",
       "      <td>0</td>\n",
       "      <td>0</td>\n",
       "      <td>0</td>\n",
       "      <td>0</td>\n",
       "      <td>0</td>\n",
       "      <td>12</td>\n",
       "      <td>2008</td>\n",
       "      <td>250000</td>\n",
       "    </tr>\n",
       "  </tbody>\n",
       "</table>\n",
       "<p>5 rows × 41 columns</p>\n",
       "</div>"
      ],
      "text/plain": [
       "   mssubclass  lotfrontage  lotarea  street  utilities  overallqual  \\\n",
       "0          60       65.000     8450       1          0            7   \n",
       "1          20       80.000     9600       1          0            6   \n",
       "2          60       68.000    11250       1          0            7   \n",
       "3          70       60.000     9550       1          0            7   \n",
       "4          60       84.000    14260       1          0            8   \n",
       "\n",
       "   overallcond  yearbuilt  yearremodadd  masvnrarea  ...  wooddecksf  \\\n",
       "0            5       2003          2003     196.000  ...           0   \n",
       "1            8       1976          1976       0.000  ...         298   \n",
       "2            5       2001          2002     162.000  ...           0   \n",
       "3            5       1915          1970       0.000  ...           0   \n",
       "4            5       2000          2000     350.000  ...         192   \n",
       "\n",
       "   openporchsf  enclosedporch  threessnporch  screenporch  poolarea  miscval  \\\n",
       "0           61              0              0            0         0        0   \n",
       "1            0              0              0            0         0        0   \n",
       "2           42              0              0            0         0        0   \n",
       "3           35            272              0            0         0        0   \n",
       "4           84              0              0            0         0        0   \n",
       "\n",
       "   mosold  yrsold  saleprice  \n",
       "0       2    2008     208500  \n",
       "1       5    2007     181500  \n",
       "2       9    2008     223500  \n",
       "3       2    2006     140000  \n",
       "4      12    2008     250000  \n",
       "\n",
       "[5 rows x 41 columns]"
      ]
     },
     "execution_count": 40,
     "metadata": {},
     "output_type": "execute_result"
    }
   ],
   "source": [
    "# Log transforming the data to normalize it.\n",
    "\n",
    "fourth_revision_house_prices_df = third_revision_house_prices_df.copy()\n",
    "\n",
    "log_transform_list = ['mssubclass', 'lotfrontage', 'lotarea', 'street', 'utilities', 'overallqual', 'overallcond', 'yearbuilt',\n",
    "                 'yearremodadd', 'masvnrarea', 'bsmtcond', 'bsmtfinsf1', 'bsmtfinsf2', 'bsmtunfsf', 'totalbsmtsf', 'centralair',\n",
    "                 'firstflrsf', 'secondflrsf', 'lowqualfinsf', 'grlivarea', 'bsmtfullbath', 'bsmthalfbath', 'fullbath',\n",
    "                 'halfbath', 'bedroomabvgr', 'totrmsabvgrd', 'fireplaces', 'garageyrblt', 'garagecars', 'garagearea',\n",
    "                 'wooddecksf', 'openporchsf', 'enclosedporch', 'threessnporch', 'screenporch', 'poolarea', 'miscval',\n",
    "                 'mosold', 'yrsold', 'saleprice']\n",
    "\n",
    "for col in log_transform_list:\n",
    "    np.log(fourth_revision_house_prices_df[log_transform_list])\n",
    "    \n",
    "fourth_revision_house_prices_df.head()"
   ]
  },
  {
   "cell_type": "markdown",
   "metadata": {},
   "source": [
    "### Reimplementing the Model from the Previous Checkpoint"
   ]
  },
  {
   "cell_type": "markdown",
   "metadata": {},
   "source": [
    "_Splitting the Data into Train and Test Sets_"
   ]
  },
  {
   "cell_type": "code",
   "execution_count": 41,
   "metadata": {},
   "outputs": [
    {
     "name": "stdout",
     "output_type": "stream",
     "text": [
      "- The number of observations in the training set is: 1168\n",
      "- The number of observations in the test set is: 292\n"
     ]
    }
   ],
   "source": [
    "# Y is the target variable.\n",
    "Y = fourth_revision_house_prices_df['saleprice']\n",
    "\n",
    "# X is the feature set.\n",
    "X = fourth_revision_house_prices_df[['overallqual', 'grlivarea', 'garagecars', 'garagearea', 'totalbsmtsf']]\n",
    "\n",
    "X_train, X_test, y_train, y_test = train_test_split(X, Y, test_size = 0.2, random_state = 465)\n",
    "\n",
    "print('- The number of observations in the training set is: {}'.format(X_train.shape[0]))\n",
    "print('- The number of observations in the test set is: {}'.format(X_test.shape[0]))"
   ]
  },
  {
   "cell_type": "markdown",
   "metadata": {},
   "source": [
    "### Try OLS, Lasso, Ridge, and ElasticNet regression using the same model specification. This time, you need to do k-fold cross-validation to choose the best hyperparameter values for your models. Which model is the best? Why?"
   ]
  },
  {
   "cell_type": "markdown",
   "metadata": {},
   "source": [
    "_OLS Regression_"
   ]
  },
  {
   "cell_type": "code",
   "execution_count": 42,
   "metadata": {},
   "outputs": [
    {
     "name": "stdout",
     "output_type": "stream",
     "text": [
      "- R-squared of the model in training set is: 0.7589588843157826\n",
      "--- Test Set Statistics ---\n",
      "- R-squared of the model in test set is: 0.7656379370075236\n",
      "- Mean absolute error of the prediction is: 25964.89937383187\n",
      "- Mean squared error of the prediction is: 1573437538.2926502\n",
      "- Root mean squared error of the prediction is: 39666.579614237606\n",
      "- Mean absolute percentage error of the prediction is: 16.097178444700113\n"
     ]
    }
   ],
   "source": [
    "# Fit an OLS model using sklearn.\n",
    "lrm = LinearRegression()\n",
    "lrm.fit(X_train, y_train)\n",
    "\n",
    "# Make predictions here.\n",
    "y_preds_train = lrm.predict(X_train)\n",
    "y_preds_test = lrm.predict(X_test)\n",
    "\n",
    "print('- R-squared of the model in training set is: {}'.format(lrm.score(X_train, y_train)))\n",
    "print('--- Test Set Statistics ---')\n",
    "print('- R-squared of the model in test set is: {}'.format(lrm.score(X_test, y_test)))\n",
    "print('- Mean absolute error of the prediction is: {}'.format(mean_absolute_error(y_test, y_preds_test)))\n",
    "print('- Mean squared error of the prediction is: {}'.format(mse(y_test, y_preds_test)))\n",
    "print('- Root mean squared error of the prediction is: {}'.format(rmse(y_test, y_preds_test)))\n",
    "print('- Mean absolute percentage error of the prediction is: {}'.format(np.mean(np.abs((y_test - y_preds_test)\n",
    "        / y_test)) * 100))"
   ]
  },
  {
   "cell_type": "markdown",
   "metadata": {},
   "source": [
    "_Lasso Regression_"
   ]
  },
  {
   "cell_type": "code",
   "execution_count": 46,
   "metadata": {},
   "outputs": [
    {
     "name": "stdout",
     "output_type": "stream",
     "text": [
      "- R-squared of the model in training set is: 0.0\n",
      "--- Test Set Statistics ---\n",
      "- R-squared of the model in test set is: -0.0016183407463286061\n",
      "- Mean absolute error of the prediction is: 25964.89937383187\n",
      "- Mean squared error of the prediction is: 1573437538.2926502\n",
      "- Root mean squared error of the prediction is: 39666.579614237606\n",
      "- Mean absolute percentage error of the prediction is: 16.097178444700113\n"
     ]
    }
   ],
   "source": [
    "lasso_regr = Lasso(alpha=10**20.5)\n",
    "lasso_regr.fit(X_train, y_train)\n",
    "\n",
    "# Make predictions here.\n",
    "y_preds_train = lrm.predict(X_train)\n",
    "y_preds_test = lrm.predict(X_test)\n",
    "\n",
    "print('- R-squared of the model in training set is: {}'.format(lasso_regr.score(X_train, y_train)))\n",
    "print('--- Test Set Statistics ---')\n",
    "print('- R-squared of the model in test set is: {}'.format(lasso_regr.score(X_test, y_test)))\n",
    "print('- Mean absolute error of the prediction is: {}'.format(mean_absolute_error(y_test, y_preds_test)))\n",
    "print('- Mean squared error of the prediction is: {}'.format(mse(y_test, y_preds_test)))\n",
    "print('- Root mean squared error of the prediction is: {}'.format(rmse(y_test, y_preds_test)))\n",
    "print('- Mean absolute percentage error of the prediction is: {}'.format(np.mean(np.abs((y_test - y_preds_test)\n",
    "        / y_test)) * 100))"
   ]
  },
  {
   "cell_type": "markdown",
   "metadata": {},
   "source": [
    "_Ridge Regression_"
   ]
  },
  {
   "cell_type": "code",
   "execution_count": 47,
   "metadata": {},
   "outputs": [
    {
     "name": "stdout",
     "output_type": "stream",
     "text": [
      "- R-squared of the model in training set is: 0.0\n",
      "--- Test Set Statistics ---\n",
      "- R-squared of the model in test set is: -0.0016183407463286061\n",
      "- Mean absolute error of the prediction is: 58023.64411709514\n",
      "- Mean squared error of the prediction is: 6724569139.943377\n",
      "- Root mean squared error of the prediction is: 82003.47029207592\n",
      "- Mean absolute percentage error of the prediction is: 36.65964810134902\n"
     ]
    }
   ],
   "source": [
    "# Fitting a ridge regression model. Alpha's the regularization parameter (usually called Lambda). As alpah gets larger,\n",
    "# parameter shrinkage gets more pronounced.\n",
    "\n",
    "ridge_regr = Ridge(alpha=10**37)\n",
    "ridge_regr.fit(X_train, y_train)\n",
    "\n",
    "# We're making predictions here.\n",
    "y_preds_train = ridge_regr.predict(X_train)\n",
    "y_preds_test = ridge_regr.predict(X_test)\n",
    "\n",
    "print('- R-squared of the model in training set is: {}'.format(ridge_regr.score(X_train, y_train)))\n",
    "print('--- Test Set Statistics ---')\n",
    "print('- R-squared of the model in test set is: {}'.format(ridge_regr.score(X_test, y_test)))\n",
    "print('- Mean absolute error of the prediction is: {}'.format(mean_absolute_error(y_test, y_preds_test)))\n",
    "print('- Mean squared error of the prediction is: {}'.format(mse(y_test, y_preds_test)))\n",
    "print('- Root mean squared error of the prediction is: {}'.format(rmse(y_test, y_preds_test)))\n",
    "print('- Mean absolute percentage error of the prediction is: {}'.format(np.mean(np.abs((y_test - y_preds_test)\n",
    "        / y_test)) * 100))"
   ]
  },
  {
   "cell_type": "markdown",
   "metadata": {},
   "source": [
    "_ElasticNet Regression_"
   ]
  },
  {
   "cell_type": "code",
   "execution_count": 48,
   "metadata": {},
   "outputs": [
    {
     "name": "stdout",
     "output_type": "stream",
     "text": [
      "- R-squared of the model in training set is: 0.0\n",
      "--- Test Set Statistics ---\n",
      "- R-squared of the model in test set is: -0.0016183407463286061\n",
      "- Mean absolute error of the prediction is: 58023.64411709514\n",
      "- Mean squared error of the prediction is: 6724569139.943377\n",
      "- Root mean squared error of the prediction is: 82003.47029207592\n",
      "- Mean absolute percentage error of the prediction is: 36.65964810134902\n"
     ]
    }
   ],
   "source": [
    "elastic_regr = ElasticNet(alpha=10**21, l1_ratio=0.5)\n",
    "elastic_regr.fit(X_train, y_train)\n",
    "\n",
    "# We're making predictions here.\n",
    "y_preds_train = ridge_regr.predict(X_train)\n",
    "y_preds_test = ridge_regr.predict(X_test)\n",
    "\n",
    "print('- R-squared of the model in training set is: {}'.format(elastic_regr.score(X_train, y_train)))\n",
    "print('--- Test Set Statistics ---')\n",
    "print('- R-squared of the model in test set is: {}'.format(elastic_regr.score(X_test, y_test)))\n",
    "print('- Mean absolute error of the prediction is: {}'.format(mean_absolute_error(y_test, y_preds_test)))\n",
    "print('- Mean squared error of the prediction is: {}'.format(mse(y_test, y_preds_test)))\n",
    "print('- Root mean squared error of the prediction is: {}'.format(rmse(y_test, y_preds_test)))\n",
    "print('- Mean absolute percentage error of the prediction is: {}'.format(np.mean(np.abs((y_test - y_preds_test)\n",
    "        / y_test)) * 100))"
   ]
  },
  {
   "cell_type": "markdown",
   "metadata": {},
   "source": [
    "_Analysing the Regression Models_"
   ]
  },
  {
   "cell_type": "code",
   "execution_count": 53,
   "metadata": {},
   "outputs": [
    {
     "data": {
      "text/html": [
       "<div>\n",
       "<style scoped>\n",
       "    .dataframe tbody tr th:only-of-type {\n",
       "        vertical-align: middle;\n",
       "    }\n",
       "\n",
       "    .dataframe tbody tr th {\n",
       "        vertical-align: top;\n",
       "    }\n",
       "\n",
       "    .dataframe thead th {\n",
       "        text-align: right;\n",
       "    }\n",
       "</style>\n",
       "<table border=\"1\" class=\"dataframe\">\n",
       "  <thead>\n",
       "    <tr style=\"text-align: right;\">\n",
       "      <th></th>\n",
       "      <th>Unnamed: 0</th>\n",
       "      <th>OLS</th>\n",
       "      <th>Lasso</th>\n",
       "      <th>Ridge</th>\n",
       "      <th>ElasticNet</th>\n",
       "    </tr>\n",
       "  </thead>\n",
       "  <tbody>\n",
       "    <tr>\n",
       "      <th>0</th>\n",
       "      <td>R-squared of model in training set</td>\n",
       "      <td>0.759</td>\n",
       "      <td>0.000</td>\n",
       "      <td>0.000</td>\n",
       "      <td>0.000</td>\n",
       "    </tr>\n",
       "    <tr>\n",
       "      <th>1</th>\n",
       "      <td>R-squared of model in test set</td>\n",
       "      <td>0.766</td>\n",
       "      <td>-0.002</td>\n",
       "      <td>-0.002</td>\n",
       "      <td>-0.002</td>\n",
       "    </tr>\n",
       "    <tr>\n",
       "      <th>2</th>\n",
       "      <td>Mean absolute error of pred.</td>\n",
       "      <td>25964.899</td>\n",
       "      <td>25964.899</td>\n",
       "      <td>58023.644</td>\n",
       "      <td>58023.644</td>\n",
       "    </tr>\n",
       "    <tr>\n",
       "      <th>3</th>\n",
       "      <td>Mean squared error of pred.</td>\n",
       "      <td>1573437538.293</td>\n",
       "      <td>1573437538.293</td>\n",
       "      <td>6724569139.943</td>\n",
       "      <td>6724569139.943</td>\n",
       "    </tr>\n",
       "    <tr>\n",
       "      <th>4</th>\n",
       "      <td>Root mean squared error of pred.</td>\n",
       "      <td>39666.580</td>\n",
       "      <td>39666.580</td>\n",
       "      <td>82003.470</td>\n",
       "      <td>82003.470</td>\n",
       "    </tr>\n",
       "    <tr>\n",
       "      <th>5</th>\n",
       "      <td>Mean absolute percentage error of pred.</td>\n",
       "      <td>16.097</td>\n",
       "      <td>16.097</td>\n",
       "      <td>36.660</td>\n",
       "      <td>36.660</td>\n",
       "    </tr>\n",
       "  </tbody>\n",
       "</table>\n",
       "</div>"
      ],
      "text/plain": [
       "                                Unnamed: 0            OLS          Lasso  \\\n",
       "0       R-squared of model in training set          0.759          0.000   \n",
       "1           R-squared of model in test set          0.766         -0.002   \n",
       "2             Mean absolute error of pred.      25964.899      25964.899   \n",
       "3              Mean squared error of pred. 1573437538.293 1573437538.293   \n",
       "4         Root mean squared error of pred.      39666.580      39666.580   \n",
       "5  Mean absolute percentage error of pred.         16.097         16.097   \n",
       "\n",
       "           Ridge     ElasticNet  \n",
       "0          0.000          0.000  \n",
       "1         -0.002         -0.002  \n",
       "2      58023.644      58023.644  \n",
       "3 6724569139.943 6724569139.943  \n",
       "4      82003.470      82003.470  \n",
       "5         36.660         36.660  "
      ]
     },
     "execution_count": 53,
     "metadata": {},
     "output_type": "execute_result"
    }
   ],
   "source": [
    "regression_analysis_df = pd.read_excel('Regression Analysis for 19.7.xlsx', delimiter='\\t')\n",
    "\n",
    "regression_analysis_df.head(7)"
   ]
  },
  {
   "cell_type": "code",
   "execution_count": null,
   "metadata": {},
   "outputs": [],
   "source": []
  }
 ],
 "metadata": {
  "kernelspec": {
   "display_name": "Python 3",
   "language": "python",
   "name": "python3"
  },
  "language_info": {
   "codemirror_mode": {
    "name": "ipython",
    "version": 3
   },
   "file_extension": ".py",
   "mimetype": "text/x-python",
   "name": "python",
   "nbconvert_exporter": "python",
   "pygments_lexer": "ipython3",
   "version": "3.7.3"
  }
 },
 "nbformat": 4,
 "nbformat_minor": 2
}
