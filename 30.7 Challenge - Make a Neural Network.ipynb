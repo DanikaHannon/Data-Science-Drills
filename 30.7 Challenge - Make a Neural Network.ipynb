﻿{
 "cells": [
  {
   "cell_type": "markdown",
   "metadata": {},
   "source": [
    "# Challenge: Make a Neural Network\n",
    "\n",
    "Create a multi-layer perceptron neural network model to predict on a labeled dataset of your choosing. \n",
    "\n",
    "Compare this model to either a boosted tree or a random forest model and describe the relative tradeoffs between complexity and accuracy. Be sure to vary the hyperparameters of your MLP!"
   ]
  },
  {
   "cell_type": "markdown",
   "metadata": {},
   "source": [
    "### Import Statements"
   ]
  },
  {
   "cell_type": "code",
   "execution_count": 1,
   "metadata": {},
   "outputs": [],
   "source": [
    "import matplotlib.pyplot as plt\n",
    "import seaborn as sns\n",
    "import numpy as np\n",
    "import pandas as pd\n",
    "import seaborn as sns\n",
    "import scipy.stats as stats\n",
    "from scipy.stats.mstats import winsorize\n",
    "from scipy.stats import bartlett\n",
    "from scipy.stats import levene\n",
    "from scipy.stats import jarque_bera\n",
    "from scipy.stats import normaltest\n",
    "from statsmodels.tsa.stattools import acf\n",
    "import statsmodels.api as sm\n",
    "from sklearn import linear_model\n",
    "from sklearn.metrics import mean_absolute_error\n",
    "from sklearn.model_selection import train_test_split\n",
    "from sklearn.linear_model import LinearRegression\n",
    "from sklearn.linear_model import Ridge\n",
    "from sklearn.linear_model import Lasso\n",
    "from sklearn.linear_model import ElasticNet\n",
    "from sklearn import neighbors\n",
    "from sqlalchemy import create_engine\n",
    "import statsmodels.api as sm\n",
    "from statsmodels.tools.eval_measures import mse, rmse\n",
    "\n",
    "from sklearn.svm import SVC\n",
    "from sklearn import datasets\n",
    "from sklearn.svm import SVR\n",
    "from sklearn.linear_model import LassoCV\n",
    "from sklearn.linear_model import Lasso\n",
    "from sklearn.model_selection import KFold\n",
    "from sklearn.model_selection import GridSearchCV\n",
    "\n",
    "from sklearn import ensemble\n",
    "from sklearn.model_selection import cross_val_score\n",
    "\n",
    "# Display preferences.\n",
    "%matplotlib inline\n",
    "pd.options.display.float_format = '{:.3f}'.format\n",
    "\n",
    "import warnings\n",
    "warnings.filterwarnings('ignore')"
   ]
  },
  {
   "cell_type": "markdown",
   "metadata": {},
   "source": [
    "### 1. Loading the House Prices Dataframe"
   ]
  },
  {
   "cell_type": "code",
   "execution_count": 2,
   "metadata": {},
   "outputs": [],
   "source": [
    "postgres_user = 'dsbc_student'\n",
    "postgres_pw = '7*.8G9QH21'\n",
    "postgres_host = '142.93.121.174'\n",
    "postgres_port = '5432'\n",
    "postgres_db = 'houseprices'\n",
    "\n",
    "engine = create_engine('postgresql://{}:{}@{}:{}/{}'.format(\n",
    "    postgres_user, postgres_pw, postgres_host, postgres_port, postgres_db))\n",
    "house_prices_df = pd.read_sql_query('select * from houseprices',con=engine)\n",
    "\n",
    "engine.dispose()"
   ]
  },
  {
   "cell_type": "markdown",
   "metadata": {},
   "source": [
    "_About the Dataset_\n",
    "\n",
    "The [house price dataset from Kaggle](https://www.kaggle.com/c/house-prices-advanced-regression-techniques/data) includes several features of the houses along with their sale prices at the time they are sold."
   ]
  },
  {
   "cell_type": "markdown",
   "metadata": {},
   "source": [
    "### 2. Exploratory Data Analysis"
   ]
  },
  {
   "cell_type": "markdown",
   "metadata": {},
   "source": [
    "_Getting a Feel for the Dataframe_"
   ]
  },
  {
   "cell_type": "code",
   "execution_count": 3,
   "metadata": {},
   "outputs": [
    {
     "name": "stdout",
     "output_type": "stream",
     "text": [
      "<class 'pandas.core.frame.DataFrame'>\n",
      "RangeIndex: 1460 entries, 0 to 1459\n",
      "Data columns (total 81 columns):\n",
      "id               1460 non-null int64\n",
      "mssubclass       1460 non-null int64\n",
      "mszoning         1460 non-null object\n",
      "lotfrontage      1201 non-null float64\n",
      "lotarea          1460 non-null int64\n",
      "street           1460 non-null object\n",
      "alley            91 non-null object\n",
      "lotshape         1460 non-null object\n",
      "landcontour      1460 non-null object\n",
      "utilities        1460 non-null object\n",
      "lotconfig        1460 non-null object\n",
      "landslope        1460 non-null object\n",
      "neighborhood     1460 non-null object\n",
      "condition1       1460 non-null object\n",
      "condition2       1460 non-null object\n",
      "bldgtype         1460 non-null object\n",
      "housestyle       1460 non-null object\n",
      "overallqual      1460 non-null int64\n",
      "overallcond      1460 non-null int64\n",
      "yearbuilt        1460 non-null int64\n",
      "yearremodadd     1460 non-null int64\n",
      "roofstyle        1460 non-null object\n",
      "roofmatl         1460 non-null object\n",
      "exterior1st      1460 non-null object\n",
      "exterior2nd      1460 non-null object\n",
      "masvnrtype       1452 non-null object\n",
      "masvnrarea       1452 non-null float64\n",
      "exterqual        1460 non-null object\n",
      "extercond        1460 non-null object\n",
      "foundation       1460 non-null object\n",
      "bsmtqual         1423 non-null object\n",
      "bsmtcond         1423 non-null object\n",
      "bsmtexposure     1422 non-null object\n",
      "bsmtfintype1     1423 non-null object\n",
      "bsmtfinsf1       1460 non-null int64\n",
      "bsmtfintype2     1422 non-null object\n",
      "bsmtfinsf2       1460 non-null int64\n",
      "bsmtunfsf        1460 non-null int64\n",
      "totalbsmtsf      1460 non-null int64\n",
      "heating          1460 non-null object\n",
      "heatingqc        1460 non-null object\n",
      "centralair       1460 non-null object\n",
      "electrical       1459 non-null object\n",
      "firstflrsf       1460 non-null int64\n",
      "secondflrsf      1460 non-null int64\n",
      "lowqualfinsf     1460 non-null int64\n",
      "grlivarea        1460 non-null int64\n",
      "bsmtfullbath     1460 non-null int64\n",
      "bsmthalfbath     1460 non-null int64\n",
      "fullbath         1460 non-null int64\n",
      "halfbath         1460 non-null int64\n",
      "bedroomabvgr     1460 non-null int64\n",
      "kitchenabvgr     1460 non-null int64\n",
      "kitchenqual      1460 non-null object\n",
      "totrmsabvgrd     1460 non-null int64\n",
      "functional       1460 non-null object\n",
      "fireplaces       1460 non-null int64\n",
      "fireplacequ      770 non-null object\n",
      "garagetype       1379 non-null object\n",
      "garageyrblt      1379 non-null float64\n",
      "garagefinish     1379 non-null object\n",
      "garagecars       1460 non-null int64\n",
      "garagearea       1460 non-null int64\n",
      "garagequal       1379 non-null object\n",
      "garagecond       1379 non-null object\n",
      "paveddrive       1460 non-null object\n",
      "wooddecksf       1460 non-null int64\n",
      "openporchsf      1460 non-null int64\n",
      "enclosedporch    1460 non-null int64\n",
      "threessnporch    1460 non-null int64\n",
      "screenporch      1460 non-null int64\n",
      "poolarea         1460 non-null int64\n",
      "poolqc           7 non-null object\n",
      "fence            281 non-null object\n",
      "miscfeature      54 non-null object\n",
      "miscval          1460 non-null int64\n",
      "mosold           1460 non-null int64\n",
      "yrsold           1460 non-null int64\n",
      "saletype         1460 non-null object\n",
      "salecondition    1460 non-null object\n",
      "saleprice        1460 non-null int64\n",
      "dtypes: float64(3), int64(35), object(43)\n",
      "memory usage: 678.7+ KB\n",
      "None\n"
     ]
    }
   ],
   "source": [
    "print(house_prices_df.info())"
   ]
  },
  {
   "cell_type": "markdown",
   "metadata": {},
   "source": [
    "Because this dataframe has 81 columns, and most of the columns have more than 1,000 datapoints, I'm going to drop the five columns that have less than 800 datapoints. Those columns are: 'alley', 'fence', 'fireplacequ', 'poolqc' and 'miscfeature'.\n",
    "\n",
    "I'm also going to drop 'id' because it's a numbered list of the properties."
   ]
  },
  {
   "cell_type": "code",
   "execution_count": 4,
   "metadata": {},
   "outputs": [
    {
     "data": {
      "text/plain": [
       "(1460, 75)"
      ]
     },
     "execution_count": 4,
     "metadata": {},
     "output_type": "execute_result"
    }
   ],
   "source": [
    "first_revision_house_prices_df = house_prices_df.drop(columns=['alley', 'fence', 'fireplacequ', 'poolqc', 'miscfeature', 'id'])\n",
    "\n",
    "first_revision_house_prices_df.shape"
   ]
  },
  {
   "cell_type": "markdown",
   "metadata": {},
   "source": [
    "_Transforming Categorical Variables_"
   ]
  },
  {
   "cell_type": "markdown",
   "metadata": {},
   "source": [
    "While I'll use one hot encoding to transform the object columns into ones and zeros, it'd be helpful to see how many object columns there are and get a feel for their values."
   ]
  },
  {
   "cell_type": "code",
   "execution_count": 5,
   "metadata": {},
   "outputs": [
    {
     "name": "stdout",
     "output_type": "stream",
     "text": [
      "<class 'pandas.core.frame.DataFrame'>\n",
      "RangeIndex: 1460 entries, 0 to 1459\n",
      "Data columns (total 75 columns):\n",
      "mssubclass       1460 non-null int64\n",
      "mszoning         1460 non-null object\n",
      "lotfrontage      1201 non-null float64\n",
      "lotarea          1460 non-null int64\n",
      "street           1460 non-null object\n",
      "lotshape         1460 non-null object\n",
      "landcontour      1460 non-null object\n",
      "utilities        1460 non-null object\n",
      "lotconfig        1460 non-null object\n",
      "landslope        1460 non-null object\n",
      "neighborhood     1460 non-null object\n",
      "condition1       1460 non-null object\n",
      "condition2       1460 non-null object\n",
      "bldgtype         1460 non-null object\n",
      "housestyle       1460 non-null object\n",
      "overallqual      1460 non-null int64\n",
      "overallcond      1460 non-null int64\n",
      "yearbuilt        1460 non-null int64\n",
      "yearremodadd     1460 non-null int64\n",
      "roofstyle        1460 non-null object\n",
      "roofmatl         1460 non-null object\n",
      "exterior1st      1460 non-null object\n",
      "exterior2nd      1460 non-null object\n",
      "masvnrtype       1452 non-null object\n",
      "masvnrarea       1452 non-null float64\n",
      "exterqual        1460 non-null object\n",
      "extercond        1460 non-null object\n",
      "foundation       1460 non-null object\n",
      "bsmtqual         1423 non-null object\n",
      "bsmtcond         1423 non-null object\n",
      "bsmtexposure     1422 non-null object\n",
      "bsmtfintype1     1423 non-null object\n",
      "bsmtfinsf1       1460 non-null int64\n",
      "bsmtfintype2     1422 non-null object\n",
      "bsmtfinsf2       1460 non-null int64\n",
      "bsmtunfsf        1460 non-null int64\n",
      "totalbsmtsf      1460 non-null int64\n",
      "heating          1460 non-null object\n",
      "heatingqc        1460 non-null object\n",
      "centralair       1460 non-null object\n",
      "electrical       1459 non-null object\n",
      "firstflrsf       1460 non-null int64\n",
      "secondflrsf      1460 non-null int64\n",
      "lowqualfinsf     1460 non-null int64\n",
      "grlivarea        1460 non-null int64\n",
      "bsmtfullbath     1460 non-null int64\n",
      "bsmthalfbath     1460 non-null int64\n",
      "fullbath         1460 non-null int64\n",
      "halfbath         1460 non-null int64\n",
      "bedroomabvgr     1460 non-null int64\n",
      "kitchenabvgr     1460 non-null int64\n",
      "kitchenqual      1460 non-null object\n",
      "totrmsabvgrd     1460 non-null int64\n",
      "functional       1460 non-null object\n",
      "fireplaces       1460 non-null int64\n",
      "garagetype       1379 non-null object\n",
      "garageyrblt      1379 non-null float64\n",
      "garagefinish     1379 non-null object\n",
      "garagecars       1460 non-null int64\n",
      "garagearea       1460 non-null int64\n",
      "garagequal       1379 non-null object\n",
      "garagecond       1379 non-null object\n",
      "paveddrive       1460 non-null object\n",
      "wooddecksf       1460 non-null int64\n",
      "openporchsf      1460 non-null int64\n",
      "enclosedporch    1460 non-null int64\n",
      "threessnporch    1460 non-null int64\n",
      "screenporch      1460 non-null int64\n",
      "poolarea         1460 non-null int64\n",
      "miscval          1460 non-null int64\n",
      "mosold           1460 non-null int64\n",
      "yrsold           1460 non-null int64\n",
      "saletype         1460 non-null object\n",
      "salecondition    1460 non-null object\n",
      "saleprice        1460 non-null int64\n",
      "dtypes: float64(3), int64(34), object(38)\n",
      "memory usage: 638.8+ KB\n"
     ]
    }
   ],
   "source": [
    "first_revision_house_prices_df.info()"
   ]
  },
  {
   "cell_type": "code",
   "execution_count": 6,
   "metadata": {},
   "outputs": [
    {
     "data": {
      "text/plain": [
       "Normal     1198\n",
       "Partial     125\n",
       "Abnorml     101\n",
       "Family       20\n",
       "Alloca       12\n",
       "AdjLand       4\n",
       "dtype: int64"
      ]
     },
     "execution_count": 6,
     "metadata": {},
     "output_type": "execute_result"
    }
   ],
   "source": [
    "# This is the code I used to look at the columns' values.\n",
    "\n",
    "pd.Series(' '.join(first_revision_house_prices_df['salecondition']).split()).value_counts()[:50]"
   ]
  },
  {
   "cell_type": "markdown",
   "metadata": {},
   "source": [
    "_Transforming Classification Columns_"
   ]
  },
  {
   "cell_type": "markdown",
   "metadata": {},
   "source": [
    "The dataframe has many classification columns and I'd like to transform those using get_dummies."
   ]
  },
  {
   "cell_type": "code",
   "execution_count": 7,
   "metadata": {},
   "outputs": [],
   "source": [
    "# New dataframe.\n",
    "\n",
    "second_revision_house_prices_df = first_revision_house_prices_df[['lotfrontage', 'lotarea']]"
   ]
  },
  {
   "cell_type": "code",
   "execution_count": 8,
   "metadata": {},
   "outputs": [
    {
     "data": {
      "text/html": [
       "<div>\n",
       "<style scoped>\n",
       "    .dataframe tbody tr th:only-of-type {\n",
       "        vertical-align: middle;\n",
       "    }\n",
       "\n",
       "    .dataframe tbody tr th {\n",
       "        vertical-align: top;\n",
       "    }\n",
       "\n",
       "    .dataframe thead th {\n",
       "        text-align: right;\n",
       "    }\n",
       "</style>\n",
       "<table border=\"1\" class=\"dataframe\">\n",
       "  <thead>\n",
       "    <tr style=\"text-align: right;\">\n",
       "      <th></th>\n",
       "      <th>lotfrontage</th>\n",
       "      <th>lotarea</th>\n",
       "    </tr>\n",
       "  </thead>\n",
       "  <tbody>\n",
       "    <tr>\n",
       "      <th>0</th>\n",
       "      <td>65.000</td>\n",
       "      <td>8450</td>\n",
       "    </tr>\n",
       "    <tr>\n",
       "      <th>1</th>\n",
       "      <td>80.000</td>\n",
       "      <td>9600</td>\n",
       "    </tr>\n",
       "    <tr>\n",
       "      <th>2</th>\n",
       "      <td>68.000</td>\n",
       "      <td>11250</td>\n",
       "    </tr>\n",
       "    <tr>\n",
       "      <th>3</th>\n",
       "      <td>60.000</td>\n",
       "      <td>9550</td>\n",
       "    </tr>\n",
       "    <tr>\n",
       "      <th>4</th>\n",
       "      <td>84.000</td>\n",
       "      <td>14260</td>\n",
       "    </tr>\n",
       "  </tbody>\n",
       "</table>\n",
       "</div>"
      ],
      "text/plain": [
       "   lotfrontage  lotarea\n",
       "0       65.000     8450\n",
       "1       80.000     9600\n",
       "2       68.000    11250\n",
       "3       60.000     9550\n",
       "4       84.000    14260"
      ]
     },
     "execution_count": 8,
     "metadata": {},
     "output_type": "execute_result"
    }
   ],
   "source": [
    "second_revision_house_prices_df.head()"
   ]
  },
  {
   "cell_type": "code",
   "execution_count": 9,
   "metadata": {},
   "outputs": [],
   "source": [
    "# second_revision_house_prices_df.merge(df_dummies, left_index=True, right_index=True, suffixes=('_left', '_right'))"
   ]
  },
  {
   "cell_type": "code",
   "execution_count": 10,
   "metadata": {},
   "outputs": [
    {
     "data": {
      "text/html": [
       "<div>\n",
       "<style scoped>\n",
       "    .dataframe tbody tr th:only-of-type {\n",
       "        vertical-align: middle;\n",
       "    }\n",
       "\n",
       "    .dataframe tbody tr th {\n",
       "        vertical-align: top;\n",
       "    }\n",
       "\n",
       "    .dataframe thead th {\n",
       "        text-align: right;\n",
       "    }\n",
       "</style>\n",
       "<table border=\"1\" class=\"dataframe\">\n",
       "  <thead>\n",
       "    <tr style=\"text-align: right;\">\n",
       "      <th></th>\n",
       "      <th>lotfrontage</th>\n",
       "      <th>lotarea</th>\n",
       "      <th>mszoning_C (all)</th>\n",
       "      <th>mszoning_FV</th>\n",
       "      <th>mszoning_RH</th>\n",
       "      <th>mszoning_RL</th>\n",
       "      <th>mszoning_RM</th>\n",
       "      <th>street_Grvl</th>\n",
       "      <th>street_Pave</th>\n",
       "      <th>lotshape_IR1</th>\n",
       "      <th>...</th>\n",
       "      <th>salecondition_Normal</th>\n",
       "      <th>salecondition_Partial</th>\n",
       "      <th>utilities_AllPub</th>\n",
       "      <th>utilities_NoSeWa</th>\n",
       "      <th>bsmtcond_Fa</th>\n",
       "      <th>bsmtcond_Gd</th>\n",
       "      <th>bsmtcond_Po</th>\n",
       "      <th>bsmtcond_TA</th>\n",
       "      <th>centralair_N</th>\n",
       "      <th>centralair_Y</th>\n",
       "    </tr>\n",
       "  </thead>\n",
       "  <tbody>\n",
       "    <tr>\n",
       "      <th>0</th>\n",
       "      <td>65.000</td>\n",
       "      <td>8450</td>\n",
       "      <td>0</td>\n",
       "      <td>0</td>\n",
       "      <td>0</td>\n",
       "      <td>1</td>\n",
       "      <td>0</td>\n",
       "      <td>0</td>\n",
       "      <td>1</td>\n",
       "      <td>0</td>\n",
       "      <td>...</td>\n",
       "      <td>1</td>\n",
       "      <td>0</td>\n",
       "      <td>1</td>\n",
       "      <td>0</td>\n",
       "      <td>0</td>\n",
       "      <td>0</td>\n",
       "      <td>0</td>\n",
       "      <td>1</td>\n",
       "      <td>0</td>\n",
       "      <td>1</td>\n",
       "    </tr>\n",
       "    <tr>\n",
       "      <th>1</th>\n",
       "      <td>80.000</td>\n",
       "      <td>9600</td>\n",
       "      <td>0</td>\n",
       "      <td>0</td>\n",
       "      <td>0</td>\n",
       "      <td>1</td>\n",
       "      <td>0</td>\n",
       "      <td>0</td>\n",
       "      <td>1</td>\n",
       "      <td>0</td>\n",
       "      <td>...</td>\n",
       "      <td>1</td>\n",
       "      <td>0</td>\n",
       "      <td>1</td>\n",
       "      <td>0</td>\n",
       "      <td>0</td>\n",
       "      <td>0</td>\n",
       "      <td>0</td>\n",
       "      <td>1</td>\n",
       "      <td>0</td>\n",
       "      <td>1</td>\n",
       "    </tr>\n",
       "    <tr>\n",
       "      <th>2</th>\n",
       "      <td>68.000</td>\n",
       "      <td>11250</td>\n",
       "      <td>0</td>\n",
       "      <td>0</td>\n",
       "      <td>0</td>\n",
       "      <td>1</td>\n",
       "      <td>0</td>\n",
       "      <td>0</td>\n",
       "      <td>1</td>\n",
       "      <td>1</td>\n",
       "      <td>...</td>\n",
       "      <td>1</td>\n",
       "      <td>0</td>\n",
       "      <td>1</td>\n",
       "      <td>0</td>\n",
       "      <td>0</td>\n",
       "      <td>0</td>\n",
       "      <td>0</td>\n",
       "      <td>1</td>\n",
       "      <td>0</td>\n",
       "      <td>1</td>\n",
       "    </tr>\n",
       "    <tr>\n",
       "      <th>3</th>\n",
       "      <td>60.000</td>\n",
       "      <td>9550</td>\n",
       "      <td>0</td>\n",
       "      <td>0</td>\n",
       "      <td>0</td>\n",
       "      <td>1</td>\n",
       "      <td>0</td>\n",
       "      <td>0</td>\n",
       "      <td>1</td>\n",
       "      <td>1</td>\n",
       "      <td>...</td>\n",
       "      <td>0</td>\n",
       "      <td>0</td>\n",
       "      <td>1</td>\n",
       "      <td>0</td>\n",
       "      <td>0</td>\n",
       "      <td>1</td>\n",
       "      <td>0</td>\n",
       "      <td>0</td>\n",
       "      <td>0</td>\n",
       "      <td>1</td>\n",
       "    </tr>\n",
       "    <tr>\n",
       "      <th>4</th>\n",
       "      <td>84.000</td>\n",
       "      <td>14260</td>\n",
       "      <td>0</td>\n",
       "      <td>0</td>\n",
       "      <td>0</td>\n",
       "      <td>1</td>\n",
       "      <td>0</td>\n",
       "      <td>0</td>\n",
       "      <td>1</td>\n",
       "      <td>1</td>\n",
       "      <td>...</td>\n",
       "      <td>1</td>\n",
       "      <td>0</td>\n",
       "      <td>1</td>\n",
       "      <td>0</td>\n",
       "      <td>0</td>\n",
       "      <td>0</td>\n",
       "      <td>0</td>\n",
       "      <td>1</td>\n",
       "      <td>0</td>\n",
       "      <td>1</td>\n",
       "    </tr>\n",
       "  </tbody>\n",
       "</table>\n",
       "<p>5 rows × 236 columns</p>\n",
       "</div>"
      ],
      "text/plain": [
       "   lotfrontage  lotarea  mszoning_C (all)  mszoning_FV  mszoning_RH  \\\n",
       "0       65.000     8450                 0            0            0   \n",
       "1       80.000     9600                 0            0            0   \n",
       "2       68.000    11250                 0            0            0   \n",
       "3       60.000     9550                 0            0            0   \n",
       "4       84.000    14260                 0            0            0   \n",
       "\n",
       "   mszoning_RL  mszoning_RM  street_Grvl  street_Pave  lotshape_IR1  ...  \\\n",
       "0            1            0            0            1             0  ...   \n",
       "1            1            0            0            1             0  ...   \n",
       "2            1            0            0            1             1  ...   \n",
       "3            1            0            0            1             1  ...   \n",
       "4            1            0            0            1             1  ...   \n",
       "\n",
       "   salecondition_Normal  salecondition_Partial  utilities_AllPub  \\\n",
       "0                     1                      0                 1   \n",
       "1                     1                      0                 1   \n",
       "2                     1                      0                 1   \n",
       "3                     0                      0                 1   \n",
       "4                     1                      0                 1   \n",
       "\n",
       "   utilities_NoSeWa  bsmtcond_Fa  bsmtcond_Gd  bsmtcond_Po  bsmtcond_TA  \\\n",
       "0                 0            0            0            0            1   \n",
       "1                 0            0            0            0            1   \n",
       "2                 0            0            0            0            1   \n",
       "3                 0            0            1            0            0   \n",
       "4                 0            0            0            0            1   \n",
       "\n",
       "   centralair_N  centralair_Y  \n",
       "0             0             1  \n",
       "1             0             1  \n",
       "2             0             1  \n",
       "3             0             1  \n",
       "4             0             1  \n",
       "\n",
       "[5 rows x 236 columns]"
      ]
     },
     "execution_count": 10,
     "metadata": {},
     "output_type": "execute_result"
    }
   ],
   "source": [
    "# Using a for loop, run get dummies on categorical columns and then merge the colums to make a new dataframe\n",
    "# (the second_revision_house_prices_df).\n",
    "\n",
    "categorical_cols = ['mszoning', 'street', 'lotshape', 'landcontour', 'lotconfig', 'landslope', 'neighborhood', 'condition1', \n",
    "                    'condition2', 'bldgtype',  'housestyle', 'roofstyle', 'roofmatl', 'exterior1st', 'exterior2nd', \n",
    "                    'masvnrtype', 'exterqual', 'extercond', 'foundation', 'bsmtqual', 'bsmtexposure', 'bsmtfintype1', \n",
    "                    'bsmtfintype2', 'heating', 'heatingqc', 'electrical', 'kitchenqual', 'functional', 'garagetype', \n",
    "                    'garagefinish', 'garagequal', 'garagecond', 'paveddrive', 'saletype', 'salecondition', 'utilities', \n",
    "                    'bsmtcond', 'centralair']\n",
    "\n",
    "for col in categorical_cols:\n",
    "    df_dummies = pd.get_dummies(first_revision_house_prices_df[col], prefix=col)\n",
    "    second_revision_house_prices_df = second_revision_house_prices_df.merge(\n",
    "        df_dummies, left_index=True, right_index=True, suffixes=('_left', '_right'))\n",
    "\n",
    "second_revision_house_prices_df.head()"
   ]
  },
  {
   "cell_type": "code",
   "execution_count": 11,
   "metadata": {},
   "outputs": [],
   "source": [
    "# Make another dataframe that combines the get_dummies columns with the continuous columns from the first dataframe.\n",
    "\n",
    "third_revision_house_prices_df = second_revision_house_prices_df.merge(first_revision_house_prices_df[[\n",
    "                                    'mssubclass', 'lotfrontage', 'lotarea', 'saleprice', 'overallqual', 'overallcond',\n",
    "                                    'yearbuilt', 'yearremodadd', 'masvnrarea', 'bsmtfinsf1', 'bsmtfinsf2', 'bsmtunfsf',\n",
    "                                    'totalbsmtsf', 'firstflrsf', 'secondflrsf', 'lowqualfinsf', 'grlivarea', 'bsmtfullbath',\n",
    "                                    'bsmthalfbath', 'fullbath', 'halfbath', 'bedroomabvgr', 'totrmsabvgrd', 'fireplaces',\n",
    "                                    'garageyrblt', 'garagecars', 'garagearea', 'wooddecksf', 'openporchsf', 'enclosedporch',\n",
    "                                    'threessnporch', 'screenporch', 'poolarea', 'miscval', 'mosold', 'yrsold', 'bsmtcond',\n",
    "                                    'centralair', 'street', 'utilities']])"
   ]
  },
  {
   "cell_type": "code",
   "execution_count": 12,
   "metadata": {},
   "outputs": [],
   "source": [
    "# There were a few columns that had boolean classifications and that I had trouble transforming in the for loop\n",
    "# (for some reason the columns got dropped from the dataframe), so I'm going to use get_dummies on them individually.\n",
    "\n",
    "\n",
    "third_revision_house_prices_df['street'] = pd.get_dummies(third_revision_house_prices_df['street'], drop_first=True)\n",
    "\n",
    "third_revision_house_prices_df['utilities'] = pd.get_dummies(third_revision_house_prices_df['utilities'], drop_first=True)\n",
    "\n",
    "third_revision_house_prices_df['bsmtcond'] = pd.get_dummies(third_revision_house_prices_df['bsmtcond'], drop_first=True)\n",
    "\n",
    "third_revision_house_prices_df['centralair'] = pd.get_dummies(third_revision_house_prices_df['centralair'], drop_first=True)"
   ]
  },
  {
   "cell_type": "markdown",
   "metadata": {},
   "source": [
    "_Dealing with Missing Values_\n",
    "\n",
    "The dataframe has missing values, so I'll fill those in with the median, which is a measure of central tendency.\n",
    "\n",
    "To get that started, I'll re-confirm which columns are missing information."
   ]
  },
  {
   "cell_type": "code",
   "execution_count": 13,
   "metadata": {},
   "outputs": [
    {
     "data": {
      "text/plain": [
       "lotfrontage            9.276\n",
       "lotarea                0.000\n",
       "mszoning_C (all)       0.000\n",
       "mszoning_FV            0.000\n",
       "mszoning_RH            0.000\n",
       "mszoning_RL            0.000\n",
       "mszoning_RM            0.000\n",
       "street_Grvl            0.000\n",
       "street_Pave            0.000\n",
       "lotshape_IR1           0.000\n",
       "lotshape_IR2           0.000\n",
       "lotshape_IR3           0.000\n",
       "lotshape_Reg           0.000\n",
       "landcontour_Bnk        0.000\n",
       "landcontour_HLS        0.000\n",
       "landcontour_Low        0.000\n",
       "landcontour_Lvl        0.000\n",
       "lotconfig_Corner       0.000\n",
       "lotconfig_CulDSac      0.000\n",
       "lotconfig_FR2          0.000\n",
       "lotconfig_FR3          0.000\n",
       "lotconfig_Inside       0.000\n",
       "landslope_Gtl          0.000\n",
       "landslope_Mod          0.000\n",
       "landslope_Sev          0.000\n",
       "neighborhood_Blmngtn   0.000\n",
       "neighborhood_Blueste   0.000\n",
       "neighborhood_BrDale    0.000\n",
       "neighborhood_BrkSide   0.000\n",
       "neighborhood_ClearCr   0.000\n",
       "                        ... \n",
       "bsmtfinsf2             0.000\n",
       "bsmtunfsf              0.000\n",
       "totalbsmtsf            0.000\n",
       "firstflrsf             0.000\n",
       "secondflrsf            0.000\n",
       "lowqualfinsf           0.000\n",
       "grlivarea              0.000\n",
       "bsmtfullbath           0.000\n",
       "bsmthalfbath           0.000\n",
       "fullbath               0.000\n",
       "halfbath               0.000\n",
       "bedroomabvgr           0.000\n",
       "totrmsabvgrd           0.000\n",
       "fireplaces             0.000\n",
       "garageyrblt            4.829\n",
       "garagecars             0.000\n",
       "garagearea             0.000\n",
       "wooddecksf             0.000\n",
       "openporchsf            0.000\n",
       "enclosedporch          0.000\n",
       "threessnporch          0.000\n",
       "screenporch            0.000\n",
       "poolarea               0.000\n",
       "miscval                0.000\n",
       "mosold                 0.000\n",
       "yrsold                 0.000\n",
       "bsmtcond               0.000\n",
       "centralair             0.000\n",
       "street                 0.000\n",
       "utilities              0.000\n",
       "Length: 274, dtype: float64"
      ]
     },
     "execution_count": 13,
     "metadata": {},
     "output_type": "execute_result"
    }
   ],
   "source": [
    "(third_revision_house_prices_df.isnull().sum()*100) / third_revision_house_prices_df.isnull().count()"
   ]
  },
  {
   "cell_type": "markdown",
   "metadata": {},
   "source": [
    "A few columns are missing information, so I'll fill in that information with medians."
   ]
  },
  {
   "cell_type": "code",
   "execution_count": 14,
   "metadata": {},
   "outputs": [],
   "source": [
    "fourth_revision_house_prices_df = third_revision_house_prices_df.copy()\n",
    "\n",
    "replace_nans_with_medians_list = ['lotfrontage', 'masvnrarea', 'garageyrblt']\n",
    "\n",
    "for col in replace_nans_with_medians_list:\n",
    "        fourth_revision_house_prices_df.fillna(fourth_revision_house_prices_df[replace_nans_with_medians_list\n",
    "        ].median(), inplace=True)"
   ]
  },
  {
   "cell_type": "markdown",
   "metadata": {},
   "source": [
    "_Outliers_\n",
    "\n",
    "I'm assuming the data has outliers, but I'd like to check."
   ]
  },
  {
   "cell_type": "code",
   "execution_count": 15,
   "metadata": {},
   "outputs": [
    {
     "data": {
      "image/png": "[encoded data removed]",
      "text/plain": [
       "<Figure size 1440x1800 with 8 Axes>"
      ]
     },
     "metadata": {
      "needs_background": "light"
     },
     "output_type": "display_data"
    }
   ],
   "source": [
    "plt.figure(figsize=(20, 25))\n",
    "\n",
    "plt.subplot(4, 4, 1)\n",
    "plt.boxplot(fourth_revision_house_prices_df['mssubclass'], whis=1.5)\n",
    "plt.title('The Building Class')\n",
    "\n",
    "plt.subplot(4, 4, 2)\n",
    "plt.boxplot(fourth_revision_house_prices_df['overallqual'], whis=1.5)\n",
    "plt.title('Overall Material and Finish Quality')\n",
    "\n",
    "plt.subplot(4, 4, 3)\n",
    "plt.boxplot(fourth_revision_house_prices_df['bsmtcond'], whis=1.5)\n",
    "plt.title('Basement Condition')\n",
    "\n",
    "plt.subplot(4, 4, 4)\n",
    "plt.boxplot(fourth_revision_house_prices_df['bsmtfullbath'], whis=1.5)\n",
    "plt.title('Basement Full Bath')\n",
    "\n",
    "plt.subplot(4, 4, 5)\n",
    "plt.boxplot(fourth_revision_house_prices_df['garagearea'], whis=1.5)\n",
    "plt.title('Garage Area')\n",
    "\n",
    "plt.subplot(4, 4, 6)\n",
    "plt.boxplot(fourth_revision_house_prices_df['yearremodadd'], whis=1.5)\n",
    "plt.title('Year Remodeled')\n",
    "\n",
    "plt.subplot(4, 4, 7)\n",
    "plt.boxplot(fourth_revision_house_prices_df['firstflrsf'], whis=1.5)\n",
    "plt.title('First Floor Square Footage')\n",
    "\n",
    "plt.subplot(4, 4, 8)\n",
    "plt.boxplot(fourth_revision_house_prices_df['screenporch'], whis=1.5)\n",
    "plt.title('Screenporch')\n",
    "\n",
    "plt.show()"
   ]
  },
  {
   "cell_type": "markdown",
   "metadata": {},
   "source": [
    "The sample shows that there are outliers skewing the data, so I'll transform the data to normalize it."
   ]
  },
  {
   "cell_type": "code",
   "execution_count": 16,
   "metadata": {},
   "outputs": [],
   "source": [
    "fifth_revision_house_prices_df = fourth_revision_house_prices_df.copy()\n",
    "\n",
    "log_transform_list = ['mssubclass', 'lotfrontage', 'lotarea', 'street', 'utilities', 'overallqual', 'overallcond', 'yearbuilt',\n",
    "                 'yearremodadd', 'masvnrarea', 'bsmtcond', 'bsmtfinsf1', 'bsmtfinsf2', 'bsmtunfsf', 'totalbsmtsf', 'centralair',\n",
    "                 'firstflrsf', 'secondflrsf', 'lowqualfinsf', 'grlivarea', 'bsmtfullbath', 'bsmthalfbath', 'fullbath',\n",
    "                 'halfbath', 'bedroomabvgr', 'totrmsabvgrd', 'fireplaces', 'garageyrblt', 'garagecars', 'garagearea',\n",
    "                 'wooddecksf', 'openporchsf', 'enclosedporch', 'threessnporch', 'screenporch', 'poolarea', 'miscval',\n",
    "                 'mosold', 'yrsold', 'saleprice']\n",
    "\n",
    "for col in log_transform_list:\n",
    "    np.log(fifth_revision_house_prices_df[log_transform_list])"
   ]
  },
  {
   "cell_type": "markdown",
   "metadata": {},
   "source": [
    "_Exploring the Data_"
   ]
  },
  {
   "cell_type": "code",
   "execution_count": 17,
   "metadata": {},
   "outputs": [
    {
     "data": {
      "image/png": "[encoded data removed]",
      "text/plain": [
       "<Figure size 432x288 with 1 Axes>"
      ]
     },
     "metadata": {
      "needs_background": "light"
     },
     "output_type": "display_data"
    }
   ],
   "source": [
    "plt.hist(fifth_revision_house_prices_df['saleprice'])\n",
    "plt.title('House Sale Prices')\n",
    "plt.xlabel('Sale Prices')\n",
    "plt.ylabel('Number of Occurences')\n",
    "\n",
    "plt.show()"
   ]
  },
  {
   "cell_type": "markdown",
   "metadata": {},
   "source": [
    "Even after being log transformed, the data's skewed to the left."
   ]
  },
  {
   "cell_type": "markdown",
   "metadata": {},
   "source": [
    "_Looking for Correlations in the Variables_"
   ]
  },
  {
   "cell_type": "markdown",
   "metadata": {},
   "source": [
    "Because there's a large number of columns in the dataframe, a correlation matrix wasn't a good fit for analyzing the correlation coefficients (CC) and I used a correlation matrix instead.\n",
    "\n",
    "In using the matrix I compared coefficients by keeping 'saleprice' in place and swapping out the other column names."
   ]
  },
  {
   "cell_type": "code",
   "execution_count": 18,
   "metadata": {},
   "outputs": [
    {
     "data": {
      "text/plain": [
       "array(['lotfrontage', 'lotarea', 'mszoning_C (all)', 'mszoning_FV',\n",
       "       'mszoning_RH', 'mszoning_RL', 'mszoning_RM', 'street_Grvl',\n",
       "       'street_Pave', 'lotshape_IR1', 'lotshape_IR2', 'lotshape_IR3',\n",
       "       'lotshape_Reg', 'landcontour_Bnk', 'landcontour_HLS',\n",
       "       'landcontour_Low', 'landcontour_Lvl', 'lotconfig_Corner',\n",
       "       'lotconfig_CulDSac', 'lotconfig_FR2', 'lotconfig_FR3',\n",
       "       'lotconfig_Inside', 'landslope_Gtl', 'landslope_Mod',\n",
       "       'landslope_Sev', 'neighborhood_Blmngtn', 'neighborhood_Blueste',\n",
       "       'neighborhood_BrDale', 'neighborhood_BrkSide',\n",
       "       'neighborhood_ClearCr', 'neighborhood_CollgCr',\n",
       "       'neighborhood_Crawfor', 'neighborhood_Edwards',\n",
       "       'neighborhood_Gilbert', 'neighborhood_IDOTRR',\n",
       "       'neighborhood_MeadowV', 'neighborhood_Mitchel',\n",
       "       'neighborhood_NAmes', 'neighborhood_NPkVill',\n",
       "       'neighborhood_NWAmes', 'neighborhood_NoRidge',\n",
       "       'neighborhood_NridgHt', 'neighborhood_OldTown',\n",
       "       'neighborhood_SWISU', 'neighborhood_Sawyer',\n",
       "       'neighborhood_SawyerW', 'neighborhood_Somerst',\n",
       "       'neighborhood_StoneBr', 'neighborhood_Timber',\n",
       "       'neighborhood_Veenker', 'condition1_Artery', 'condition1_Feedr',\n",
       "       'condition1_Norm', 'condition1_PosA', 'condition1_PosN',\n",
       "       'condition1_RRAe', 'condition1_RRAn', 'condition1_RRNe',\n",
       "       'condition1_RRNn', 'condition2_Artery', 'condition2_Feedr',\n",
       "       'condition2_Norm', 'condition2_PosA', 'condition2_PosN',\n",
       "       'condition2_RRAe', 'condition2_RRAn', 'condition2_RRNn',\n",
       "       'bldgtype_1Fam', 'bldgtype_2fmCon', 'bldgtype_Duplex',\n",
       "       'bldgtype_Twnhs', 'bldgtype_TwnhsE', 'housestyle_1.5Fin',\n",
       "       'housestyle_1.5Unf', 'housestyle_1Story', 'housestyle_2.5Fin',\n",
       "       'housestyle_2.5Unf', 'housestyle_2Story', 'housestyle_SFoyer',\n",
       "       'housestyle_SLvl', 'roofstyle_Flat', 'roofstyle_Gable',\n",
       "       'roofstyle_Gambrel', 'roofstyle_Hip', 'roofstyle_Mansard',\n",
       "       'roofstyle_Shed', 'roofmatl_ClyTile', 'roofmatl_CompShg',\n",
       "       'roofmatl_Membran', 'roofmatl_Metal', 'roofmatl_Roll',\n",
       "       'roofmatl_Tar&Grv', 'roofmatl_WdShake', 'roofmatl_WdShngl',\n",
       "       'exterior1st_AsbShng', 'exterior1st_AsphShn',\n",
       "       'exterior1st_BrkComm', 'exterior1st_BrkFace', 'exterior1st_CBlock',\n",
       "       'exterior1st_CemntBd', 'exterior1st_HdBoard',\n",
       "       'exterior1st_ImStucc', 'exterior1st_MetalSd',\n",
       "       'exterior1st_Plywood', 'exterior1st_Stone', 'exterior1st_Stucco',\n",
       "       'exterior1st_VinylSd', 'exterior1st_Wd Sdng',\n",
       "       'exterior1st_WdShing', 'exterior2nd_AsbShng',\n",
       "       'exterior2nd_AsphShn', 'exterior2nd_Brk Cmn',\n",
       "       'exterior2nd_BrkFace', 'exterior2nd_CBlock', 'exterior2nd_CmentBd',\n",
       "       'exterior2nd_HdBoard', 'exterior2nd_ImStucc',\n",
       "       'exterior2nd_MetalSd', 'exterior2nd_Other', 'exterior2nd_Plywood',\n",
       "       'exterior2nd_Stone', 'exterior2nd_Stucco', 'exterior2nd_VinylSd',\n",
       "       'exterior2nd_Wd Sdng', 'exterior2nd_Wd Shng', 'masvnrtype_BrkCmn',\n",
       "       'masvnrtype_BrkFace', 'masvnrtype_None', 'masvnrtype_Stone',\n",
       "       'exterqual_Ex', 'exterqual_Fa', 'exterqual_Gd', 'exterqual_TA',\n",
       "       'extercond_Ex', 'extercond_Fa', 'extercond_Gd', 'extercond_Po',\n",
       "       'extercond_TA', 'foundation_BrkTil', 'foundation_CBlock',\n",
       "       'foundation_PConc', 'foundation_Slab', 'foundation_Stone',\n",
       "       'foundation_Wood', 'bsmtqual_Ex', 'bsmtqual_Fa', 'bsmtqual_Gd',\n",
       "       'bsmtqual_TA', 'bsmtexposure_Av', 'bsmtexposure_Gd',\n",
       "       'bsmtexposure_Mn', 'bsmtexposure_No', 'bsmtfintype1_ALQ',\n",
       "       'bsmtfintype1_BLQ', 'bsmtfintype1_GLQ', 'bsmtfintype1_LwQ',\n",
       "       'bsmtfintype1_Rec', 'bsmtfintype1_Unf', 'bsmtfintype2_ALQ',\n",
       "       'bsmtfintype2_BLQ', 'bsmtfintype2_GLQ', 'bsmtfintype2_LwQ',\n",
       "       'bsmtfintype2_Rec', 'bsmtfintype2_Unf', 'heating_Floor',\n",
       "       'heating_GasA', 'heating_GasW', 'heating_Grav', 'heating_OthW',\n",
       "       'heating_Wall', 'heatingqc_Ex', 'heatingqc_Fa', 'heatingqc_Gd',\n",
       "       'heatingqc_Po', 'heatingqc_TA', 'electrical_FuseA',\n",
       "       'electrical_FuseF', 'electrical_FuseP', 'electrical_Mix',\n",
       "       'electrical_SBrkr', 'kitchenqual_Ex', 'kitchenqual_Fa',\n",
       "       'kitchenqual_Gd', 'kitchenqual_TA', 'functional_Maj1',\n",
       "       'functional_Maj2', 'functional_Min1', 'functional_Min2',\n",
       "       'functional_Mod', 'functional_Sev', 'functional_Typ',\n",
       "       'garagetype_2Types', 'garagetype_Attchd', 'garagetype_Basment',\n",
       "       'garagetype_BuiltIn', 'garagetype_CarPort', 'garagetype_Detchd',\n",
       "       'garagefinish_Fin', 'garagefinish_RFn', 'garagefinish_Unf',\n",
       "       'garagequal_Ex', 'garagequal_Fa', 'garagequal_Gd', 'garagequal_Po',\n",
       "       'garagequal_TA', 'garagecond_Ex', 'garagecond_Fa', 'garagecond_Gd',\n",
       "       'garagecond_Po', 'garagecond_TA', 'paveddrive_N', 'paveddrive_P',\n",
       "       'paveddrive_Y', 'saletype_COD', 'saletype_CWD', 'saletype_Con',\n",
       "       'saletype_ConLD', 'saletype_ConLI', 'saletype_ConLw',\n",
       "       'saletype_New', 'saletype_Oth', 'saletype_WD',\n",
       "       'salecondition_Abnorml', 'salecondition_AdjLand',\n",
       "       'salecondition_Alloca', 'salecondition_Family',\n",
       "       'salecondition_Normal', 'salecondition_Partial',\n",
       "       'utilities_AllPub', 'utilities_NoSeWa', 'bsmtcond_Fa',\n",
       "       'bsmtcond_Gd', 'bsmtcond_Po', 'bsmtcond_TA', 'centralair_N',\n",
       "       'centralair_Y', 'mssubclass', 'saleprice', 'overallqual',\n",
       "       'overallcond', 'yearbuilt', 'yearremodadd', 'masvnrarea',\n",
       "       'bsmtfinsf1', 'bsmtfinsf2', 'bsmtunfsf', 'totalbsmtsf',\n",
       "       'firstflrsf', 'secondflrsf', 'lowqualfinsf', 'grlivarea',\n",
       "       'bsmtfullbath', 'bsmthalfbath', 'fullbath', 'halfbath',\n",
       "       'bedroomabvgr', 'totrmsabvgrd', 'fireplaces', 'garageyrblt',\n",
       "       'garagecars', 'garagearea', 'wooddecksf', 'openporchsf',\n",
       "       'enclosedporch', 'threessnporch', 'screenporch', 'poolarea',\n",
       "       'miscval', 'mosold', 'yrsold', 'bsmtcond', 'centralair', 'street',\n",
       "       'utilities'], dtype=object)"
      ]
     },
     "execution_count": 18,
     "metadata": {},
     "output_type": "execute_result"
    }
   ],
   "source": [
    "fifth_revision_house_prices_df.columns.values"
   ]
  },
  {
   "cell_type": "code",
   "execution_count": 19,
   "metadata": {},
   "outputs": [
    {
     "data": {
      "text/html": [
       "<div>\n",
       "<style scoped>\n",
       "    .dataframe tbody tr th:only-of-type {\n",
       "        vertical-align: middle;\n",
       "    }\n",
       "\n",
       "    .dataframe tbody tr th {\n",
       "        vertical-align: top;\n",
       "    }\n",
       "\n",
       "    .dataframe thead th {\n",
       "        text-align: right;\n",
       "    }\n",
       "</style>\n",
       "<table border=\"1\" class=\"dataframe\">\n",
       "  <thead>\n",
       "    <tr style=\"text-align: right;\">\n",
       "      <th></th>\n",
       "      <th>saleprice</th>\n",
       "      <th>overallqual</th>\n",
       "      <th>grlivarea</th>\n",
       "      <th>totalbsmtsf</th>\n",
       "      <th>garagecars</th>\n",
       "      <th>firstflrsf</th>\n",
       "    </tr>\n",
       "  </thead>\n",
       "  <tbody>\n",
       "    <tr>\n",
       "      <th>saleprice</th>\n",
       "      <td>1.000</td>\n",
       "      <td>0.758</td>\n",
       "      <td>0.679</td>\n",
       "      <td>0.607</td>\n",
       "      <td>0.596</td>\n",
       "      <td>0.590</td>\n",
       "    </tr>\n",
       "    <tr>\n",
       "      <th>overallqual</th>\n",
       "      <td>0.758</td>\n",
       "      <td>1.000</td>\n",
       "      <td>0.558</td>\n",
       "      <td>0.520</td>\n",
       "      <td>0.551</td>\n",
       "      <td>0.435</td>\n",
       "    </tr>\n",
       "    <tr>\n",
       "      <th>grlivarea</th>\n",
       "      <td>0.679</td>\n",
       "      <td>0.558</td>\n",
       "      <td>1.000</td>\n",
       "      <td>0.436</td>\n",
       "      <td>0.424</td>\n",
       "      <td>0.581</td>\n",
       "    </tr>\n",
       "    <tr>\n",
       "      <th>totalbsmtsf</th>\n",
       "      <td>0.607</td>\n",
       "      <td>0.520</td>\n",
       "      <td>0.436</td>\n",
       "      <td>1.000</td>\n",
       "      <td>0.356</td>\n",
       "      <td>0.737</td>\n",
       "    </tr>\n",
       "    <tr>\n",
       "      <th>garagecars</th>\n",
       "      <td>0.596</td>\n",
       "      <td>0.551</td>\n",
       "      <td>0.424</td>\n",
       "      <td>0.356</td>\n",
       "      <td>1.000</td>\n",
       "      <td>0.432</td>\n",
       "    </tr>\n",
       "    <tr>\n",
       "      <th>firstflrsf</th>\n",
       "      <td>0.590</td>\n",
       "      <td>0.435</td>\n",
       "      <td>0.581</td>\n",
       "      <td>0.737</td>\n",
       "      <td>0.432</td>\n",
       "      <td>1.000</td>\n",
       "    </tr>\n",
       "  </tbody>\n",
       "</table>\n",
       "</div>"
      ],
      "text/plain": [
       "             saleprice  overallqual  grlivarea  totalbsmtsf  garagecars  \\\n",
       "saleprice        1.000        0.758      0.679        0.607       0.596   \n",
       "overallqual      0.758        1.000      0.558        0.520       0.551   \n",
       "grlivarea        0.679        0.558      1.000        0.436       0.424   \n",
       "totalbsmtsf      0.607        0.520      0.436        1.000       0.356   \n",
       "garagecars       0.596        0.551      0.424        0.356       1.000   \n",
       "firstflrsf       0.590        0.435      0.581        0.737       0.432   \n",
       "\n",
       "             firstflrsf  \n",
       "saleprice         0.590  \n",
       "overallqual       0.435  \n",
       "grlivarea         0.581  \n",
       "totalbsmtsf       0.737  \n",
       "garagecars        0.432  \n",
       "firstflrsf        1.000  "
      ]
     },
     "execution_count": 19,
     "metadata": {},
     "output_type": "execute_result"
    }
   ],
   "source": [
    "fifth_revision_house_prices_df[['saleprice', 'overallqual', 'grlivarea', 'totalbsmtsf', 'garagecars', 'firstflrsf']].corr()"
   ]
  },
  {
   "cell_type": "markdown",
   "metadata": {},
   "source": [
    "### 3. Creating the Train and Test Set"
   ]
  },
  {
   "cell_type": "code",
   "execution_count": 20,
   "metadata": {
    "scrolled": true
   },
   "outputs": [
    {
     "name": "stdout",
     "output_type": "stream",
     "text": [
      "- The number of observations in the training set is: 2716\n",
      "- The number of observations in the test set is: 680\n"
     ]
    }
   ],
   "source": [
    "# Y is the target variable.\n",
    "Y = fifth_revision_house_prices_df['saleprice']\n",
    "\n",
    "# X is the feature set.\n",
    "X = fifth_revision_house_prices_df[['overallqual', 'grlivarea', \n",
    "                                    'totalbsmtsf', 'garagecars', \n",
    "                                    'firstflrsf', 'exterqual_TA',\n",
    "                                   'garagetype_Detchd', 'garagefinish_Unf',\n",
    "                                   'kitchenqual_TA', 'bsmtqual_TA',\n",
    "                                   'mszoning_RM', 'lotshape_Reg',\n",
    "                                   'masvnrtype_None', 'saletype_ConLD',\n",
    "                                   'heatingqc_TA', 'saletype_WD', \n",
    "                                   'foundation_CBlock', 'foundation_BrkTil',\n",
    "                                   'bsmtexposure_No', 'garagearea',\n",
    "                                   'fullbath', 'yearbuilt', 'bsmtqual_Ex',\n",
    "                                   'garageyrblt', 'yearremodadd', \n",
    "                                   'foundation_PConc', 'kitchenqual_Ex',\n",
    "                                   'exterqual_Ex', 'fireplaces',\n",
    "                                   'neighborhood_NridgHt', 'lotfrontage',\n",
    "                                   'exterqual_Gd', 'masvnrarea',\n",
    "                                   'bsmtfintype1_GLQ', 'openporchsf',\n",
    "                                   'bsmtfinsf1', 'garagetype_Attchd',\n",
    "                                   'garagefinish_Fin', 'heatingqc_Ex',\n",
    "                                   'wooddecksf', 'saletype_New',\n",
    "                                   'exterior2nd_VinylSd', 'lotarea',\n",
    "                                   'neighborhood_OldTown', 'housestyle_1.5Fin',\n",
    "                                   'centralair_N', 'neighborhood_BrkSide',\n",
    "                                   'paveddrive_N', 'enclosedporch',\n",
    "                                   'exterior1st_MetalSd', 'roofstyle_Gable',\n",
    "                                   'exterior2nd_Wd Sdng', 'bldgtype_Twnhs',\n",
    "                                   'salecondition_Normal', 'neighborhood_IDOTRR',\n",
    "                                   'electrical_FuseF', 'kitchenqual_Fa',\n",
    "                                   'extercond_Fa', 'bsmtcond_Fa', 'garagequal_Fa']]\n",
    "\n",
    "X_train, X_test, y_train, y_test = train_test_split(X, Y, test_size = 0.2, random_state = 465)\n",
    "\n",
    "print('- The number of observations in the training set is: {}'.format(X_train.shape[0]))\n",
    "print('- The number of observations in the test set is: {}'.format(X_test.shape[0]))"
   ]
  },
  {
   "cell_type": "code",
   "execution_count": 21,
   "metadata": {},
   "outputs": [
    {
     "data": {
      "text/html": [
       "<div>\n",
       "<style scoped>\n",
       "    .dataframe tbody tr th:only-of-type {\n",
       "        vertical-align: middle;\n",
       "    }\n",
       "\n",
       "    .dataframe tbody tr th {\n",
       "        vertical-align: top;\n",
       "    }\n",
       "\n",
       "    .dataframe thead th {\n",
       "        text-align: right;\n",
       "    }\n",
       "</style>\n",
       "<table border=\"1\" class=\"dataframe\">\n",
       "  <thead>\n",
       "    <tr style=\"text-align: right;\">\n",
       "      <th></th>\n",
       "      <th>overallqual</th>\n",
       "      <th>grlivarea</th>\n",
       "      <th>totalbsmtsf</th>\n",
       "      <th>garagecars</th>\n",
       "      <th>firstflrsf</th>\n",
       "      <th>exterqual_TA</th>\n",
       "      <th>garagetype_Detchd</th>\n",
       "      <th>garagefinish_Unf</th>\n",
       "      <th>kitchenqual_TA</th>\n",
       "      <th>bsmtqual_TA</th>\n",
       "      <th>...</th>\n",
       "      <th>roofstyle_Gable</th>\n",
       "      <th>exterior2nd_Wd Sdng</th>\n",
       "      <th>bldgtype_Twnhs</th>\n",
       "      <th>salecondition_Normal</th>\n",
       "      <th>neighborhood_IDOTRR</th>\n",
       "      <th>electrical_FuseF</th>\n",
       "      <th>kitchenqual_Fa</th>\n",
       "      <th>extercond_Fa</th>\n",
       "      <th>bsmtcond_Fa</th>\n",
       "      <th>garagequal_Fa</th>\n",
       "    </tr>\n",
       "  </thead>\n",
       "  <tbody>\n",
       "    <tr>\n",
       "      <th>count</th>\n",
       "      <td>2716.000</td>\n",
       "      <td>2716.000</td>\n",
       "      <td>2716.000</td>\n",
       "      <td>2716.000</td>\n",
       "      <td>2716.000</td>\n",
       "      <td>2716.000</td>\n",
       "      <td>2716.000</td>\n",
       "      <td>2716.000</td>\n",
       "      <td>2716.000</td>\n",
       "      <td>2716.000</td>\n",
       "      <td>...</td>\n",
       "      <td>2716.000</td>\n",
       "      <td>2716.000</td>\n",
       "      <td>2716.000</td>\n",
       "      <td>2716.000</td>\n",
       "      <td>2716.000</td>\n",
       "      <td>2716.000</td>\n",
       "      <td>2716.000</td>\n",
       "      <td>2716.000</td>\n",
       "      <td>2716.000</td>\n",
       "      <td>2716.000</td>\n",
       "    </tr>\n",
       "    <tr>\n",
       "      <th>mean</th>\n",
       "      <td>5.809</td>\n",
       "      <td>1403.405</td>\n",
       "      <td>945.065</td>\n",
       "      <td>1.620</td>\n",
       "      <td>1085.108</td>\n",
       "      <td>0.721</td>\n",
       "      <td>0.410</td>\n",
       "      <td>0.539</td>\n",
       "      <td>0.580</td>\n",
       "      <td>0.522</td>\n",
       "      <td>...</td>\n",
       "      <td>0.786</td>\n",
       "      <td>0.180</td>\n",
       "      <td>0.041</td>\n",
       "      <td>0.837</td>\n",
       "      <td>0.029</td>\n",
       "      <td>0.035</td>\n",
       "      <td>0.030</td>\n",
       "      <td>0.033</td>\n",
       "      <td>0.046</td>\n",
       "      <td>0.045</td>\n",
       "    </tr>\n",
       "    <tr>\n",
       "      <th>std</th>\n",
       "      <td>1.273</td>\n",
       "      <td>471.779</td>\n",
       "      <td>420.485</td>\n",
       "      <td>0.690</td>\n",
       "      <td>352.737</td>\n",
       "      <td>0.449</td>\n",
       "      <td>0.492</td>\n",
       "      <td>0.499</td>\n",
       "      <td>0.494</td>\n",
       "      <td>0.500</td>\n",
       "      <td>...</td>\n",
       "      <td>0.410</td>\n",
       "      <td>0.384</td>\n",
       "      <td>0.197</td>\n",
       "      <td>0.369</td>\n",
       "      <td>0.167</td>\n",
       "      <td>0.183</td>\n",
       "      <td>0.170</td>\n",
       "      <td>0.179</td>\n",
       "      <td>0.210</td>\n",
       "      <td>0.206</td>\n",
       "    </tr>\n",
       "    <tr>\n",
       "      <th>min</th>\n",
       "      <td>1.000</td>\n",
       "      <td>334.000</td>\n",
       "      <td>0.000</td>\n",
       "      <td>0.000</td>\n",
       "      <td>334.000</td>\n",
       "      <td>0.000</td>\n",
       "      <td>0.000</td>\n",
       "      <td>0.000</td>\n",
       "      <td>0.000</td>\n",
       "      <td>0.000</td>\n",
       "      <td>...</td>\n",
       "      <td>0.000</td>\n",
       "      <td>0.000</td>\n",
       "      <td>0.000</td>\n",
       "      <td>0.000</td>\n",
       "      <td>0.000</td>\n",
       "      <td>0.000</td>\n",
       "      <td>0.000</td>\n",
       "      <td>0.000</td>\n",
       "      <td>0.000</td>\n",
       "      <td>0.000</td>\n",
       "    </tr>\n",
       "    <tr>\n",
       "      <th>25%</th>\n",
       "      <td>5.000</td>\n",
       "      <td>1041.000</td>\n",
       "      <td>728.000</td>\n",
       "      <td>1.000</td>\n",
       "      <td>848.000</td>\n",
       "      <td>0.000</td>\n",
       "      <td>0.000</td>\n",
       "      <td>0.000</td>\n",
       "      <td>0.000</td>\n",
       "      <td>0.000</td>\n",
       "      <td>...</td>\n",
       "      <td>1.000</td>\n",
       "      <td>0.000</td>\n",
       "      <td>0.000</td>\n",
       "      <td>1.000</td>\n",
       "      <td>0.000</td>\n",
       "      <td>0.000</td>\n",
       "      <td>0.000</td>\n",
       "      <td>0.000</td>\n",
       "      <td>0.000</td>\n",
       "      <td>0.000</td>\n",
       "    </tr>\n",
       "    <tr>\n",
       "      <th>50%</th>\n",
       "      <td>6.000</td>\n",
       "      <td>1337.000</td>\n",
       "      <td>900.000</td>\n",
       "      <td>2.000</td>\n",
       "      <td>1032.000</td>\n",
       "      <td>1.000</td>\n",
       "      <td>0.000</td>\n",
       "      <td>1.000</td>\n",
       "      <td>1.000</td>\n",
       "      <td>1.000</td>\n",
       "      <td>...</td>\n",
       "      <td>1.000</td>\n",
       "      <td>0.000</td>\n",
       "      <td>0.000</td>\n",
       "      <td>1.000</td>\n",
       "      <td>0.000</td>\n",
       "      <td>0.000</td>\n",
       "      <td>0.000</td>\n",
       "      <td>0.000</td>\n",
       "      <td>0.000</td>\n",
       "      <td>0.000</td>\n",
       "    </tr>\n",
       "    <tr>\n",
       "      <th>75%</th>\n",
       "      <td>7.000</td>\n",
       "      <td>1668.000</td>\n",
       "      <td>1187.000</td>\n",
       "      <td>2.000</td>\n",
       "      <td>1262.000</td>\n",
       "      <td>1.000</td>\n",
       "      <td>1.000</td>\n",
       "      <td>1.000</td>\n",
       "      <td>1.000</td>\n",
       "      <td>1.000</td>\n",
       "      <td>...</td>\n",
       "      <td>1.000</td>\n",
       "      <td>0.000</td>\n",
       "      <td>0.000</td>\n",
       "      <td>1.000</td>\n",
       "      <td>0.000</td>\n",
       "      <td>0.000</td>\n",
       "      <td>0.000</td>\n",
       "      <td>0.000</td>\n",
       "      <td>0.000</td>\n",
       "      <td>0.000</td>\n",
       "    </tr>\n",
       "    <tr>\n",
       "      <th>max</th>\n",
       "      <td>10.000</td>\n",
       "      <td>4676.000</td>\n",
       "      <td>3206.000</td>\n",
       "      <td>4.000</td>\n",
       "      <td>3228.000</td>\n",
       "      <td>1.000</td>\n",
       "      <td>1.000</td>\n",
       "      <td>1.000</td>\n",
       "      <td>1.000</td>\n",
       "      <td>1.000</td>\n",
       "      <td>...</td>\n",
       "      <td>1.000</td>\n",
       "      <td>1.000</td>\n",
       "      <td>1.000</td>\n",
       "      <td>1.000</td>\n",
       "      <td>1.000</td>\n",
       "      <td>1.000</td>\n",
       "      <td>1.000</td>\n",
       "      <td>1.000</td>\n",
       "      <td>1.000</td>\n",
       "      <td>1.000</td>\n",
       "    </tr>\n",
       "  </tbody>\n",
       "</table>\n",
       "<p>8 rows × 60 columns</p>\n",
       "</div>"
      ],
      "text/plain": [
       "       overallqual  grlivarea  totalbsmtsf  garagecars  firstflrsf  \\\n",
       "count     2716.000   2716.000     2716.000    2716.000    2716.000   \n",
       "mean         5.809   1403.405      945.065       1.620    1085.108   \n",
       "std          1.273    471.779      420.485       0.690     352.737   \n",
       "min          1.000    334.000        0.000       0.000     334.000   \n",
       "25%          5.000   1041.000      728.000       1.000     848.000   \n",
       "50%          6.000   1337.000      900.000       2.000    1032.000   \n",
       "75%          7.000   1668.000     1187.000       2.000    1262.000   \n",
       "max         10.000   4676.000     3206.000       4.000    3228.000   \n",
       "\n",
       "       exterqual_TA  garagetype_Detchd  garagefinish_Unf  kitchenqual_TA  \\\n",
       "count      2716.000           2716.000          2716.000        2716.000   \n",
       "mean          0.721              0.410             0.539           0.580   \n",
       "std           0.449              0.492             0.499           0.494   \n",
       "min           0.000              0.000             0.000           0.000   \n",
       "25%           0.000              0.000             0.000           0.000   \n",
       "50%           1.000              0.000             1.000           1.000   \n",
       "75%           1.000              1.000             1.000           1.000   \n",
       "max           1.000              1.000             1.000           1.000   \n",
       "\n",
       "       bsmtqual_TA  ...  roofstyle_Gable  exterior2nd_Wd Sdng  bldgtype_Twnhs  \\\n",
       "count     2716.000  ...         2716.000             2716.000        2716.000   \n",
       "mean         0.522  ...            0.786                0.180           0.041   \n",
       "std          0.500  ...            0.410                0.384           0.197   \n",
       "min          0.000  ...            0.000                0.000           0.000   \n",
       "25%          0.000  ...            1.000                0.000           0.000   \n",
       "50%          1.000  ...            1.000                0.000           0.000   \n",
       "75%          1.000  ...            1.000                0.000           0.000   \n",
       "max          1.000  ...            1.000                1.000           1.000   \n",
       "\n",
       "       salecondition_Normal  neighborhood_IDOTRR  electrical_FuseF  \\\n",
       "count              2716.000             2716.000          2716.000   \n",
       "mean                  0.837                0.029             0.035   \n",
       "std                   0.369                0.167             0.183   \n",
       "min                   0.000                0.000             0.000   \n",
       "25%                   1.000                0.000             0.000   \n",
       "50%                   1.000                0.000             0.000   \n",
       "75%                   1.000                0.000             0.000   \n",
       "max                   1.000                1.000             1.000   \n",
       "\n",
       "       kitchenqual_Fa  extercond_Fa  bsmtcond_Fa  garagequal_Fa  \n",
       "count        2716.000      2716.000     2716.000       2716.000  \n",
       "mean            0.030         0.033        0.046          0.045  \n",
       "std             0.170         0.179        0.210          0.206  \n",
       "min             0.000         0.000        0.000          0.000  \n",
       "25%             0.000         0.000        0.000          0.000  \n",
       "50%             0.000         0.000        0.000          0.000  \n",
       "75%             0.000         0.000        0.000          0.000  \n",
       "max             1.000         1.000        1.000          1.000  \n",
       "\n",
       "[8 rows x 60 columns]"
      ]
     },
     "execution_count": 21,
     "metadata": {},
     "output_type": "execute_result"
    }
   ],
   "source": [
    "X_train.describe()"
   ]
  },
  {
   "cell_type": "code",
   "execution_count": 22,
   "metadata": {},
   "outputs": [
    {
     "data": {
      "text/plain": [
       "count     2716.000\n",
       "mean    159297.736\n",
       "std      65780.428\n",
       "min      34900.000\n",
       "25%     119000.000\n",
       "50%     141000.000\n",
       "75%     181000.000\n",
       "max     745000.000\n",
       "Name: saleprice, dtype: float64"
      ]
     },
     "execution_count": 22,
     "metadata": {},
     "output_type": "execute_result"
    }
   ],
   "source": [
    "y_train.describe()"
   ]
  },
  {
   "cell_type": "markdown",
   "metadata": {},
   "source": [
    "### 4. Modeling 'saleprice' Using Unsupervised Learning Models"
   ]
  },
  {
   "cell_type": "markdown",
   "metadata": {},
   "source": [
    "_Random Forest_"
   ]
  },
  {
   "cell_type": "code",
   "execution_count": 23,
   "metadata": {},
   "outputs": [
    {
     "name": "stdout",
     "output_type": "stream",
     "text": [
      "- R-squared of the model in training set is: 0.9815092903150398\n",
      "--- Test Set Statistics ---\n",
      "- R-squared of the model in test set is: 0.8828646655872513\n",
      "- Mean absolute error of the prediction is: 8337.640868347338\n",
      "- Mean squared error of the prediction is: 481338877.3571887\n",
      "- Root mean squared error of the prediction is: 21939.436577934008\n",
      "- Mean absolute percentage error of the prediction is: 4.985767137059344\n",
      "- Crosss validation scores: [0.83591853 0.92822427 0.88788071 0.91035806 0.91240212]\n"
     ]
    }
   ],
   "source": [
    "rfc = ensemble.RandomForestRegressor()\n",
    "results = rfc.fit(X_train, y_train)\n",
    "\n",
    "# Make predictions here.\n",
    "y_preds_train = rfc.predict(X_train)\n",
    "y_preds_test = rfc.predict(X_test)\n",
    "\n",
    "print('- R-squared of the model in training set is: {}'.format(rfc.score(X_train, y_train)))\n",
    "print('--- Test Set Statistics ---')\n",
    "print('- R-squared of the model in test set is: {}'.format(rfc.score(X_test, y_test)))\n",
    "print('- Mean absolute error of the prediction is: {}'.format(mean_absolute_error(y_test, y_preds_test)))\n",
    "print('- Mean squared error of the prediction is: {}'.format(mse(y_test, y_preds_test)))\n",
    "print('- Root mean squared error of the prediction is: {}'.format(rmse(y_test, y_preds_test)))\n",
    "print('- Mean absolute percentage error of the prediction is: {}'.format(np.mean(np.abs((y_test - y_preds_test)\n",
    "        / y_test)) * 100))\n",
    "print('- Crosss validation scores:', cross_val_score(rfc, X_train, y_train, cv=5))"
   ]
  },
  {
   "cell_type": "markdown",
   "metadata": {},
   "source": [
    "_Neural Networks_"
   ]
  },
  {
   "cell_type": "code",
   "execution_count": 25,
   "metadata": {},
   "outputs": [
    {
     "data": {
      "text/plain": [
       "array([0.01666667, 0.02200825, 0.05140962, 0.03036053, 0.03485839])"
      ]
     },
     "execution_count": 25,
     "metadata": {},
     "output_type": "execute_result"
    }
   ],
   "source": [
    "# Import the model.\n",
    "from sklearn.neural_network import MLPClassifier\n",
    "\n",
    "# Establish and fit the model, with a single, 1 perceptron layer.\n",
    "mlp = MLPClassifier(hidden_layer_sizes=(1,))\n",
    "mlp.fit(X, Y)\n",
    "\n",
    "from sklearn.model_selection import cross_val_score\n",
    "cross_val_score(mlp, X, Y, cv=5)"
   ]
  },
  {
   "cell_type": "code",
   "execution_count": 26,
   "metadata": {},
   "outputs": [
    {
     "data": {
      "text/plain": [
       "array([0.03055556, 0.0261348 , 0.026534  , 0.04364326, 0.03703704])"
      ]
     },
     "execution_count": 26,
     "metadata": {},
     "output_type": "execute_result"
    }
   ],
   "source": [
    "mlp = MLPClassifier(hidden_layer_sizes=(2,))\n",
    "mlp.fit(X, Y)\n",
    "\n",
    "cross_val_score(mlp, X, Y, cv=5)"
   ]
  },
  {
   "cell_type": "code",
   "execution_count": 27,
   "metadata": {},
   "outputs": [
    {
     "data": {
      "text/plain": [
       "array([0.01481481, 0.03026135, 0.04477612, 0.0455408 , 0.03485839])"
      ]
     },
     "execution_count": 27,
     "metadata": {},
     "output_type": "execute_result"
    }
   ],
   "source": [
    "mlp = MLPClassifier(hidden_layer_sizes=(5,))\n",
    "mlp.fit(X, Y)\n",
    "\n",
    "cross_val_score(mlp, X, Y, cv=5)"
   ]
  },
  {
   "cell_type": "code",
   "execution_count": 28,
   "metadata": {},
   "outputs": [
    {
     "data": {
      "text/plain": [
       "array([0.03611111, 0.17469051, 0.11111111, 0.09867173, 0.11546841])"
      ]
     },
     "execution_count": 28,
     "metadata": {},
     "output_type": "execute_result"
    }
   ],
   "source": [
    "mlp = MLPClassifier(hidden_layer_sizes=(10,))\n",
    "mlp.fit(X, Y)\n",
    "\n",
    "cross_val_score(mlp, X, Y, cv=5)"
   ]
  },
  {
   "cell_type": "code",
   "execution_count": 29,
   "metadata": {},
   "outputs": [
    {
     "data": {
      "text/plain": [
       "array([0.36296296, 0.34525447, 0.33001658, 0.36242884, 0.18082789])"
      ]
     },
     "execution_count": 29,
     "metadata": {},
     "output_type": "execute_result"
    }
   ],
   "source": [
    "mlp = MLPClassifier(hidden_layer_sizes=(100,))\n",
    "mlp.fit(X, Y)\n",
    "\n",
    "cross_val_score(mlp, X, Y, cv=5)"
   ]
  },
  {
   "cell_type": "code",
   "execution_count": 30,
   "metadata": {},
   "outputs": [
    {
     "data": {
      "text/plain": [
       "array([0.3037037 , 0.73590096, 0.74792703, 0.59962049, 0.26797386])"
      ]
     },
     "execution_count": 30,
     "metadata": {},
     "output_type": "execute_result"
    }
   ],
   "source": [
    "# Establish and fit the model, with a single, 1000 perceptron layer.\n",
    "mlp = MLPClassifier(hidden_layer_sizes=(1000,))\n",
    "mlp.fit(X, Y)\n",
    "\n",
    "cross_val_score(mlp, X, Y, cv=5)"
   ]
  },
  {
   "cell_type": "code",
   "execution_count": null,
   "metadata": {},
   "outputs": [],
   "source": []
  }
 ],
 "metadata": {
  "kernelspec": {
   "display_name": "Python 3",
   "language": "python",
   "name": "python3"
  },
  "language_info": {
   "codemirror_mode": {
    "name": "ipython",
    "version": 3
   },
   "file_extension": ".py",
   "mimetype": "text/x-python",
   "name": "python",
   "nbconvert_exporter": "python",
   "pygments_lexer": "ipython3",
   "version": "3.7.4"
  }
 },
 "nbformat": 4,
 "nbformat_minor": 2
}
