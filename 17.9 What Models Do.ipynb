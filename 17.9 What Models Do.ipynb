{
 "cells": [
  {
   "cell_type": "markdown",
   "metadata": {},
   "source": [
    "### Assignment\n",
    "\n",
    "To complete this assignment, submit a link to a Jupyter notebook containing your solutions to the following tasks:\n",
    "\n",
    "1. Try to model the result of a coin toss. In your model, include any features that you think important in explaining the result. Discuss with your mentor about the pros and cons of adding too many features into your model.\n",
    "2. If you've ever used Netflix, you should already have realized that it provides some recommendations for you to watch. In data science, this is an example of the so-called recommendations systems. Read this nontechnical blog post of __[Netflix](https://help.netflix.com/en/node/100639)__ about how they model their recommendations systems. Then, derive the features they use in their recommendations engines and discuss what else can be incorporated into this model."
   ]
  },
  {
   "cell_type": "markdown",
   "metadata": {},
   "source": [
    "### 1. Try to model the result of a coin toss. In your model, include any features that you think important in explaining the result. Discuss with your mentor about the pros and cons of adding too many features into your model."
   ]
  },
  {
   "cell_type": "markdown",
   "metadata": {},
   "source": [
    "Here are factors to include in the model:\n",
    "\n",
    "1. The coin's weight. \n",
    "2. The amount of forced used to flip the coin. \n",
    "3. How far the coin travels before it lands.\n",
    "4. If a person or robot will be flipping the coin. \n",
    "5. If it's heads or tails side-up before it's flipped."
   ]
  },
  {
   "cell_type": "markdown",
   "metadata": {},
   "source": [
    "### 2. If you've ever used Netflix, you should already have realized that it provides some recommendations for you to watch. In data science, this is an example of the so-called recommendations systems. Read this nontechnical blog post of __[Netflix](https://help.netflix.com/en/node/100639)__ about how they model their recommendations systems. Then, derive the features they use in their recommendations engines and discuss what else can be incorporated into this model."
   ]
  },
  {
   "cell_type": "markdown",
   "metadata": {},
   "source": [
    "Netflix uses these features in their recommendations engine: \n",
    "\n",
    "1. Your interactions with our service (such as your viewing history and how you rated other titles).\n",
    "2. Other members with similar tastes and preferences on our service (more info here).\n",
    "3. Information about the titles, such as their genre, categories, actors, release year, etc.\n",
    "4. The time of day you watch.\n",
    "5. Tthe devices you are watching Netflix on.\n",
    "6. How long you watch.\n",
    "\n",
    "The article didn't say if Netflix thinks about features like age, so they could add that to their model because certain age groups may be drawn to similar titles. Likewise, different geographic areas may prefer certain shows over others."
   ]
  },
  {
   "cell_type": "code",
   "execution_count": null,
   "metadata": {},
   "outputs": [],
   "source": []
  }
 ],
 "metadata": {
  "kernelspec": {
   "display_name": "Python 3",
   "language": "python",
   "name": "python3"
  },
  "language_info": {
   "codemirror_mode": {
    "name": "ipython",
    "version": 3
   },
   "file_extension": ".py",
   "mimetype": "text/x-python",
   "name": "python",
   "nbconvert_exporter": "python",
   "pygments_lexer": "ipython3",
   "version": "3.7.3"
  }
 },
 "nbformat": 4,
 "nbformat_minor": 2
}
