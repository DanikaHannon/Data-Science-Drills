﻿{
 "cells": [
  {
   "cell_type": "markdown",
   "metadata": {},
   "source": [
    "## Assignment\n",
    "\n",
    "In this assignment, you'll continue working with the __[U.S. Education Dataset](https://www.kaggle.com/noriuk/us-education-datasets-unification-project/home)__ from Kaggle. The data gives detailed state level information on several facets of education on an annual basis. To learn more about the data and the column descriptions, you can view the Kaggle link above.\n",
    "\n",
    "Access this data using the Thinkful database using these credentials:\n",
    "\n",
    "- postgres_user = 'dsbc_student'\n",
    "- postgres_pw = '7*.8G9QH21'\n",
    "- postgres_host = '142.93.121.174'\n",
    "- postgres_port = '5432'\n",
    "- postgres_db = 'useducation'\n",
    "\n",
    "**Don't forget to apply the most suitable missing value filling techniques from the previous checkpoint to the data.** Provide the answers to the following only after you've addressed missing values!\n",
    "\n",
    "To complete this assignment, submit a link to a Jupyter notebook containing your solutions to the following tasks:\n",
    "\n",
    "1. Consider the two variables: TOTAL_REVENUE and TOTAL_EXPENDITURE. Do these variables have outlier values?\n",
    "2.  If you detect outliers in the TOTAL_REVENUE and TOTAL_EXPENDITURE variables, apply the techniques you learned in this checkpoint to eliminate them and validate that there's no outlier values after you handled them.\n",
    "3.  Create another variable by subtracting the original TOTAL_EXPENDITURE from TOTAL_REVENUE (before you eliminated the outliers). You can think of it as a kind of budget deficit in education. Do you find any outlier values in this new variable? If so, eliminate them using the technique you think most suitable.\n",
    "4. Now create another variable by subtracting the TOTAL_EXPENDITURE from TOTAL_REVENUE. This time, use the outlier eliminated versions of TOTAL_EXPENDITURE from TOTAL_REVENUE. In this newly created variable, can you find any outliers? If so, eliminate them.\n",
    "5. Compare some basic descriptive statistics of the budget variables you end up with in the 3rd and the 4th questions. Do you see any differences?\n",
    "6. If our variable of interest is the budget deficit variable, which method do you think is the appropriate in dealing with the outliers in this variable: the method in the 3rd question or the one in the 4th question?"
   ]
  },
  {
   "cell_type": "markdown",
   "metadata": {},
   "source": [
    "### Import Statements"
   ]
  },
  {
   "cell_type": "code",
   "execution_count": 2,
   "metadata": {},
   "outputs": [],
   "source": [
    "import matplotlib.pyplot as plt\n",
    "import numpy as np\n",
    "import pandas as pd\n",
    "from sqlalchemy import create_engine\n",
    "from scipy.stats import zscore\n",
    "from scipy.stats.mstats import winsorize\n",
    "import warnings\n",
    "\n",
    "warnings.filterwarnings('ignore')"
   ]
  },
  {
   "cell_type": "markdown",
   "metadata": {},
   "source": [
    "### Dataframe"
   ]
  },
  {
   "cell_type": "code",
   "execution_count": 3,
   "metadata": {},
   "outputs": [
    {
     "data": {
      "text/html": [
       "<div>\n",
       "<style scoped>\n",
       "    .dataframe tbody tr th:only-of-type {\n",
       "        vertical-align: middle;\n",
       "    }\n",
       "\n",
       "    .dataframe tbody tr th {\n",
       "        vertical-align: top;\n",
       "    }\n",
       "\n",
       "    .dataframe thead th {\n",
       "        text-align: right;\n",
       "    }\n",
       "</style>\n",
       "<table border=\"1\" class=\"dataframe\">\n",
       "  <thead>\n",
       "    <tr style=\"text-align: right;\">\n",
       "      <th></th>\n",
       "      <th>PRIMARY_KEY</th>\n",
       "      <th>STATE</th>\n",
       "      <th>YEAR</th>\n",
       "      <th>ENROLL</th>\n",
       "      <th>TOTAL_REVENUE</th>\n",
       "      <th>FEDERAL_REVENUE</th>\n",
       "      <th>STATE_REVENUE</th>\n",
       "      <th>LOCAL_REVENUE</th>\n",
       "      <th>TOTAL_EXPENDITURE</th>\n",
       "      <th>INSTRUCTION_EXPENDITURE</th>\n",
       "      <th>...</th>\n",
       "      <th>GRADES_4_G</th>\n",
       "      <th>GRADES_8_G</th>\n",
       "      <th>GRADES_12_G</th>\n",
       "      <th>GRADES_1_8_G</th>\n",
       "      <th>GRADES_9_12_G</th>\n",
       "      <th>GRADES_ALL_G</th>\n",
       "      <th>AVG_MATH_4_SCORE</th>\n",
       "      <th>AVG_MATH_8_SCORE</th>\n",
       "      <th>AVG_READING_4_SCORE</th>\n",
       "      <th>AVG_READING_8_SCORE</th>\n",
       "    </tr>\n",
       "  </thead>\n",
       "  <tbody>\n",
       "    <tr>\n",
       "      <th>0</th>\n",
       "      <td>1992_ALABAMA</td>\n",
       "      <td>ALABAMA</td>\n",
       "      <td>1992</td>\n",
       "      <td>NaN</td>\n",
       "      <td>2678885.0</td>\n",
       "      <td>304177.0</td>\n",
       "      <td>1659028.0</td>\n",
       "      <td>715680.0</td>\n",
       "      <td>2653798.0</td>\n",
       "      <td>1481703.0</td>\n",
       "      <td>...</td>\n",
       "      <td>57948.0</td>\n",
       "      <td>58025.0</td>\n",
       "      <td>41167.0</td>\n",
       "      <td>471564.0</td>\n",
       "      <td>196386.0</td>\n",
       "      <td>676174.0</td>\n",
       "      <td>208.327876</td>\n",
       "      <td>252.187522</td>\n",
       "      <td>207.963517</td>\n",
       "      <td>NaN</td>\n",
       "    </tr>\n",
       "    <tr>\n",
       "      <th>1</th>\n",
       "      <td>1992_ALASKA</td>\n",
       "      <td>ALASKA</td>\n",
       "      <td>1992</td>\n",
       "      <td>NaN</td>\n",
       "      <td>1049591.0</td>\n",
       "      <td>106780.0</td>\n",
       "      <td>720711.0</td>\n",
       "      <td>222100.0</td>\n",
       "      <td>972488.0</td>\n",
       "      <td>498362.0</td>\n",
       "      <td>...</td>\n",
       "      <td>9748.0</td>\n",
       "      <td>8789.0</td>\n",
       "      <td>6714.0</td>\n",
       "      <td>79117.0</td>\n",
       "      <td>30847.0</td>\n",
       "      <td>112335.0</td>\n",
       "      <td>NaN</td>\n",
       "      <td>NaN</td>\n",
       "      <td>NaN</td>\n",
       "      <td>258.859712</td>\n",
       "    </tr>\n",
       "    <tr>\n",
       "      <th>2</th>\n",
       "      <td>1992_ARIZONA</td>\n",
       "      <td>ARIZONA</td>\n",
       "      <td>1992</td>\n",
       "      <td>NaN</td>\n",
       "      <td>3258079.0</td>\n",
       "      <td>297888.0</td>\n",
       "      <td>1369815.0</td>\n",
       "      <td>1590376.0</td>\n",
       "      <td>3401580.0</td>\n",
       "      <td>1435908.0</td>\n",
       "      <td>...</td>\n",
       "      <td>55433.0</td>\n",
       "      <td>49081.0</td>\n",
       "      <td>37410.0</td>\n",
       "      <td>437127.0</td>\n",
       "      <td>175210.0</td>\n",
       "      <td>614881.0</td>\n",
       "      <td>215.253932</td>\n",
       "      <td>265.366278</td>\n",
       "      <td>206.212716</td>\n",
       "      <td>262.169895</td>\n",
       "    </tr>\n",
       "    <tr>\n",
       "      <th>3</th>\n",
       "      <td>1992_ARKANSAS</td>\n",
       "      <td>ARKANSAS</td>\n",
       "      <td>1992</td>\n",
       "      <td>NaN</td>\n",
       "      <td>1711959.0</td>\n",
       "      <td>178571.0</td>\n",
       "      <td>958785.0</td>\n",
       "      <td>574603.0</td>\n",
       "      <td>1743022.0</td>\n",
       "      <td>964323.0</td>\n",
       "      <td>...</td>\n",
       "      <td>34632.0</td>\n",
       "      <td>36011.0</td>\n",
       "      <td>27651.0</td>\n",
       "      <td>281338.0</td>\n",
       "      <td>123113.0</td>\n",
       "      <td>405259.0</td>\n",
       "      <td>210.206028</td>\n",
       "      <td>256.312090</td>\n",
       "      <td>208.634458</td>\n",
       "      <td>264.619665</td>\n",
       "    </tr>\n",
       "    <tr>\n",
       "      <th>4</th>\n",
       "      <td>1992_CALIFORNIA</td>\n",
       "      <td>CALIFORNIA</td>\n",
       "      <td>1992</td>\n",
       "      <td>NaN</td>\n",
       "      <td>26260025.0</td>\n",
       "      <td>2072470.0</td>\n",
       "      <td>16546514.0</td>\n",
       "      <td>7641041.0</td>\n",
       "      <td>27138832.0</td>\n",
       "      <td>14358922.0</td>\n",
       "      <td>...</td>\n",
       "      <td>418418.0</td>\n",
       "      <td>363296.0</td>\n",
       "      <td>270675.0</td>\n",
       "      <td>3286034.0</td>\n",
       "      <td>1372011.0</td>\n",
       "      <td>4717112.0</td>\n",
       "      <td>208.398961</td>\n",
       "      <td>260.892247</td>\n",
       "      <td>196.764414</td>\n",
       "      <td>NaN</td>\n",
       "    </tr>\n",
       "  </tbody>\n",
       "</table>\n",
       "<p>5 rows × 25 columns</p>\n",
       "</div>"
      ],
      "text/plain": [
       "       PRIMARY_KEY       STATE  YEAR  ENROLL  TOTAL_REVENUE  FEDERAL_REVENUE  \\\n",
       "0     1992_ALABAMA     ALABAMA  1992     NaN      2678885.0         304177.0   \n",
       "1      1992_ALASKA      ALASKA  1992     NaN      1049591.0         106780.0   \n",
       "2     1992_ARIZONA     ARIZONA  1992     NaN      3258079.0         297888.0   \n",
       "3    1992_ARKANSAS    ARKANSAS  1992     NaN      1711959.0         178571.0   \n",
       "4  1992_CALIFORNIA  CALIFORNIA  1992     NaN     26260025.0        2072470.0   \n",
       "\n",
       "   STATE_REVENUE  LOCAL_REVENUE  TOTAL_EXPENDITURE  INSTRUCTION_EXPENDITURE  \\\n",
       "0      1659028.0       715680.0          2653798.0                1481703.0   \n",
       "1       720711.0       222100.0           972488.0                 498362.0   \n",
       "2      1369815.0      1590376.0          3401580.0                1435908.0   \n",
       "3       958785.0       574603.0          1743022.0                 964323.0   \n",
       "4     16546514.0      7641041.0         27138832.0               14358922.0   \n",
       "\n",
       "   ...  GRADES_4_G  GRADES_8_G  GRADES_12_G  GRADES_1_8_G  GRADES_9_12_G  \\\n",
       "0  ...     57948.0     58025.0      41167.0      471564.0       196386.0   \n",
       "1  ...      9748.0      8789.0       6714.0       79117.0        30847.0   \n",
       "2  ...     55433.0     49081.0      37410.0      437127.0       175210.0   \n",
       "3  ...     34632.0     36011.0      27651.0      281338.0       123113.0   \n",
       "4  ...    418418.0    363296.0     270675.0     3286034.0      1372011.0   \n",
       "\n",
       "   GRADES_ALL_G  AVG_MATH_4_SCORE  AVG_MATH_8_SCORE  AVG_READING_4_SCORE  \\\n",
       "0      676174.0        208.327876        252.187522           207.963517   \n",
       "1      112335.0               NaN               NaN                  NaN   \n",
       "2      614881.0        215.253932        265.366278           206.212716   \n",
       "3      405259.0        210.206028        256.312090           208.634458   \n",
       "4     4717112.0        208.398961        260.892247           196.764414   \n",
       "\n",
       "   AVG_READING_8_SCORE  \n",
       "0                  NaN  \n",
       "1           258.859712  \n",
       "2           262.169895  \n",
       "3           264.619665  \n",
       "4                  NaN  \n",
       "\n",
       "[5 rows x 25 columns]"
      ]
     },
     "execution_count": 3,
     "metadata": {},
     "output_type": "execute_result"
    }
   ],
   "source": [
    "postgres_user = 'dsbc_student'\n",
    "postgres_pw = '7*.8G9QH21'\n",
    "postgres_host = '142.93.121.174'\n",
    "postgres_port = '5432'\n",
    "postgres_db = 'useducation'\n",
    "\n",
    "engine = create_engine('postgresql://{}:{}@{}:{}/{}'.format(\n",
    "    postgres_user, postgres_pw, postgres_host, postgres_port, postgres_db))\n",
    "\n",
    "education_df = pd.read_sql_query('select * from useducation',con=engine)\n",
    "\n",
    "engine.dispose()\n",
    "\n",
    "education_df.head()"
   ]
  },
  {
   "cell_type": "markdown",
   "metadata": {},
   "source": [
    "### Clean Dataframe (No Missing Variables)"
   ]
  },
  {
   "cell_type": "code",
   "execution_count": 4,
   "metadata": {},
   "outputs": [
    {
     "data": {
      "text/plain": [
       "PRIMARY_KEY                      0.000000\n",
       "STATE                            0.000000\n",
       "YEAR                             0.000000\n",
       "ENROLL                           0.000000\n",
       "TOTAL_REVENUE                    0.000000\n",
       "FEDERAL_REVENUE                  0.000000\n",
       "STATE_REVENUE                    0.000000\n",
       "LOCAL_REVENUE                    0.000000\n",
       "TOTAL_EXPENDITURE                0.000000\n",
       "INSTRUCTION_EXPENDITURE          0.000000\n",
       "SUPPORT_SERVICES_EXPENDITURE     0.000000\n",
       "OTHER_EXPENDITURE                0.000000\n",
       "CAPITAL_OUTLAY_EXPENDITURE       0.000000\n",
       "GRADES_PK_G                      0.000000\n",
       "GRADES_KG_G                      0.000000\n",
       "GRADES_4_G                       0.000000\n",
       "GRADES_8_G                       0.000000\n",
       "GRADES_12_G                      0.000000\n",
       "GRADES_1_8_G                     0.000000\n",
       "GRADES_9_12_G                    0.000000\n",
       "GRADES_ALL_G                     0.000000\n",
       "AVG_MATH_4_SCORE                64.075067\n",
       "AVG_MATH_8_SCORE                64.343164\n",
       "AVG_READING_4_SCORE             64.276139\n",
       "AVG_READING_8_SCORE             66.621984\n",
       "dtype: float64"
      ]
     },
     "execution_count": 4,
     "metadata": {},
     "output_type": "execute_result"
    }
   ],
   "source": [
    "education_df_without_nan_values = education_df.copy()\n",
    "\n",
    "replace_nan_values_with_averages_list = ['ENROLL', 'TOTAL_REVENUE', 'FEDERAL_REVENUE', \n",
    "             'STATE_REVENUE', 'LOCAL_REVENUE', 'TOTAL_EXPENDITURE', \n",
    "             'INSTRUCTION_EXPENDITURE', 'SUPPORT_SERVICES_EXPENDITURE',\n",
    "             'OTHER_EXPENDITURE', 'CAPITAL_OUTLAY_EXPENDITURE', 'GRADES_PK_G', \n",
    "             'GRADES_KG_G', 'GRADES_4_G', 'GRADES_8_G', 'GRADES_12_G', 'GRADES_1_8_G', \n",
    "             'GRADES_9_12_G', 'GRADES_ALL_G']\n",
    " \n",
    "for col in replace_nan_values_with_averages_list:\n",
    "    education_df_without_nan_values.fillna(education_df_without_nan_values[\n",
    "        replace_nan_values_with_averages_list].mean(), inplace=True)\n",
    "    \n",
    "education_df_without_nan_values.isnull().sum()*100/education_df_without_nan_values.isnull().count()   "
   ]
  },
  {
   "cell_type": "markdown",
   "metadata": {},
   "source": [
    "### 1. Consider the two variables: TOTAL_REVENUE and TOTAL_EXPENDITURE. Do these variables have outlier values?"
   ]
  },
  {
   "cell_type": "markdown",
   "metadata": {},
   "source": [
    "_TOTAL__REVENUE_"
   ]
  },
  {
   "cell_type": "code",
   "execution_count": 7,
   "metadata": {},
   "outputs": [
    {
     "data": {
      "image/png": "[encoded data removed]",
      "text/plain": [
       "<Figure size 432x288 with 1 Axes>"
      ]
     },
     "metadata": {
      "needs_background": "light"
     },
     "output_type": "display_data"
    }
   ],
   "source": [
    "# Tip: if you've got two sets of code, one that works and another that doesnt, see what's different \n",
    "# between the working and non-working examples.\n",
    "\n",
    "plt.boxplot(education_df_without_nan_values['TOTAL_REVENUE'])\n",
    "plt.title('Boxplot of Total Revenue Values')\n",
    "plt.show()"
   ]
  },
  {
   "cell_type": "code",
   "execution_count": 8,
   "metadata": {},
   "outputs": [
    {
     "data": {
      "image/png": "[encoded data removed]",
      "text/plain": [
       "<Figure size 432x288 with 1 Axes>"
      ]
     },
     "metadata": {
      "needs_background": "light"
     },
     "output_type": "display_data"
    }
   ],
   "source": [
    "plt.hist(education_df_without_nan_values['TOTAL_REVENUE'])\n",
    "plt.title('Histogram of Total Revenue Values')\n",
    "plt.show()\n",
    "\n",
    "# Yes, the TOTAL_REVENUE column has outliers."
   ]
  },
  {
   "cell_type": "code",
   "execution_count": 9,
   "metadata": {},
   "outputs": [
    {
     "name": "stdout",
     "output_type": "stream",
     "text": [
      "The score threshold is 1.0\n",
      "Number of outliers is 1138\n",
      "The score threshold is 1.5\n",
      "Number of outliers is 1329\n",
      "The score threshold is 2.0\n",
      "Number of outliers is 1473\n",
      "The score threshold is 2.5\n",
      "Number of outliers is 1492\n",
      "The score threshold is 3.0\n",
      "Number of outliers is 1492\n",
      "The score threshold is 3.5\n",
      "Number of outliers is 1492\n",
      "The score threshold is 4.0\n",
      "Number of outliers is 1492\n",
      "The score threshold is 4.5\n",
      "Number of outliers is 1492\n"
     ]
    }
   ],
   "source": [
    "q75, q25 = np.percentile(np.log(education_df_without_nan_values['TOTAL_REVENUE']), [75, 25])\n",
    "iqr = q75 - q25\n",
    "\n",
    "for threshold in np.arange(1, 5, 0.5):\n",
    "    min_val = q25 - (iqr*threshold)\n",
    "    max_val = q75 - (iqr*threshold)\n",
    "    print('The score threshold is {}'.format(threshold))\n",
    "    print('Number of outliers is {}'.format(\n",
    "    len((np.where((np.log(education_df_without_nan_values['TOTAL_REVENUE']) > max_val)\n",
    "                 | (np.log(education_df_without_nan_values['TOTAL_REVENUE']) < min_val))[0]))))"
   ]
  },
  {
   "cell_type": "markdown",
   "metadata": {},
   "source": [
    "_TOTAL EXPENDITURE_"
   ]
  },
  {
   "cell_type": "code",
   "execution_count": 11,
   "metadata": {},
   "outputs": [
    {
     "data": {
      "image/png": "[encoded data removed]",
      "text/plain": [
       "<Figure size 432x288 with 1 Axes>"
      ]
     },
     "metadata": {
      "needs_background": "light"
     },
     "output_type": "display_data"
    }
   ],
   "source": [
    "plt.boxplot(education_df_without_nan_values['TOTAL_EXPENDITURE'])\n",
    "plt.title('Boxplot of Total Expenditure Values')\n",
    "plt.show()"
   ]
  },
  {
   "cell_type": "code",
   "execution_count": 12,
   "metadata": {},
   "outputs": [
    {
     "data": {
      "image/png": "[encoded data removed]",
      "text/plain": [
       "<Figure size 432x288 with 1 Axes>"
      ]
     },
     "metadata": {
      "needs_background": "light"
     },
     "output_type": "display_data"
    }
   ],
   "source": [
    "plt.hist(education_df_without_nan_values['TOTAL_REVENUE'])\n",
    "plt.title('Histogram of Total Revenue Values')\n",
    "plt.show()\n",
    "\n",
    "# Yes, TOTAL_REVENUE has outliers."
   ]
  },
  {
   "cell_type": "code",
   "execution_count": 13,
   "metadata": {},
   "outputs": [
    {
     "name": "stdout",
     "output_type": "stream",
     "text": [
      "The score threshold is 1.0\n",
      "Number of outliers is 1138\n",
      "The score threshold is 1.5\n",
      "Number of outliers is 1329\n",
      "The score threshold is 2.0\n",
      "Number of outliers is 1473\n",
      "The score threshold is 2.5\n",
      "Number of outliers is 1492\n",
      "The score threshold is 3.0\n",
      "Number of outliers is 1492\n",
      "The score threshold is 3.5\n",
      "Number of outliers is 1492\n",
      "The score threshold is 4.0\n",
      "Number of outliers is 1492\n",
      "The score threshold is 4.5\n",
      "Number of outliers is 1492\n"
     ]
    }
   ],
   "source": [
    "q75, q25 = np.percentile(np.log(education_df_without_nan_values['TOTAL_REVENUE']), [75, 25])\n",
    "iqr = q75 - q25\n",
    "\n",
    "for threshold in np.arange(1, 5, 0.5):\n",
    "    min_val = q25 - (iqr*threshold)\n",
    "    max_val = q75 - (iqr*threshold)\n",
    "    print('The score threshold is {}'.format(threshold))\n",
    "    print('Number of outliers is {}'.format(\n",
    "    len((np.where((np.log(education_df_without_nan_values['TOTAL_REVENUE']) > max_val)\n",
    "                 | (np.log(education_df_without_nan_values['TOTAL_REVENUE']) < min_val))[0]))))"
   ]
  },
  {
   "cell_type": "code",
   "execution_count": 14,
   "metadata": {},
   "outputs": [
    {
     "name": "stdout",
     "output_type": "stream",
     "text": [
      "The score threshold is 1\n",
      "The indicies of the outliers:\n",
      "(array([   4,   32,   56,   85,   96,  108,  137,  150,  161,  190,  201,\n",
      "        213,  241,  252,  264,  292,  304,  316,  344,  355,  367,  396,\n",
      "        407,  420,  449,  460,  472,  481,  501,  512,  524,  552,  564,\n",
      "        576,  605,  616,  628,  633,  637,  654,  656,  662,  668,  680,\n",
      "        685,  689,  706,  708,  714,  719,  731,  737,  741,  758,  760,\n",
      "        763,  766,  771,  784,  789,  793,  802,  811,  813,  816,  819,\n",
      "        824,  836,  842,  846,  855,  863,  865,  868,  871,  876,  891,\n",
      "        897,  901,  919,  921,  924,  927,  932,  944,  950,  954,  971,\n",
      "        973,  976,  979,  984,  997, 1002, 1006, 1023, 1025, 1028, 1031,\n",
      "       1036, 1048, 1053, 1057, 1075, 1077, 1080, 1083, 1088, 1101, 1106,\n",
      "       1110, 1127, 1129, 1132, 1135, 1140, 1152, 1157, 1161, 1178, 1180,\n",
      "       1183, 1186, 1191, 1203, 1208, 1212, 1229, 1231, 1234, 1237, 1242,\n",
      "       1254, 1259, 1263, 1280, 1282, 1285], dtype=int32),)\n"
     ]
    },
    {
     "ename": "TypeError",
     "evalue": "'int' object is not subscriptable",
     "output_type": "error",
     "traceback": [
      "\u001b[1;31m---------------------------------------------------------------------------\u001b[0m",
      "\u001b[1;31mTypeError\u001b[0m                                 Traceback (most recent call last)",
      "\u001b[1;32m<ipython-input-14-a0d5d75ea370>\u001b[0m in \u001b[0;36m<module>\u001b[1;34m\u001b[0m\n\u001b[0;32m      5\u001b[0m     \u001b[0mprint\u001b[0m\u001b[1;33m(\u001b[0m\u001b[1;34m'The indicies of the outliers:'\u001b[0m\u001b[1;33m)\u001b[0m\u001b[1;33m\u001b[0m\u001b[1;33m\u001b[0m\u001b[0m\n\u001b[0;32m      6\u001b[0m     \u001b[0mprint\u001b[0m\u001b[1;33m(\u001b[0m\u001b[0mnp\u001b[0m\u001b[1;33m.\u001b[0m\u001b[0mwhere\u001b[0m\u001b[1;33m(\u001b[0m\u001b[0mz_scores\u001b[0m \u001b[1;33m>\u001b[0m \u001b[0mthreshold\u001b[0m\u001b[1;33m)\u001b[0m\u001b[1;33m)\u001b[0m\u001b[1;33m\u001b[0m\u001b[1;33m\u001b[0m\u001b[0m\n\u001b[1;32m----> 7\u001b[1;33m     \u001b[0mprint\u001b[0m\u001b[1;33m(\u001b[0m\u001b[1;34m'Number of outliers is: {}'\u001b[0m\u001b[1;33m.\u001b[0m\u001b[0mformat\u001b[0m\u001b[1;33m(\u001b[0m\u001b[0mlen\u001b[0m\u001b[1;33m(\u001b[0m\u001b[1;33m(\u001b[0m\u001b[0mnp\u001b[0m\u001b[1;33m.\u001b[0m\u001b[0mwhere\u001b[0m\u001b[1;33m(\u001b[0m\u001b[0mz_scores\u001b[0m \u001b[1;33m>\u001b[0m \u001b[0mthreshold\u001b[0m\u001b[1;33m[\u001b[0m\u001b[1;36m0\u001b[0m\u001b[1;33m]\u001b[0m\u001b[1;33m)\u001b[0m\u001b[1;33m)\u001b[0m\u001b[1;33m)\u001b[0m\u001b[1;33m)\u001b[0m\u001b[1;33m)\u001b[0m\u001b[1;33m\u001b[0m\u001b[1;33m\u001b[0m\u001b[0m\n\u001b[0m",
      "\u001b[1;31mTypeError\u001b[0m: 'int' object is not subscriptable"
     ]
    }
   ],
   "source": [
    "z_scores = zscore(education_df_without_nan_values['TOTAL_REVENUE'])\n",
    "\n",
    "for threshold in range(1, 5):\n",
    "    print('The score threshold is {}'.format(threshold))\n",
    "    print('The indicies of the outliers:')\n",
    "    print(np.where(z_scores > threshold))\n",
    "    print('Number of outliers is: {}'.format(len((np.where(z_scores > threshold[0])))))"
   ]
  },
  {
   "cell_type": "markdown",
   "metadata": {},
   "source": [
    "### 2. If you detect outliers in the TOTAL_REVENUE and TOTAL_EXPENDITURE variables, apply the techniques you learned in this checkpoint to eliminate the outliers and validate that there's no outlier values after you handled them."
   ]
  },
  {
   "cell_type": "markdown",
   "metadata": {},
   "source": [
    "_TOTAL REVENUE_"
   ]
  },
  {
   "cell_type": "code",
   "execution_count": 15,
   "metadata": {},
   "outputs": [
    {
     "data": {
      "image/png": "[encoded data removed]",
      "text/plain": [
       "<Figure size 432x288 with 1 Axes>"
      ]
     },
     "metadata": {
      "needs_background": "light"
     },
     "output_type": "display_data"
    }
   ],
   "source": [
    "winsorized_views = winsorize(education_df_without_nan_values['TOTAL_REVENUE'], (0, 0.10))\n",
    "plt.boxplot(winsorized_views)\n",
    "plt.title('Boxplot of Winsorized Total Revenue Values')\n",
    "plt.show()"
   ]
  },
  {
   "cell_type": "code",
   "execution_count": 16,
   "metadata": {},
   "outputs": [
    {
     "data": {
      "image/png": "[encoded data removed]",
      "text/plain": [
       "<Figure size 432x288 with 2 Axes>"
      ]
     },
     "metadata": {
      "needs_background": "light"
     },
     "output_type": "display_data"
    }
   ],
   "source": [
    "plt.subplot(1, 2, 1)\n",
    "plt.hist(education_df_without_nan_values['TOTAL_REVENUE'])\n",
    "plt.title('Total Revenue Values')\n",
    "\n",
    "plt.subplot(1, 2, 2)\n",
    "plt.hist(np.log(education_df_without_nan_values['TOTAL_REVENUE']))\n",
    "plt.title('Log Transformed Total Revenue Values')\n",
    "\n",
    "plt.tight_layout()\n",
    "plt.show()"
   ]
  },
  {
   "cell_type": "code",
   "execution_count": 17,
   "metadata": {},
   "outputs": [
    {
     "name": "stdout",
     "output_type": "stream",
     "text": [
      "The score threshold is 1.0\n",
      "Number of outliers is 1138\n",
      "The score threshold is 1.5\n",
      "Number of outliers is 1329\n",
      "The score threshold is 2.0\n",
      "Number of outliers is 1473\n",
      "The score threshold is 2.5\n",
      "Number of outliers is 1492\n",
      "The score threshold is 3.0\n",
      "Number of outliers is 1492\n",
      "The score threshold is 3.5\n",
      "Number of outliers is 1492\n",
      "The score threshold is 4.0\n",
      "Number of outliers is 1492\n",
      "The score threshold is 4.5\n",
      "Number of outliers is 1492\n"
     ]
    }
   ],
   "source": [
    "q75, q25 = np.percentile(np.log(education_df_without_nan_values['TOTAL_REVENUE']), [75, 25])\n",
    "iqr = q75 - q25\n",
    "\n",
    "for threshold in np.arange(1, 5, 0.5):\n",
    "    min_val = q25 - (iqr*threshold)\n",
    "    max_val = q75 - (iqr*threshold)\n",
    "    print('The score threshold is {}'.format(threshold))\n",
    "    print('Number of outliers is {}'.format(\n",
    "    len((np.where((np.log(education_df_without_nan_values['TOTAL_REVENUE']) > max_val)\n",
    "                 | (np.log(education_df_without_nan_values['TOTAL_REVENUE']) < min_val))[0]))))"
   ]
  },
  {
   "cell_type": "markdown",
   "metadata": {},
   "source": [
    "_TOTAL__EXPENDITURE_"
   ]
  },
  {
   "cell_type": "code",
   "execution_count": 18,
   "metadata": {},
   "outputs": [
    {
     "data": {
      "image/png": "[encoded data removed]",
      "text/plain": [
       "<Figure size 432x288 with 1 Axes>"
      ]
     },
     "metadata": {
      "needs_background": "light"
     },
     "output_type": "display_data"
    }
   ],
   "source": [
    "winsorized_views = winsorize(education_df_without_nan_values['TOTAL_EXPENDITURE'], (0, 0.10))\n",
    "plt.boxplot(winsorized_views)\n",
    "plt.title('Boxplot of Winsorized Total Revenue Values')\n",
    "plt.show()"
   ]
  },
  {
   "cell_type": "code",
   "execution_count": 19,
   "metadata": {},
   "outputs": [
    {
     "data": {
      "image/png": "[encoded data removed]",
      "text/plain": [
       "<Figure size 432x288 with 2 Axes>"
      ]
     },
     "metadata": {
      "needs_background": "light"
     },
     "output_type": "display_data"
    }
   ],
   "source": [
    "plt.subplot(1, 2, 1)\n",
    "plt.hist(education_df_without_nan_values['TOTAL_EXPENDITURE'])\n",
    "plt.title('Expenditure Values')\n",
    "\n",
    "plt.subplot(1, 2, 2)\n",
    "plt.hist(np.log(education_df_without_nan_values['TOTAL_EXPENDITURE']))\n",
    "plt.title('Log Transformed Expenditure Values')\n",
    "\n",
    "plt.tight_layout()\n",
    "plt.show()"
   ]
  },
  {
   "cell_type": "code",
   "execution_count": 20,
   "metadata": {},
   "outputs": [
    {
     "name": "stdout",
     "output_type": "stream",
     "text": [
      "The score threshold is 1.0\n",
      "Number of outliers is 1132\n",
      "The score threshold is 1.5\n",
      "Number of outliers is 1340\n",
      "The score threshold is 2.0\n",
      "Number of outliers is 1479\n",
      "The score threshold is 2.5\n",
      "Number of outliers is 1492\n",
      "The score threshold is 3.0\n",
      "Number of outliers is 1492\n",
      "The score threshold is 3.5\n",
      "Number of outliers is 1492\n",
      "The score threshold is 4.0\n",
      "Number of outliers is 1492\n",
      "The score threshold is 4.5\n",
      "Number of outliers is 1492\n"
     ]
    }
   ],
   "source": [
    "q75, q25 = np.percentile(np.log(education_df_without_nan_values['TOTAL_EXPENDITURE']), [75, 25])\n",
    "iqr = q75 - q25\n",
    "\n",
    "for threshold in np.arange(1, 5, 0.5):\n",
    "    min_val = q25 - (iqr*threshold)\n",
    "    max_val = q75 - (iqr*threshold)\n",
    "    print('The score threshold is {}'.format(threshold))\n",
    "    print('Number of outliers is {}'.format(\n",
    "    len((np.where((np.log(education_df_without_nan_values['TOTAL_EXPENDITURE']) > max_val)\n",
    "                 | (np.log(education_df_without_nan_values['TOTAL_EXPENDITURE']) < min_val))[0]))))"
   ]
  },
  {
   "cell_type": "markdown",
   "metadata": {},
   "source": [
    "### 3. Create another variable by subtracting the original TOTAL_EXPENDITURE from TOTAL_REVENUE (before you eliminated the outliers). You can think of it as a kind of budget deficit in education. Do you find any outlier values in this new variable? If so, eliminate them using the technique you think most suitable."
   ]
  },
  {
   "cell_type": "code",
   "execution_count": 21,
   "metadata": {},
   "outputs": [
    {
     "name": "stdout",
     "output_type": "stream",
     "text": [
      "0        25087.000000\n",
      "1        77103.000000\n",
      "2      -143501.000000\n",
      "3       -31063.000000\n",
      "4      -878807.000000\n",
      "5       -79653.000000\n",
      "6       112964.000000\n",
      "7         6449.000000\n",
      "8       -33413.000000\n",
      "9       200657.000000\n",
      "10         959.000000\n",
      "11      -43312.000000\n",
      "12      -26832.000000\n",
      "13     -101910.000000\n",
      "14     -122480.000000\n",
      "15     -131840.000000\n",
      "16       10433.000000\n",
      "17      124820.000000\n",
      "18      -21600.000000\n",
      "19      -22050.000000\n",
      "20      -39876.000000\n",
      "21      272099.000000\n",
      "22     -207551.000000\n",
      "23     -296441.000000\n",
      "24       -7284.000000\n",
      "25     -153918.000000\n",
      "26       47974.000000\n",
      "27        8367.000000\n",
      "28     -154575.000000\n",
      "29       -3256.000000\n",
      "            ...      \n",
      "1462   -104599.010156\n",
      "1463   -104599.010156\n",
      "1464   -104599.010156\n",
      "1465   -104599.010156\n",
      "1466   -104599.010156\n",
      "1467   -104599.010156\n",
      "1468   -104599.010156\n",
      "1469   -104599.010156\n",
      "1470   -104599.010156\n",
      "1471   -104599.010156\n",
      "1472   -104599.010156\n",
      "1473   -104599.010156\n",
      "1474   -104599.010156\n",
      "1475   -104599.010156\n",
      "1476   -104599.010156\n",
      "1477   -104599.010156\n",
      "1478   -104599.010156\n",
      "1479   -104599.010156\n",
      "1480   -104599.010156\n",
      "1481   -104599.010156\n",
      "1482   -104599.010156\n",
      "1483   -104599.010156\n",
      "1484   -104599.010156\n",
      "1485   -104599.010156\n",
      "1486   -104599.010156\n",
      "1487   -104599.010156\n",
      "1488   -104599.010156\n",
      "1489   -104599.010156\n",
      "1490   -104599.010156\n",
      "1491   -104599.010156\n",
      "Name: EDUCATION_BUDGET_DEFECIT, Length: 1492, dtype: float64\n"
     ]
    }
   ],
   "source": [
    "education_df_without_nan_values['EDUCATION_BUDGET_DEFECIT'] = education_df_without_nan_values['TOTAL_REVENUE'\n",
    "    ] - education_df_without_nan_values['TOTAL_EXPENDITURE']\n",
    "print(education_df_without_nan_values['EDUCATION_BUDGET_DEFECIT'])"
   ]
  },
  {
   "cell_type": "code",
   "execution_count": 24,
   "metadata": {},
   "outputs": [
    {
     "name": "stdout",
     "output_type": "stream",
     "text": [
      "The score threshold is 1.0\n",
      "Number of outliers is 0\n",
      "The score threshold is 1.5\n",
      "Number of outliers is 0\n",
      "The score threshold is 2.0\n",
      "Number of outliers is 0\n",
      "The score threshold is 2.5\n",
      "Number of outliers is 0\n",
      "The score threshold is 3.0\n",
      "Number of outliers is 0\n",
      "The score threshold is 3.5\n",
      "Number of outliers is 0\n",
      "The score threshold is 4.0\n",
      "Number of outliers is 0\n",
      "The score threshold is 4.5\n",
      "Number of outliers is 0\n"
     ]
    }
   ],
   "source": [
    "q75, q25 = np.percentile(np.log(education_df_without_nan_values['EDUCATION_BUDGET_DEFECIT']), [75, 25])\n",
    "iqr = q75 - q25\n",
    "\n",
    "for threshold in np.arange(1, 5, 0.5):\n",
    "    min_val = q25 - (iqr*threshold)\n",
    "    max_val = q75 - (iqr*threshold)\n",
    "    print('The score threshold is {}'.format(threshold))\n",
    "    print('Number of outliers is {}'.format(\n",
    "    len((np.where((np.log(education_df_without_nan_values['EDUCATION_BUDGET_DEFECIT']) > max_val)\n",
    "                 | (np.log(education_df_without_nan_values['EDUCATION_BUDGET_DEFECIT']) < min_val))[0]))))"
   ]
  },
  {
   "cell_type": "code",
   "execution_count": 23,
   "metadata": {},
   "outputs": [
    {
     "data": {
      "image/png": "[encoded data removed]",
      "text/plain": [
       "<Figure size 432x288 with 2 Axes>"
      ]
     },
     "metadata": {
      "needs_background": "light"
     },
     "output_type": "display_data"
    }
   ],
   "source": [
    "plt.subplot(1, 2, 1)\n",
    "plt.hist(education_df_without_nan_values['EDUCATION_BUDGET_DEFECIT'])\n",
    "plt.title('Education Budget Defecit')\n",
    "\n",
    "plt.subplot(1, 2, 2)\n",
    "plt.hist(np.log(education_df_without_nan_values['EDUCATION_BUDGET_DEFECIT']))\n",
    "plt.title('Log Transformed Education Budget Defecit')\n",
    "\n",
    "plt.tight_layout()\n",
    "plt.show()"
   ]
  },
  {
   "cell_type": "markdown",
   "metadata": {},
   "source": [
    "### 4. Now create another variable by subtracting the TOTAL_EXPENDITURE from TOTAL_REVENUE. This time, use the outlier eliminated versions of TOTAL_EXPENDITURE from TOTAL_REVENUE. In this newly created variable, can you find any outliers? If so, eliminate them."
   ]
  },
  {
   "cell_type": "code",
   "execution_count": 25,
   "metadata": {},
   "outputs": [],
   "source": [
    "log_transformed_total_revenue = np.log(education_df_without_nan_values['TOTAL_REVENUE'])\n",
    "log_transformed_total_expenditure = np.log(education_df_without_nan_values['TOTAL_EXPENDITURE'])\n",
    "\n",
    "education_df_without_nan_values['UPDATED_EDUCATION_BUDGET_DEFECIT'\n",
    "    ] = log_transformed_total_revenue - log_transformed_total_expenditure"
   ]
  },
  {
   "cell_type": "code",
   "execution_count": 26,
   "metadata": {},
   "outputs": [
    {
     "data": {
      "image/png": "[encoded data removed]",
      "text/plain": [
       "<Figure size 432x288 with 2 Axes>"
      ]
     },
     "metadata": {
      "needs_background": "light"
     },
     "output_type": "display_data"
    }
   ],
   "source": [
    "plt.subplot(1, 2, 1)\n",
    "plt.hist(education_df_without_nan_values['UPDATED_EDUCATION_BUDGET_DEFECIT'])\n",
    "plt.title('Education Defecit')\n",
    "\n",
    "plt.subplot(1, 2, 2)\n",
    "plt.hist(np.log(education_df_without_nan_values['UPDATED_EDUCATION_BUDGET_DEFECIT']))\n",
    "plt.title('Log Transformed Education Defecit')\n",
    "\n",
    "plt.tight_layout()\n",
    "plt.show()"
   ]
  },
  {
   "cell_type": "markdown",
   "metadata": {},
   "source": [
    "### 5. Compare some basic descriptive statistics of the budget variables you end up with in the 3rd and the 4th questions. Do you see any differences?"
   ]
  },
  {
   "cell_type": "markdown",
   "metadata": {},
   "source": [
    "_EDUCATION__DEFECIT_"
   ]
  },
  {
   "cell_type": "code",
   "execution_count": 27,
   "metadata": {},
   "outputs": [
    {
     "data": {
      "text/plain": [
       "count    1.492000e+03\n",
       "mean    -1.045990e+05\n",
       "std      5.310770e+05\n",
       "min     -5.487742e+06\n",
       "25%     -1.360070e+05\n",
       "50%     -4.849350e+04\n",
       "75%      2.965425e+04\n",
       "max      3.897129e+06\n",
       "Name: EDUCATION_BUDGET_DEFECIT, dtype: float64"
      ]
     },
     "execution_count": 27,
     "metadata": {},
     "output_type": "execute_result"
    }
   ],
   "source": [
    "education_df_without_nan_values['EDUCATION_BUDGET_DEFECIT'].describe()"
   ]
  },
  {
   "cell_type": "markdown",
   "metadata": {},
   "source": [
    "_UPDATED__EDUCATION__DEFECIT_"
   ]
  },
  {
   "cell_type": "code",
   "execution_count": 28,
   "metadata": {},
   "outputs": [
    {
     "data": {
      "text/plain": [
       "count    1492.000000\n",
       "mean       -0.006685\n",
       "std         0.040840\n",
       "min        -0.170369\n",
       "25%        -0.024762\n",
       "50%        -0.011439\n",
       "75%         0.010570\n",
       "max         0.332627\n",
       "Name: UPDATED_EDUCATION_BUDGET_DEFECIT, dtype: float64"
      ]
     },
     "execution_count": 28,
     "metadata": {},
     "output_type": "execute_result"
    }
   ],
   "source": [
    "education_df_without_nan_values['UPDATED_EDUCATION_BUDGET_DEFECIT'].describe()"
   ]
  },
  {
   "cell_type": "markdown",
   "metadata": {},
   "source": [
    "_Observations_"
   ]
  },
  {
   "cell_type": "markdown",
   "metadata": {},
   "source": [
    "All of the UPDATED_EDUCATION_DEFECIT's statistics are smaller than the EDUCATION_DEFECIT statistic's."
   ]
  },
  {
   "cell_type": "markdown",
   "metadata": {},
   "source": [
    "### 6. If our variable of interest is the budget deficit variable, which method do you think is the appropriate one to use in dealing with the outliers in this variable: the method in the 3rd question or the one in the 4th question?"
   ]
  },
  {
   "cell_type": "markdown",
   "metadata": {},
   "source": [
    "The method in the fourth question because the outliers in the TOTAL_REVENUE and TOTAL_EXPENDITURE variables were log transformed."
   ]
  },
  {
   "cell_type": "code",
   "execution_count": null,
   "metadata": {},
   "outputs": [],
   "source": []
  }
 ],
 "metadata": {
  "kernelspec": {
   "display_name": "Python 3",
   "language": "python",
   "name": "python3"
  },
  "language_info": {
   "codemirror_mode": {
    "name": "ipython",
    "version": 3
   },
   "file_extension": ".py",
   "mimetype": "text/x-python",
   "name": "python",
   "nbconvert_exporter": "python",
   "pygments_lexer": "ipython3",
   "version": "3.7.3"
  }
 },
 "nbformat": 4,
 "nbformat_minor": 2
}
