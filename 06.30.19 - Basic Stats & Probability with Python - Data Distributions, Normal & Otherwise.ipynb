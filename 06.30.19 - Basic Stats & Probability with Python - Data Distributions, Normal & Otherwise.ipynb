﻿{
 "cells": [
  {
   "cell_type": "markdown",
   "metadata": {},
   "source": [
    "## Assignment"
   ]
  },
  {
   "cell_type": "markdown",
   "metadata": {},
   "source": [
    "To complete the following drills, you'll need to use your Python skills to create some datasets, then use your new statistical knowledge to summarize them. Choose 6 distributions from the list of random distributions available in NumPy, called __[“Distributions”](https://docs.scipy.org/doc/numpy/reference/routines.random.html#distributions)__.\n",
    "\n",
    "__Challenge One - For each distribution:__\n",
    "\n",
    "- Generate a random variable with 100 datapoints using the code distributionvar = np.random.distributionname([arguments], 100), replacing distributionvar with an appropriate variable name and distributionname with the name of the distribution you’ve chosen, and filling in the empty space in the parentheses with your chosen values for the appropriate parameters. If you feel uncertain about how to do this, go back to the “Other Distributions” assignment for examples of code to use as a starting point.\n",
    "- Graph the variable using a histogram.\n",
    "- Compute the mean and standard deviation and plot them as vertical lines on the histogram.\n",
    "- Evaluate whether the descriptive statistics provided useful information about the variable. Can you identify any common characteristics of the distributions that could be usefully described using the mean and/or standard deviation, versus the ones that could not?\n",
    "\n",
    "__Challenge Two - Additionally:__\n",
    "\n",
    "- Generate two normally-distributed variables, one with a mean of 5 and standard deviation of 0.5, and the other with a mean of 10 and standard deviation of 1.\n",
    "- Add them together to create a third variable.\n",
    "- Graph the third variable using a histogram.\n",
    "- Compute the mean and standard deviation and plot them as vertical lines on the histogram.\n",
    "- Evaluate the descriptive statistics against the data."
   ]
  },
  {
   "cell_type": "markdown",
   "metadata": {},
   "source": [
    "### Import Statements"
   ]
  },
  {
   "cell_type": "code",
   "execution_count": 1,
   "metadata": {},
   "outputs": [],
   "source": [
    "import numpy as np\n",
    "import pandas as pd\n",
    "import matplotlib.pyplot as plt\n",
    "%matplotlib inline"
   ]
  },
  {
   "cell_type": "markdown",
   "metadata": {},
   "source": [
    "## Challenge One"
   ]
  },
  {
   "cell_type": "markdown",
   "metadata": {},
   "source": [
    "### Distribution One"
   ]
  },
  {
   "cell_type": "code",
   "execution_count": 10,
   "metadata": {},
   "outputs": [
    {
     "data": {
      "image/png": "[encoded data removed]",
      "text/plain": [
       "<Figure size 432x288 with 1 Axes>"
      ]
     },
     "metadata": {
      "needs_background": "light"
     },
     "output_type": "display_data"
    },
    {
     "name": "stdout",
     "output_type": "stream",
     "text": [
      "Because a poisson distribution's not normal, the descriptive statistics (mean and standard deviation) aren't useful.\n"
     ]
    }
   ],
   "source": [
    "# Defining the variable, rand1 with a poisson distribution. \n",
    "# Tip: Poisson distributions represent the number of times a given event, like a phone call to a radio show, will occur during a given time interval.)\n",
    "rand1 = np.random.poisson(lam = 1.0, size = 100)\n",
    "\n",
    "# Plotting a histogram for rand1.\n",
    "plt.hist(rand1)\n",
    "\n",
    "# Adding a vertical line at the mean.\n",
    "plt.axvline(rand1.mean(), color='b', linestyle='solid', linewidth=2)\n",
    "\n",
    "#Adding a dashed, vertical line one standard deviation above the mean.\n",
    "plt.axvline(rand1.mean() + rand1.std(), color='b', linestyle='dashed', linewidth=2)\n",
    "\n",
    "#Adding a dashed, vertical line one standard deviation below the mean.\n",
    "plt.axvline(rand1.mean() - rand1.std(), color='b', linestyle='dashed', linewidth=2)\n",
    "\n",
    "plt.show()\n",
    "\n",
    "# Adding a comment about the usefulness of the descriptive statistics.\n",
    "print(\"Because a poisson distribution's not normal, the descriptive statistics (mean and standard deviation) aren't useful.\")"
   ]
  },
  {
   "cell_type": "markdown",
   "metadata": {},
   "source": [
    "### Distribution Two"
   ]
  },
  {
   "cell_type": "code",
   "execution_count": 17,
   "metadata": {},
   "outputs": [
    {
     "data": {
      "image/png": "[encoded data removed]",
      "text/plain": [
       "<Figure size 432x288 with 1 Axes>"
      ]
     },
     "metadata": {
      "needs_background": "light"
     },
     "output_type": "display_data"
    },
    {
     "name": "stdout",
     "output_type": "stream",
     "text": [
      "Because a geometric distribution's not normal, the mean wasn't very useful, but the standard deviation looked like it caught most of the variables within one standard deviation of the mean.\n"
     ]
    }
   ],
   "source": [
    "# Defining the variable, rand1 with a geometric distribution. \n",
    "# Tip: Bernoulli trials are experiments with one of two outcomes: success or failure (an example of such an experiment is flipping a coin). The geometric distribution models the number of trials that must be run in order to achieve success. It is therefore supported on the positive integers, k = 1, 2, ....\n",
    "rand1 = np.random.geometric(0.5, size=100)\n",
    "\n",
    "# Plotting a histogram for rand1.\n",
    "plt.hist(rand1)\n",
    "\n",
    "# Adding a vertical line at the mean.\n",
    "plt.axvline(rand1.mean(), color='b', linestyle='solid', linewidth=2)\n",
    "\n",
    "# Adding a dashed, vertical line one standard deviation above the mean.\n",
    "plt.axvline(rand1.mean() + rand1.std(), color='b', linestyle='dashed', linewidth=2)\n",
    "\n",
    "# Adding a dashed, vertical line one standard deviation below the mean.\n",
    "# The thickness of the line had to be increased to five because it's next to the axis and was hard to see with a linewidth of two.\n",
    "plt.axvline(rand1.mean() - rand1.std(), color='b', linestyle='dashed', linewidth=5)\n",
    "\n",
    "plt.show()\n",
    "# Adding a comment about the usefulness of the descriptive statistics.\n",
    "print(\"Because a geometric distribution's not normal, the mean wasn't very useful, but the standard deviation looked like it caught most of the variables within one standard deviation of the mean.\")"
   ]
  },
  {
   "cell_type": "markdown",
   "metadata": {},
   "source": [
    "### Distribution Three"
   ]
  },
  {
   "cell_type": "code",
   "execution_count": 19,
   "metadata": {},
   "outputs": [
    {
     "data": {
      "image/png": "[encoded data removed]",
      "text/plain": [
       "<Figure size 432x288 with 1 Axes>"
      ]
     },
     "metadata": {
      "needs_background": "light"
     },
     "output_type": "display_data"
    },
    {
     "name": "stdout",
     "output_type": "stream",
     "text": [
      "The standard deviation looks more useful here because most of the data are within one standard deviation of the mean. The mean's not as useful because the data's skewed to the left.\n"
     ]
    }
   ],
   "source": [
    "# Defining the variable, rand1 with a lognormal distribution. \n",
    "# Tip: A log-normal distribution results if a random variable is the product of a large number of independent, identically-distributed variables in the same way that a normal distribution results if the variable is the sum of a large number of independent, identically-distributed variables.\n",
    "rand1 = np.random.lognormal(mean=0.0, sigma=1.0, size=100)\n",
    "\n",
    "# Plotting a histogram for rand1.\n",
    "plt.hist(rand1)\n",
    "\n",
    "# Adding a vertical line at the mean.\n",
    "plt.axvline(rand1.mean(), color='b', linestyle='solid', linewidth=2)\n",
    "\n",
    "#Adding a dashed, vertical line one standard deviation above the mean.\n",
    "plt.axvline(rand1.mean() + rand1.std(), color='b', linestyle='dashed', linewidth=2)\n",
    "\n",
    "#Adding a dashed, vertical line one standard deviation below the mean.\n",
    "plt.axvline(rand1.mean() - rand1.std(), color='b', linestyle='dashed', linewidth=2)\n",
    "\n",
    "plt.show()\n",
    "\n",
    "# Adding a comment about the usefulness of the descriptive statistics.\n",
    "print(\"The standard deviation looks more useful here because most of the data are within one standard deviation of the mean. The mean's not as useful because the data's skewed to the left.\")"
   ]
  },
  {
   "cell_type": "markdown",
   "metadata": {},
   "source": [
    "### Distribution Four"
   ]
  },
  {
   "cell_type": "code",
   "execution_count": 22,
   "metadata": {},
   "outputs": [
    {
     "data": {
      "image/png": "[encoded data removed]",
      "text/plain": [
       "<Figure size 432x288 with 1 Axes>"
      ]
     },
     "metadata": {
      "needs_background": "light"
     },
     "output_type": "display_data"
    },
    {
     "name": "stdout",
     "output_type": "stream",
     "text": [
      "Because the negative binomial distribution's skewed to the left, wtih trailing values going to the right, the descriptive statistics aren't useful.\n"
     ]
    }
   ],
   "source": [
    "# Defining the variable, rand1 with a negative binomial distribution. \n",
    "# Tip: The negative binomial distribution gives the probability of N failures given n successes, with a success on the last trial.\n",
    "# If one throws a die repeatedly until the third time a “1” appears, then the probability distribution of the number of non-“1”s that appear before the third “1” is a negative binomial distribution.\n",
    "rand1 = np.random.negative_binomial(1, 0.5, size = 100)\n",
    "\n",
    "# Plotting a histogram for rand1.\n",
    "plt.hist(rand1)\n",
    "\n",
    "# Adding a vertical line at the mean.\n",
    "plt.axvline(rand1.mean(), color='b', linestyle='solid', linewidth=2)\n",
    "\n",
    "#Adding a dashed, vertical line one standard deviation above the mean.\n",
    "plt.axvline(rand1.mean() + rand1.std(), color='b', linestyle='dashed', linewidth=2)\n",
    "\n",
    "#Adding a dashed, vertical line one standard deviation below the mean.\n",
    "plt.axvline(rand1.mean() - rand1.std(), color='b', linestyle='dashed', linewidth=4)\n",
    "\n",
    "plt.show()\n",
    "\n",
    "# Adding a comment about the usefulness of the descriptive statistics.\n",
    "print(\"Because the negative binomial distribution's skewed to the left, wtih trailing values going to the right, the descriptive statistics aren't useful.\")"
   ]
  },
  {
   "cell_type": "markdown",
   "metadata": {},
   "source": [
    "### Distribution Five"
   ]
  },
  {
   "cell_type": "code",
   "execution_count": 25,
   "metadata": {},
   "outputs": [
    {
     "data": {
      "image/png": "[encoded data removed]",
      "text/plain": [
       "<Figure size 432x288 with 1 Axes>"
      ]
     },
     "metadata": {
      "needs_background": "light"
     },
     "output_type": "display_data"
    },
    {
     "name": "stdout",
     "output_type": "stream",
     "text": [
      "The descriptive statistics could be more useful here because the data's less skewed than it was in other graphs.\n"
     ]
    }
   ],
   "source": [
    "# Defining the variable, rand1 with a triangular distribution. \n",
    "# Tip: The triangular distribution is often used in ill-defined problems where the underlying distribution is not known, but some knowledge of the limits and mode exists. Often it is used in simulations.\n",
    "rand1 = np.random.triangular(-4, 19, 20, size=100)\n",
    "\n",
    "# Plotting a histogram for rand1.\n",
    "plt.hist(rand1)\n",
    "\n",
    "# Adding a vertical line at the mean.\n",
    "plt.axvline(rand1.mean(), color='b', linestyle='solid', linewidth=2)\n",
    "\n",
    "#Adding a dashed, vertical line one standard deviation above the mean.\n",
    "plt.axvline(rand1.mean() + rand1.std(), color='b', linestyle='dashed', linewidth=2)\n",
    "\n",
    "#Adding a dashed, vertical line one standard deviation below the mean.\n",
    "plt.axvline(rand1.mean() - rand1.std(), color='b', linestyle='dashed', linewidth=2)\n",
    "\n",
    "plt.show()\n",
    "\n",
    "# Adding a comment about the usefulness of the descriptive statistics.\n",
    "print(\"The descriptive statistics could be more useful here because the data's less skewed than it was in other graphs.\")"
   ]
  },
  {
   "cell_type": "markdown",
   "metadata": {},
   "source": [
    "### Distribution Six"
   ]
  },
  {
   "cell_type": "code",
   "execution_count": 26,
   "metadata": {},
   "outputs": [
    {
     "data": {
      "image/png": "[encoded data removed]",
      "text/plain": [
       "<Figure size 432x288 with 1 Axes>"
      ]
     },
     "metadata": {
      "needs_background": "light"
     },
     "output_type": "display_data"
    },
    {
     "name": "stdout",
     "output_type": "stream",
     "text": [
      "The descriptive statistics could be more useful here because the data's less skewed than it was in other graphs.\n"
     ]
    }
   ],
   "source": [
    "# Defining the variable, rand1 with a triangular distribution. \n",
    "# Tip: The Weibull (or Type III asymptotic extreme value distribution for smallest values, SEV Type III, or Rosin-Rammler distribution) is one of a class of Generalized Extreme Value (GEV) distributions used in modeling extreme value problems. This class includes the Gumbel and Frechet distributions.\n",
    "rand1 = np.random.weibull(1, size=100)\n",
    "\n",
    "# Plotting a histogram for rand1.\n",
    "plt.hist(rand1)\n",
    "\n",
    "# Adding a vertical line at the mean.\n",
    "plt.axvline(rand1.mean(), color='b', linestyle='solid', linewidth=2)\n",
    "\n",
    "#Adding a dashed, vertical line one standard deviation above the mean.\n",
    "plt.axvline(rand1.mean() + rand1.std(), color='b', linestyle='dashed', linewidth=2)\n",
    "\n",
    "#Adding a dashed, vertical line one standard deviation below the mean.\n",
    "plt.axvline(rand1.mean() - rand1.std(), color='b', linestyle='dashed', linewidth=2)\n",
    "\n",
    "plt.show()\n",
    "\n",
    "# Adding a comment about the usefulness of the descriptive statistics.\n",
    "print(\"The descriptive statistics could be more useful here because the data's less skewed than it was in other graphs.\")"
   ]
  },
  {
   "cell_type": "markdown",
   "metadata": {},
   "source": [
    "## Challenge Two"
   ]
  },
  {
   "cell_type": "markdown",
   "metadata": {},
   "source": [
    "Generate two normally-distributed variables, one with a mean of 5 and standard deviation of 0.5, and the other with a mean of 10 and standard deviation of 1.\n",
    "Add them together to create a third variable.\n",
    "Graph the third variable using a histogram.\n",
    "Compute the mean and standard deviation and plot them as vertical lines on the histogram.\n",
    "Evaluate the descriptive statistics against the data."
   ]
  },
  {
   "cell_type": "code",
   "execution_count": 30,
   "metadata": {},
   "outputs": [
    {
     "data": {
      "image/png": "[encoded data removed]",
      "text/plain": [
       "<Figure size 432x288 with 1 Axes>"
      ]
     },
     "metadata": {
      "needs_background": "light"
     },
     "output_type": "display_data"
    },
    {
     "name": "stdout",
     "output_type": "stream",
     "text": [
      "Because the data is normally distributed, descriptive statisitcs (mean and standard deviatiion) are a good way to evaluate the information.\n"
     ]
    }
   ],
   "source": [
    "rand1 = np.random.normal(5,.5, 100)\n",
    "rand2 = np.random.normal(10,1, 100)\n",
    "rand3 = rand1 + rand2\n",
    "\n",
    "mean = np.mean(rand3)\n",
    "sd = np.std(rand3)\n",
    "\n",
    "plt.hist(rand3)\n",
    "plt.axvline(x=mean, color='black')\n",
    "plt.axvline(x=mean+sd, color='red')\n",
    "plt.axvline(x=mean-sd, color='red')\n",
    "plt.show()\n",
    "print('Because the data is normally distributed, descriptive statisitcs (mean and standard deviatiion) are a good way to evaluate the information.')"
   ]
  },
  {
   "cell_type": "code",
   "execution_count": null,
   "metadata": {},
   "outputs": [],
   "source": []
  }
 ],
 "metadata": {
  "kernelspec": {
   "display_name": "Python 3",
   "language": "python",
   "name": "python3"
  },
  "language_info": {
   "codemirror_mode": {
    "name": "ipython",
    "version": 3
   },
   "file_extension": ".py",
   "mimetype": "text/x-python",
   "name": "python",
   "nbconvert_exporter": "python",
   "pygments_lexer": "ipython3",
   "version": "3.7.3"
  }
 },
 "nbformat": 4,
 "nbformat_minor": 2
}
