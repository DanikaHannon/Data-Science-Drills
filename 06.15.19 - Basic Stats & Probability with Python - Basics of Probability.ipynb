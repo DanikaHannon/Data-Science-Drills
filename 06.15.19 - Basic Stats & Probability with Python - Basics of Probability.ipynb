{
 "cells": [
  {
   "cell_type": "markdown",
   "metadata": {},
   "source": [
    "## Assignments"
   ]
  },
  {
   "cell_type": "markdown",
   "metadata": {},
   "source": [
    "_Drill Set One_\n",
    "\n",
    "- Calculate the probability of flipping a balanced coin four times and getting each pattern: HTTH, HHHH and TTHH.\n",
    "- If a list of people has 24 women and 21 men, then the probability of choosing a man from the list is 21/45. What is the probability of not choosing a man?\n",
    "- The probability that Bernice will travel by plane sometime in the next year is 10%. The probability of a plane crash at any time is .005%. What is the probability that Bernice will be in a plane crash sometime in the next year?\n",
    "- A data scientist wants to study the behavior of users on the company website. Each time a user clicks on a link on the website, there is a 5% chance that the user will be asked to complete a short survey about their behavior on the website. The data scientist uses the survey data to conclude that, on average, users spend 15 minutes surfing the company website before moving on to other things. What is wrong with this conclusion?\n",
    "\n",
    "_Drill Set Two_\n",
    "\n",
    "- Now it's time to use Bayes' rule to compute some conditional probabilities. First look over the numbers and estimate each of the four probabilities, using your intuition. Then, calculate the probabilities using Bayes' rule.\n",
    "\n",
    "- A diagnostic test has a 98% probability of giving a positive result when applied to a person suffering from Thripshaw's Disease, and 10% probability of giving a (false) positive when applied to a non-sufferer. It is estimated that 0.5 % of the population are sufferers. Suppose that the test is now administered to a person whose disease status is unknown. Calculate the probability that the test will:\n",
    "\n",
    "    - Be positive\n",
    "    - Correctly diagnose a sufferer of Thripshaw's\n",
    "    - Correctly identify a non-sufferer of Thripshaw's\n",
    "    - Misclassify the person"
   ]
  },
  {
   "cell_type": "markdown",
   "metadata": {},
   "source": [
    "### Drill Set One"
   ]
  },
  {
   "cell_type": "markdown",
   "metadata": {},
   "source": [
    "- Calculate the probability of flipping a balanced coin four times and getting each pattern: HTTH, HHHH and TTHH.\n",
    "    - Because a coin's getting flipped, there's an equal chance of getting heads or tails. Since the coin needs to be flipped four times to make the pattern, the probability equation is (0.5)(0.5)(0.5)(0.5), with a 6.25% chance of getting the pattern HTTH, HHHH and TTHH.\n",
    "\n",
    "- If a list of people has 24 women and 21 men, then the probability of choosing a man from the list is 21/45. What is the probability of not choosing a man?\n",
    "    - The probability of not choosing a man is 24/45.\n",
    "    \n",
    "- The probability that Bernice will travel by plane sometime in the next year is 10%. The probability of a plane crash at any time is .005%. What is the probability that Bernice will be in a plane crash sometime in the next year?\n",
    "    - The probability that Bernice will be in a plane crash can be found with this equation: P(Bernice flying n plance crash) = P(bernice flying) * P(plane crash) = (0.1) * (0.005) = 0.0005%, so Bernice has 0.0005% chance of being in a plane crash sometime in the next year.\n",
    "\n",
    "- A data scientist wants to study the behavior of users on the company website. Each time a user clicks on a link on the website, there is a 5% chance that the user will be asked to complete a short survey about their behavior on the website. The data scientist uses the survey data to conclude that, on average, users spend 15 minutes surfing the company website before moving on to other things. What is wrong with this conclusion?\n",
    "    - The survey has selection bias because it's collecting data from site users who are clicking on links. The survey's not looking at people who don't click on links."
   ]
  },
  {
   "cell_type": "markdown",
   "metadata": {},
   "source": [
    "### Drill Set Two"
   ]
  },
  {
   "cell_type": "markdown",
   "metadata": {},
   "source": [
    "- Now it's time to use Bayes' rule to compute some conditional probabilities. First look over the numbers and estimate each of the four probabilities, using your intuition. Then, calculate the probabilities using Bayes' rule.\n",
    "\n",
    "- A diagnostic test has a 98% probability of giving a positive result when applied to a person suffering from Thripshaw's Disease, and 10% probability of giving a (false) positive when applied to a non-sufferer. It is estimated that 0.5 % of the population are sufferers. Suppose that the test is now administered to a person whose disease status is unknown. Calculate the probability that the test will:\n",
    "\n",
    "    - Be positive - best guess: 0.5%; probability using Bayes' rule: 0.1044\n",
    "    - Correctly diagnose a sufferer of Thripshaw's - best guess: 98%; probability using Bayes' rule: 98%\n",
    "    - Correctly identify a non-sufferer of Thripshaw's - best guess: 90%; probability using Bayes' rule: 90%\n",
    "    - Misclassify the person - best guess: 2%; probability using Bayes' rule: 9.96%"
   ]
  },
  {
   "cell_type": "code",
   "execution_count": null,
   "metadata": {},
   "outputs": [],
   "source": []
  }
 ],
 "metadata": {
  "kernelspec": {
   "display_name": "Python 3",
   "language": "python",
   "name": "python3"
  },
  "language_info": {
   "codemirror_mode": {
    "name": "ipython",
    "version": 3
   },
   "file_extension": ".py",
   "mimetype": "text/x-python",
   "name": "python",
   "nbconvert_exporter": "python",
   "pygments_lexer": "ipython3",
   "version": "3.7.3"
  }
 },
 "nbformat": 4,
 "nbformat_minor": 2
}
