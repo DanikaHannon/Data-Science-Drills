{
 "cells": [
  {
   "cell_type": "markdown",
   "metadata": {},
   "source": [
    "# Assignment\n",
    "\n",
    "Now that you've spent some time tinkering with an example Naive Bayes Classifier, it's time to build your own.\n",
    "\n",
    "We've mentioned that Naive Bayes is particularly good for text classification problems. Before we made a spam filter. Now we'll perform a sentiment analysis, classifying whether feedback left on a website is either positive or negative.\n",
    "\n",
    "Again the UCI Machine Learning database has a nice labeled [dataset of sentiment labelled sentences](https://archive.ics.uci.edu/ml/datasets/Sentiment+Labelled+Sentences) for us to use. This dataset was created for the paper [From Group to Individual Labels using Deep Features](http://mdenil.com/media/papers/2015-deep-multi-instance-learning.pdf), Kotzias et. al., KDD 2015.\n",
    "\n",
    "Pick one of the company data files and build your own classifier. When you're satisfied with its performance (at this point just using the accuracy measure shown in the example), test it on one of the other datasets to see how well these kinds of classifiers translate from one context to another.\n",
    "\n",
    "Include your model and a brief writeup of your feature engineering and selection process to submit and review with your mentor."
   ]
  },
  {
   "cell_type": "markdown",
   "metadata": {},
   "source": [
    "### Import Statements"
   ]
  },
  {
   "cell_type": "code",
   "execution_count": 2,
   "metadata": {},
   "outputs": [],
   "source": [
    "%matplotlib inline\n",
    "import numpy as np\n",
    "import pandas as pd\n",
    "import scipy\n",
    "import sklearn\n",
    "import matplotlib.pyplot as plt\n",
    "import seaborn as sns\n",
    "from sklearn.naive_bayes import BernoulliNB\n",
    "from sklearn.naive_bayes import GaussianNB\n",
    "from sklearn.naive_bayes import MultinomialNB\n",
    "from sklearn.naive_bayes import ComplementNB"
   ]
  },
  {
   "cell_type": "markdown",
   "metadata": {},
   "source": [
    "### The Amazon Dataframe"
   ]
  },
  {
   "cell_type": "code",
   "execution_count": 108,
   "metadata": {},
   "outputs": [
    {
     "data": {
      "text/html": [
       "<div>\n",
       "<style scoped>\n",
       "    .dataframe tbody tr th:only-of-type {\n",
       "        vertical-align: middle;\n",
       "    }\n",
       "\n",
       "    .dataframe tbody tr th {\n",
       "        vertical-align: top;\n",
       "    }\n",
       "\n",
       "    .dataframe thead th {\n",
       "        text-align: right;\n",
       "    }\n",
       "</style>\n",
       "<table border=\"1\" class=\"dataframe\">\n",
       "  <thead>\n",
       "    <tr style=\"text-align: right;\">\n",
       "      <th></th>\n",
       "      <th>Feedback</th>\n",
       "      <th>Sentiment</th>\n",
       "    </tr>\n",
       "  </thead>\n",
       "  <tbody>\n",
       "    <tr>\n",
       "      <th>0</th>\n",
       "      <td>so there is no way for me to plug it in here ...</td>\n",
       "      <td>0</td>\n",
       "    </tr>\n",
       "    <tr>\n",
       "      <th>1</th>\n",
       "      <td>good case excellent value</td>\n",
       "      <td>1</td>\n",
       "    </tr>\n",
       "    <tr>\n",
       "      <th>2</th>\n",
       "      <td>great for the jawbone</td>\n",
       "      <td>1</td>\n",
       "    </tr>\n",
       "    <tr>\n",
       "      <th>3</th>\n",
       "      <td>tied to charger for conversations lasting mor...</td>\n",
       "      <td>0</td>\n",
       "    </tr>\n",
       "    <tr>\n",
       "      <th>4</th>\n",
       "      <td>the mic is great</td>\n",
       "      <td>1</td>\n",
       "    </tr>\n",
       "  </tbody>\n",
       "</table>\n",
       "</div>"
      ],
      "text/plain": [
       "                                            Feedback  Sentiment\n",
       "0   so there is no way for me to plug it in here ...          0\n",
       "1                         good case excellent value           1\n",
       "2                             great for the jawbone           1\n",
       "3   tied to charger for conversations lasting mor...          0\n",
       "4                                  the mic is great           1"
      ]
     },
     "execution_count": 108,
     "metadata": {},
     "output_type": "execute_result"
    }
   ],
   "source": [
    "amazon_df = pd.read_excel('Amazon Dataframe.xlsx', delimiter='\\t', header=None)\n",
    "amazon_df.columns = ['Feedback', 'Sentiment']\n",
    "\n",
    "# Make all the feedback lowercase.\n",
    "amazon_df['Feedback'] = amazon_df['Feedback'].str.lower()\n",
    "\n",
    "# Strip out punctuation and numbers.\n",
    "amazon_df['Feedback'] = amazon_df['Feedback'].str.replace('[^\\w\\s]','')\n",
    "\n",
    "# Add spaces before and after each entry in 'Feedback'.\n",
    "amazon_df['Feedback'] = ' ' + amazon_df['Feedback'] + ' '\n",
    "\n",
    "amazon_df.head()"
   ]
  },
  {
   "cell_type": "code",
   "execution_count": 109,
   "metadata": {},
   "outputs": [
    {
     "data": {
      "text/plain": [
       "the        513\n",
       "i          316\n",
       "and        310\n",
       "it         281\n",
       "is         243\n",
       "a          218\n",
       "this       206\n",
       "to         196\n",
       "phone      162\n",
       "my         143\n",
       "for        121\n",
       "of         119\n",
       "not        117\n",
       "with       112\n",
       "very       103\n",
       "great       97\n",
       "was         90\n",
       "on          89\n",
       "in          88\n",
       "that        80\n",
       "good        75\n",
       "have        73\n",
       "you         68\n",
       "product     55\n",
       "quality     49\n",
       "had         48\n",
       "works       47\n",
       "headset     47\n",
       "but         46\n",
       "battery     45\n",
       "as          45\n",
       "its         43\n",
       "are         42\n",
       "so          42\n",
       "use         41\n",
       "all         41\n",
       "sound       41\n",
       "one         40\n",
       "well        38\n",
       "ear         35\n",
       "has         34\n",
       "work        34\n",
       "would       34\n",
       "from        33\n",
       "your        32\n",
       "dont        31\n",
       "like        30\n",
       "if          29\n",
       "case        29\n",
       "than        28\n",
       "dtype: int64"
      ]
     },
     "execution_count": 109,
     "metadata": {},
     "output_type": "execute_result"
    }
   ],
   "source": [
    "pd.Series(' '.join(amazon_df['Feedback']).lower().split()).value_counts()[:50]"
   ]
  },
  {
   "cell_type": "markdown",
   "metadata": {},
   "source": [
    "_Feature Engineering on the Amazon Dataframe_"
   ]
  },
  {
   "cell_type": "markdown",
   "metadata": {},
   "source": [
    "For the feature engineering, I looked at the list of 50 most common keywords in the 'Feedback' column and used them for my keywords. \n",
    "\n",
    "Note: in the future, it'd be useful to filter the 'Sentiment' column so that only positive reviews were included. And it would've been useful to filter the list of top 50 words to exclude common words, like \"if\", \"has\" and so on. \n",
    "\n",
    "But because of time constraints, I didn't do that here."
   ]
  },
  {
   "cell_type": "code",
   "execution_count": 110,
   "metadata": {},
   "outputs": [],
   "source": [
    "# Only want positive keywords and look at the dataframe for commonly used keywords.\n",
    "amazon_keywords = ['good', 'excellent', 'great', 'love']\n",
    "\n",
    "# This for loop's setting new values in columns.\n",
    "for key in amazon_keywords:\n",
    "    amazon_df[str(key)] = amazon_df.Feedback.str.contains(\n",
    "        ' ' + str(key) + ' ',\n",
    "        case=False\n",
    "    )"
   ]
  },
  {
   "cell_type": "code",
   "execution_count": 111,
   "metadata": {},
   "outputs": [
    {
     "data": {
      "text/plain": [
       "<matplotlib.axes._subplots.AxesSubplot at 0x12bb710>"
      ]
     },
     "execution_count": 111,
     "metadata": {},
     "output_type": "execute_result"
    },
    {
     "data": {
      "image/png": "[encoded data removed]",
      "text/plain": [
       "<Figure size 432x288 with 2 Axes>"
      ]
     },
     "metadata": {
      "needs_background": "light"
     },
     "output_type": "display_data"
    }
   ],
   "source": [
    "sns.heatmap(amazon_df.corr())"
   ]
  },
  {
   "cell_type": "markdown",
   "metadata": {},
   "source": [
    "_Building the Training Data on the Amazon Dataframe_"
   ]
  },
  {
   "cell_type": "code",
   "execution_count": 112,
   "metadata": {},
   "outputs": [],
   "source": [
    "amazon_data = amazon_df[amazon_keywords]\n",
    "amazon_target = amazon_df['Sentiment']"
   ]
  },
  {
   "cell_type": "markdown",
   "metadata": {},
   "source": [
    "_Running the Model on the Amazon Dataframe_"
   ]
  },
  {
   "cell_type": "code",
   "execution_count": 116,
   "metadata": {},
   "outputs": [
    {
     "name": "stdout",
     "output_type": "stream",
     "text": [
      "Number of mislabeled points in the Amazon dataframe out of a total 1000 points : 376\n"
     ]
    }
   ],
   "source": [
    "mnb = MultinomialNB()\n",
    "\n",
    "mnb.fit(amazon_data, amazon_target)\n",
    "\n",
    "y_pred = mnb.predict(amazon_data)\n",
    "\n",
    "print('Number of mislabeled points in the Amazon dataframe out of a total {} points : {}'.format(\n",
    "    amazon_data.shape[0],\n",
    "    (amazon_target != y_pred).sum()\n",
    "))"
   ]
  },
  {
   "cell_type": "markdown",
   "metadata": {},
   "source": [
    "I tested the Naive Bayes Classifiers and found that Multinomial and Complement Bayes Classifiers were the best algorithm for classification because they found 376 mislabeled points vs. the 332 mislabeled points the Gaussoam and Bernoulli Naive Bayes Classifiers found."
   ]
  },
  {
   "cell_type": "markdown",
   "metadata": {},
   "source": [
    "### The Yelp Dataframe"
   ]
  },
  {
   "cell_type": "code",
   "execution_count": 3,
   "metadata": {},
   "outputs": [
    {
     "data": {
      "text/html": [
       "<div>\n",
       "<style scoped>\n",
       "    .dataframe tbody tr th:only-of-type {\n",
       "        vertical-align: middle;\n",
       "    }\n",
       "\n",
       "    .dataframe tbody tr th {\n",
       "        vertical-align: top;\n",
       "    }\n",
       "\n",
       "    .dataframe thead th {\n",
       "        text-align: right;\n",
       "    }\n",
       "</style>\n",
       "<table border=\"1\" class=\"dataframe\">\n",
       "  <thead>\n",
       "    <tr style=\"text-align: right;\">\n",
       "      <th></th>\n",
       "      <th>Feedback</th>\n",
       "      <th>Sentiment</th>\n",
       "    </tr>\n",
       "  </thead>\n",
       "  <tbody>\n",
       "    <tr>\n",
       "      <th>0</th>\n",
       "      <td>wow loved this place</td>\n",
       "      <td>1</td>\n",
       "    </tr>\n",
       "    <tr>\n",
       "      <th>1</th>\n",
       "      <td>crust is not good</td>\n",
       "      <td>0</td>\n",
       "    </tr>\n",
       "    <tr>\n",
       "      <th>2</th>\n",
       "      <td>not tasty and the texture was just nasty</td>\n",
       "      <td>0</td>\n",
       "    </tr>\n",
       "    <tr>\n",
       "      <th>3</th>\n",
       "      <td>stopped by during the late may bank holiday o...</td>\n",
       "      <td>1</td>\n",
       "    </tr>\n",
       "    <tr>\n",
       "      <th>4</th>\n",
       "      <td>the selection on the menu was great and so we...</td>\n",
       "      <td>1</td>\n",
       "    </tr>\n",
       "  </tbody>\n",
       "</table>\n",
       "</div>"
      ],
      "text/plain": [
       "                                            Feedback  Sentiment\n",
       "0                              wow loved this place           1\n",
       "1                                 crust is not good           0\n",
       "2          not tasty and the texture was just nasty           0\n",
       "3   stopped by during the late may bank holiday o...          1\n",
       "4   the selection on the menu was great and so we...          1"
      ]
     },
     "execution_count": 3,
     "metadata": {},
     "output_type": "execute_result"
    }
   ],
   "source": [
    "yelp_df = pd.read_excel('Yelp Dataframe.xlsx', delimiter='\\t', header=None)\n",
    "yelp_df.columns = ['Feedback', 'Sentiment']\n",
    "\n",
    "# Make all the feedback lowercase.\n",
    "yelp_df['Feedback'] = yelp_df['Feedback'].str.lower()\n",
    "\n",
    "# Strip out punctuation and numbers.\n",
    "yelp_df['Feedback'] = yelp_df['Feedback'].str.replace('[^\\w\\s]','')\n",
    "\n",
    "# Add spaces before and after each entry in 'Feedback'.\n",
    "yelp_df['Feedback'] = ' ' + yelp_df['Feedback'] + ' '\n",
    "\n",
    "yelp_df = yelp_df.dropna()\n",
    "\n",
    "yelp_df.head()"
   ]
  },
  {
   "cell_type": "markdown",
   "metadata": {},
   "source": [
    "_Feature Engineering on the Yelp Dataframe_"
   ]
  },
  {
   "cell_type": "markdown",
   "metadata": {},
   "source": [
    "For comparison purposes, I'm going to use the same keywords here that I used for the Amazon dataframe."
   ]
  },
  {
   "cell_type": "code",
   "execution_count": 4,
   "metadata": {},
   "outputs": [],
   "source": [
    "yelp_keywords = ['good', 'excellent', 'great', 'love']\n",
    "\n",
    "for key in yelp_keywords:\n",
    "    yelp_df[str(key)] = yelp_df.Feedback.str.contains(\n",
    "        ' ' + str(key) + ' ',\n",
    "        case=False\n",
    "    )"
   ]
  },
  {
   "cell_type": "code",
   "execution_count": 5,
   "metadata": {},
   "outputs": [
    {
     "data": {
      "text/plain": [
       "<matplotlib.axes._subplots.AxesSubplot at 0x647cff0>"
      ]
     },
     "execution_count": 5,
     "metadata": {},
     "output_type": "execute_result"
    },
    {
     "data": {
      "image/png": "[encoded data removed]",
      "text/plain": [
       "<Figure size 432x288 with 2 Axes>"
      ]
     },
     "metadata": {
      "needs_background": "light"
     },
     "output_type": "display_data"
    }
   ],
   "source": [
    "sns.heatmap(yelp_df.corr())"
   ]
  },
  {
   "cell_type": "markdown",
   "metadata": {},
   "source": [
    "_Building the Training Data on the Yelp Dataframe_"
   ]
  },
  {
   "cell_type": "code",
   "execution_count": 6,
   "metadata": {},
   "outputs": [],
   "source": [
    "yelp_data = yelp_df[yelp_keywords]\n",
    "yelp_target = yelp_df['Sentiment']"
   ]
  },
  {
   "cell_type": "markdown",
   "metadata": {},
   "source": [
    "_Running the Model on the Yelp Dataframe_"
   ]
  },
  {
   "cell_type": "code",
   "execution_count": 8,
   "metadata": {},
   "outputs": [
    {
     "name": "stdout",
     "output_type": "stream",
     "text": [
      "Number of mislabeled points out of a total 996 points : 425\n"
     ]
    }
   ],
   "source": [
    "gnb = MultinomialNB()\n",
    "\n",
    "gnb.fit(yelp_data, yelp_target)\n",
    "\n",
    "y_pred = gnb.predict(yelp_data)\n",
    "\n",
    "print(\"Number of mislabeled points out of a total {} points : {}\".format(\n",
    "    yelp_data.shape[0],\n",
    "    (yelp_target != y_pred).sum()\n",
    "))"
   ]
  },
  {
   "cell_type": "markdown",
   "metadata": {},
   "source": [
    "The classifier worked better with the Yelp data than it did with the Amazon data."
   ]
  },
  {
   "cell_type": "code",
   "execution_count": null,
   "metadata": {},
   "outputs": [],
   "source": []
  }
 ],
 "metadata": {
  "kernelspec": {
   "display_name": "Python 3",
   "language": "python",
   "name": "python3"
  },
  "language_info": {
   "codemirror_mode": {
    "name": "ipython",
    "version": 3
   },
   "file_extension": ".py",
   "mimetype": "text/x-python",
   "name": "python",
   "nbconvert_exporter": "python",
   "pygments_lexer": "ipython3",
   "version": "3.7.3"
  }
 },
 "nbformat": 4,
 "nbformat_minor": 2
}
