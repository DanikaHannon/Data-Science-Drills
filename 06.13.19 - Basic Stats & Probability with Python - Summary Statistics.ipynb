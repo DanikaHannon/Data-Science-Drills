{
 "cells": [
  {
   "cell_type": "markdown",
   "metadata": {},
   "source": [
    "### Assignment:"
   ]
  },
  {
   "cell_type": "markdown",
   "metadata": {},
   "source": [
    "Now that we have introduced some tools for describing populations, let's try them out. First do these drills by hand, then use the Python code we've provided in the previous assignments to check your work. Keep track of your work in a Google document or markdown file that you can submit below and share with your mentor.\n",
    "\n",
    "1. Greg was 14, Marcia was 12, Peter was 11, Jan was 10, Bobby was 8, and Cindy was 6 when they started playing the Brady kids on The Brady Bunch. Cousin Oliver was 8 years old when he joined the show. What are the mean, median, and mode of the kids' ages when they first appeared on the show? What are the variance, standard deviation, and standard error?\n",
    "2. Using these estimates, if you had to choose only one estimate of central tendency and one estimate of variance to describe the data, which would you pick and why?\n",
    "3. Next, Cindy has a birthday. Update your estimates- what changed, and what didn't?\n",
    "4. Nobody likes Cousin Oliver. Maybe the network should have used an even younger actor. Replace Cousin Oliver with 1-year-old Jessica, then recalculate again. Does this change your choice of central tendency or variance estimation methods?\n",
    "5. On the 50th anniversary of The Brady Bunch, four different magazines asked their readers whether they were fans of the show. The answers were: TV Guide 20% fans Entertainment Weekly 23% fans Pop Culture Today 17% fans SciPhi Phanatic 5% fans. Based on these numbers, what percentage of adult Americans would you estimate were Brady Bunch fans on the 50th anniversary of the show?"
   ]
  },
  {
   "cell_type": "markdown",
   "metadata": {},
   "source": [
    "### Import Statements"
   ]
  },
  {
   "cell_type": "code",
   "execution_count": 1,
   "metadata": {},
   "outputs": [],
   "source": [
    "import pandas as pd\n",
    "import matplotlib.pyplot as plt\n",
    "import numpy as np\n",
    "import statistics"
   ]
  },
  {
   "cell_type": "markdown",
   "metadata": {},
   "source": [
    "### Question One"
   ]
  },
  {
   "cell_type": "markdown",
   "metadata": {},
   "source": [
    "Greg was 14, Marcia was 12, Peter was 11, Jan was 10, Bobby was 8, and Cindy was 6 when they started playing the Brady kids on The Brady Bunch. Cousin Oliver was 8 years old when he joined the show. What are the mean, median, and mode of the kids' ages when they first appeared on the show? What are the variance, standard deviation, and standard error?"
   ]
  },
  {
   "cell_type": "markdown",
   "metadata": {},
   "source": [
    "**Question One Solved by Hand**"
   ]
  },
  {
   "cell_type": "markdown",
   "metadata": {},
   "source": [
    "- Mean: 9.86 years of age.\n",
    "- Median: 10\n",
    "- Mode: 8\n",
    "- Variance: 7.48\n",
    "\n",
    "_Variance calculations:_\n",
    "14-9.86 = 4.14 -> 4.14^2 = 17.14\n",
    "12-9.86 = 2.14 -> 2.14^2 = 4.58\n",
    "11-9.86 = 1.14 -> 1.14^2 = 1.30\n",
    "10-9.86 = .14 -> 0.14^2 = 0.02\n",
    "8-9.86 = -1.86 -> -1.86^2 = 3.46\n",
    "6-9.86 = -3.86 -> -3.86^2 = 14.89\n",
    "8-9.86 = -1.86 -> -1.86^2 = 3.46\n",
    "\n",
    "17.14 + 4.58 + 1.30 + 0.02 + 3.46 + 14.89 + 3.46 = 44.85 / (7-1) = 7.48\n",
    "\n",
    "- Standard Deviation: 2.74\n",
    "- Standard Error: 1.04"
   ]
  },
  {
   "cell_type": "markdown",
   "metadata": {},
   "source": [
    "**Question One Solved with Code**"
   ]
  },
  {
   "cell_type": "code",
   "execution_count": 2,
   "metadata": {},
   "outputs": [
    {
     "name": "stdout",
     "output_type": "stream",
     "text": [
      "Mean: 9.857142857142858\n",
      "Median: 10.0\n",
      "Mode: 8\n",
      "Variance: 6.408163265306122\n",
      "Standard Deviation: 2.734262327610589\n",
      "Standard Error: 1.0334540197243192\n"
     ]
    }
   ],
   "source": [
    "df=pd.DataFrame()\n",
    "df['age']=[6, 8, 8, 10, 11, 12, 14]\n",
    "\n",
    "np.mean(df['age'])\n",
    "print('Mean:', np.mean(df['age']))\n",
    "\n",
    "np.median(df['age'])\n",
    "print('Median:', np.median(df['age']))\n",
    "\n",
    "statistics.mode(df['age'])\n",
    "print('Mode:', statistics.mode(df['age']))\n",
    "\n",
    "df['age'].var()\n",
    "np.var(df.age)\n",
    "print('Variance:', np.var(df.age))\n",
    "# The variance I calculated by hand is different than what the code got, which means my standard deviation and standard error will probably be off, too. I could've gotten a different result because of rounding erros.\n",
    "\n",
    "np.std(df['age'], ddof=1)\n",
    "print('Standard Deviation:', np.std(df['age'], ddof=1))\n",
    "# My standard deviation was closer than expected.\n",
    "\n",
    "np.std(df['age'] ,ddof=1) / np.sqrt(len(df['age']))\n",
    "print('Standard Error:', np.std(df['age'] ,ddof=1) / np.sqrt(len(df['age'])))\n",
    "# My standard error was also closer than I would've guessed."
   ]
  },
  {
   "cell_type": "markdown",
   "metadata": {},
   "source": [
    "### Question Two"
   ]
  },
  {
   "cell_type": "markdown",
   "metadata": {},
   "source": [
    "Using these estimates, if you had to choose only one estimate of central tendency and one estimate of variance to describe the data, which would you pick and why?\n",
    "\n",
    "- For the central tendency, I'd pick the mean because there's an eight year gap between the youngest and oldest actors. \n",
    "- For estimate of the variance, I'd choose the variance since it shows the kid's ages are spread apart."
   ]
  },
  {
   "cell_type": "markdown",
   "metadata": {},
   "source": [
    "### Question Three"
   ]
  },
  {
   "cell_type": "markdown",
   "metadata": {},
   "source": [
    "Next, Cindy has a birthday. Update your estimates- what changed, and what didn't?"
   ]
  },
  {
   "cell_type": "code",
   "execution_count": 17,
   "metadata": {},
   "outputs": [
    {
     "name": "stdout",
     "output_type": "stream",
     "text": [
      "Mean: 10.0\n",
      "Median: 10.0\n",
      "Mode: 8\n",
      "Variance: 5.428571428571429\n",
      "Standard Deviation: 2.516611478423583\n",
      "Standard Error: 0.9511897312113418\n"
     ]
    }
   ],
   "source": [
    "df['age']=[7, 8, 8, 10, 11, 12, 14]\n",
    "\n",
    "np.mean(df['age'])\n",
    "print('Mean:', np.mean(df['age']))\n",
    "\n",
    "np.median(df['age'])\n",
    "print('Median:', np.median(df['age']))\n",
    "\n",
    "statistics.mode(df['age'])\n",
    "print('Mode:', statistics.mode(df['age']))\n",
    "\n",
    "df['age'].var()\n",
    "np.var(df.age)\n",
    "print('Variance:', np.var(df.age))\n",
    "\n",
    "np.std(df['age'], ddof=1)\n",
    "print('Standard Deviation:', np.std(df['age'], ddof=1))\n",
    "\n",
    "np.std(df['age'] ,ddof=1) / np.sqrt(len(df['age']))\n",
    "print('Standard Error:', np.std(df['age'] ,ddof=1) / np.sqrt(len(df['age'])))"
   ]
  },
  {
   "cell_type": "markdown",
   "metadata": {},
   "source": [
    "- These things changed:\n",
    "    - The mean rose.\n",
    "    - The variance, standard deviation and standard error dropped."
   ]
  },
  {
   "cell_type": "markdown",
   "metadata": {},
   "source": [
    "### Question Four"
   ]
  },
  {
   "cell_type": "markdown",
   "metadata": {},
   "source": [
    "Nobody likes Cousin Oliver. Maybe the network should have used an even younger actor. Replace Cousin Oliver with 1-year-old Jessica, then recalculate again. Does this change your choice of central tendency or variance estimation methods?"
   ]
  },
  {
   "cell_type": "code",
   "execution_count": 5,
   "metadata": {},
   "outputs": [
    {
     "name": "stdout",
     "output_type": "stream",
     "text": [
      "Mean: 9.0\n",
      "Median: 10.0\n",
      "Mode: there isn't a mode.\n",
      "Variance: 15.428571428571429\n",
      "Standard Deviation: 4.242640687119285\n",
      "Standard Error: 1.6035674514745462\n"
     ]
    }
   ],
   "source": [
    "df['age']=[7, 8, 1, 10, 11, 12, 14]\n",
    "\n",
    "np.mean(df['age'])\n",
    "print('Mean:', np.mean(df['age']))\n",
    "\n",
    "np.median(df['age'])\n",
    "print('Median:', np.median(df['age']))\n",
    "\n",
    "# I get an error when I try to solve for mode, so I'll print what the answer is.\n",
    "print(\"Mode: there isn't a mode.\")\n",
    "\n",
    "df['age'].var()\n",
    "np.var(df.age)\n",
    "print('Variance:', np.var(df.age))\n",
    "\n",
    "np.std(df['age'], ddof=1)\n",
    "print('Standard Deviation:', np.std(df['age'], ddof=1))\n",
    "\n",
    "np.std(df['age'] ,ddof=1) / np.sqrt(len(df['age']))\n",
    "print('Standard Error:', np.std(df['age'] ,ddof=1) / np.sqrt(len(df['age'])))"
   ]
  },
  {
   "cell_type": "markdown",
   "metadata": {},
   "source": [
    "Because Oliver's one year old, his age made the variance spike up. For the estimate of variance, I'd change my answer to standard deviation because it's a bette representative of the whole."
   ]
  },
  {
   "cell_type": "markdown",
   "metadata": {},
   "source": [
    "### Question Five"
   ]
  },
  {
   "cell_type": "markdown",
   "metadata": {},
   "source": [
    "On the 50th anniversary of The Brady Bunch, four different magazines asked their readers whether they were fans of the show. The answers were: TV Guide 20% fans Entertainment Weekly 23% fans Pop Culture Today 17% fans SciPhi Phanatic 5% fans. Based on these numbers, what percentage of adult Americans would you estimate were Brady Bunch fans on the 50th anniversary of the show?"
   ]
  },
  {
   "cell_type": "markdown",
   "metadata": {},
   "source": [
    "20% because my guess is that most people who watched The Brady Bunch also read TV Guide (since it's a legacy magazine)."
   ]
  },
  {
   "cell_type": "code",
   "execution_count": null,
   "metadata": {},
   "outputs": [],
   "source": []
  }
 ],
 "metadata": {
  "kernelspec": {
   "display_name": "Python 3",
   "language": "python",
   "name": "python3"
  },
  "language_info": {
   "codemirror_mode": {
    "name": "ipython",
    "version": 3
   },
   "file_extension": ".py",
   "mimetype": "text/x-python",
   "name": "python",
   "nbconvert_exporter": "python",
   "pygments_lexer": "ipython3",
   "version": "3.7.3"
  }
 },
 "nbformat": 4,
 "nbformat_minor": 2
}
