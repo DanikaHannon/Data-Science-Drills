{
 "cells": [
  {
   "cell_type": "markdown",
   "metadata": {},
   "source": [
    "## Assignments"
   ]
  },
  {
   "cell_type": "markdown",
   "metadata": {},
   "source": [
    "Using SQL, answer these questions:\n",
    "\n",
    "- What are the three longest trips on rainy days?\n",
    "- Which station is full most often?\n",
    "- Return a list of stations with a count of number of trips starting at that station, but ordered by dock count."
   ]
  },
  {
   "cell_type": "markdown",
   "metadata": {},
   "source": [
    " ### What are the three longest trips on rainy days?"
   ]
  },
  {
   "cell_type": "code",
   "execution_count": 4,
   "metadata": {},
   "outputs": [
    {
     "ename": "IndentationError",
     "evalue": "unexpected indent (<ipython-input-4-224dfb15796a>, line 2)",
     "output_type": "error",
     "traceback": [
      "\u001b[1;36m  File \u001b[1;32m\"<ipython-input-4-224dfb15796a>\"\u001b[1;36m, line \u001b[1;32m2\u001b[0m\n\u001b[1;33m    trips.duration,\u001b[0m\n\u001b[1;37m    ^\u001b[0m\n\u001b[1;31mIndentationError\u001b[0m\u001b[1;31m:\u001b[0m unexpected indent\n"
     ]
    }
   ],
   "source": [
    "SELECT \n",
    "\ttrips.duration, \n",
    "\tweather.precipitationin \n",
    "FROM \n",
    "\ttrips\n",
    "JOIN \n",
    "\tweather\n",
    "ON \n",
    "\ttrips.zip_code = weather.zip AND\n",
    "\t\tsubstring(trips.start_date, 1, 10) = weather.date\n",
    "WHERE\n",
    "\tprecipitationin > 0\n",
    "ORDER BY duration ASC\n",
    "LIMIT\n",
    "\t3;"
   ]
  },
  {
   "cell_type": "markdown",
   "metadata": {},
   "source": [
    "### Which station is full most often?"
   ]
  },
  {
   "cell_type": "code",
   "execution_count": 3,
   "metadata": {},
   "outputs": [
    {
     "ename": "IndentationError",
     "evalue": "unindent does not match any outer indentation level (<tokenize>, line 3)",
     "output_type": "error",
     "traceback": [
      "\u001b[1;36m  File \u001b[1;32m\"<tokenize>\"\u001b[1;36m, line \u001b[1;32m3\u001b[0m\n\u001b[1;33m    COUNT(*)\u001b[0m\n\u001b[1;37m    ^\u001b[0m\n\u001b[1;31mIndentationError\u001b[0m\u001b[1;31m:\u001b[0m unindent does not match any outer indentation level\n"
     ]
    }
   ],
   "source": [
    "SELECT\n",
    "\tend_station,\n",
    "    COUNT(*)\n",
    "FROM\n",
    "    trips\n",
    "GROUP BY 1\n",
    "ORDER BY count DESC;"
   ]
  },
  {
   "cell_type": "markdown",
   "metadata": {},
   "source": [
    "### Return a list of stations with a count of number of trips starting at that station, but ordered by dock count."
   ]
  },
  {
   "cell_type": "code",
   "execution_count": 5,
   "metadata": {},
   "outputs": [
    {
     "ename": "IndentationError",
     "evalue": "unexpected indent (<ipython-input-5-5414017827f0>, line 2)",
     "output_type": "error",
     "traceback": [
      "\u001b[1;36m  File \u001b[1;32m\"<ipython-input-5-5414017827f0>\"\u001b[1;36m, line \u001b[1;32m2\u001b[0m\n\u001b[1;33m    trips.start_station,\u001b[0m\n\u001b[1;37m    ^\u001b[0m\n\u001b[1;31mIndentationError\u001b[0m\u001b[1;31m:\u001b[0m unexpected indent\n"
     ]
    }
   ],
   "source": [
    "SELECT\n",
    "\ttrips.start_station,\n",
    "\tstations.dockcount\n",
    "FROM\n",
    "\ttrips\n",
    "JOIN\n",
    "\tstations\n",
    "ON\n",
    "\ttrips.start_station = stations.name"
   ]
  },
  {
   "cell_type": "code",
   "execution_count": null,
   "metadata": {},
   "outputs": [],
   "source": []
  }
 ],
 "metadata": {
  "kernelspec": {
   "display_name": "Python 3",
   "language": "python",
   "name": "python3"
  },
  "language_info": {
   "codemirror_mode": {
    "name": "ipython",
    "version": 3
   },
   "file_extension": ".py",
   "mimetype": "text/x-python",
   "name": "python",
   "nbconvert_exporter": "python",
   "pygments_lexer": "ipython3",
   "version": "3.7.3"
  }
 },
 "nbformat": 4,
 "nbformat_minor": 2
}
