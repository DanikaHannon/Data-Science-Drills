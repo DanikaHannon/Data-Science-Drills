﻿{
 "cells": [
  {
   "cell_type": "markdown",
   "metadata": {},
   "source": [
    "# Assignment\n",
    "\n",
    "In this exercise, you'll predict house prices using your model. To complete this assignment, submit a link to a Jupyter notebook containing your solutions to the following tasks:\n",
    "\n",
    "- Load the houseprices data from Thinkful's database.\n",
    "- Split your data into train and test sets.\n",
    "- Estimate your model from the previous checkpoint in the train set. Assess the goodness of fit of your model.\n",
    "- Predict the house prices in the test set, and evaluate the performance of your model using the metrics we mentioned in this checkpoint.\n",
    "- Is the performance of your model satisfactory? Why?\n",
    "- Try to improve your model in terms of predictive performance by adding or removing some variables.\n",
    "\n",
    "Please submit a link your work notebook. This is not a graded checkpoint, but you should discuss your solutions with your mentor. Also, when you're done, compare your work to this [example solution](https://github.com/Thinkful-Ed/machine-learning-regression-problems/blob/master/notebooks/6.solution_making_predictions.ipynb)."
   ]
  },
  {
   "cell_type": "markdown",
   "metadata": {},
   "source": [
    "### Import Statements"
   ]
  },
  {
   "cell_type": "code",
   "execution_count": 37,
   "metadata": {},
   "outputs": [],
   "source": [
    "import matplotlib.pyplot as plt\n",
    "import seaborn as sns\n",
    "import numpy as np\n",
    "import pandas as pd\n",
    "import seaborn as sns\n",
    "import scipy.stats as stats\n",
    "from scipy.stats.mstats import winsorize\n",
    "from scipy.stats import bartlett\n",
    "from scipy.stats import levene\n",
    "from scipy.stats import jarque_bera\n",
    "from scipy.stats import normaltest\n",
    "from statsmodels.tsa.stattools import acf\n",
    "from sklearn import linear_model\n",
    "from sklearn.metrics import mean_absolute_error\n",
    "from sklearn.model_selection import train_test_split\n",
    "from sqlalchemy import create_engine\n",
    "import statsmodels.api as sm\n",
    "from statsmodels.tools.eval_measures import mse, rmse\n",
    "\n",
    "# Display preferences.\n",
    "%matplotlib inline\n",
    "pd.options.display.float_format = '{:.3f}'.format\n",
    "\n",
    "import warnings\n",
    "warnings.filterwarnings('ignore')"
   ]
  },
  {
   "cell_type": "markdown",
   "metadata": {},
   "source": [
    "### Loading the House Prices Dataframe"
   ]
  },
  {
   "cell_type": "code",
   "execution_count": 24,
   "metadata": {},
   "outputs": [],
   "source": [
    "postgres_user = 'dsbc_student'\n",
    "postgres_pw = '7*.8G9QH21'\n",
    "postgres_host = '142.93.121.174'\n",
    "postgres_port = '5432'\n",
    "postgres_db = 'houseprices'\n",
    "\n",
    "engine = create_engine('postgresql://{}:{}@{}:{}/{}'.format(\n",
    "    postgres_user, postgres_pw, postgres_host, postgres_port, postgres_db))\n",
    "house_prices_df = pd.read_sql_query('select * from houseprices',con=engine)\n",
    "\n",
    "engine.dispose()"
   ]
  },
  {
   "cell_type": "markdown",
   "metadata": {},
   "source": [
    "### EDA on the House Prices Dataframe\n",
    "\n",
    "Please note that I'm re-using code from earlier assingments in this module."
   ]
  },
  {
   "cell_type": "code",
   "execution_count": 25,
   "metadata": {},
   "outputs": [],
   "source": [
    "# Dropping columns that don't have less than 800 datapoints (compared to 1400).\n",
    "\n",
    "fist_revision_house_prices_df = house_prices_df.drop(columns=['alley', 'fence', 'fireplacequ', 'poolqc', 'miscfeature', 'id'])"
   ]
  },
  {
   "cell_type": "code",
   "execution_count": 26,
   "metadata": {},
   "outputs": [],
   "source": [
    "# Dropping columns that can't be transformed with one-hot encoding.\n",
    "\n",
    "second_revision_house_prices_df = fist_revision_house_prices_df.drop(columns=['mszoning', 'lotshape', 'landcontour', \n",
    "                                    'lotconfig', 'landslope', 'neighborhood', 'condition1', 'condition2', 'bldgtype', \n",
    "                                    'housestyle', 'roofstyle', 'roofmatl', 'exterior1st', 'exterior2nd', 'masvnrtype', \n",
    "                                    'exterqual', 'extercond', 'foundation', 'bsmtqual', 'bsmtexposure', 'bsmtfintype1', \n",
    "                                    'bsmtfintype2', 'heating', 'heatingqc', 'electrical', 'kitchenqual', 'functional', \n",
    "                                    'garagetype', 'garagefinish', 'garagequal', 'garagecond', 'paveddrive', 'saletype', \n",
    "                                    'salecondition'])"
   ]
  },
  {
   "cell_type": "code",
   "execution_count": 27,
   "metadata": {},
   "outputs": [],
   "source": [
    "# Transforming categorical variables using one-hot encoding.\n",
    "\n",
    "second_revision_house_prices_df['street'] = pd.get_dummies(second_revision_house_prices_df['street'], drop_first=True)\n",
    "\n",
    "second_revision_house_prices_df['utilities'] = pd.get_dummies(second_revision_house_prices_df['utilities'], drop_first=True)\n",
    "\n",
    "second_revision_house_prices_df['bsmtcond'] = pd.get_dummies(second_revision_house_prices_df['bsmtcond'], drop_first=True)\n",
    "\n",
    "second_revision_house_prices_df['centralair'] = pd.get_dummies(second_revision_house_prices_df['centralair'], drop_first=True)"
   ]
  },
  {
   "cell_type": "code",
   "execution_count": 28,
   "metadata": {},
   "outputs": [],
   "source": [
    "# Filling in missing values with means.\n",
    "\n",
    "third_revision_house_prices_df = second_revision_house_prices_df.copy()\n",
    "\n",
    "replace_nans_with_means_list = ['lotfrontage', 'masvnrarea', 'garageyrblt']\n",
    "\n",
    "for col in replace_nans_with_means_list:\n",
    "        third_revision_house_prices_df.fillna(third_revision_house_prices_df[replace_nans_with_means_list\n",
    "        ].mean(), inplace=True)"
   ]
  },
  {
   "cell_type": "code",
   "execution_count": 41,
   "metadata": {},
   "outputs": [
    {
     "data": {
      "text/html": [
       "<div>\n",
       "<style scoped>\n",
       "    .dataframe tbody tr th:only-of-type {\n",
       "        vertical-align: middle;\n",
       "    }\n",
       "\n",
       "    .dataframe tbody tr th {\n",
       "        vertical-align: top;\n",
       "    }\n",
       "\n",
       "    .dataframe thead th {\n",
       "        text-align: right;\n",
       "    }\n",
       "</style>\n",
       "<table border=\"1\" class=\"dataframe\">\n",
       "  <thead>\n",
       "    <tr style=\"text-align: right;\">\n",
       "      <th></th>\n",
       "      <th>mssubclass</th>\n",
       "      <th>lotfrontage</th>\n",
       "      <th>lotarea</th>\n",
       "      <th>street</th>\n",
       "      <th>utilities</th>\n",
       "      <th>overallqual</th>\n",
       "      <th>overallcond</th>\n",
       "      <th>yearbuilt</th>\n",
       "      <th>yearremodadd</th>\n",
       "      <th>masvnrarea</th>\n",
       "      <th>...</th>\n",
       "      <th>wooddecksf</th>\n",
       "      <th>openporchsf</th>\n",
       "      <th>enclosedporch</th>\n",
       "      <th>threessnporch</th>\n",
       "      <th>screenporch</th>\n",
       "      <th>poolarea</th>\n",
       "      <th>miscval</th>\n",
       "      <th>mosold</th>\n",
       "      <th>yrsold</th>\n",
       "      <th>saleprice</th>\n",
       "    </tr>\n",
       "  </thead>\n",
       "  <tbody>\n",
       "    <tr>\n",
       "      <th>0</th>\n",
       "      <td>60</td>\n",
       "      <td>65.000</td>\n",
       "      <td>8450</td>\n",
       "      <td>1</td>\n",
       "      <td>0</td>\n",
       "      <td>7</td>\n",
       "      <td>5</td>\n",
       "      <td>2003</td>\n",
       "      <td>2003</td>\n",
       "      <td>196.000</td>\n",
       "      <td>...</td>\n",
       "      <td>0</td>\n",
       "      <td>61</td>\n",
       "      <td>0</td>\n",
       "      <td>0</td>\n",
       "      <td>0</td>\n",
       "      <td>0</td>\n",
       "      <td>0</td>\n",
       "      <td>2</td>\n",
       "      <td>2008</td>\n",
       "      <td>208500</td>\n",
       "    </tr>\n",
       "    <tr>\n",
       "      <th>1</th>\n",
       "      <td>20</td>\n",
       "      <td>80.000</td>\n",
       "      <td>9600</td>\n",
       "      <td>1</td>\n",
       "      <td>0</td>\n",
       "      <td>6</td>\n",
       "      <td>8</td>\n",
       "      <td>1976</td>\n",
       "      <td>1976</td>\n",
       "      <td>0.000</td>\n",
       "      <td>...</td>\n",
       "      <td>298</td>\n",
       "      <td>0</td>\n",
       "      <td>0</td>\n",
       "      <td>0</td>\n",
       "      <td>0</td>\n",
       "      <td>0</td>\n",
       "      <td>0</td>\n",
       "      <td>5</td>\n",
       "      <td>2007</td>\n",
       "      <td>181500</td>\n",
       "    </tr>\n",
       "    <tr>\n",
       "      <th>2</th>\n",
       "      <td>60</td>\n",
       "      <td>68.000</td>\n",
       "      <td>11250</td>\n",
       "      <td>1</td>\n",
       "      <td>0</td>\n",
       "      <td>7</td>\n",
       "      <td>5</td>\n",
       "      <td>2001</td>\n",
       "      <td>2002</td>\n",
       "      <td>162.000</td>\n",
       "      <td>...</td>\n",
       "      <td>0</td>\n",
       "      <td>42</td>\n",
       "      <td>0</td>\n",
       "      <td>0</td>\n",
       "      <td>0</td>\n",
       "      <td>0</td>\n",
       "      <td>0</td>\n",
       "      <td>9</td>\n",
       "      <td>2008</td>\n",
       "      <td>223500</td>\n",
       "    </tr>\n",
       "    <tr>\n",
       "      <th>3</th>\n",
       "      <td>70</td>\n",
       "      <td>60.000</td>\n",
       "      <td>9550</td>\n",
       "      <td>1</td>\n",
       "      <td>0</td>\n",
       "      <td>7</td>\n",
       "      <td>5</td>\n",
       "      <td>1915</td>\n",
       "      <td>1970</td>\n",
       "      <td>0.000</td>\n",
       "      <td>...</td>\n",
       "      <td>0</td>\n",
       "      <td>35</td>\n",
       "      <td>272</td>\n",
       "      <td>0</td>\n",
       "      <td>0</td>\n",
       "      <td>0</td>\n",
       "      <td>0</td>\n",
       "      <td>2</td>\n",
       "      <td>2006</td>\n",
       "      <td>140000</td>\n",
       "    </tr>\n",
       "    <tr>\n",
       "      <th>4</th>\n",
       "      <td>60</td>\n",
       "      <td>84.000</td>\n",
       "      <td>14260</td>\n",
       "      <td>1</td>\n",
       "      <td>0</td>\n",
       "      <td>8</td>\n",
       "      <td>5</td>\n",
       "      <td>2000</td>\n",
       "      <td>2000</td>\n",
       "      <td>350.000</td>\n",
       "      <td>...</td>\n",
       "      <td>192</td>\n",
       "      <td>84</td>\n",
       "      <td>0</td>\n",
       "      <td>0</td>\n",
       "      <td>0</td>\n",
       "      <td>0</td>\n",
       "      <td>0</td>\n",
       "      <td>12</td>\n",
       "      <td>2008</td>\n",
       "      <td>250000</td>\n",
       "    </tr>\n",
       "  </tbody>\n",
       "</table>\n",
       "<p>5 rows × 41 columns</p>\n",
       "</div>"
      ],
      "text/plain": [
       "   mssubclass  lotfrontage  lotarea  street  utilities  overallqual  \\\n",
       "0          60       65.000     8450       1          0            7   \n",
       "1          20       80.000     9600       1          0            6   \n",
       "2          60       68.000    11250       1          0            7   \n",
       "3          70       60.000     9550       1          0            7   \n",
       "4          60       84.000    14260       1          0            8   \n",
       "\n",
       "   overallcond  yearbuilt  yearremodadd  masvnrarea  ...  wooddecksf  \\\n",
       "0            5       2003          2003     196.000  ...           0   \n",
       "1            8       1976          1976       0.000  ...         298   \n",
       "2            5       2001          2002     162.000  ...           0   \n",
       "3            5       1915          1970       0.000  ...           0   \n",
       "4            5       2000          2000     350.000  ...         192   \n",
       "\n",
       "   openporchsf  enclosedporch  threessnporch  screenporch  poolarea  miscval  \\\n",
       "0           61              0              0            0         0        0   \n",
       "1            0              0              0            0         0        0   \n",
       "2           42              0              0            0         0        0   \n",
       "3           35            272              0            0         0        0   \n",
       "4           84              0              0            0         0        0   \n",
       "\n",
       "   mosold  yrsold  saleprice  \n",
       "0       2    2008     208500  \n",
       "1       5    2007     181500  \n",
       "2       9    2008     223500  \n",
       "3       2    2006     140000  \n",
       "4      12    2008     250000  \n",
       "\n",
       "[5 rows x 41 columns]"
      ]
     },
     "execution_count": 41,
     "metadata": {},
     "output_type": "execute_result"
    }
   ],
   "source": [
    "# Log transforming the data to normalize it.\n",
    "\n",
    "fourth_revision_house_prices_df = third_revision_house_prices_df.copy()\n",
    "\n",
    "log_transform_list = ['mssubclass', 'lotfrontage', 'lotarea', 'street', 'utilities', 'overallqual', 'overallcond', 'yearbuilt',\n",
    "                 'yearremodadd', 'masvnrarea', 'bsmtcond', 'bsmtfinsf1', 'bsmtfinsf2', 'bsmtunfsf', 'totalbsmtsf', 'centralair',\n",
    "                 'firstflrsf', 'secondflrsf', 'lowqualfinsf', 'grlivarea', 'bsmtfullbath', 'bsmthalfbath', 'fullbath',\n",
    "                 'halfbath', 'bedroomabvgr', 'totrmsabvgrd', 'fireplaces', 'garageyrblt', 'garagecars', 'garagearea',\n",
    "                 'wooddecksf', 'openporchsf', 'enclosedporch', 'threessnporch', 'screenporch', 'poolarea', 'miscval',\n",
    "                 'mosold', 'yrsold', 'saleprice']\n",
    "\n",
    "for col in log_transform_list:\n",
    "    np.log(fourth_revision_house_prices_df[log_transform_list])\n",
    "    \n",
    "fourth_revision_house_prices_df.head()"
   ]
  },
  {
   "cell_type": "markdown",
   "metadata": {},
   "source": [
    "### Splitting the Data into Train and Test Sets"
   ]
  },
  {
   "cell_type": "code",
   "execution_count": 33,
   "metadata": {},
   "outputs": [
    {
     "name": "stdout",
     "output_type": "stream",
     "text": [
      "- The number of observations in the training set is: 1168\n",
      "- The number of observations in the test set is: 292\n"
     ]
    }
   ],
   "source": [
    "# Y is the target variable.\n",
    "Y = fourth_revision_house_prices_df['saleprice']\n",
    "\n",
    "# X is the feature set.\n",
    "X = fourth_revision_house_prices_df[['overallqual', 'grlivarea', 'garagecars', 'garagearea', 'totalbsmtsf']]\n",
    "\n",
    "X_train, X_test, y_train, y_test = train_test_split(X, Y, test_size = 0.2, random_state = 465)\n",
    "\n",
    "print('- The number of observations in the training set is: {}'.format(X_train.shape[0]))\n",
    "print('- The number of observations in the test set is: {}'.format(X_test.shape[0]))"
   ]
  },
  {
   "cell_type": "markdown",
   "metadata": {},
   "source": [
    "### Estimate your model from the previous checkpoint in the train set. Assess the goodness of fit of your model."
   ]
  },
  {
   "cell_type": "code",
   "execution_count": 34,
   "metadata": {},
   "outputs": [
    {
     "name": "stdout",
     "output_type": "stream",
     "text": [
      "                            OLS Regression Results                            \n",
      "==============================================================================\n",
      "Dep. Variable:              saleprice   R-squared:                       0.759\n",
      "Model:                            OLS   Adj. R-squared:                  0.758\n",
      "Method:                 Least Squares   F-statistic:                     731.8\n",
      "Date:                Wed, 21 Aug 2019   Prob (F-statistic):               0.00\n",
      "Time:                        20:08:11   Log-Likelihood:                -13995.\n",
      "No. Observations:                1168   AIC:                         2.800e+04\n",
      "Df Residuals:                    1162   BIC:                         2.803e+04\n",
      "Df Model:                           5                                         \n",
      "Covariance Type:            nonrobust                                         \n",
      "===============================================================================\n",
      "                  coef    std err          t      P>|t|      [0.025      0.975]\n",
      "-------------------------------------------------------------------------------\n",
      "const       -9.889e+04   5212.322    -18.972      0.000   -1.09e+05   -8.87e+04\n",
      "overallqual  2.456e+04   1222.631     20.090      0.000    2.22e+04     2.7e+04\n",
      "grlivarea      42.8624      2.764     15.505      0.000      37.439      48.286\n",
      "garagecars   1.542e+04   3451.823      4.467      0.000    8647.779    2.22e+04\n",
      "garagearea     18.3809     11.653      1.577      0.115      -4.482      41.244\n",
      "totalbsmtsf    27.2085      3.154      8.628      0.000      21.021      33.396\n",
      "==============================================================================\n",
      "Omnibus:                      392.514   Durbin-Watson:                   1.857\n",
      "Prob(Omnibus):                  0.000   Jarque-Bera (JB):            30447.614\n",
      "Skew:                          -0.613   Prob(JB):                         0.00\n",
      "Kurtosis:                      27.983   Cond. No.                     9.35e+03\n",
      "==============================================================================\n",
      "\n",
      "Warnings:\n",
      "[1] Standard Errors assume that the covariance matrix of the errors is correctly specified.\n",
      "[2] The condition number is large, 9.35e+03. This might indicate that there are\n",
      "strong multicollinearity or other numerical problems.\n"
     ]
    }
   ],
   "source": [
    "# Add a constant to the model.\n",
    "X_train = sm.add_constant(X_train)\n",
    "\n",
    "# Fit an OLS model using statsmodels.\n",
    "results = sm.OLS(y_train, X_train).fit()\n",
    "\n",
    "# Print the summary results.\n",
    "print(results.summary())"
   ]
  },
  {
   "cell_type": "markdown",
   "metadata": {},
   "source": [
    "Assessing the goodness fit of the model: \n",
    "\n",
    "- F-test: 731.8 <--- I need coaching on how to interpret the f-test.\n",
    "- R-squared: 0.759\n",
    "- Adjusted R-squared: 0.758\n",
    "- AIC: 2.800e+04\n",
    "- BIC: 2.803e+04\n",
    "\n",
    "Both the R-squared and adjusted R-squared values are high, which is good. But the AIC and BIC values seem really high at 28,000 and 28,030."
   ]
  },
  {
   "cell_type": "markdown",
   "metadata": {},
   "source": [
    "### Predict the house prices in the test set, and evaluate the performance of your model using the metrics we mentioned in this checkpoint."
   ]
  },
  {
   "cell_type": "code",
   "execution_count": 42,
   "metadata": {},
   "outputs": [
    {
     "data": {
      "image/png": "[encoded data removed]",
      "text/plain": [
       "<Figure size 432x288 with 1 Axes>"
      ]
     },
     "metadata": {
      "needs_background": "light"
     },
     "output_type": "display_data"
    },
    {
     "name": "stdout",
     "output_type": "stream",
     "text": [
      "- The mean absolute error of the prediction is: 25964.899373830667\n",
      "- The mean squared error of the prediction is: 1573437538.2927911\n",
      "- The root mean squared error of the prediction is: 39666.57961423938\n",
      "- The mean absolute percentage error of the prediction is: 16.09717844469907\n"
     ]
    }
   ],
   "source": [
    "# Add a constant to the model.\n",
    "X_test = sm.add_constant(X_test)\n",
    "\n",
    "# We're making predictions here.\n",
    "y_preds = results.predict(X_test)\n",
    "\n",
    "plt.scatter(y_test, y_preds)\n",
    "plt.plot(y_test, y_test, color='red')\n",
    "plt.xlabel('True Values')\n",
    "plt.ylabel('Predicted Values')\n",
    "plt.title('Charges: True and Predicted Values')\n",
    "plt.show()\n",
    "\n",
    "# Mean absolute error (MEA): the average of the absolute values of the errors between the true values and the predicted values.\n",
    "print('- The mean absolute error of the prediction is: {}'.format(mean_absolute_error(y_test, y_preds)))\n",
    "\n",
    "# Mean squared error (MSE): the average of the squared errors between the true values and the predicted values.\n",
    "print('- The mean squared error of the prediction is: {}'.format(mse(y_test, y_preds)))\n",
    "\n",
    "# Root mean squared error (RMSE): the square root of the MSE.\n",
    "print('- The root mean squared error of the prediction is: {}'.format(rmse(y_test, y_preds)))\n",
    "\n",
    "# Mean absolute percentage error (MAPE): the average of the ratio of the absolute values of the errors to the  true values.\n",
    "print('- The mean absolute percentage error of the prediction is: {}'.format(np.mean(np.abs((y_test - y_preds) / \n",
    "        y_test)) * 100))"
   ]
  },
  {
   "cell_type": "markdown",
   "metadata": {},
   "source": [
    "### Is the performance of your model satisfactory? Why?"
   ]
  },
  {
   "cell_type": "markdown",
   "metadata": {},
   "source": [
    "Overall, no, the performance of the model's not satisfactory.\n",
    "\n",
    "The mean absolute error, mean squared error and root mean squared error values are very high. The mean absolute percentage erorr's low, which is good, but that doesn't off-set the other three metrics."
   ]
  },
  {
   "cell_type": "markdown",
   "metadata": {},
   "source": [
    "### Try to improve your model in terms of predictive performance by adding or removing some variables.\n",
    "\n",
    "_The Second Version of the Model_\n",
    "\n",
    "I'll remove two variables ('garagearea' and 'totalbsmtsf') for this version of the model."
   ]
  },
  {
   "cell_type": "code",
   "execution_count": 49,
   "metadata": {},
   "outputs": [
    {
     "name": "stdout",
     "output_type": "stream",
     "text": [
      "- The number of observations in the training set is: 1168\n",
      "- The number of observations in the test set is: 292\n"
     ]
    }
   ],
   "source": [
    "# Y is the target variable.\n",
    "Y = fourth_revision_house_prices_df['saleprice']\n",
    "\n",
    "# X is the feature set.\n",
    "# Please note I'm removing 'garagearea' and 'totalbsmtsf' from this model.\n",
    "X_two = fourth_revision_house_prices_df[['overallqual', 'grlivarea', 'garagecars']]\n",
    "\n",
    "X_train, X_test, y_train, y_test = train_test_split(X_two, Y, test_size = 0.2, random_state = 465)\n",
    "\n",
    "print('- The number of observations in the training set is: {}'.format(X_train.shape[0]))\n",
    "print('- The number of observations in the test set is: {}'.format(X_test.shape[0]))"
   ]
  },
  {
   "cell_type": "code",
   "execution_count": 50,
   "metadata": {},
   "outputs": [],
   "source": [
    "# Add a constant to the model.\n",
    "X_train = sm.add_constant(X_train)\n",
    "\n",
    "# Fit an OLS model using statsmodels.\n",
    "results = sm.OLS(y_train, X_train).fit()"
   ]
  },
  {
   "cell_type": "code",
   "execution_count": 51,
   "metadata": {},
   "outputs": [
    {
     "data": {
      "image/png": "[encoded data removed]",
      "text/plain": [
       "<Figure size 432x288 with 1 Axes>"
      ]
     },
     "metadata": {
      "needs_background": "light"
     },
     "output_type": "display_data"
    },
    {
     "name": "stdout",
     "output_type": "stream",
     "text": [
      "- The mean absolute error of the prediction is: 28626.546525637634\n",
      "- The mean squared error of the prediction is: 1802524017.4160779\n",
      "- The root mean squared error of the prediction is: 42456.1422813717\n",
      "- The mean absolute percentage error of the prediction is: 17.741520714161055\n"
     ]
    }
   ],
   "source": [
    "# Add a constant to the model.\n",
    "X_test = sm.add_constant(X_test)\n",
    "\n",
    "# We're making predictions here.\n",
    "y_preds = results.predict(X_test)\n",
    "\n",
    "plt.scatter(y_test, y_preds)\n",
    "plt.plot(y_test, y_test, color='red')\n",
    "plt.xlabel('True Values')\n",
    "plt.ylabel('Predicted Values')\n",
    "plt.title('Charges: True and Predicted Values')\n",
    "plt.show()\n",
    "\n",
    "# Mean absolute error (MEA): the average of the absolute values of the errors between the true values and the predicted values.\n",
    "print('- The mean absolute error of the prediction is: {}'.format(mean_absolute_error(y_test, y_preds)))\n",
    "\n",
    "# Mean squared error (MSE): the average of the squared errors between the true values and the predicted values.\n",
    "print('- The mean squared error of the prediction is: {}'.format(mse(y_test, y_preds)))\n",
    "\n",
    "# Root mean squared error (RMSE): the square root of the MSE.\n",
    "print('- The root mean squared error of the prediction is: {}'.format(rmse(y_test, y_preds)))\n",
    "\n",
    "# Mean absolute percentage error (MAPE): the average of the ratio of the absolute values of the errors to the  true values.\n",
    "print('- The mean absolute percentage error of the prediction is: {}'.format(np.mean(np.abs((y_test - y_preds) / \n",
    "        y_test)) * 100))"
   ]
  },
  {
   "cell_type": "markdown",
   "metadata": {},
   "source": [
    "_The Third Version of the Model_\n",
    "\n",
    "I'll add two variables ('fullbath' and 'fireplaces') for this version of the model."
   ]
  },
  {
   "cell_type": "code",
   "execution_count": 52,
   "metadata": {},
   "outputs": [
    {
     "name": "stdout",
     "output_type": "stream",
     "text": [
      "- The number of observations in the training set is: 1168\n",
      "- The number of observations in the test set is: 292\n"
     ]
    }
   ],
   "source": [
    "# Y is the target variable.\n",
    "Y = fourth_revision_house_prices_df['saleprice']\n",
    "\n",
    "# X is the feature set.\n",
    "# Please note I'm adding 'fullbath' and 'fireplaces'.\n",
    "X_three = fourth_revision_house_prices_df[['overallqual', 'grlivarea', 'garagecars', 'garagearea', 'totalbsmtsf', 'fullbath',\n",
    "    'fireplaces']]\n",
    "\n",
    "X_train, X_test, y_train, y_test = train_test_split(X_three, Y, test_size = 0.2, random_state = 465)\n",
    "\n",
    "print('- The number of observations in the training set is: {}'.format(X_train.shape[0]))\n",
    "print('- The number of observations in the test set is: {}'.format(X_test.shape[0]))"
   ]
  },
  {
   "cell_type": "code",
   "execution_count": 53,
   "metadata": {},
   "outputs": [],
   "source": [
    "# Add a constant to the model.\n",
    "X_train = sm.add_constant(X_train)\n",
    "\n",
    "# Fit an OLS model using statsmodels.\n",
    "results = sm.OLS(y_train, X_train).fit()"
   ]
  },
  {
   "cell_type": "code",
   "execution_count": 54,
   "metadata": {},
   "outputs": [
    {
     "data": {
      "image/png": "[encoded data removed]",
      "text/plain": [
       "<Figure size 432x288 with 1 Axes>"
      ]
     },
     "metadata": {
      "needs_background": "light"
     },
     "output_type": "display_data"
    },
    {
     "name": "stdout",
     "output_type": "stream",
     "text": [
      "- The mean absolute error of the prediction is: 25988.72543482255\n",
      "- The mean squared error of the prediction is: 1583404525.4548376\n",
      "- The root mean squared error of the prediction is: 39792.01585060548\n",
      "- The mean absolute percentage error of the prediction is: 16.0393672680024\n"
     ]
    }
   ],
   "source": [
    "# Add a constant to the model.\n",
    "X_test = sm.add_constant(X_test)\n",
    "\n",
    "# We're making predictions here.\n",
    "y_preds = results.predict(X_test)\n",
    "\n",
    "plt.scatter(y_test, y_preds)\n",
    "plt.plot(y_test, y_test, color='red')\n",
    "plt.xlabel('True Values')\n",
    "plt.ylabel('Predicted Values')\n",
    "plt.title('Charges: True and Predicted Values')\n",
    "plt.show()\n",
    "\n",
    "# Mean absolute error (MEA): the average of the absolute values of the errors between the true values and the predicted values.\n",
    "print('- The mean absolute error of the prediction is: {}'.format(mean_absolute_error(y_test, y_preds)))\n",
    "\n",
    "# Mean squared error (MSE): the average of the squared errors between the true values and the predicted values.\n",
    "print('- The mean squared error of the prediction is: {}'.format(mse(y_test, y_preds)))\n",
    "\n",
    "# Root mean squared error (RMSE): the square root of the MSE.\n",
    "print('- The root mean squared error of the prediction is: {}'.format(rmse(y_test, y_preds)))\n",
    "\n",
    "# Mean absolute percentage error (MAPE): the average of the ratio of the absolute values of the errors to the  true values.\n",
    "print('- The mean absolute percentage error of the prediction is: {}'.format(np.mean(np.abs((y_test - y_preds) / \n",
    "        y_test)) * 100))"
   ]
  },
  {
   "cell_type": "markdown",
   "metadata": {},
   "source": [
    "_Comparing the Three Models_\n",
    "\n",
    "- Model One ('overallqual', 'grlivarea', 'garagecars', 'garagearea' and 'totalbsmtsf' were in the feature set):\n",
    "    - The mean absolute error of the prediction is: 25964.899373830667\n",
    "    - The mean squared error of the prediction is: 1573437538.2927911\n",
    "    - The root mean squared error of the prediction is: 39666.57961423938\n",
    "    - The mean absolute percentage error of the prediction is: 16.09717844469907\n",
    "\n",
    "\n",
    "- Model Two ('overallqual', 'grlivarea' and 'garagecars' were in the feature set):\n",
    "    - The mean absolute error of the prediction is: 28626.546525637634\n",
    "    - The mean squared error of the prediction is: 1802524017.4160779\n",
    "    - The root mean squared error of the prediction is: 42456.1422813717\n",
    "    - The mean absolute percentage error of the prediction is: 17.741520714161055\n",
    "\n",
    "\n",
    "- Model Three ('overallqual', 'grlivarea', 'garagecars', 'garagearea', 'totalbsmtsf', 'fullbath' and 'fireplaces' were in the feature set): \n",
    "    - The mean absolute error of the prediction is: 25988.72543482255\n",
    "    - The mean squared error of the prediction is: 1583404525.4548376\n",
    "    - The root mean squared error of the prediction is: 39792.01585060548\n",
    "    - The mean absolute percentage error of the prediction is: 16.0393672680024\n",
    "    \n",
    "    \n",
    "I didn't think the first model performed well, but it did better than the first and second model.\n",
    "\n",
    "The results I'm getting still seem really high, though, and I'd like to talk to my mentor about why that is."
   ]
  },
  {
   "cell_type": "code",
   "execution_count": null,
   "metadata": {},
   "outputs": [],
   "source": []
  }
 ],
 "metadata": {
  "kernelspec": {
   "display_name": "Python 3",
   "language": "python",
   "name": "python3"
  },
  "language_info": {
   "codemirror_mode": {
    "name": "ipython",
    "version": 3
   },
   "file_extension": ".py",
   "mimetype": "text/x-python",
   "name": "python",
   "nbconvert_exporter": "python",
   "pygments_lexer": "ipython3",
   "version": "3.7.3"
  }
 },
 "nbformat": 4,
 "nbformat_minor": 2
}
