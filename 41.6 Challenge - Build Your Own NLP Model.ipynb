﻿{
  "nbformat": 4,
  "nbformat_minor": 0,
  "metadata": {
    "colab": {
      "name": "41.6 Challenge: Build Your Own NLP Model.ipynb",
      "provenance": [],
      "collapsed_sections": []
    },
    "kernelspec": {
      "name": "python3",
      "display_name": "Python 3"
    }
  },
  "cells": [
    {
      "cell_type": "markdown",
      "metadata": {
        "id": "Tp-SdUfK_bcw",
        "colab_type": "text"
      },
      "source": [
        "# Challenge: Build Your Own NLP Model\n",
        "\n",
        "For this challenge, you will need to choose a corpus of data from nltk or another source that includes categories you can predict and create an analysis pipeline that includes the following steps:\n",
        "\n",
        "1. Data cleaning / processing / language parsing\n",
        "2. Create features using two different NLP methods: For example, BoW vs tf-idf.\n",
        "3. Use the features to fit supervised learning models for each feature set to predict the category outcomes.\n",
        "4. Assess your models using cross-validation and determine whether one model performed better.\n",
        "5. Pick one of the models and try to increase accuracy by at least 5 percentage points.\n",
        "\n",
        "Write up your report in a Jupyter notebook. Be sure to explicitly justify the choices you make throughout."
      ]
    },
    {
      "cell_type": "markdown",
      "metadata": {
        "id": "6N3r9n_jCEe4",
        "colab_type": "text"
      },
      "source": [
        "### Import Statements"
      ]
    },
    {
      "cell_type": "code",
      "metadata": {
        "id": "bH6JhdYTCHbx",
        "colab_type": "code",
        "colab": {
          "base_uri": "https://localhost:8080/",
          "height": 190
        },
        "outputId": "1fea7cf8-51c5-4ed6-9432-945f4875acaa"
      },
      "source": [
        "%matplotlib inline\n",
        "import numpy as np\n",
        "import pandas as pd\n",
        "import scipy\n",
        "import sklearn\n",
        "import spacy\n",
        "import matplotlib.pyplot as plt\n",
        "import seaborn as sns\n",
        "from sklearn.model_selection import train_test_split\n",
        "import re\n",
        "from nltk.corpus import gutenberg, stopwords\n",
        "from collections import Counter\n",
        "import nltk\n",
        "\n",
        "nltk.download('gutenberg')\n",
        "!python -m spacy download en"
      ],
      "execution_count": 26,
      "outputs": [
        {
          "output_type": "stream",
          "text": [
            "[nltk_data] Downloading package gutenberg to /root/nltk_data...\n",
            "[nltk_data]   Package gutenberg is already up-to-date!\n",
            "Requirement already satisfied: en_core_web_sm==2.1.0 from https://github.com/explosion/spacy-models/releases/download/en_core_web_sm-2.1.0/en_core_web_sm-2.1.0.tar.gz#egg=en_core_web_sm==2.1.0 in /usr/local/lib/python3.6/dist-packages (2.1.0)\n",
            "\u001b[38;5;2m✔ Download and installation successful\u001b[0m\n",
            "You can now load the model via spacy.load('en_core_web_sm')\n",
            "\u001b[38;5;2m✔ Linking successful\u001b[0m\n",
            "/usr/local/lib/python3.6/dist-packages/en_core_web_sm -->\n",
            "/usr/local/lib/python3.6/dist-packages/spacy/data/en\n",
            "You can now load the model via spacy.load('en')\n"
          ],
          "name": "stdout"
        }
      ]
    },
    {
      "cell_type": "code",
      "metadata": {
        "id": "L-ERIkqlCJEp",
        "colab_type": "code",
        "colab": {
          "base_uri": "https://localhost:8080/",
          "height": 54
        },
        "outputId": "a0f85d68-9a4e-4994-99a5-e28ccb4541f1"
      },
      "source": [
        "print(gutenberg.fileids())"
      ],
      "execution_count": 4,
      "outputs": [
        {
          "output_type": "stream",
          "text": [
            "['austen-emma.txt', 'austen-persuasion.txt', 'austen-sense.txt', 'bible-kjv.txt', 'blake-poems.txt', 'bryant-stories.txt', 'burgess-busterbrown.txt', 'carroll-alice.txt', 'chesterton-ball.txt', 'chesterton-brown.txt', 'chesterton-thursday.txt', 'edgeworth-parents.txt', 'melville-moby_dick.txt', 'milton-paradise.txt', 'shakespeare-caesar.txt', 'shakespeare-hamlet.txt', 'shakespeare-macbeth.txt', 'whitman-leaves.txt']\n"
          ],
          "name": "stdout"
        }
      ]
    },
    {
      "cell_type": "markdown",
      "metadata": {
        "id": "S0MLKjvPCeC8",
        "colab_type": "text"
      },
      "source": [
        "For this assignment, I'll make models that analyze Blake's poems and Bryant's stories."
      ]
    },
    {
      "cell_type": "markdown",
      "metadata": {
        "id": "ZAfje7d1B7Eg",
        "colab_type": "text"
      },
      "source": [
        "### 1. Data Cleaning / Processing / Language Parsing"
      ]
    },
    {
      "cell_type": "code",
      "metadata": {
        "id": "9eEYjL6bB4tR",
        "colab_type": "code",
        "colab": {}
      },
      "source": [
        "# Utility function for standard text cleaning.\n",
        "def text_cleaner(text):\n",
        "    text = re.sub(r'--',' ',text)\n",
        "    text = re.sub('[\\[].*?[\\]]', '', text)\n",
        "    text = ' '.join(text.split())\n",
        "    return text\n",
        "    \n",
        "# Load and clean the data.\n",
        "poems = gutenberg.raw('blake-poems.txt')\n",
        "stories = gutenberg.raw('bryant-stories.txt')\n",
        "\n",
        "# The Chapter indicator is idiosyncratic\n",
        "poems = re.sub(r'Chapter \\d+', '', poems)\n",
        "stories = re.sub(r'CHAPTER .*', '', stories)\n",
        "    \n",
        "poems = text_cleaner(poems[:int(len(poems)/10)])\n",
        "stories = text_cleaner(stories[:int(len(stories)/10)])"
      ],
      "execution_count": 0,
      "outputs": []
    },
    {
      "cell_type": "markdown",
      "metadata": {
        "id": "851VmHg-FRA1",
        "colab_type": "text"
      },
      "source": [
        "I'll look at the _poems_ and _stories_ variables to see what they look like after the text cleaning."
      ]
    },
    {
      "cell_type": "code",
      "metadata": {
        "id": "KIga9u3sB4pd",
        "colab_type": "code",
        "colab": {
          "base_uri": "https://localhost:8080/",
          "height": 54
        },
        "outputId": "e203e8ff-f182-4479-cf9b-8c1a02d35324"
      },
      "source": [
        "poems"
      ],
      "execution_count": 13,
      "outputs": [
        {
          "output_type": "execute_result",
          "data": {
            "text/plain": [
              "'SONGS OF INNOCENCE AND OF EXPERIENCE and THE BOOK of THEL SONGS OF INNOCENCE INTRODUCTION Piping down the valleys wild, Piping songs of pleasant glee, On a cloud I saw a child, And he laughing said to me: \"Pipe a song about a Lamb!\" So I piped with merry cheer. \"Piper, pipe that song again;\" So I piped: he wept to hear. \"Drop thy pipe, thy happy pipe; Sing thy songs of happy cheer:!\" So I sang the same again, While he wept with joy to hear. \"Piper, sit thee down and write In a book, that all may read.\" So he vanish\\'d from my sight; And I pluck\\'d a hollow reed, And I made a rural pen, And I stain\\'d the water clear, And I wrote my happy songs Every child may joy to hear. THE SHEPHERD How sweet is the Shepherd\\'s sweet lot! From the morn to the evening he stays; He shall follow his sheep all the day, And his tongue shall be filled with praise. For he hears the lambs\\' innocent call, And he hears the ewes\\' tender reply; He is watching while they are in peace, For they know when their Shepherd is nigh. THE ECHOING GREEN The sun does arise, And make happy the skies; The merry bells ring To welcome the Spring; The skylark and thrush, The birds of the bush, Sing louder around To the bells\\' cheerful sound; While our sports shall be seen On the echoing Green. Old John, with white hair, Does laugh away care, Sitting under the oak, Among the old folk. They laugh at our play, And soon they all say, \"Such, such were the joys When we all girls and boys In our youth-time were seen On the echoing Green.\" Till the little ones, weary, No more can be merry: The sun does descend, And our sports have an end. Round the laps of their mothers Many sisters and brothers, Like birds in their nest, Are ready for rest, And sport no more seen On the darkening green. THE LAMB Little Lamb, who make thee Dost thou know who made thee, Gave thee life, and bid thee feed By the stream and o\\'er the mead; Gave thee clothing of delight, Softest clothing, wolly, bright; Gave thee such a tender voice, Making all the vales rejoice? Little Lamb, who made thee? Dost thou know who made thee? Little Lamb, I\\'ll tell thee; Little Lamb, I\\'ll tell thee: He is called by thy name, For He calls Himself a Lamb He is meek, and He is mild, He became a little child. I a child, and thou a lamb, We are called by His name. Little Lamb, God bless thee! Little Lamb, God bless thee! THE LITTLE BLACK BOY My mother bore me in the southern wild, And I am black, but oh my soul is white! White as an angel is the English child, But I am black, as if bereaved of light. My mother taught me underneath a tree, And, sitting down before the heat of day, She took me on her lap and kissed me, And, pointed to the east, began to say: \"Look on the rising sun: there God does live, And gives His light, and gives His heat away, And flowers and trees and beasts and men receive Comfort in morning, joy in the noonday. \"And we are put on earth a little space, That we may learn to bear the beams of love And these black bodies and this sunburnt face Is but a cloud, and like a shady grove. \"For when our souls have learn\\'d the heat to bear, The cloud will vanish, we shall hear His voice, Saying, \\'Come out from the grove, my love and care And round my golden tent like lambs rejoice\\',\" Thus did my mother say, and kissed me; And thus I say to little English boy. When I from black and he from white cloud free, And round the tent of God like lambs we joy I\\'ll shade him from the heat till he can bear To lean in joy upon our Father\\'s knee; And then I\\'ll stand and stroke his silver ha'"
            ]
          },
          "metadata": {
            "tags": []
          },
          "execution_count": 13
        }
      ]
    },
    {
      "cell_type": "code",
      "metadata": {
        "id": "hdAiRFH1DmJC",
        "colab_type": "code",
        "colab": {
          "base_uri": "https://localhost:8080/",
          "height": 54
        },
        "outputId": "799806ea-c723-434d-e2e4-1af4d9b7c1c0"
      },
      "source": [
        "stories"
      ],
      "execution_count": 14,
      "outputs": [
        {
          "output_type": "execute_result",
          "data": {
            "text/plain": [
              "'TWO LITTLE RIDDLES IN RHYME There\\'s a garden that I ken, Full of little gentlemen; Little caps of blue they wear, And green ribbons, very fair. (Flax.) From house to house he goes, A messenger small and slight, And whether it rains or snows, He sleeps outside in the night. (The path.) THE LITTLE YELLOW TULIP Once there was a little yellow Tulip, and she lived down in a little dark house under the ground. One day she was sitting there, all by herself, and it was very still. Suddenly, she heard a little _tap, tap, tap_, at the door. \"Who is that?\" she said. \"It\\'s the Rain, and I want to come in,\" said a soft, sad, little voice. \"No, you can\\'t come in,\" the little Tulip said. By and by she heard another little _tap, tap, tap_ on the window-pane. \"Who is there?\" she said. The same soft little voice answered, \"It\\'s the Rain, and I want to come in!\" \"No, you can\\'t come in,\" said the little Tulip. Then it was very still for a long time. At last, there came a little rustling, whispering sound, all round the window: _rustle, whisper, whisper_. \"Who is there?\" said the little Tulip. \"It\\'s the Sunshine,\" said a little, soft, cheery voice, \"and I want to come in!\" \"N no,\" said the little Tulip, \"you can\\'t come in.\" And she sat still again. Pretty soon she heard the sweet little rustling noise at the keyhole. \"Who is there?\" she said. \"It\\'s the Sunshine,\" said the cheery little voice, \"and I want to come in, I want to come in!\" \"No, no,\" said the little Tulip, \"you cannot come in.\" By and by, as she sat so still, she heard _tap, tap, tap_, and _rustle, whisper, rustle_, up and down the window-pane, and on the door and at the keyhole. \"_Who is there?_\" she said. \"It\\'s the Rain and the Sun, the Rain and the Sun,\" said two little voices, together, \"and we want to come in! We want to come in! We want to come in!\" \"Dear, dear!\" said the little Tulip, \"if there are two of you, I s\\'pose I shall have to let you in.\" So she opened the door a little wee crack, and in they came. And one took one of her little hands, and the other took her other little hand, and they ran, ran, ran with her right up to the top of the ground. Then they said, \"Poke your head through!\" So she poked her head through; and she was in the midst of a beautiful garden. It was early springtime, and few other flowers were to be seen; but she had the birds to sing to her and the sun to shine upon her pretty yellow head. She was so pleased, too, when the children exclaimed with pleasure that now they knew that the beautiful spring had come! THE COCK-A-DOO-DLE-DOO A very little boy made this story up \"out of his head,\" and told it to his papa. I think you littlest ones will like it; I do. Once upon a time there was a little boy, and he wanted to be a cock-a-doo-dle-doo. So he was a cock-a-doo-dle-doo. And he wanted to fly up into the sky. So he did fly up into the sky. And he wanted to get wings and a tail So he did get some wings and a tail. THE CLOUD One hot summer morning a little Cloud rose out of the sea and floated lightly and happily across the blue sky. Far below lay the earth, brown, dry, and desolate, from drought. The little Cloud could see the poor people of the earth working and suffering in the hot fields, while she herself floated on the morning breeze, hither and thither, without a care. \"Oh, if I could only help the poor people down there!\" she thought. \"If I could but make their work easier, or give the hungry ones food, or the thirsty a drink!\" And as the day passed, and the Cloud became larger, this wish to do something for the people of earth was ever greater in her heart. On earth it grew hotter and hotter; the sun burned down so fiercely that the people were fainting in its rays; it seemed as if they must die of heat, and yet they were obliged to go on with their work, for they were very poor. Sometimes they stood and looked up at the Cloud, as if they were praying, and saying, \"Ah, if you could help us!\" \"I will help you; I will!\" said the Cloud. And she began to sink softly down toward the earth. But suddenly, as she floated down, she remembered something which had been told her when she was a tiny Cloud-child, in the lap of Mother Ocean: it had been whispered that if the Clouds go too near the earth they die. When she remembered this she held herself from sinking, and swayed here and there on the breeze, thinking, thinking. But at last she stood quite still, and spoke boldly and proudly. She said, \"Men of earth, I will help you, come what may!\" The thought made her suddenly marvellously big and strong and powerful. Never had she dreamed that she could be so big. Like a mighty angel of blessing she stood above the earth, and lifted her head and spread her wings far over the fields and woods. She was so great, so majestic, that men and animals were awe-struck at the sight; the trees and the grasses bowed before her; yet all the earth-creatures felt that she meant them well. \"Yes, I will help you,\" cried the Cloud once more. \"Take me to yourselves; I will give my life for you!\" As she said the words a wonderful light glowed from her heart, the sound of thunder rolled through the sky, and a love greater than words can tell filled the Cloud; down, down, close to the earth she swept, and gave up her life in a blessed, healing shower of rain. That rain was the Cloud\\'s great deed; it was her death, too; but it was also her glory. Over the whole country-side, as far as the rain fell, a lovely rainbow sprang its arch, and all the brightest rays of heaven made its colours; it was the last greeting of a love so great that it sacrificed itself. Soon that, too, was gone, but long, long afterward the men and animals who were saved by the Cloud kept her blessing in their hearts. THE LITTLE RED HEN The little Red Hen was in the farmyard with her chickens, when she found a grain of wheat. \"Who will plant this wheat?\" she said. \"Not I,\" said the Goose. \"Not I,\" said the Duck. \"I will, then,\" said the little Red Hen, and she planted the grain of wheat. When the wheat was ripe she said, \"Who will take this wheat to the mill?\" \"Not I,\" said the Goose. \"Not I,\" said the Duck. \"I will, then,\" said the little Red Hen, and she took the wheat to the mill. When she brought the flour home she said, \"Who will make some bread with this flour?\" \"Not I,\" said the Goose. \"Not I,\" said the Duck. \"I will, then,\" said the little Red Hen. When the bread was baked, she said, \"Who will eat this bread?\" \"I will,\" said the Goose. \"I will,\" said the Duck. \"No, you won\\'t,\" said the little Red Hen. \"I shall eat it myself. Cluck! cluck!\" And she called her chickens to help her. THE GINGERBREAD MAN Once upon a time there was a little old woman and a little old man, and they lived all alone in a little old house. They hadn\\'t any little girls or any little boys, at all. So one day, the little old woman made a boy out of gingerbread; she made him a chocolate jacket, and put raisins on it for buttons; his eyes were made of fine, fat currants; his mouth was made of rose-coloured sugar; and he had a gay little cap of orange sugar-candy. When the little old woman had rolled him out, and dressed him up, and pinched his gingerbread shoes into shape, she put him in a pan; then she put the pan in the oven and shut the door; and she thought, \"Now I shall have a little boy of my own.\" When it was time for the Gingerbread Boy to be done she opened the oven door and pulled out the pan. Out jumped the little Gingerbread Boy on to the floor, and away he ran, out of the door and down the street! The little old woman and the little old man ran after him as fast as they could, but he just laughed, and shouted, \"Run! run! as fast as you can! \"You can\\'t catch me, I\\'m the Gingerbread Man!\" And they couldn\\'t catch him. The little Gingerbread Boy ran on and on, until he came to a cow, by the roadside. \"Stop, little Gingerbread Boy,\" said the cow; \"I want to eat you.\" The little Gingerbread Boy laughed and said, \"I have run away from a little old woman, \"And a little old man, \"And I can run away from you, I can!\" And, as the cow chased him, he looked over his shoulder and cried, \"Run! run! as fast as you can! \"You can\\'t catch me, I\\'m the Gingerbread Man!\" And the cow couldn\\'t catch him. The little Gingerbread Boy ran on, and on, and on, till he came to a horse, in the pasture. \"Please stop, little Gingerbread Boy,\" said the horse, \"you look very good to eat.\" But the little Gingerbread Boy laughed out loud. \"Oho! oho!\" he said, \"I have run away from a little old woman, \"A little old man, \"A cow, \"And I can run away from you, I can!\" And, as the horse chased him, he looked over his shoulder and cried, \"Run! run! as fast as you can! \"You can\\'t catch me, I\\'m the Gingerbread Man!\" And the horse couldn\\'t catch him. By and by the little Gingerbread Boy came to a barn full of threshers. When the threshers smelt the Gingerbread Boy, they tried to pick him up, and said, \"Don\\'t run so fast, little Gingerbread Boy; you look very good to eat.\" But the little Gingerbread Boy ran harder than ever, and as he ran he cried out, \"I have run away from a little old woman, \"A little old man, \"A cow, \"A horse, \"And I can run away from you, I can!\" And when he found that he was ahead of the threshers, he turned and shouted back to them, \"Run! run! as fast as you can! \"You can\\'t catch me, I\\'m the Gingerbread Man!\" And the threshers couldn\\'t catch him. Then the little Gingerbread Boy ran faster than ever. He ran and ran until he came to a field full of mowers. When the mowers saw how fine he looked, they ran after him, calling out, \"Wait a bit! wait a bit, little Gingerbread Boy, we wish to eat you!\" But the little Gingerbread Boy laughed harder than ever, and ran like the wind. \"Oho! oho!\" he said, \"I have run away from a little old woman, \"A little old man, \"A cow, \"A horse, \"A barn full of threshers, \"And I can run away from you, I can!\" And when he found that he was ahead of the mowers, he turned and shouted back to them, \"Run! run! as fast as you can! \"You can\\'t catch me, I\\'m the Gingerbread Man!\" And the mowers couldn\\'t catch him. By this time the little Gingerbread Boy was so proud that he didn\\'t think anybody could catch him. Pretty soon he saw a fox coming across a field. The fox looked at him and began to run. But the little Gingerbread Boy shouted across to him, \"You can\\'t catch me!\" The fox began to run faster, and the little Gingerbread Boy ran faster, and as he ran he chuckled, \"I have run away from a little old woman, \"A little old man, \"A cow, \"A horse, \"A barn full of threshers, \"A field full of mowers, \"And I can run away from you, I can! \"Run! run! as fast as you can! \"You can\\'t catch me, I\\'m the Gingerbread Man!\" \"Why,\" said the fox, \"I would not catch you if I could. I would not think of disturbing you.\" Just then, the little Gingerbread Boy came to a river. He could not swim across, and he wanted to keep running away from the cow and the horse and the people. \"Jump on my tail, and I will take you across,\" said the fox. So the little Gingerbread Boy jumped on the fox\\'s tail, and the fox began to swim the river. When he was a little way from the bank he turned his head, and said, \"You are too heavy on my tail, little Gingerbread Boy, I fear I shall let you get wet; jump on my back.\" The little Gingerbread Boy jumped on his back. A little farther out, the fox said, \"I am afraid the water will cover you, there; jump on my shoulder.\" The little Gingerbread Boy jumped on his shoulder. In the middle of the stream the fox said, \"Oh, dear! little Gingerbread Boy, my shoulder is sinking; jump on my nose, and I can hold you out of water.\" So the little Gingerbread Boy jumped on his nose. The minute the fox reached the bank he threw back his head, and gave a snap! \"Dear me!\" said the little Gingerbread Boy, \"I am a quarter gone!\" The next minute he said, \"Why, I am half gone!\" The next minute he said, \"My goodness gracious, I am three quarters gone!\" And after that, the little Gingerbread Boy never said anything more at all. THE LITTLE JACKALS AND THE LION Once there was a great big jungle; and in the jungle there was a great big Lion; and the Lion was king of the jungle. Whenever he wanted anything to eat, all he had to do was to come up out of his cave in the stones and earth and _roar_. When he had roared a few times all the little people of the jungle were so frightened that they came out of their holes and hiding-places and ran, this way and that, to get away. Then, of course, the Lion could see where they were. And he pounced on them, killed them, and gobbled them up. He did this so often that at last there was not a single thing left alive in the jungle besides the Lion, except two little Jackals, a little father Jackal and a little mother Jackal. They had run away so many times that they were quite thin and very tired, and they could not run so fast any more. And one day the Lion was so near that the little mother Jackal grew frightened; she said, \"Oh, Father Jackal, Father Jackal! I b\\'lieve our time has come! the Lion will surely catch us this time!\" \"Pooh! nonsense, mother!\" said the little father Jackal. \"Come, we\\'ll run on a bit!\" And they ran, ran, ran very fast, and the Lion did not catch them that time. But at last a day came when the Lion was nearer still and the little mother Jackal was frightened almost to death. \"Oh, Father Jackal, Father Jackal!\" she cried; \"I\\'m sure our time has come! The Lion\\'s going to eat us this time!\" \"Now, mother, don\\'t you fret,\" said the little father Jackal; \"you do just as I tell you, and it will be all right.\" Then what did those cunning little Jackals do but take hold of hands and run up towards the Lion, as if they had meant to come all the time. When he saw them coming he stood up, and roared in a terrible voice, \"You miserable little wretches, come here and be eaten, at once! Why didn\\'t you come before?\" The father Jackal bowed very low. \"Indeed, Father Lion,\" he said, \"we meant to come before; we knew we ought to come before; and we wanted to come before; but every time we started to come, a dreadful great lion came out of the woods and roared at us, and frightened us so that we ran away.\" \"What do you mean?\" roared the Lion. \"There\\'s no other lion in this jungle, and you know it!\" \"Indeed, indeed, Father Lion,\" said the little Jackal, \"I know that is what everybody thinks; but indeed and indeed there is another lion! And he is as much bigger than you as you are bigger than I! His face is much more terrible, and his roar far, far more dreadful. Oh, he is far more fearful than you!\" At that the Lion stood up and roared so that the jungle shook. \"Take me to this Lion,\" he said; \"I\\'ll eat him up and then I\\'ll eat you up.\" The little Jackals danced on ahead, and the Lion stalked behind. They led him to a place where there was a round, deep well of clear water. They went round on one side of it, and the Lion stalked up to the other. \"He lives down there, Father Lion!\" said the little Jackal. \"He lives down there!\" The Lion came close and looked down into the water, and a lion\\'s face looked back at him out of the water! When he saw that, the Lion roared and shook his mane and showed his teeth. And the lion in the water shook his mane and showed his teeth. The Lion above shook his mane again and growled again, and made a terrible face. But the lion in the water made just as terrible a one, back. The Lion above couldn\\'t stand that. He leaped down into the well after the other lion. But, of course, as you know very well, there wasn\\'t any other lion! It was only the reflection in the water! So the poor old Lion floundered about and floundered about, and as he couldn\\'t get up the steep sides of the well, he was at last drowned. And when he was drowned, the little Jackals took hold of hands and danced round the well, and sang, \"The Lion is dead! The Lion is dead! \"We have killed the great Lion who would have killed us! \"The Lion is dead! The Lion is dead! \"Ao! Ao! Ao!\" THE COUNTRY MOUSE AND THE CITY MOUSE Once a little mouse who lived in the country invited a little mouse from the city to visit him. When the little City Mouse sat down to dinner he was surprised to find that the Country Mouse had nothing to eat except barley and grain. \"Really,\" he said, \"you do not live well at all; you should see how I live! I have all sorts of fine things to eat every day. You must come to visit me and see how nice it is to live in the city.\" The little Country Mouse was glad to do this, and after a while he went to the city to visit his friend. The very first place that the City Mouse took the Country Mouse to see was the kitchen cupboard of the house where he lived. There, on the lowest shelf, behind some stone jars, stood a big paper bag of brown sugar. The little City Mouse gnawed a hole in the bag and invited his friend to nibble for himself. The two little mice nibbled and nibbled, and the Country Mouse thought he had never tasted anything so delicious in his life. He was just thinking how lucky the City Mouse was, when suddenly the door opened with a bang, and in came the cook to get some flour. \"Run!\" whispered the City Mouse. And they ran as fast as they could to the little hole where they had come in. The little Country Mouse was shaking all over when they got safely away, but the little City Mouse said, \"That is nothing; she will soon go away and then we can go back.\" After the cook had gone away and shut the door they stole softly back, and this time the City Mouse had something new to show: he took the little Country Mouse into a corner on the top shelf, where a big jar of dried prunes stood open. After much tugging and pulling they got a large dried prune out of the jar on to the shelf and began to nibble at it. This was even better than the brown sugar. The little Country Mouse liked the taste so much that he could hardly nibble fast enough. But all at once, in the midst of their eating, there came a scratching at the door and a sharp, loud _miaouw_! \"What is that?\" said the Country Mouse. The City Mouse just whispered, \"Sh!\" and ran as fast as he could to the hole. The Country Mouse ran after, you may be sure, as fast as _he_ could. As soon as they were out of danger the City Mouse said, \"That was the old Cat; she is the best mouser in town, if she once gets you, you are lost.\" \"This is very terrible,\" said the little Country Mouse; \"let us not go back to the cupboard again.\" \"No,\" said the City Mouse, \"I will take you to the cellar; there is something specially fine there.\" So the City Mouse took his little friend down the cellar stairs and into a big cupboard where there were many shelves. On the shelves were jars of butter, and cheeses in bags and out of bags. Overhead hung bunches of sausages, and there were spicy apples in barrels standing about. It smelt so good that it went to the little Country Mouse\\'s head. He ran along the shelf and nibbled at a cheese here, and a bit of butter there, until he saw an especially rich, very delicious-smelling piece of cheese on a queer little stand in a corner. He was just on the point of putting his teeth into the cheese when the City Mouse saw him. \"Stop! stop!\" cried the City Mouse. \"That is a trap!\" The little Country Mouse stopped and said, \"What is a trap?\" \"That thing is a trap,\" said the little City Mouse. \"The minute you touch the cheese with your teeth something comes down on your head hard, and you\\'re dead.\" The little Country Mouse looked at the trap, and he looked at the cheese, and he looked at the little City Mouse. \"If you\\'ll excuse me,\" he said, \"I think I will go home. I\\'d rather have barley and grain to eat and eat it in peace and comfort, than have brown sugar and dried prunes and cheese, and be frightened to death all the time!\" So the little Country Mouse went back to his home, and there he stayed all the rest of his life. LITTLE JACK ROLLAROUND Once upon a time there was a wee little boy who slept in a tiny trundle-bed near his mother\\'s great bed. The trundle-bed had castors on it so that it could be rolled about, and there was nothing in the world the little boy liked so much as to have it rolled. When his mother came to bed he would cry, \"Roll me around! roll me around!\" And his mother would put out her hand from the big bed and push the little bed back and forth till she was tired. The little boy could never get enough; so for this he was called \"Little Jack Rollaround.\" One night he had made his mother roll him about, till she fell asleep, and even then he kept crying, \"Roll me around! roll me around!\" His mother pushed him about in her sleep, until her slumber became too sound; then she stopped. But Little Jack Rollaround kept on crying, \"Roll around! roll around!\" By and by the Moon peeped in at the window. He saw a funny sight: Little Jack Rollaround was lying in his trundle-bed, and he had put up one little fat leg for a mast, and fastened the corner of his wee shirt to it for a sail; and he was blowing at it with all his might, and saying, \"Roll around! roll around!\" Slowly, slowly, the little trundle-bed boat began to move; it sailed along the floor and up the wall and across the ceiling and down again! \"More! more!\" cried Little Jack Rollaround; and the little boat sailed faster up the wall, across the ceiling, down the wall, and over the floor. The Moon laughed at the sight; but when Little Jack Rollaround saw the Moon, he called out, \"Open the door, old Moon! I want to roll through the town, so that the people can see me!\" The Moon could not open the door, but he shone in through the keyhole, in a broad band. And Little Jack Rollaround sailed his trundle-bed boat up the beam, through the keyhole, and into the street. \"Make a light, old Moon,\" he said; \"I want the people to see me!\" So the good Moon made a light and went along with him, and the little trundle-bed boat went sailing down the streets into the main street of the village. They rolled past the town hall and the schoolhouse and the church; but nobody saw little Jack Rollaround, because everybody was in bed, asleep. \"Why don\\'t the people come to see me?\" he shouted. High up on the church steeple, the Weather-vane answered, \"It is no time for people to be in the streets; decent folk are in their beds.\" \"Then I\\'ll go to the woods, so that the animals may see me,\" said Little Jack. \"Come along, old Moon, and make a light!\" The good Moon went along and made a light, and they came to the forest. \"Roll! roll!\" cried the little boy; and the trundle-bed went trundling among the trees in the great wood, scaring up the squirrels and startling the little leaves on the trees. The poor old Moon began to have a bad time of it, for the tree-trunks got in his way so that he could not go so fast as the bed, and every time he got behind, the little boy called, \"Hurry up, old Moon, I want the beasts to see me!\" But all the animals were asleep, and nobody at all looked at Little Jack Rollaround except an old White Owl; and all she said was, \"Who are you?\" The little boy did not like her, so he blew harder, and the trundle-bed boat went sailing through the forest till it came to the end of the world. \"I must go home now; it is late,\" said the Moon. \"I will go with you; make a path!\" said Little Jack Rollaround. The kind Moon made a path up to the sky, and up sailed the little bed into the midst of the sky. All the little bright Stars were there with their nice little lamps. And when he saw them, that naughty Little Jack Rollaround began to tease. \"Out of the way, there! I am coming!\" he shouted, and sailed the trundle-bed boat straight at them. He bumped the little Stars right and left, all over the sky, until every one of them put his little lamp out and left it dark. \"Do not treat the little Stars so,\" said the good Moon. But Jack Rollaround only behaved the worse: \"Get out of the way, old Moon!'"
            ]
          },
          "metadata": {
            "tags": []
          },
          "execution_count": 14
        }
      ]
    },
    {
      "cell_type": "code",
      "metadata": {
        "id": "qEe2KslbDmMC",
        "colab_type": "code",
        "colab": {}
      },
      "source": [
        "# Parse the cleaned text.\n",
        "nlp = spacy.load('en')\n",
        "\n",
        "poems_doc=nlp(poems)\n",
        "stories_doc=nlp(stories)"
      ],
      "execution_count": 0,
      "outputs": []
    },
    {
      "cell_type": "markdown",
      "metadata": {
        "id": "x2O37GhoGtVU",
        "colab_type": "text"
      },
      "source": [
        "To get a better sense of what happened when the cleaned text was parsed, I'll look at the new variables."
      ]
    },
    {
      "cell_type": "code",
      "metadata": {
        "id": "VKRxJ7ZUDmOP",
        "colab_type": "code",
        "colab": {
          "base_uri": "https://localhost:8080/",
          "height": 54
        },
        "outputId": "9ccb7f74-42c0-4869-bd95-d82299bee0c4"
      },
      "source": [
        "poems_doc"
      ],
      "execution_count": 17,
      "outputs": [
        {
          "output_type": "execute_result",
          "data": {
            "text/plain": [
              "SONGS OF INNOCENCE AND OF EXPERIENCE and THE BOOK of THEL SONGS OF INNOCENCE INTRODUCTION Piping down the valleys wild, Piping songs of pleasant glee, On a cloud I saw a child, And he laughing said to me: \"Pipe a song about a Lamb!\" So I piped with merry cheer. \"Piper, pipe that song again;\" So I piped: he wept to hear. \"Drop thy pipe, thy happy pipe; Sing thy songs of happy cheer:!\" So I sang the same again, While he wept with joy to hear. \"Piper, sit thee down and write In a book, that all may read.\" So he vanish'd from my sight; And I pluck'd a hollow reed, And I made a rural pen, And I stain'd the water clear, And I wrote my happy songs Every child may joy to hear. THE SHEPHERD How sweet is the Shepherd's sweet lot! From the morn to the evening he stays; He shall follow his sheep all the day, And his tongue shall be filled with praise. For he hears the lambs' innocent call, And he hears the ewes' tender reply; He is watching while they are in peace, For they know when their Shepherd is nigh. THE ECHOING GREEN The sun does arise, And make happy the skies; The merry bells ring To welcome the Spring; The skylark and thrush, The birds of the bush, Sing louder around To the bells' cheerful sound; While our sports shall be seen On the echoing Green. Old John, with white hair, Does laugh away care, Sitting under the oak, Among the old folk. They laugh at our play, And soon they all say, \"Such, such were the joys When we all girls and boys In our youth-time were seen On the echoing Green.\" Till the little ones, weary, No more can be merry: The sun does descend, And our sports have an end. Round the laps of their mothers Many sisters and brothers, Like birds in their nest, Are ready for rest, And sport no more seen On the darkening green. THE LAMB Little Lamb, who make thee Dost thou know who made thee, Gave thee life, and bid thee feed By the stream and o'er the mead; Gave thee clothing of delight, Softest clothing, wolly, bright; Gave thee such a tender voice, Making all the vales rejoice? Little Lamb, who made thee? Dost thou know who made thee? Little Lamb, I'll tell thee; Little Lamb, I'll tell thee: He is called by thy name, For He calls Himself a Lamb He is meek, and He is mild, He became a little child. I a child, and thou a lamb, We are called by His name. Little Lamb, God bless thee! Little Lamb, God bless thee! THE LITTLE BLACK BOY My mother bore me in the southern wild, And I am black, but oh my soul is white! White as an angel is the English child, But I am black, as if bereaved of light. My mother taught me underneath a tree, And, sitting down before the heat of day, She took me on her lap and kissed me, And, pointed to the east, began to say: \"Look on the rising sun: there God does live, And gives His light, and gives His heat away, And flowers and trees and beasts and men receive Comfort in morning, joy in the noonday. \"And we are put on earth a little space, That we may learn to bear the beams of love And these black bodies and this sunburnt face Is but a cloud, and like a shady grove. \"For when our souls have learn'd the heat to bear, The cloud will vanish, we shall hear His voice, Saying, 'Come out from the grove, my love and care And round my golden tent like lambs rejoice',\" Thus did my mother say, and kissed me; And thus I say to little English boy. When I from black and he from white cloud free, And round the tent of God like lambs we joy I'll shade him from the heat till he can bear To lean in joy upon our Father's knee; And then I'll stand and stroke his silver ha"
            ]
          },
          "metadata": {
            "tags": []
          },
          "execution_count": 17
        }
      ]
    },
    {
      "cell_type": "code",
      "metadata": {
        "id": "Sahl98lxDmRc",
        "colab_type": "code",
        "colab": {
          "base_uri": "https://localhost:8080/",
          "height": 54
        },
        "outputId": "50061e61-6050-4cca-f4ce-f29dc12753a5"
      },
      "source": [
        "stories_doc"
      ],
      "execution_count": 18,
      "outputs": [
        {
          "output_type": "execute_result",
          "data": {
            "text/plain": [
              "TWO LITTLE RIDDLES IN RHYME There's a garden that I ken, Full of little gentlemen; Little caps of blue they wear, And green ribbons, very fair. (Flax.) From house to house he goes, A messenger small and slight, And whether it rains or snows, He sleeps outside in the night. (The path.) THE LITTLE YELLOW TULIP Once there was a little yellow Tulip, and she lived down in a little dark house under the ground. One day she was sitting there, all by herself, and it was very still. Suddenly, she heard a little _tap, tap, tap_, at the door. \"Who is that?\" she said. \"It's the Rain, and I want to come in,\" said a soft, sad, little voice. \"No, you can't come in,\" the little Tulip said. By and by she heard another little _tap, tap, tap_ on the window-pane. \"Who is there?\" she said. The same soft little voice answered, \"It's the Rain, and I want to come in!\" \"No, you can't come in,\" said the little Tulip. Then it was very still for a long time. At last, there came a little rustling, whispering sound, all round the window: _rustle, whisper, whisper_. \"Who is there?\" said the little Tulip. \"It's the Sunshine,\" said a little, soft, cheery voice, \"and I want to come in!\" \"N no,\" said the little Tulip, \"you can't come in.\" And she sat still again. Pretty soon she heard the sweet little rustling noise at the keyhole. \"Who is there?\" she said. \"It's the Sunshine,\" said the cheery little voice, \"and I want to come in, I want to come in!\" \"No, no,\" said the little Tulip, \"you cannot come in.\" By and by, as she sat so still, she heard _tap, tap, tap_, and _rustle, whisper, rustle_, up and down the window-pane, and on the door and at the keyhole. \"_Who is there?_\" she said. \"It's the Rain and the Sun, the Rain and the Sun,\" said two little voices, together, \"and we want to come in! We want to come in! We want to come in!\" \"Dear, dear!\" said the little Tulip, \"if there are two of you, I s'pose I shall have to let you in.\" So she opened the door a little wee crack, and in they came. And one took one of her little hands, and the other took her other little hand, and they ran, ran, ran with her right up to the top of the ground. Then they said, \"Poke your head through!\" So she poked her head through; and she was in the midst of a beautiful garden. It was early springtime, and few other flowers were to be seen; but she had the birds to sing to her and the sun to shine upon her pretty yellow head. She was so pleased, too, when the children exclaimed with pleasure that now they knew that the beautiful spring had come! THE COCK-A-DOO-DLE-DOO A very little boy made this story up \"out of his head,\" and told it to his papa. I think you littlest ones will like it; I do. Once upon a time there was a little boy, and he wanted to be a cock-a-doo-dle-doo. So he was a cock-a-doo-dle-doo. And he wanted to fly up into the sky. So he did fly up into the sky. And he wanted to get wings and a tail So he did get some wings and a tail. THE CLOUD One hot summer morning a little Cloud rose out of the sea and floated lightly and happily across the blue sky. Far below lay the earth, brown, dry, and desolate, from drought. The little Cloud could see the poor people of the earth working and suffering in the hot fields, while she herself floated on the morning breeze, hither and thither, without a care. \"Oh, if I could only help the poor people down there!\" she thought. \"If I could but make their work easier, or give the hungry ones food, or the thirsty a drink!\" And as the day passed, and the Cloud became larger, this wish to do something for the people of earth was ever greater in her heart. On earth it grew hotter and hotter; the sun burned down so fiercely that the people were fainting in its rays; it seemed as if they must die of heat, and yet they were obliged to go on with their work, for they were very poor. Sometimes they stood and looked up at the Cloud, as if they were praying, and saying, \"Ah, if you could help us!\" \"I will help you; I will!\" said the Cloud. And she began to sink softly down toward the earth. But suddenly, as she floated down, she remembered something which had been told her when she was a tiny Cloud-child, in the lap of Mother Ocean: it had been whispered that if the Clouds go too near the earth they die. When she remembered this she held herself from sinking, and swayed here and there on the breeze, thinking, thinking. But at last she stood quite still, and spoke boldly and proudly. She said, \"Men of earth, I will help you, come what may!\" The thought made her suddenly marvellously big and strong and powerful. Never had she dreamed that she could be so big. Like a mighty angel of blessing she stood above the earth, and lifted her head and spread her wings far over the fields and woods. She was so great, so majestic, that men and animals were awe-struck at the sight; the trees and the grasses bowed before her; yet all the earth-creatures felt that she meant them well. \"Yes, I will help you,\" cried the Cloud once more. \"Take me to yourselves; I will give my life for you!\" As she said the words a wonderful light glowed from her heart, the sound of thunder rolled through the sky, and a love greater than words can tell filled the Cloud; down, down, close to the earth she swept, and gave up her life in a blessed, healing shower of rain. That rain was the Cloud's great deed; it was her death, too; but it was also her glory. Over the whole country-side, as far as the rain fell, a lovely rainbow sprang its arch, and all the brightest rays of heaven made its colours; it was the last greeting of a love so great that it sacrificed itself. Soon that, too, was gone, but long, long afterward the men and animals who were saved by the Cloud kept her blessing in their hearts. THE LITTLE RED HEN The little Red Hen was in the farmyard with her chickens, when she found a grain of wheat. \"Who will plant this wheat?\" she said. \"Not I,\" said the Goose. \"Not I,\" said the Duck. \"I will, then,\" said the little Red Hen, and she planted the grain of wheat. When the wheat was ripe she said, \"Who will take this wheat to the mill?\" \"Not I,\" said the Goose. \"Not I,\" said the Duck. \"I will, then,\" said the little Red Hen, and she took the wheat to the mill. When she brought the flour home she said, \"Who will make some bread with this flour?\" \"Not I,\" said the Goose. \"Not I,\" said the Duck. \"I will, then,\" said the little Red Hen. When the bread was baked, she said, \"Who will eat this bread?\" \"I will,\" said the Goose. \"I will,\" said the Duck. \"No, you won't,\" said the little Red Hen. \"I shall eat it myself. Cluck! cluck!\" And she called her chickens to help her. THE GINGERBREAD MAN Once upon a time there was a little old woman and a little old man, and they lived all alone in a little old house. They hadn't any little girls or any little boys, at all. So one day, the little old woman made a boy out of gingerbread; she made him a chocolate jacket, and put raisins on it for buttons; his eyes were made of fine, fat currants; his mouth was made of rose-coloured sugar; and he had a gay little cap of orange sugar-candy. When the little old woman had rolled him out, and dressed him up, and pinched his gingerbread shoes into shape, she put him in a pan; then she put the pan in the oven and shut the door; and she thought, \"Now I shall have a little boy of my own.\" When it was time for the Gingerbread Boy to be done she opened the oven door and pulled out the pan. Out jumped the little Gingerbread Boy on to the floor, and away he ran, out of the door and down the street! The little old woman and the little old man ran after him as fast as they could, but he just laughed, and shouted, \"Run! run! as fast as you can! \"You can't catch me, I'm the Gingerbread Man!\" And they couldn't catch him. The little Gingerbread Boy ran on and on, until he came to a cow, by the roadside. \"Stop, little Gingerbread Boy,\" said the cow; \"I want to eat you.\" The little Gingerbread Boy laughed and said, \"I have run away from a little old woman, \"And a little old man, \"And I can run away from you, I can!\" And, as the cow chased him, he looked over his shoulder and cried, \"Run! run! as fast as you can! \"You can't catch me, I'm the Gingerbread Man!\" And the cow couldn't catch him. The little Gingerbread Boy ran on, and on, and on, till he came to a horse, in the pasture. \"Please stop, little Gingerbread Boy,\" said the horse, \"you look very good to eat.\" But the little Gingerbread Boy laughed out loud. \"Oho! oho!\" he said, \"I have run away from a little old woman, \"A little old man, \"A cow, \"And I can run away from you, I can!\" And, as the horse chased him, he looked over his shoulder and cried, \"Run! run! as fast as you can! \"You can't catch me, I'm the Gingerbread Man!\" And the horse couldn't catch him. By and by the little Gingerbread Boy came to a barn full of threshers. When the threshers smelt the Gingerbread Boy, they tried to pick him up, and said, \"Don't run so fast, little Gingerbread Boy; you look very good to eat.\" But the little Gingerbread Boy ran harder than ever, and as he ran he cried out, \"I have run away from a little old woman, \"A little old man, \"A cow, \"A horse, \"And I can run away from you, I can!\" And when he found that he was ahead of the threshers, he turned and shouted back to them, \"Run! run! as fast as you can! \"You can't catch me, I'm the Gingerbread Man!\" And the threshers couldn't catch him. Then the little Gingerbread Boy ran faster than ever. He ran and ran until he came to a field full of mowers. When the mowers saw how fine he looked, they ran after him, calling out, \"Wait a bit! wait a bit, little Gingerbread Boy, we wish to eat you!\" But the little Gingerbread Boy laughed harder than ever, and ran like the wind. \"Oho! oho!\" he said, \"I have run away from a little old woman, \"A little old man, \"A cow, \"A horse, \"A barn full of threshers, \"And I can run away from you, I can!\" And when he found that he was ahead of the mowers, he turned and shouted back to them, \"Run! run! as fast as you can! \"You can't catch me, I'm the Gingerbread Man!\" And the mowers couldn't catch him. By this time the little Gingerbread Boy was so proud that he didn't think anybody could catch him. Pretty soon he saw a fox coming across a field. The fox looked at him and began to run. But the little Gingerbread Boy shouted across to him, \"You can't catch me!\" The fox began to run faster, and the little Gingerbread Boy ran faster, and as he ran he chuckled, \"I have run away from a little old woman, \"A little old man, \"A cow, \"A horse, \"A barn full of threshers, \"A field full of mowers, \"And I can run away from you, I can! \"Run! run! as fast as you can! \"You can't catch me, I'm the Gingerbread Man!\" \"Why,\" said the fox, \"I would not catch you if I could. I would not think of disturbing you.\" Just then, the little Gingerbread Boy came to a river. He could not swim across, and he wanted to keep running away from the cow and the horse and the people. \"Jump on my tail, and I will take you across,\" said the fox. So the little Gingerbread Boy jumped on the fox's tail, and the fox began to swim the river. When he was a little way from the bank he turned his head, and said, \"You are too heavy on my tail, little Gingerbread Boy, I fear I shall let you get wet; jump on my back.\" The little Gingerbread Boy jumped on his back. A little farther out, the fox said, \"I am afraid the water will cover you, there; jump on my shoulder.\" The little Gingerbread Boy jumped on his shoulder. In the middle of the stream the fox said, \"Oh, dear! little Gingerbread Boy, my shoulder is sinking; jump on my nose, and I can hold you out of water.\" So the little Gingerbread Boy jumped on his nose. The minute the fox reached the bank he threw back his head, and gave a snap! \"Dear me!\" said the little Gingerbread Boy, \"I am a quarter gone!\" The next minute he said, \"Why, I am half gone!\" The next minute he said, \"My goodness gracious, I am three quarters gone!\" And after that, the little Gingerbread Boy never said anything more at all. THE LITTLE JACKALS AND THE LION Once there was a great big jungle; and in the jungle there was a great big Lion; and the Lion was king of the jungle. Whenever he wanted anything to eat, all he had to do was to come up out of his cave in the stones and earth and _roar_. When he had roared a few times all the little people of the jungle were so frightened that they came out of their holes and hiding-places and ran, this way and that, to get away. Then, of course, the Lion could see where they were. And he pounced on them, killed them, and gobbled them up. He did this so often that at last there was not a single thing left alive in the jungle besides the Lion, except two little Jackals, a little father Jackal and a little mother Jackal. They had run away so many times that they were quite thin and very tired, and they could not run so fast any more. And one day the Lion was so near that the little mother Jackal grew frightened; she said, \"Oh, Father Jackal, Father Jackal! I b'lieve our time has come! the Lion will surely catch us this time!\" \"Pooh! nonsense, mother!\" said the little father Jackal. \"Come, we'll run on a bit!\" And they ran, ran, ran very fast, and the Lion did not catch them that time. But at last a day came when the Lion was nearer still and the little mother Jackal was frightened almost to death. \"Oh, Father Jackal, Father Jackal!\" she cried; \"I'm sure our time has come! The Lion's going to eat us this time!\" \"Now, mother, don't you fret,\" said the little father Jackal; \"you do just as I tell you, and it will be all right.\" Then what did those cunning little Jackals do but take hold of hands and run up towards the Lion, as if they had meant to come all the time. When he saw them coming he stood up, and roared in a terrible voice, \"You miserable little wretches, come here and be eaten, at once! Why didn't you come before?\" The father Jackal bowed very low. \"Indeed, Father Lion,\" he said, \"we meant to come before; we knew we ought to come before; and we wanted to come before; but every time we started to come, a dreadful great lion came out of the woods and roared at us, and frightened us so that we ran away.\" \"What do you mean?\" roared the Lion. \"There's no other lion in this jungle, and you know it!\" \"Indeed, indeed, Father Lion,\" said the little Jackal, \"I know that is what everybody thinks; but indeed and indeed there is another lion! And he is as much bigger than you as you are bigger than I! His face is much more terrible, and his roar far, far more dreadful. Oh, he is far more fearful than you!\" At that the Lion stood up and roared so that the jungle shook. \"Take me to this Lion,\" he said; \"I'll eat him up and then I'll eat you up.\" The little Jackals danced on ahead, and the Lion stalked behind. They led him to a place where there was a round, deep well of clear water. They went round on one side of it, and the Lion stalked up to the other. \"He lives down there, Father Lion!\" said the little Jackal. \"He lives down there!\" The Lion came close and looked down into the water, and a lion's face looked back at him out of the water! When he saw that, the Lion roared and shook his mane and showed his teeth. And the lion in the water shook his mane and showed his teeth. The Lion above shook his mane again and growled again, and made a terrible face. But the lion in the water made just as terrible a one, back. The Lion above couldn't stand that. He leaped down into the well after the other lion. But, of course, as you know very well, there wasn't any other lion! It was only the reflection in the water! So the poor old Lion floundered about and floundered about, and as he couldn't get up the steep sides of the well, he was at last drowned. And when he was drowned, the little Jackals took hold of hands and danced round the well, and sang, \"The Lion is dead! The Lion is dead! \"We have killed the great Lion who would have killed us! \"The Lion is dead! The Lion is dead! \"Ao! Ao! Ao!\" THE COUNTRY MOUSE AND THE CITY MOUSE Once a little mouse who lived in the country invited a little mouse from the city to visit him. When the little City Mouse sat down to dinner he was surprised to find that the Country Mouse had nothing to eat except barley and grain. \"Really,\" he said, \"you do not live well at all; you should see how I live! I have all sorts of fine things to eat every day. You must come to visit me and see how nice it is to live in the city.\" The little Country Mouse was glad to do this, and after a while he went to the city to visit his friend. The very first place that the City Mouse took the Country Mouse to see was the kitchen cupboard of the house where he lived. There, on the lowest shelf, behind some stone jars, stood a big paper bag of brown sugar. The little City Mouse gnawed a hole in the bag and invited his friend to nibble for himself. The two little mice nibbled and nibbled, and the Country Mouse thought he had never tasted anything so delicious in his life. He was just thinking how lucky the City Mouse was, when suddenly the door opened with a bang, and in came the cook to get some flour. \"Run!\" whispered the City Mouse. And they ran as fast as they could to the little hole where they had come in. The little Country Mouse was shaking all over when they got safely away, but the little City Mouse said, \"That is nothing; she will soon go away and then we can go back.\" After the cook had gone away and shut the door they stole softly back, and this time the City Mouse had something new to show: he took the little Country Mouse into a corner on the top shelf, where a big jar of dried prunes stood open. After much tugging and pulling they got a large dried prune out of the jar on to the shelf and began to nibble at it. This was even better than the brown sugar. The little Country Mouse liked the taste so much that he could hardly nibble fast enough. But all at once, in the midst of their eating, there came a scratching at the door and a sharp, loud _miaouw_! \"What is that?\" said the Country Mouse. The City Mouse just whispered, \"Sh!\" and ran as fast as he could to the hole. The Country Mouse ran after, you may be sure, as fast as _he_ could. As soon as they were out of danger the City Mouse said, \"That was the old Cat; she is the best mouser in town, if she once gets you, you are lost.\" \"This is very terrible,\" said the little Country Mouse; \"let us not go back to the cupboard again.\" \"No,\" said the City Mouse, \"I will take you to the cellar; there is something specially fine there.\" So the City Mouse took his little friend down the cellar stairs and into a big cupboard where there were many shelves. On the shelves were jars of butter, and cheeses in bags and out of bags. Overhead hung bunches of sausages, and there were spicy apples in barrels standing about. It smelt so good that it went to the little Country Mouse's head. He ran along the shelf and nibbled at a cheese here, and a bit of butter there, until he saw an especially rich, very delicious-smelling piece of cheese on a queer little stand in a corner. He was just on the point of putting his teeth into the cheese when the City Mouse saw him. \"Stop! stop!\" cried the City Mouse. \"That is a trap!\" The little Country Mouse stopped and said, \"What is a trap?\" \"That thing is a trap,\" said the little City Mouse. \"The minute you touch the cheese with your teeth something comes down on your head hard, and you're dead.\" The little Country Mouse looked at the trap, and he looked at the cheese, and he looked at the little City Mouse. \"If you'll excuse me,\" he said, \"I think I will go home. I'd rather have barley and grain to eat and eat it in peace and comfort, than have brown sugar and dried prunes and cheese, and be frightened to death all the time!\" So the little Country Mouse went back to his home, and there he stayed all the rest of his life. LITTLE JACK ROLLAROUND Once upon a time there was a wee little boy who slept in a tiny trundle-bed near his mother's great bed. The trundle-bed had castors on it so that it could be rolled about, and there was nothing in the world the little boy liked so much as to have it rolled. When his mother came to bed he would cry, \"Roll me around! roll me around!\" And his mother would put out her hand from the big bed and push the little bed back and forth till she was tired. The little boy could never get enough; so for this he was called \"Little Jack Rollaround.\" One night he had made his mother roll him about, till she fell asleep, and even then he kept crying, \"Roll me around! roll me around!\" His mother pushed him about in her sleep, until her slumber became too sound; then she stopped. But Little Jack Rollaround kept on crying, \"Roll around! roll around!\" By and by the Moon peeped in at the window. He saw a funny sight: Little Jack Rollaround was lying in his trundle-bed, and he had put up one little fat leg for a mast, and fastened the corner of his wee shirt to it for a sail; and he was blowing at it with all his might, and saying, \"Roll around! roll around!\" Slowly, slowly, the little trundle-bed boat began to move; it sailed along the floor and up the wall and across the ceiling and down again! \"More! more!\" cried Little Jack Rollaround; and the little boat sailed faster up the wall, across the ceiling, down the wall, and over the floor. The Moon laughed at the sight; but when Little Jack Rollaround saw the Moon, he called out, \"Open the door, old Moon! I want to roll through the town, so that the people can see me!\" The Moon could not open the door, but he shone in through the keyhole, in a broad band. And Little Jack Rollaround sailed his trundle-bed boat up the beam, through the keyhole, and into the street. \"Make a light, old Moon,\" he said; \"I want the people to see me!\" So the good Moon made a light and went along with him, and the little trundle-bed boat went sailing down the streets into the main street of the village. They rolled past the town hall and the schoolhouse and the church; but nobody saw little Jack Rollaround, because everybody was in bed, asleep. \"Why don't the people come to see me?\" he shouted. High up on the church steeple, the Weather-vane answered, \"It is no time for people to be in the streets; decent folk are in their beds.\" \"Then I'll go to the woods, so that the animals may see me,\" said Little Jack. \"Come along, old Moon, and make a light!\" The good Moon went along and made a light, and they came to the forest. \"Roll! roll!\" cried the little boy; and the trundle-bed went trundling among the trees in the great wood, scaring up the squirrels and startling the little leaves on the trees. The poor old Moon began to have a bad time of it, for the tree-trunks got in his way so that he could not go so fast as the bed, and every time he got behind, the little boy called, \"Hurry up, old Moon, I want the beasts to see me!\" But all the animals were asleep, and nobody at all looked at Little Jack Rollaround except an old White Owl; and all she said was, \"Who are you?\" The little boy did not like her, so he blew harder, and the trundle-bed boat went sailing through the forest till it came to the end of the world. \"I must go home now; it is late,\" said the Moon. \"I will go with you; make a path!\" said Little Jack Rollaround. The kind Moon made a path up to the sky, and up sailed the little bed into the midst of the sky. All the little bright Stars were there with their nice little lamps. And when he saw them, that naughty Little Jack Rollaround began to tease. \"Out of the way, there! I am coming!\" he shouted, and sailed the trundle-bed boat straight at them. He bumped the little Stars right and left, all over the sky, until every one of them put his little lamp out and left it dark. \"Do not treat the little Stars so,\" said the good Moon. But Jack Rollaround only behaved the worse: \"Get out of the way, old Moon!"
            ]
          },
          "metadata": {
            "tags": []
          },
          "execution_count": 18
        }
      ]
    },
    {
      "cell_type": "code",
      "metadata": {
        "id": "qLi7M4mAGsG0",
        "colab_type": "code",
        "colab": {
          "base_uri": "https://localhost:8080/",
          "height": 204
        },
        "outputId": "d060915a-5663-473a-b41b-8a735d1e8688"
      },
      "source": [
        "# Group into sentences.\n",
        "poems_sentences = [[sent, 'Blake'] for sent in poems_doc.sents]\n",
        "stories_sentences = [[sent, 'Bryant'] for sent in stories_doc.sents]\n",
        "\n",
        "# Combine the sentences from the two novels into one data frame.\n",
        "sentences = pd.DataFrame(poems_sentences + stories_sentences)\n",
        "sentences.head()"
      ],
      "execution_count": 19,
      "outputs": [
        {
          "output_type": "execute_result",
          "data": {
            "text/html": [
              "<div>\n",
              "<style scoped>\n",
              "    .dataframe tbody tr th:only-of-type {\n",
              "        vertical-align: middle;\n",
              "    }\n",
              "\n",
              "    .dataframe tbody tr th {\n",
              "        vertical-align: top;\n",
              "    }\n",
              "\n",
              "    .dataframe thead th {\n",
              "        text-align: right;\n",
              "    }\n",
              "</style>\n",
              "<table border=\"1\" class=\"dataframe\">\n",
              "  <thead>\n",
              "    <tr style=\"text-align: right;\">\n",
              "      <th></th>\n",
              "      <th>0</th>\n",
              "      <th>1</th>\n",
              "    </tr>\n",
              "  </thead>\n",
              "  <tbody>\n",
              "    <tr>\n",
              "      <th>0</th>\n",
              "      <td>(SONGS, OF, INNOCENCE, AND, OF, EXPERIENCE, an...</td>\n",
              "      <td>Blake</td>\n",
              "    </tr>\n",
              "    <tr>\n",
              "      <th>1</th>\n",
              "      <td>(INNOCENCE, INTRODUCTION, Piping, down, the, v...</td>\n",
              "      <td>Blake</td>\n",
              "    </tr>\n",
              "    <tr>\n",
              "      <th>2</th>\n",
              "      <td>(wild)</td>\n",
              "      <td>Blake</td>\n",
              "    </tr>\n",
              "    <tr>\n",
              "      <th>3</th>\n",
              "      <td>(,, Piping, songs, of, pleasant, glee, ,, On, ...</td>\n",
              "      <td>Blake</td>\n",
              "    </tr>\n",
              "    <tr>\n",
              "      <th>4</th>\n",
              "      <td>(\", Pipe, a, song, about, a, Lamb, !, \")</td>\n",
              "      <td>Blake</td>\n",
              "    </tr>\n",
              "  </tbody>\n",
              "</table>\n",
              "</div>"
            ],
            "text/plain": [
              "                                                   0      1\n",
              "0  (SONGS, OF, INNOCENCE, AND, OF, EXPERIENCE, an...  Blake\n",
              "1  (INNOCENCE, INTRODUCTION, Piping, down, the, v...  Blake\n",
              "2                                             (wild)  Blake\n",
              "3  (,, Piping, songs, of, pleasant, glee, ,, On, ...  Blake\n",
              "4           (\", Pipe, a, song, about, a, Lamb, !, \")  Blake"
            ]
          },
          "metadata": {
            "tags": []
          },
          "execution_count": 19
        }
      ]
    },
    {
      "cell_type": "markdown",
      "metadata": {
        "id": "dYzY2FA5HYvi",
        "colab_type": "text"
      },
      "source": [
        "### 2. Create Features Using Two Different NLP Methods, like Bag of Words (BoW) and tf-idf"
      ]
    },
    {
      "cell_type": "markdown",
      "metadata": {
        "id": "C_wEJIHEHhBo",
        "colab_type": "text"
      },
      "source": [
        "_BoW_"
      ]
    },
    {
      "cell_type": "code",
      "metadata": {
        "id": "DUIzpy7zHHOg",
        "colab_type": "code",
        "colab": {}
      },
      "source": [
        "# Utility function to create a list of the 2,000 most common words.\n",
        "def bag_of_words(text):\n",
        "    \n",
        "    # Filter out punctuation and stop words.\n",
        "    allwords = [token.lemma_\n",
        "                for token in text\n",
        "                if not token.is_punct\n",
        "                and not token.is_stop]\n",
        "    \n",
        "    # Return the most common words.\n",
        "    return [item[0] for item in Counter(allwords).most_common(2000)]\n",
        "    \n",
        "# Creates a data frame with features for each word in our common word set. Each value's the count of the times the word appears in each sentence.\n",
        "def bow_features(sentences, common_words):\n",
        "    \n",
        "    # Scaffold the data frame and initialize counts to zero.\n",
        "    df = pd.DataFrame(columns=common_words)\n",
        "    df['text_sentence'] = sentences[0]\n",
        "    df['text_source'] = sentences[1]\n",
        "    df.loc[:, common_words] = 0\n",
        "    \n",
        "    # Process each row, counting the occurrence of words in each sentence.\n",
        "    for i, sentence in enumerate(df['text_sentence']):\n",
        "        \n",
        "        # Convert the sentence to lemmas, then filter out punctuation,\n",
        "        # stop words, and uncommon words.\n",
        "        words = [token.lemma_\n",
        "                 for token in sentence\n",
        "                 if (\n",
        "                     not token.is_punct\n",
        "                     and not token.is_stop\n",
        "                     and token.lemma_ in common_words\n",
        "                 )]\n",
        "        \n",
        "        # Populate the row with word counts.\n",
        "        for word in words:\n",
        "            df.loc[i, word] += 1\n",
        "        \n",
        "        # This counter is just to make sure the kernel didn't hang.\n",
        "        if i % 50 == 0:\n",
        "            print(\"Processing row {}\".format(i))\n",
        "            \n",
        "    return df\n",
        "\n",
        "    # Set up the bags.\n",
        "poems_words = bag_of_words(poems_doc)\n",
        "stories_words = bag_of_words(stories_doc)\n",
        "\n",
        "# Combine bags to create a set of unique words.\n",
        "common_words = set(poems_words + stories_words)"
      ],
      "execution_count": 0,
      "outputs": []
    },
    {
      "cell_type": "code",
      "metadata": {
        "id": "XgWKD_hgIEDy",
        "colab_type": "code",
        "colab": {
          "base_uri": "https://localhost:8080/",
          "height": 610
        },
        "outputId": "d32446db-1524-4ca6-8ac0-3b9d4f6408de"
      },
      "source": [
        "# Create our data frame with features. This can take a while to run.\n",
        "word_counts = bow_features(sentences, common_words)\n",
        "word_counts.head()"
      ],
      "execution_count": 21,
      "outputs": [
        {
          "output_type": "stream",
          "text": [
            "Processing row 0\n",
            "Processing row 50\n",
            "Processing row 100\n",
            "Processing row 150\n",
            "Processing row 200\n",
            "Processing row 250\n",
            "Processing row 300\n",
            "Processing row 350\n",
            "Processing row 400\n",
            "Processing row 450\n"
          ],
          "name": "stdout"
        },
        {
          "output_type": "execute_result",
          "data": {
            "text/html": [
              "<div>\n",
              "<style scoped>\n",
              "    .dataframe tbody tr th:only-of-type {\n",
              "        vertical-align: middle;\n",
              "    }\n",
              "\n",
              "    .dataframe tbody tr th {\n",
              "        vertical-align: top;\n",
              "    }\n",
              "\n",
              "    .dataframe thead th {\n",
              "        text-align: right;\n",
              "    }\n",
              "</style>\n",
              "<table border=\"1\" class=\"dataframe\">\n",
              "  <thead>\n",
              "    <tr style=\"text-align: right;\">\n",
              "      <th></th>\n",
              "      <th>play</th>\n",
              "      <th>arise</th>\n",
              "      <th>show</th>\n",
              "      <th>pleased</th>\n",
              "      <th>thing</th>\n",
              "      <th>course</th>\n",
              "      <th>rainbow</th>\n",
              "      <th>lion</th>\n",
              "      <th>bad</th>\n",
              "      <th>town</th>\n",
              "      <th>steal</th>\n",
              "      <th>southern</th>\n",
              "      <th>fiercely</th>\n",
              "      <th>lead</th>\n",
              "      <th>decent</th>\n",
              "      <th>castor</th>\n",
              "      <th>poke</th>\n",
              "      <th>tent</th>\n",
              "      <th>give</th>\n",
              "      <th>east</th>\n",
              "      <th>rustle</th>\n",
              "      <th>lean</th>\n",
              "      <th>house</th>\n",
              "      <th>beast</th>\n",
              "      <th>care</th>\n",
              "      <th>chocolate</th>\n",
              "      <th>fearful</th>\n",
              "      <th>round</th>\n",
              "      <th>suffering</th>\n",
              "      <th>low</th>\n",
              "      <th>wet</th>\n",
              "      <th>tooth</th>\n",
              "      <th>glad</th>\n",
              "      <th>begin</th>\n",
              "      <th>Little</th>\n",
              "      <th>rejoice</th>\n",
              "      <th>pen</th>\n",
              "      <th>morn</th>\n",
              "      <th>Mouse</th>\n",
              "      <th>church</th>\n",
              "      <th>...</th>\n",
              "      <th>specially</th>\n",
              "      <th>reflection</th>\n",
              "      <th>ripe</th>\n",
              "      <th>naughty</th>\n",
              "      <th>pooh</th>\n",
              "      <th>joy</th>\n",
              "      <th>frightened</th>\n",
              "      <th>snow</th>\n",
              "      <th>lift</th>\n",
              "      <th>catch</th>\n",
              "      <th>keyhole</th>\n",
              "      <th>corner</th>\n",
              "      <th>voice</th>\n",
              "      <th>pleasant</th>\n",
              "      <th>Clouds</th>\n",
              "      <th>powerful</th>\n",
              "      <th>remember</th>\n",
              "      <th>whisper</th>\n",
              "      <th>cellar</th>\n",
              "      <th>ao</th>\n",
              "      <th>wood</th>\n",
              "      <th>teach</th>\n",
              "      <th>good</th>\n",
              "      <th>dle</th>\n",
              "      <th>shine</th>\n",
              "      <th>strong</th>\n",
              "      <th>paper</th>\n",
              "      <th>shirt</th>\n",
              "      <th>sit</th>\n",
              "      <th>man</th>\n",
              "      <th>especially</th>\n",
              "      <th>start</th>\n",
              "      <th>dost</th>\n",
              "      <th>wretch</th>\n",
              "      <th>comfort</th>\n",
              "      <th>youth</th>\n",
              "      <th>woman</th>\n",
              "      <th>kill</th>\n",
              "      <th>text_sentence</th>\n",
              "      <th>text_source</th>\n",
              "    </tr>\n",
              "  </thead>\n",
              "  <tbody>\n",
              "    <tr>\n",
              "      <th>0</th>\n",
              "      <td>0</td>\n",
              "      <td>0</td>\n",
              "      <td>0</td>\n",
              "      <td>0</td>\n",
              "      <td>0</td>\n",
              "      <td>0</td>\n",
              "      <td>0</td>\n",
              "      <td>0</td>\n",
              "      <td>0</td>\n",
              "      <td>0</td>\n",
              "      <td>0</td>\n",
              "      <td>0</td>\n",
              "      <td>0</td>\n",
              "      <td>0</td>\n",
              "      <td>0</td>\n",
              "      <td>0</td>\n",
              "      <td>0</td>\n",
              "      <td>0</td>\n",
              "      <td>0</td>\n",
              "      <td>0</td>\n",
              "      <td>0</td>\n",
              "      <td>0</td>\n",
              "      <td>0</td>\n",
              "      <td>0</td>\n",
              "      <td>0</td>\n",
              "      <td>0</td>\n",
              "      <td>0</td>\n",
              "      <td>0</td>\n",
              "      <td>0</td>\n",
              "      <td>0</td>\n",
              "      <td>0</td>\n",
              "      <td>0</td>\n",
              "      <td>0</td>\n",
              "      <td>0</td>\n",
              "      <td>0</td>\n",
              "      <td>0</td>\n",
              "      <td>0</td>\n",
              "      <td>0</td>\n",
              "      <td>0</td>\n",
              "      <td>0</td>\n",
              "      <td>...</td>\n",
              "      <td>0</td>\n",
              "      <td>0</td>\n",
              "      <td>0</td>\n",
              "      <td>0</td>\n",
              "      <td>0</td>\n",
              "      <td>0</td>\n",
              "      <td>0</td>\n",
              "      <td>0</td>\n",
              "      <td>0</td>\n",
              "      <td>0</td>\n",
              "      <td>0</td>\n",
              "      <td>0</td>\n",
              "      <td>0</td>\n",
              "      <td>0</td>\n",
              "      <td>0</td>\n",
              "      <td>0</td>\n",
              "      <td>0</td>\n",
              "      <td>0</td>\n",
              "      <td>0</td>\n",
              "      <td>0</td>\n",
              "      <td>0</td>\n",
              "      <td>0</td>\n",
              "      <td>0</td>\n",
              "      <td>0</td>\n",
              "      <td>0</td>\n",
              "      <td>0</td>\n",
              "      <td>0</td>\n",
              "      <td>0</td>\n",
              "      <td>0</td>\n",
              "      <td>0</td>\n",
              "      <td>0</td>\n",
              "      <td>0</td>\n",
              "      <td>0</td>\n",
              "      <td>0</td>\n",
              "      <td>0</td>\n",
              "      <td>0</td>\n",
              "      <td>0</td>\n",
              "      <td>0</td>\n",
              "      <td>(SONGS, OF, INNOCENCE, AND, OF, EXPERIENCE, an...</td>\n",
              "      <td>Blake</td>\n",
              "    </tr>\n",
              "    <tr>\n",
              "      <th>1</th>\n",
              "      <td>0</td>\n",
              "      <td>0</td>\n",
              "      <td>0</td>\n",
              "      <td>0</td>\n",
              "      <td>0</td>\n",
              "      <td>0</td>\n",
              "      <td>0</td>\n",
              "      <td>0</td>\n",
              "      <td>0</td>\n",
              "      <td>0</td>\n",
              "      <td>0</td>\n",
              "      <td>0</td>\n",
              "      <td>0</td>\n",
              "      <td>0</td>\n",
              "      <td>0</td>\n",
              "      <td>0</td>\n",
              "      <td>0</td>\n",
              "      <td>0</td>\n",
              "      <td>0</td>\n",
              "      <td>0</td>\n",
              "      <td>0</td>\n",
              "      <td>0</td>\n",
              "      <td>0</td>\n",
              "      <td>0</td>\n",
              "      <td>0</td>\n",
              "      <td>0</td>\n",
              "      <td>0</td>\n",
              "      <td>0</td>\n",
              "      <td>0</td>\n",
              "      <td>0</td>\n",
              "      <td>0</td>\n",
              "      <td>0</td>\n",
              "      <td>0</td>\n",
              "      <td>0</td>\n",
              "      <td>0</td>\n",
              "      <td>0</td>\n",
              "      <td>0</td>\n",
              "      <td>0</td>\n",
              "      <td>0</td>\n",
              "      <td>0</td>\n",
              "      <td>...</td>\n",
              "      <td>0</td>\n",
              "      <td>0</td>\n",
              "      <td>0</td>\n",
              "      <td>0</td>\n",
              "      <td>0</td>\n",
              "      <td>0</td>\n",
              "      <td>0</td>\n",
              "      <td>0</td>\n",
              "      <td>0</td>\n",
              "      <td>0</td>\n",
              "      <td>0</td>\n",
              "      <td>0</td>\n",
              "      <td>0</td>\n",
              "      <td>0</td>\n",
              "      <td>0</td>\n",
              "      <td>0</td>\n",
              "      <td>0</td>\n",
              "      <td>0</td>\n",
              "      <td>0</td>\n",
              "      <td>0</td>\n",
              "      <td>0</td>\n",
              "      <td>0</td>\n",
              "      <td>0</td>\n",
              "      <td>0</td>\n",
              "      <td>0</td>\n",
              "      <td>0</td>\n",
              "      <td>0</td>\n",
              "      <td>0</td>\n",
              "      <td>0</td>\n",
              "      <td>0</td>\n",
              "      <td>0</td>\n",
              "      <td>0</td>\n",
              "      <td>0</td>\n",
              "      <td>0</td>\n",
              "      <td>0</td>\n",
              "      <td>0</td>\n",
              "      <td>0</td>\n",
              "      <td>0</td>\n",
              "      <td>(INNOCENCE, INTRODUCTION, Piping, down, the, v...</td>\n",
              "      <td>Blake</td>\n",
              "    </tr>\n",
              "    <tr>\n",
              "      <th>2</th>\n",
              "      <td>0</td>\n",
              "      <td>0</td>\n",
              "      <td>0</td>\n",
              "      <td>0</td>\n",
              "      <td>0</td>\n",
              "      <td>0</td>\n",
              "      <td>0</td>\n",
              "      <td>0</td>\n",
              "      <td>0</td>\n",
              "      <td>0</td>\n",
              "      <td>0</td>\n",
              "      <td>0</td>\n",
              "      <td>0</td>\n",
              "      <td>0</td>\n",
              "      <td>0</td>\n",
              "      <td>0</td>\n",
              "      <td>0</td>\n",
              "      <td>0</td>\n",
              "      <td>0</td>\n",
              "      <td>0</td>\n",
              "      <td>0</td>\n",
              "      <td>0</td>\n",
              "      <td>0</td>\n",
              "      <td>0</td>\n",
              "      <td>0</td>\n",
              "      <td>0</td>\n",
              "      <td>0</td>\n",
              "      <td>0</td>\n",
              "      <td>0</td>\n",
              "      <td>0</td>\n",
              "      <td>0</td>\n",
              "      <td>0</td>\n",
              "      <td>0</td>\n",
              "      <td>0</td>\n",
              "      <td>0</td>\n",
              "      <td>0</td>\n",
              "      <td>0</td>\n",
              "      <td>0</td>\n",
              "      <td>0</td>\n",
              "      <td>0</td>\n",
              "      <td>...</td>\n",
              "      <td>0</td>\n",
              "      <td>0</td>\n",
              "      <td>0</td>\n",
              "      <td>0</td>\n",
              "      <td>0</td>\n",
              "      <td>0</td>\n",
              "      <td>0</td>\n",
              "      <td>0</td>\n",
              "      <td>0</td>\n",
              "      <td>0</td>\n",
              "      <td>0</td>\n",
              "      <td>0</td>\n",
              "      <td>0</td>\n",
              "      <td>0</td>\n",
              "      <td>0</td>\n",
              "      <td>0</td>\n",
              "      <td>0</td>\n",
              "      <td>0</td>\n",
              "      <td>0</td>\n",
              "      <td>0</td>\n",
              "      <td>0</td>\n",
              "      <td>0</td>\n",
              "      <td>0</td>\n",
              "      <td>0</td>\n",
              "      <td>0</td>\n",
              "      <td>0</td>\n",
              "      <td>0</td>\n",
              "      <td>0</td>\n",
              "      <td>0</td>\n",
              "      <td>0</td>\n",
              "      <td>0</td>\n",
              "      <td>0</td>\n",
              "      <td>0</td>\n",
              "      <td>0</td>\n",
              "      <td>0</td>\n",
              "      <td>0</td>\n",
              "      <td>0</td>\n",
              "      <td>0</td>\n",
              "      <td>(wild)</td>\n",
              "      <td>Blake</td>\n",
              "    </tr>\n",
              "    <tr>\n",
              "      <th>3</th>\n",
              "      <td>0</td>\n",
              "      <td>0</td>\n",
              "      <td>0</td>\n",
              "      <td>0</td>\n",
              "      <td>0</td>\n",
              "      <td>0</td>\n",
              "      <td>0</td>\n",
              "      <td>0</td>\n",
              "      <td>0</td>\n",
              "      <td>0</td>\n",
              "      <td>0</td>\n",
              "      <td>0</td>\n",
              "      <td>0</td>\n",
              "      <td>0</td>\n",
              "      <td>0</td>\n",
              "      <td>0</td>\n",
              "      <td>0</td>\n",
              "      <td>0</td>\n",
              "      <td>0</td>\n",
              "      <td>0</td>\n",
              "      <td>0</td>\n",
              "      <td>0</td>\n",
              "      <td>0</td>\n",
              "      <td>0</td>\n",
              "      <td>0</td>\n",
              "      <td>0</td>\n",
              "      <td>0</td>\n",
              "      <td>0</td>\n",
              "      <td>0</td>\n",
              "      <td>0</td>\n",
              "      <td>0</td>\n",
              "      <td>0</td>\n",
              "      <td>0</td>\n",
              "      <td>0</td>\n",
              "      <td>0</td>\n",
              "      <td>0</td>\n",
              "      <td>0</td>\n",
              "      <td>0</td>\n",
              "      <td>0</td>\n",
              "      <td>0</td>\n",
              "      <td>...</td>\n",
              "      <td>0</td>\n",
              "      <td>0</td>\n",
              "      <td>0</td>\n",
              "      <td>0</td>\n",
              "      <td>0</td>\n",
              "      <td>0</td>\n",
              "      <td>0</td>\n",
              "      <td>0</td>\n",
              "      <td>0</td>\n",
              "      <td>0</td>\n",
              "      <td>0</td>\n",
              "      <td>0</td>\n",
              "      <td>0</td>\n",
              "      <td>1</td>\n",
              "      <td>0</td>\n",
              "      <td>0</td>\n",
              "      <td>0</td>\n",
              "      <td>0</td>\n",
              "      <td>0</td>\n",
              "      <td>0</td>\n",
              "      <td>0</td>\n",
              "      <td>0</td>\n",
              "      <td>0</td>\n",
              "      <td>0</td>\n",
              "      <td>0</td>\n",
              "      <td>0</td>\n",
              "      <td>0</td>\n",
              "      <td>0</td>\n",
              "      <td>0</td>\n",
              "      <td>0</td>\n",
              "      <td>0</td>\n",
              "      <td>0</td>\n",
              "      <td>0</td>\n",
              "      <td>0</td>\n",
              "      <td>0</td>\n",
              "      <td>0</td>\n",
              "      <td>0</td>\n",
              "      <td>0</td>\n",
              "      <td>(,, Piping, songs, of, pleasant, glee, ,, On, ...</td>\n",
              "      <td>Blake</td>\n",
              "    </tr>\n",
              "    <tr>\n",
              "      <th>4</th>\n",
              "      <td>0</td>\n",
              "      <td>0</td>\n",
              "      <td>0</td>\n",
              "      <td>0</td>\n",
              "      <td>0</td>\n",
              "      <td>0</td>\n",
              "      <td>0</td>\n",
              "      <td>0</td>\n",
              "      <td>0</td>\n",
              "      <td>0</td>\n",
              "      <td>0</td>\n",
              "      <td>0</td>\n",
              "      <td>0</td>\n",
              "      <td>0</td>\n",
              "      <td>0</td>\n",
              "      <td>0</td>\n",
              "      <td>0</td>\n",
              "      <td>0</td>\n",
              "      <td>0</td>\n",
              "      <td>0</td>\n",
              "      <td>0</td>\n",
              "      <td>0</td>\n",
              "      <td>0</td>\n",
              "      <td>0</td>\n",
              "      <td>0</td>\n",
              "      <td>0</td>\n",
              "      <td>0</td>\n",
              "      <td>0</td>\n",
              "      <td>0</td>\n",
              "      <td>0</td>\n",
              "      <td>0</td>\n",
              "      <td>0</td>\n",
              "      <td>0</td>\n",
              "      <td>0</td>\n",
              "      <td>0</td>\n",
              "      <td>0</td>\n",
              "      <td>0</td>\n",
              "      <td>0</td>\n",
              "      <td>0</td>\n",
              "      <td>0</td>\n",
              "      <td>...</td>\n",
              "      <td>0</td>\n",
              "      <td>0</td>\n",
              "      <td>0</td>\n",
              "      <td>0</td>\n",
              "      <td>0</td>\n",
              "      <td>0</td>\n",
              "      <td>0</td>\n",
              "      <td>0</td>\n",
              "      <td>0</td>\n",
              "      <td>0</td>\n",
              "      <td>0</td>\n",
              "      <td>0</td>\n",
              "      <td>0</td>\n",
              "      <td>0</td>\n",
              "      <td>0</td>\n",
              "      <td>0</td>\n",
              "      <td>0</td>\n",
              "      <td>0</td>\n",
              "      <td>0</td>\n",
              "      <td>0</td>\n",
              "      <td>0</td>\n",
              "      <td>0</td>\n",
              "      <td>0</td>\n",
              "      <td>0</td>\n",
              "      <td>0</td>\n",
              "      <td>0</td>\n",
              "      <td>0</td>\n",
              "      <td>0</td>\n",
              "      <td>0</td>\n",
              "      <td>0</td>\n",
              "      <td>0</td>\n",
              "      <td>0</td>\n",
              "      <td>0</td>\n",
              "      <td>0</td>\n",
              "      <td>0</td>\n",
              "      <td>0</td>\n",
              "      <td>0</td>\n",
              "      <td>0</td>\n",
              "      <td>(\", Pipe, a, song, about, a, Lamb, !, \")</td>\n",
              "      <td>Blake</td>\n",
              "    </tr>\n",
              "  </tbody>\n",
              "</table>\n",
              "<p>5 rows × 681 columns</p>\n",
              "</div>"
            ],
            "text/plain": [
              "  play arise  ...                                      text_sentence text_source\n",
              "0    0     0  ...  (SONGS, OF, INNOCENCE, AND, OF, EXPERIENCE, an...       Blake\n",
              "1    0     0  ...  (INNOCENCE, INTRODUCTION, Piping, down, the, v...       Blake\n",
              "2    0     0  ...                                             (wild)       Blake\n",
              "3    0     0  ...  (,, Piping, songs, of, pleasant, glee, ,, On, ...       Blake\n",
              "4    0     0  ...           (\", Pipe, a, song, about, a, Lamb, !, \")       Blake\n",
              "\n",
              "[5 rows x 681 columns]"
            ]
          },
          "metadata": {
            "tags": []
          },
          "execution_count": 21
        }
      ]
    },
    {
      "cell_type": "markdown",
      "metadata": {
        "id": "xj0laNKbKp5e",
        "colab_type": "text"
      },
      "source": [
        "_tf-idf_"
      ]
    },
    {
      "cell_type": "code",
      "metadata": {
        "id": "EL9gTsIoNq9I",
        "colab_type": "code",
        "colab": {
          "base_uri": "https://localhost:8080/",
          "height": 102
        },
        "outputId": "6c3d0259-976b-415c-8d6c-c71c01a0f951"
      },
      "source": [
        "import nltk\n",
        "from nltk.corpus import gutenberg\n",
        "nltk.download('punkt')\n",
        "nltk.download('gutenberg')\n",
        "\n",
        "#reading in the data, this time in the form of paragraphs\n",
        "poems=gutenberg.paras('blake-poems.txt')\n",
        "\n",
        "#processing\n",
        "poems_paras=[]\n",
        "for paragraph in poems:\n",
        "    para=paragraph[0]\n",
        "\n",
        "    #removing the double-dash from all words\n",
        "    para=[re.sub(r'--','',word) for word in para]\n",
        "\n",
        "    #Forming each paragraph into a string and adding it to the list of strings.\n",
        "    poems_paras.append(' '.join(para))\n",
        "\n",
        "print(poems_paras[0:4])"
      ],
      "execution_count": 32,
      "outputs": [
        {
          "output_type": "stream",
          "text": [
            "[nltk_data] Downloading package punkt to /root/nltk_data...\n",
            "[nltk_data]   Package punkt is already up-to-date!\n",
            "[nltk_data] Downloading package gutenberg to /root/nltk_data...\n",
            "[nltk_data]   Package gutenberg is already up-to-date!\n",
            "['[ Poems by William Blake 1789 ]', 'SONGS OF INNOCENCE AND OF EXPERIENCE and THE BOOK of THEL', 'SONGS OF INNOCENCE', 'INTRODUCTION']\n"
          ],
          "name": "stdout"
        }
      ]
    },
    {
      "cell_type": "code",
      "metadata": {
        "id": "ZgSJT8TCIHWo",
        "colab_type": "code",
        "colab": {
          "base_uri": "https://localhost:8080/",
          "height": 88
        },
        "outputId": "35d8028d-b357-4fb4-8501-4574aae8e878"
      },
      "source": [
        "from sklearn.feature_extraction.text import TfidfVectorizer\n",
        "\n",
        "X_train, X_test = train_test_split(poems_paras, test_size=0.4, random_state=0)\n",
        "\n",
        "vectorizer = TfidfVectorizer(max_df=0.5, # drop words that occur in more than half the paragraphs\n",
        "                             min_df=2, # only use words that appear at least twice\n",
        "                             stop_words='english', \n",
        "                             lowercase=True, #convert everything to lower case (since Alice in Wonderland has the HABIT of CAPITALIZING WORDS for EMPHASIS)\n",
        "                             use_idf=True,#we definitely want to use inverse document frequencies in our weighting\n",
        "                             norm=u'l2', #Applies a correction factor so that longer paragraphs and shorter paragraphs get treated equally\n",
        "                             smooth_idf=True #Adds 1 to all document frequencies, as if an extra document existed that used every word once.  Prevents divide-by-zero errors\n",
        "                            )\n",
        "\n",
        "\n",
        "#Applying the vectorizer\n",
        "poems_paras_tfidf=vectorizer.fit_transform(poems_paras)\n",
        "print(\"Number of features: %d\" % poems_paras_tfidf.get_shape()[1])\n",
        "\n",
        "#splitting into training and test sets\n",
        "X_train_tfidf, X_test_tfidf= train_test_split(poems_paras_tfidf, test_size=0.4, random_state=0)\n",
        "\n",
        "#Reshapes the vectorizer output into something people can read\n",
        "X_train_tfidf_csr = X_train_tfidf.tocsr()\n",
        "\n",
        "#number of paragraphs\n",
        "n = X_train_tfidf_csr.shape[0]\n",
        "\n",
        "#A list of dictionaries, one per paragraph\n",
        "tfidf_bypara = [{} for _ in range(0,n)]\n",
        "\n",
        "#List of features\n",
        "terms = vectorizer.get_feature_names()\n",
        "\n",
        "#for each paragraph, lists the feature words and their tf-idf scores\n",
        "for i, j in zip(*X_train_tfidf_csr.nonzero()):\n",
        "    tfidf_bypara[i][terms[j]] = X_train_tfidf_csr[i, j]\n",
        "\n",
        "#Keep in mind that the log base 2 of 1 is 0, so a tf-idf score of 0 indicates that the word was present once in that sentence.\n",
        "print('Original sentence:', X_train[5])\n",
        "print('Tf_idf vector:', tfidf_bypara[5])"
      ],
      "execution_count": 35,
      "outputs": [
        {
          "output_type": "stream",
          "text": [
            "Number of features: 404\n",
            "Original sentence: The sun descending in the west , The evening star does shine ; The birds are silent in their nest , And I must seek for mine .\n",
            "Tf_idf vector: {'seek': 0.3790496718281308, 'nest': 0.3790496718281308, 'silent': 0.3790496718281308, 'evening': 0.3997564247870558, 'shine': 0.3498651426862711, 'birds': 0.3291583897273461, 'does': 0.2749034743404047, 'sun': 0.32068061354441146}\n"
          ],
          "name": "stdout"
        }
      ]
    },
    {
      "cell_type": "markdown",
      "metadata": {
        "id": "avinHLGwKtzl",
        "colab_type": "text"
      },
      "source": [
        "### 3. Fit Supervised Learning Models for Each Feature Set to Predict the Category Outcomes"
      ]
    },
    {
      "cell_type": "markdown",
      "metadata": {
        "id": "K-DCJWl0K1f2",
        "colab_type": "text"
      },
      "source": [
        "_Setting Up the Train and Test Sets_"
      ]
    },
    {
      "cell_type": "code",
      "metadata": {
        "id": "QqMQo3SPKyY6",
        "colab_type": "code",
        "colab": {}
      },
      "source": [
        "Y = word_counts['text_source']\n",
        "X = np.array(word_counts.drop(['text_sentence','text_source'], 1))\n",
        "\n",
        "X_train, X_test, y_train, y_test = train_test_split(X, \n",
        "                                                    Y,\n",
        "                                                    test_size=0.4,\n",
        "                                                    random_state=0)"
      ],
      "execution_count": 0,
      "outputs": []
    },
    {
      "cell_type": "markdown",
      "metadata": {
        "id": "PpF6N5vuLW22",
        "colab_type": "text"
      },
      "source": [
        "_Random Forest - BoW_\n"
      ]
    },
    {
      "cell_type": "code",
      "metadata": {
        "id": "wxkoUrauK8ub",
        "colab_type": "code",
        "colab": {
          "base_uri": "https://localhost:8080/",
          "height": 102
        },
        "outputId": "d32f92cb-42ad-4f22-c24b-ff24332f8cd8"
      },
      "source": [
        "from sklearn import ensemble\n",
        "\n",
        "rfc = ensemble.RandomForestClassifier()\n",
        "\n",
        "train = rfc.fit(X_train, y_train)\n",
        "\n",
        "print('Training set score:', rfc.score(X_train, y_train))\n",
        "print('\\nTest set score:', rfc.score(X_test, y_test))"
      ],
      "execution_count": 29,
      "outputs": [
        {
          "output_type": "stream",
          "text": [
            "Training set score: 0.9756944444444444\n",
            "\n",
            "Test set score: 0.8860103626943006\n"
          ],
          "name": "stdout"
        },
        {
          "output_type": "stream",
          "text": [
            "/usr/local/lib/python3.6/dist-packages/sklearn/ensemble/forest.py:245: FutureWarning: The default value of n_estimators will change from 10 in version 0.20 to 100 in 0.22.\n",
            "  \"10 in version 0.20 to 100 in 0.22.\", FutureWarning)\n"
          ],
          "name": "stderr"
        }
      ]
    },
    {
      "cell_type": "markdown",
      "metadata": {
        "id": "eI5CAe6HLgju",
        "colab_type": "text"
      },
      "source": [
        "_Random Forest - tf-idf_"
      ]
    },
    {
      "cell_type": "code",
      "metadata": {
        "id": "BOTWXjHJLhzD",
        "colab_type": "code",
        "colab": {}
      },
      "source": [
        ""
      ],
      "execution_count": 0,
      "outputs": []
    },
    {
      "cell_type": "markdown",
      "metadata": {
        "id": "FFL2Lsr2Og4p",
        "colab_type": "text"
      },
      "source": [
        "### 4. Assess Your Models Using Cross-Validation"
      ]
    },
    {
      "cell_type": "code",
      "metadata": {
        "id": "PegRxmY_Olii",
        "colab_type": "code",
        "colab": {}
      },
      "source": [
        ""
      ],
      "execution_count": 0,
      "outputs": []
    },
    {
      "cell_type": "code",
      "metadata": {
        "id": "TyXyso9jOl_g",
        "colab_type": "code",
        "colab": {}
      },
      "source": [
        ""
      ],
      "execution_count": 0,
      "outputs": []
    },
    {
      "cell_type": "code",
      "metadata": {
        "id": "50Jriua_OmEY",
        "colab_type": "code",
        "colab": {}
      },
      "source": [
        ""
      ],
      "execution_count": 0,
      "outputs": []
    },
    {
      "cell_type": "markdown",
      "metadata": {
        "id": "CrUqXugzOmM2",
        "colab_type": "text"
      },
      "source": [
        "### 5. Pick a Model and Try to Increase its Accuracy by Five Percent"
      ]
    },
    {
      "cell_type": "code",
      "metadata": {
        "id": "Ova1EO1BOmCS",
        "colab_type": "code",
        "colab": {}
      },
      "source": [
        ""
      ],
      "execution_count": 0,
      "outputs": []
    }
  ]
}