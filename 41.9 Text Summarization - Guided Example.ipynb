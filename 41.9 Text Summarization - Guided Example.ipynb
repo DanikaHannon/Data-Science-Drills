{
  "nbformat": 4,
  "nbformat_minor": 0,
  "metadata": {
    "colab": {
      "name": "41.9 Text Summarization - Guided Example.ipynb",
      "provenance": [],
      "collapsed_sections": []
    },
    "kernelspec": {
      "name": "python3",
      "display_name": "Python 3"
    }
  },
  "cells": [
    {
      "cell_type": "markdown",
      "metadata": {
        "id": "GsmH0jqa9ISb",
        "colab_type": "text"
      },
      "source": [
        "# Drill\n",
        "\n",
        "It is also possible that keyword phrases will work better. Modifiy the keyword extraction code to extract two-word phrases (digrams) rather than single words. Then try it with trigrams. You will probably want to broaden the window that defines 'neighbors.' Try a few different modifications, and write up your observations in your notebook. Discuss with your mentor."
      ]
    },
    {
      "cell_type": "markdown",
      "metadata": {
        "id": "fMtI0nCm9P6L",
        "colab_type": "text"
      },
      "source": [
        "### Import Statements"
      ]
    },
    {
      "cell_type": "code",
      "metadata": {
        "id": "vPcyiqDn9OiK",
        "colab_type": "code",
        "colab": {}
      },
      "source": [
        "import numpy as np\n",
        "import pandas as pd\n",
        "import scipy\n",
        "import matplotlib.pyplot as plt\n",
        "import networkx as nx\n",
        "import spacy\n",
        "from sklearn.feature_extraction.text import TfidfVectorizer\n",
        "%matplotlib inline"
      ],
      "execution_count": 0,
      "outputs": []
    },
    {
      "cell_type": "markdown",
      "metadata": {
        "id": "JzAwbxZU_OAU",
        "colab_type": "text"
      },
      "source": [
        "### Sentence Extraction"
      ]
    },
    {
      "cell_type": "code",
      "metadata": {
        "id": "wdJktM2I9TVb",
        "colab_type": "code",
        "colab": {}
      },
      "source": [
        "# Importing the text the lazy way.\n",
        "gatsby=\"In my younger and more vulnerable years my father gave me some advice that I've been turning over in my mind ever since. \\\"Whenever you feel like criticizing any one,\\\" he told me, \\\"just remember that all the people in this world haven't had the advantages that you've had.\\\" He didn't say any more but we've always been unusually communicative in a reserved way, and I understood that he meant a great deal more than that. In consequence I'm inclined to reserve all judgments, a habit that has opened up many curious natures to me and also made me the victim of not a few veteran bores. The abnormal mind is quick to detect and attach itself to this quality when it appears in a normal person, and so it came about that in college I was unjustly accused of being a politician, because I was privy to the secret griefs of wild, unknown men. Most of the confidences were unsought--frequently I have feigned sleep, preoccupation, or a hostile levity when I realized by some unmistakable sign that an intimate revelation was quivering on the horizon--for the intimate revelations of young men or at least the terms in which they express them are usually plagiaristic and marred by obvious suppressions. Reserving judgments is a matter of infinite hope. I am still a little afraid of missing something if I forget that, as my father snobbishly suggested, and I snobbishly repeat a sense of the fundamental decencies is parcelled out unequally at birth. And, after boasting this way of my tolerance, I come to the admission that it has a limit. Conduct may be founded on the hard rock or the wet marshes but after a certain point I don't care what it's founded on. When I came back from the East last autumn I felt that I wanted the world to be in uniform and at a sort of moral attention forever; I wanted no more riotous excursions with privileged glimpses into the human heart. Only Gatsby, the man who gives his name to this book, was exempt from my reaction--Gatsby who represented everything for which I have an unaffected scorn. If personality is an unbroken series of successful gestures, then there was something gorgeous about him, some heightened sensitivity to the promises of life, as if he were related to one of those intricate machines that register earthquakes ten thousand miles away. This responsiveness had nothing to do with that flabby impressionability which is dignified under the name of the \\\"creative temperament\\\"--it was an extraordinary gift for hope, a romantic readiness such as I have never found in any other person and which it is not likely I shall ever find again. No--Gatsby turned out all right at the end; it is what preyed on Gatsby, what foul dust floated in the wake of his dreams that temporarily closed out my interest in the abortive sorrows and short-winded elations of men.\"\n",
        "\n",
        "# We want to use the standard english-language parser.\n",
        "parser = spacy.load('en')\n",
        "\n",
        "# Parsing Gatsby.\n",
        "gatsby = parser(gatsby)\n",
        "\n",
        "# Dividing the text into sentences and storing them as a list of strings.\n",
        "sentences=[]\n",
        "for span in gatsby.sents:\n",
        "    # go from the start to the end of each span, returning each token \n",
        "    # in the sentence\n",
        "    # combine each token using join()\n",
        "    sent = ''.join(gatsby[i].string for i in range(span.start, span.end)).strip()\n",
        "    sentences.append(sent)\n",
        "\n",
        "# Creating the tf-idf matrix.\n",
        "counter = TfidfVectorizer(lowercase=False, \n",
        "                          stop_words=None,\n",
        "                          ngram_range=(1, 1), \n",
        "                          analyzer=u'word', \n",
        "                          max_df=.5, \n",
        "                          min_df=1,\n",
        "                          max_features=None, \n",
        "                          vocabulary=None, \n",
        "                          binary=False)\n",
        "\n",
        "#Applying the vectorizer\n",
        "data_counts=counter.fit_transform(sentences)"
      ],
      "execution_count": 0,
      "outputs": []
    },
    {
      "cell_type": "markdown",
      "metadata": {
        "id": "Q5cjlfzV_Ry0",
        "colab_type": "text"
      },
      "source": [
        "### Similarity"
      ]
    },
    {
      "cell_type": "code",
      "metadata": {
        "id": "LwLmneW0_NoE",
        "colab_type": "code",
        "colab": {
          "base_uri": "https://localhost:8080/",
          "height": 54
        },
        "outputId": "ea257932-3914-4e7b-b484-0d84b60f3d25"
      },
      "source": [
        "# Calculating similarity\n",
        "similarity = data_counts * data_counts.T\n",
        "\n",
        "# Identifying the sentence with the highest rank.\n",
        "nx_graph = nx.from_scipy_sparse_matrix(similarity)\n",
        "ranks=nx.pagerank(nx_graph, alpha=.85, tol=.00000001)\n",
        "\n",
        "ranked = sorted(((ranks[i],s) for i,s in enumerate(sentences)),\n",
        "                reverse=True)\n",
        "print(ranked[0])"
      ],
      "execution_count": 3,
      "outputs": [
        {
          "output_type": "stream",
          "text": [
            "(0.07685900359089647, 'This responsiveness had nothing to do with that flabby impressionability which is dignified under the name of the \"creative temperament\"--it was an extraordinary gift for hope, a romantic readiness such as I have never found in any other person and which it is not likely I shall ever find again.')\n"
          ],
          "name": "stdout"
        }
      ]
    },
    {
      "cell_type": "markdown",
      "metadata": {
        "id": "rwKPkYMJ_XuE",
        "colab_type": "text"
      },
      "source": [
        "### Keyword Summarization - Iteration One"
      ]
    },
    {
      "cell_type": "markdown",
      "metadata": {
        "id": "TFCTuQUZAXW_",
        "colab_type": "text"
      },
      "source": [
        "Running keyword extraction code with one word: "
      ]
    },
    {
      "cell_type": "code",
      "metadata": {
        "id": "178YzC2Z_WOj",
        "colab_type": "code",
        "colab": {
          "base_uri": "https://localhost:8080/",
          "height": 34
        },
        "outputId": "2e987fc6-a223-42e5-b210-6e79d64ec88d"
      },
      "source": [
        "# Removing stop words and punctuation, then getting a list of all unique words in the text\n",
        "gatsby_filt = [word for word in gatsby if word.is_stop==False and (word.pos_=='NOUN' or word.pos_=='ADJ')]\n",
        "words=set(gatsby_filt)\n",
        "\n",
        "#Creating a grid indicating whether words are within 4 places of the target word\n",
        "adjacency=pd.DataFrame(columns=words,index=words,data=0)\n",
        "\n",
        "#Iterating through each word in the text and indicating which of the unique words are its neighbors\n",
        "for i,word in enumerate(gatsby):\n",
        "    # Checking if any of the word's next four neighbors are in the word list \n",
        "    if any([word == item for item in gatsby_filt]):\n",
        "        # Making sure to stop at the end of the string, even if there are less than four words left after the target.\n",
        "        end=max(0,len(gatsby)-(len(gatsby)-(i+5)))\n",
        "        # The potential neighbors.\n",
        "        nextwords=gatsby[i+1:end]\n",
        "        # Filtering the neighbors to select only those in the word list\n",
        "        inset=[x in gatsby_filt for x in nextwords]\n",
        "        neighbors=[nextwords[i] for i in range(len(nextwords)) if inset[i]]\n",
        "        # Adding 1 to the adjacency matrix for neighbors of the target word\n",
        "        if neighbors:\n",
        "            adjacency.loc[word,neighbors]=adjacency.loc[word,neighbors]+1\n",
        "\n",
        "print('done!')"
      ],
      "execution_count": 4,
      "outputs": [
        {
          "output_type": "stream",
          "text": [
            "done!\n"
          ],
          "name": "stdout"
        }
      ]
    },
    {
      "cell_type": "code",
      "metadata": {
        "id": "7C7BkjqI_b_M",
        "colab_type": "code",
        "colab": {
          "base_uri": "https://localhost:8080/",
          "height": 68
        },
        "outputId": "e594465f-d050-48cb-e228-f8b8b1f63832"
      },
      "source": [
        "# Running TextRank\n",
        "nx_words = nx.from_numpy_matrix(adjacency.as_matrix())\n",
        "ranks=nx.pagerank(nx_words, alpha=.85, tol=.00000001)\n",
        "\n",
        "# Identifying the five most highly ranked keywords\n",
        "ranked = sorted(((ranks[i],s) for i,s in enumerate(words)),\n",
        "                reverse=True)\n",
        "print(ranked[:5])"
      ],
      "execution_count": 5,
      "outputs": [
        {
          "output_type": "stream",
          "text": [
            "[(0.012538179113556777, promises), (0.012538179113556777, exempt), (0.012455008769377494, glimpses), (0.012201713657423653, intimate), (0.012173670024239861, sort)]\n"
          ],
          "name": "stdout"
        },
        {
          "output_type": "stream",
          "text": [
            "/usr/local/lib/python3.6/dist-packages/ipykernel_launcher.py:1: FutureWarning: Method .as_matrix will be removed in a future version. Use .values instead.\n",
            "  \"\"\"Entry point for launching an IPython kernel.\n"
          ],
          "name": "stderr"
        }
      ]
    },
    {
      "cell_type": "markdown",
      "metadata": {
        "id": "3VyW5JQcAf81",
        "colab_type": "text"
      },
      "source": [
        "### Keyword Summarization - Iteration Two\n",
        "\n",
        "Running keyword extraction code with two words:"
      ]
    },
    {
      "cell_type": "code",
      "metadata": {
        "id": "6P8JSUoD_ehL",
        "colab_type": "code",
        "colab": {
          "base_uri": "https://localhost:8080/",
          "height": 34
        },
        "outputId": "579bf94d-8b88-4d5f-da95-8f9a41138ae7"
      },
      "source": [
        "# Removing stop words and punctuation, then getting a list of all unique words in the text\n",
        "gatsby_filt = [word for word in gatsby if word.is_stop==False and (word.pos_=='NOUN' or word.pos_=='ADJ')]\n",
        "words=set(gatsby_filt)\n",
        "\n",
        "#Creating a grid indicating whether words are within 4 places of the target word\n",
        "adjacency=pd.DataFrame(columns=words,index=words,data=0)\n",
        "\n",
        "#Iterating through each word in the text and indicating which of the unique words are its neighbors\n",
        "for i,word in enumerate(gatsby):\n",
        "    # Checking if any of the word's next four neighbors are in the word list \n",
        "    if any([word == item for item in gatsby_filt]):\n",
        "        # Making sure to stop at the end of the string, even if there are less than four words left after the target.\n",
        "        end=max(0,len(gatsby)-(len(gatsby)-(i+5)))\n",
        "        # The potential neighbors.\n",
        "        nextwords=gatsby[i+1:end]\n",
        "        # Filtering the neighbors to select only those in the word list\n",
        "        inset=[x in gatsby_filt for x in nextwords]\n",
        "        neighbors=[nextwords[i] for i in range(len(nextwords)) if inset[i]]\n",
        "        # Adding 1 to the adjacency matrix for neighbors of the target word\n",
        "        if neighbors:\n",
        "            adjacency.loc[word,neighbors]=adjacency.loc[word,neighbors]+2\n",
        "\n",
        "print('done!')"
      ],
      "execution_count": 6,
      "outputs": [
        {
          "output_type": "stream",
          "text": [
            "done!\n"
          ],
          "name": "stdout"
        }
      ]
    },
    {
      "cell_type": "code",
      "metadata": {
        "id": "8UvPTJ6lAoNV",
        "colab_type": "code",
        "colab": {
          "base_uri": "https://localhost:8080/",
          "height": 68
        },
        "outputId": "6b46655d-0b82-4265-a7e7-ea6f54f95452"
      },
      "source": [
        "# Running TextRank\n",
        "nx_words = nx.from_numpy_matrix(adjacency.as_matrix())\n",
        "ranks=nx.pagerank(nx_words, alpha=.85, tol=.00000001)\n",
        "\n",
        "# Identifying the five most highly ranked keywords\n",
        "ranked = sorted(((ranks[i],s) for i,s in enumerate(words)),\n",
        "                reverse=True)\n",
        "print(ranked[:5])"
      ],
      "execution_count": 7,
      "outputs": [
        {
          "output_type": "stream",
          "text": [
            "[(0.012538179113556777, promises), (0.012538179113556777, exempt), (0.012455008769377494, glimpses), (0.012201713657423653, intimate), (0.012173670024239861, sort)]\n"
          ],
          "name": "stdout"
        },
        {
          "output_type": "stream",
          "text": [
            "/usr/local/lib/python3.6/dist-packages/ipykernel_launcher.py:1: FutureWarning: Method .as_matrix will be removed in a future version. Use .values instead.\n",
            "  \"\"\"Entry point for launching an IPython kernel.\n"
          ],
          "name": "stderr"
        }
      ]
    },
    {
      "cell_type": "markdown",
      "metadata": {
        "id": "NzIGlcCSAvaN",
        "colab_type": "text"
      },
      "source": [
        "Between iterations one and two, there wasn't a noticeable difference in the scores of the most highly ranked words."
      ]
    },
    {
      "cell_type": "markdown",
      "metadata": {
        "id": "DClc57F-A2il",
        "colab_type": "text"
      },
      "source": [
        "### Keyword Summarization - Iteration Three\n",
        "\n",
        "Running key word extraction code with three words:"
      ]
    },
    {
      "cell_type": "code",
      "metadata": {
        "id": "8yG1jIG2Aqxs",
        "colab_type": "code",
        "colab": {
          "base_uri": "https://localhost:8080/",
          "height": 34
        },
        "outputId": "075cfe73-01d2-49fb-e902-fb2196d8067f"
      },
      "source": [
        "# Removing stop words and punctuation, then getting a list of all unique words in the text\n",
        "gatsby_filt = [word for word in gatsby if word.is_stop==False and (word.pos_=='NOUN' or word.pos_=='ADJ')]\n",
        "words=set(gatsby_filt)\n",
        "\n",
        "#Creating a grid indicating whether words are within 4 places of the target word\n",
        "adjacency=pd.DataFrame(columns=words,index=words,data=0)\n",
        "\n",
        "#Iterating through each word in the text and indicating which of the unique words are its neighbors\n",
        "for i,word in enumerate(gatsby):\n",
        "    # Checking if any of the word's next four neighbors are in the word list \n",
        "    if any([word == item for item in gatsby_filt]):\n",
        "        # Making sure to stop at the end of the string, even if there are less than four words left after the target.\n",
        "        end=max(0,len(gatsby)-(len(gatsby)-(i+5)))\n",
        "        # The potential neighbors.\n",
        "        nextwords=gatsby[i+1:end]\n",
        "        # Filtering the neighbors to select only those in the word list\n",
        "        inset=[x in gatsby_filt for x in nextwords]\n",
        "        neighbors=[nextwords[i] for i in range(len(nextwords)) if inset[i]]\n",
        "        # Adding 1 to the adjacency matrix for neighbors of the target word\n",
        "        if neighbors:\n",
        "            adjacency.loc[word,neighbors]=adjacency.loc[word,neighbors]+3\n",
        "\n",
        "print('done!')"
      ],
      "execution_count": 8,
      "outputs": [
        {
          "output_type": "stream",
          "text": [
            "done!\n"
          ],
          "name": "stdout"
        }
      ]
    },
    {
      "cell_type": "code",
      "metadata": {
        "id": "5hgTwTxAA9Kc",
        "colab_type": "code",
        "colab": {
          "base_uri": "https://localhost:8080/",
          "height": 68
        },
        "outputId": "f69fbf08-4c20-426e-e19b-60277c7d9b81"
      },
      "source": [
        "# Running TextRank\n",
        "nx_words = nx.from_numpy_matrix(adjacency.as_matrix())\n",
        "ranks=nx.pagerank(nx_words, alpha=.85, tol=.00000001)\n",
        "\n",
        "# Identifying the five most highly ranked keywords\n",
        "ranked = sorted(((ranks[i],s) for i,s in enumerate(words)),\n",
        "                reverse=True)\n",
        "print(ranked[:5])"
      ],
      "execution_count": 9,
      "outputs": [
        {
          "output_type": "stream",
          "text": [
            "[(0.012538179113556777, promises), (0.012538179113556777, exempt), (0.012455008769377494, glimpses), (0.012201713657423653, intimate), (0.012173670024239861, sort)]\n"
          ],
          "name": "stdout"
        },
        {
          "output_type": "stream",
          "text": [
            "/usr/local/lib/python3.6/dist-packages/ipykernel_launcher.py:1: FutureWarning: Method .as_matrix will be removed in a future version. Use .values instead.\n",
            "  \"\"\"Entry point for launching an IPython kernel.\n"
          ],
          "name": "stderr"
        }
      ]
    },
    {
      "cell_type": "markdown",
      "metadata": {
        "id": "TABEG7Y5BEUd",
        "colab_type": "text"
      },
      "source": [
        "Iteration three is extremely similar to iterations one and two."
      ]
    },
    {
      "cell_type": "markdown",
      "metadata": {
        "id": "n21ekY9jBKuV",
        "colab_type": "text"
      },
      "source": [
        "### Keyword Extraction - Iteration Three\n",
        "\n",
        "Running keyword extraction code with three words, as well as broadening the window that defines \"neighbors.\""
      ]
    },
    {
      "cell_type": "code",
      "metadata": {
        "id": "cvUuHLboA-qU",
        "colab_type": "code",
        "colab": {
          "base_uri": "https://localhost:8080/",
          "height": 34
        },
        "outputId": "c479460c-07eb-4baa-d868-d6351fa2d32e"
      },
      "source": [
        "# Removing stop words and punctuation, then getting a list of all unique words in the text\n",
        "gatsby_filt = [word for word in gatsby if word.is_stop==False and (word.pos_=='NOUN' or word.pos_=='ADJ')]\n",
        "words=set(gatsby_filt)\n",
        "\n",
        "#Creating a grid indicating whether words are within 4 places of the target word\n",
        "adjacency=pd.DataFrame(columns=words,index=words,data=0)\n",
        "\n",
        "#Iterating through each word in the text and indicating which of the unique words are its neighbors\n",
        "for i,word in enumerate(gatsby):\n",
        "    # Checking if any of the word's next four neighbors are in the word list \n",
        "    if any([word == item for item in gatsby_filt]):\n",
        "        # Making sure to stop at the end of the string, even if there are less than four words left after the target.\n",
        "        end=max(0,len(gatsby)-(len(gatsby)-(i+5)))\n",
        "        # The potential neighbors.\n",
        "        nextwords=gatsby[i+5:end]\n",
        "        # Filtering the neighbors to select only those in the word list\n",
        "        inset=[x in gatsby_filt for x in nextwords]\n",
        "        neighbors=[nextwords[i] for i in range(len(nextwords)) if inset[i]]\n",
        "        # Adding 1 to the adjacency matrix for neighbors of the target word\n",
        "        if neighbors:\n",
        "            adjacency.loc[word,neighbors]=adjacency.loc[word,neighbors]+3\n",
        "\n",
        "print('done!')"
      ],
      "execution_count": 10,
      "outputs": [
        {
          "output_type": "stream",
          "text": [
            "done!\n"
          ],
          "name": "stdout"
        }
      ]
    },
    {
      "cell_type": "code",
      "metadata": {
        "id": "TsU4GJsSBcbs",
        "colab_type": "code",
        "colab": {
          "base_uri": "https://localhost:8080/",
          "height": 68
        },
        "outputId": "a8ff0338-8bc4-41ab-d4a1-a11f1720da7f"
      },
      "source": [
        "# Running TextRank\n",
        "nx_words = nx.from_numpy_matrix(adjacency.as_matrix())\n",
        "ranks=nx.pagerank(nx_words, alpha=.85, tol=.00000001)\n",
        "\n",
        "# Identifying the five most highly ranked keywords\n",
        "ranked = sorted(((ranks[i],s) for i,s in enumerate(words)),\n",
        "                reverse=True)\n",
        "print(ranked[:5])"
      ],
      "execution_count": 11,
      "outputs": [
        {
          "output_type": "stream",
          "text": [
            "[(0.007692307692307675, men), (0.007692307692307675, elations), (0.007692307692307675, sorrows), (0.007692307692307675, abortive), (0.007692307692307675, interest)]\n"
          ],
          "name": "stdout"
        },
        {
          "output_type": "stream",
          "text": [
            "/usr/local/lib/python3.6/dist-packages/ipykernel_launcher.py:1: FutureWarning: Method .as_matrix will be removed in a future version. Use .values instead.\n",
            "  \"\"\"Entry point for launching an IPython kernel.\n"
          ],
          "name": "stderr"
        }
      ]
    },
    {
      "cell_type": "markdown",
      "metadata": {
        "id": "poOZT7OlBffu",
        "colab_type": "text"
      },
      "source": [
        "In iteration three, changing the number of neighbors from one to five had a big impact on the results and it completley changed which words were included in the ranking."
      ]
    },
    {
      "cell_type": "code",
      "metadata": {
        "id": "GvlM2jTpBds8",
        "colab_type": "code",
        "colab": {}
      },
      "source": [
        ""
      ],
      "execution_count": 0,
      "outputs": []
    }
  ]
}