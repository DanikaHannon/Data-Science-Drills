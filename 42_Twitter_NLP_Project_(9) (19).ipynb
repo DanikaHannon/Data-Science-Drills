{
  "nbformat": 4,
  "nbformat_minor": 0,
  "metadata": {
    "colab": {
      "name": "42_Twitter_NLP_Project (9).ipynb",
      "provenance": [],
      "collapsed_sections": [],
      "machine_shape": "hm"
    },
    "kernelspec": {
      "name": "python3",
      "display_name": "Python 3"
    }
  },
  "cells": [
    {
      "cell_type": "markdown",
      "metadata": {
        "id": "l7SfG58xDWfh",
        "colab_type": "text"
      },
      "source": [
        "# Twitter NLP Project\n",
        "\n",
        "This project uses NLP to analyze tweets and better understand customer support interactions on Twitter.\n",
        "\n",
        "While many consumers use traditional customer service avenues, like speaking to customer support over the phone, one-third of millennials use social media to connect with brands. And as more digital natives are born, that trend will likely continue and make social media-based customer service increasingly important. ([Steinmetz](https://time.com/4894182/twitter-company-complaints/))\n",
        "\n",
        "This project's insights are valuable for:\n",
        "* Companies that already use Twitter for customer support because they'll get a deeper understanding of their customer service interactions.\n",
        "* And companies that want to start offering customer support on Twitter and need a strategy for that.\n",
        "\n",
        "\n",
        "---\n",
        "\n",
        "\n",
        "### Table of Contents\n",
        "\n",
        "1. Importing the Dataset\n",
        "2. Exploratory Data Analysis (EDA)\n",
        "3. Topic Modeling\n",
        "4. Classifying the Tweets\n",
        "5. Sentiment Analysis\n",
        "6. Text Generation\n",
        "6. Key Takeaways\n",
        "7. Next Steps\n",
        "8. Resources\n",
        "9. Appendix\n",
        "\n",
        "\n",
        "---\n",
        "\n",
        "\n",
        "\n",
        "\n",
        "### 1. Importing the Dataset"
      ]
    },
    {
      "cell_type": "code",
      "metadata": {
        "id": "-SyoyDdIAaMq",
        "colab_type": "code",
        "colab": {}
      },
      "source": [
        "%matplotlib inline\n",
        "import numpy as np\n",
        "import pandas as pd\n",
        "import scipy\n",
        "import sklearn\n",
        "import matplotlib.pyplot as plt\n",
        "import seaborn as sns"
      ],
      "execution_count": 0,
      "outputs": []
    },
    {
      "cell_type": "code",
      "metadata": {
        "id": "2Zkqq4A8q1V_",
        "colab_type": "code",
        "outputId": "572bd020-8848-47e6-c71e-8a22656c60c1",
        "colab": {
          "base_uri": "https://localhost:8080/",
          "height": 34
        }
      },
      "source": [
        "from google.colab import drive\n",
        "drive.mount('/content/drive')"
      ],
      "execution_count": 2,
      "outputs": [
        {
          "output_type": "stream",
          "text": [
            "Drive already mounted at /content/drive; to attempt to forcibly remount, call drive.mount(\"/content/drive\", force_remount=True).\n"
          ],
          "name": "stdout"
        }
      ]
    },
    {
      "cell_type": "code",
      "metadata": {
        "id": "kIz6dNnTrcg2",
        "colab_type": "code",
        "colab": {}
      },
      "source": [
        "\n",
        "path = '/content/drive/My Drive/Colab Notebooks/Datasets for Data Science Projects/twcs.csv'\n",
        "twitter_df = pd.read_csv(path)"
      ],
      "execution_count": 0,
      "outputs": []
    },
    {
      "cell_type": "markdown",
      "metadata": {
        "id": "J3_XcMHqGhOK",
        "colab_type": "text"
      },
      "source": [
        "### 3. Exploratory Data Analysis (EDA)\n",
        "\n",
        "Because this is a new dataset, it'll be helpful to use EDA to get a feel for the data, add features, clean it up and explore it with visuals.\n",
        "\n",
        "*The Dataframe*"
      ]
    },
    {
      "cell_type": "code",
      "metadata": {
        "id": "TOmsiPkKFFSx",
        "colab_type": "code",
        "outputId": "f92f7cda-9111-4489-c74e-050309ea984b",
        "colab": {
          "base_uri": "https://localhost:8080/",
          "height": 204
        }
      },
      "source": [
        "twitter_df.head()"
      ],
      "execution_count": 4,
      "outputs": [
        {
          "output_type": "execute_result",
          "data": {
            "text/html": [
              "<div>\n",
              "<style scoped>\n",
              "    .dataframe tbody tr th:only-of-type {\n",
              "        vertical-align: middle;\n",
              "    }\n",
              "\n",
              "    .dataframe tbody tr th {\n",
              "        vertical-align: top;\n",
              "    }\n",
              "\n",
              "    .dataframe thead th {\n",
              "        text-align: right;\n",
              "    }\n",
              "</style>\n",
              "<table border=\"1\" class=\"dataframe\">\n",
              "  <thead>\n",
              "    <tr style=\"text-align: right;\">\n",
              "      <th></th>\n",
              "      <th>tweet_id</th>\n",
              "      <th>author_id</th>\n",
              "      <th>inbound</th>\n",
              "      <th>created_at</th>\n",
              "      <th>text</th>\n",
              "      <th>response_tweet_id</th>\n",
              "      <th>in_response_to_tweet_id</th>\n",
              "    </tr>\n",
              "  </thead>\n",
              "  <tbody>\n",
              "    <tr>\n",
              "      <th>0</th>\n",
              "      <td>1</td>\n",
              "      <td>sprintcare</td>\n",
              "      <td>False</td>\n",
              "      <td>Tue Oct 31 22:10:47 +0000 2017</td>\n",
              "      <td>@115712 I understand. I would like to assist y...</td>\n",
              "      <td>2</td>\n",
              "      <td>3.0</td>\n",
              "    </tr>\n",
              "    <tr>\n",
              "      <th>1</th>\n",
              "      <td>2</td>\n",
              "      <td>115712</td>\n",
              "      <td>True</td>\n",
              "      <td>Tue Oct 31 22:11:45 +0000 2017</td>\n",
              "      <td>@sprintcare and how do you propose we do that</td>\n",
              "      <td>NaN</td>\n",
              "      <td>1.0</td>\n",
              "    </tr>\n",
              "    <tr>\n",
              "      <th>2</th>\n",
              "      <td>3</td>\n",
              "      <td>115712</td>\n",
              "      <td>True</td>\n",
              "      <td>Tue Oct 31 22:08:27 +0000 2017</td>\n",
              "      <td>@sprintcare I have sent several private messag...</td>\n",
              "      <td>1</td>\n",
              "      <td>4.0</td>\n",
              "    </tr>\n",
              "    <tr>\n",
              "      <th>3</th>\n",
              "      <td>4</td>\n",
              "      <td>sprintcare</td>\n",
              "      <td>False</td>\n",
              "      <td>Tue Oct 31 21:54:49 +0000 2017</td>\n",
              "      <td>@115712 Please send us a Private Message so th...</td>\n",
              "      <td>3</td>\n",
              "      <td>5.0</td>\n",
              "    </tr>\n",
              "    <tr>\n",
              "      <th>4</th>\n",
              "      <td>5</td>\n",
              "      <td>115712</td>\n",
              "      <td>True</td>\n",
              "      <td>Tue Oct 31 21:49:35 +0000 2017</td>\n",
              "      <td>@sprintcare I did.</td>\n",
              "      <td>4</td>\n",
              "      <td>6.0</td>\n",
              "    </tr>\n",
              "  </tbody>\n",
              "</table>\n",
              "</div>"
            ],
            "text/plain": [
              "   tweet_id   author_id  ...  response_tweet_id in_response_to_tweet_id\n",
              "0         1  sprintcare  ...                  2                     3.0\n",
              "1         2      115712  ...                NaN                     1.0\n",
              "2         3      115712  ...                  1                     4.0\n",
              "3         4  sprintcare  ...                  3                     5.0\n",
              "4         5      115712  ...                  4                     6.0\n",
              "\n",
              "[5 rows x 7 columns]"
            ]
          },
          "metadata": {
            "tags": []
          },
          "execution_count": 4
        }
      ]
    },
    {
      "cell_type": "code",
      "metadata": {
        "id": "abd7D69iLK8u",
        "colab_type": "code",
        "outputId": "0e12bf8d-9972-410f-d2db-ae8fe865b2e1",
        "colab": {
          "base_uri": "https://localhost:8080/",
          "height": 34
        }
      },
      "source": [
        "twitter_df['author_id'].nunique()"
      ],
      "execution_count": 5,
      "outputs": [
        {
          "output_type": "execute_result",
          "data": {
            "text/plain": [
              "702777"
            ]
          },
          "metadata": {
            "tags": []
          },
          "execution_count": 5
        }
      ]
    },
    {
      "cell_type": "code",
      "metadata": {
        "id": "vSWr8t7hho91",
        "colab_type": "code",
        "outputId": "d13cc14f-74c8-46da-b45c-134b21ba016c",
        "colab": {
          "base_uri": "https://localhost:8080/",
          "height": 51
        }
      },
      "source": [
        "print(twitter_df['created_at'].min())\n",
        "print(twitter_df['created_at'].max())"
      ],
      "execution_count": 6,
      "outputs": [
        {
          "output_type": "stream",
          "text": [
            "Fri Apr 01 17:37:48 +0000 2016\n",
            "Wed Sep 28 18:06:15 +0000 2016\n"
          ],
          "name": "stdout"
        }
      ]
    },
    {
      "cell_type": "markdown",
      "metadata": {
        "id": "2u4Ub17tHFgS",
        "colab_type": "text"
      },
      "source": [
        "Intial observations: \n",
        "\n",
        "- The dataset's 2,811,774 rows by seven columns, which is large. \n",
        "- There are 702,777 unique authors in this dataset with an average of four tweets/author.\n",
        "- The tweets are from the beginning of April through late September in 2016.\n",
        "- Aside from the 'author_id', there's no information about the companies in the dataset. It'd be valuable to understand what kind of companies are in the dataset, so I'll add that information in the feature engineering section.\n",
        "\n",
        "*Feature Engineering*\n",
        "\n",
        "I'd like to add features related to the companies, like which industries they belong to, and will do that with in this section."
      ]
    },
    {
      "cell_type": "code",
      "metadata": {
        "id": "3gtZZo47Nplf",
        "colab_type": "code",
        "outputId": "382da9b6-760a-4af3-de97-b9338ec45d9d",
        "colab": {
          "base_uri": "https://localhost:8080/",
          "height": 221
        }
      },
      "source": [
        "# I'll make a new dataframe to keep the changes separate from the original dataframe.\n",
        "authors_df = twitter_df.copy()\n",
        "\n",
        "# I'll also make a new variable, called 'numeric_author', and add it to the 'authors_df'. \n",
        "# This variable will show which values in the 'author_id' column are numeric. (Because individuals are represented by numbers, this will tell us which 'author_ids' are companies and which aren't.)\n",
        "authors_df['numeric_author'] = authors_df['author_id'].str.isnumeric()\n",
        "print(authors_df['numeric_author'])"
      ],
      "execution_count": 7,
      "outputs": [
        {
          "output_type": "stream",
          "text": [
            "0          False\n",
            "1           True\n",
            "2           True\n",
            "3          False\n",
            "4           True\n",
            "           ...  \n",
            "2811769    False\n",
            "2811770     True\n",
            "2811771     True\n",
            "2811772    False\n",
            "2811773     True\n",
            "Name: numeric_author, Length: 2811774, dtype: bool\n"
          ],
          "name": "stdout"
        }
      ]
    },
    {
      "cell_type": "code",
      "metadata": {
        "id": "bk3Hioprd0Ub",
        "colab_type": "code",
        "colab": {}
      },
      "source": [
        "# I'll make another variable, called 'author_is_individual', to help me drop the individuals from the dataframe.\n",
        "author_is_individual = authors_df[authors_df['numeric_author'] == True].index\n",
        "authors_df.drop(author_is_individual, inplace=True)"
      ],
      "execution_count": 0,
      "outputs": []
    },
    {
      "cell_type": "code",
      "metadata": {
        "id": "0D6nZRqkLb7i",
        "colab_type": "code",
        "outputId": "e6aff7e0-387c-4b23-a472-93b1e1e0003f",
        "colab": {
          "base_uri": "https://localhost:8080/",
          "height": 34
        }
      },
      "source": [
        "# My sense is that the table only has companies listed, but I'll double-check that by looking at the values in that column.\n",
        "# If all the values are false, that's a good sign.\n",
        "authors_df['numeric_author'].unique()"
      ],
      "execution_count": 9,
      "outputs": [
        {
          "output_type": "execute_result",
          "data": {
            "text/plain": [
              "array([False])"
            ]
          },
          "metadata": {
            "tags": []
          },
          "execution_count": 9
        }
      ]
    },
    {
      "cell_type": "code",
      "metadata": {
        "id": "OkPazCKhfkfL",
        "colab_type": "code",
        "outputId": "b31bcb8c-e2fc-48c9-96d8-1f6b6c71d2e9",
        "colab": {
          "base_uri": "https://localhost:8080/",
          "height": 459
        }
      },
      "source": [
        "# Next, I'll get a list of the companies in the dataset.\n",
        "authors_df['author_id'].unique()"
      ],
      "execution_count": 10,
      "outputs": [
        {
          "output_type": "execute_result",
          "data": {
            "text/plain": [
              "array(['sprintcare', 'Ask_Spectrum', 'VerizonSupport', 'ChipotleTweets',\n",
              "       'AskPlayStation', 'marksandspencer', 'MicrosoftHelps',\n",
              "       'ATVIAssist', 'AdobeCare', 'AmazonHelp', 'XboxSupport',\n",
              "       'AirbnbHelp', 'nationalrailenq', 'AirAsiaSupport', 'Morrisons',\n",
              "       'NikeSupport', 'AskAmex', 'McDonalds', 'YahooCare', 'AskLyft',\n",
              "       'UPSHelp', 'Delta', 'AppleSupport', 'Uber_Support', 'Tesco',\n",
              "       'SpotifyCares', 'British_Airways', 'comcastcares', 'AmericanAir',\n",
              "       'TMobileHelp', 'VirginTrains', 'SouthwestAir', 'AskeBay',\n",
              "       'hulu_support', 'GWRHelp', 'sainsburys', 'AskPayPal', 'HPSupport',\n",
              "       'ChaseSupport', 'CoxHelp', 'DropboxSupport', 'VirginAtlantic',\n",
              "       'BofA_Help', 'AzureSupport', 'AlaskaAir', 'ArgosHelpers',\n",
              "       'Postmates_Help', 'AskTarget', 'GoDaddyHelp', 'CenturyLinkHelp',\n",
              "       'AskPapaJohns', 'SW_Help', 'askpanera', 'Walmart',\n",
              "       'USCellularCares', 'AsurionCares', 'GloCare', 'idea_cares',\n",
              "       'DoorDash_Help', 'NeweggService', 'VirginAmerica',\n",
              "       'Safaricom_Care', 'DunkinDonuts', 'Ask_WellsFargo', 'O2', 'TfL',\n",
              "       'asksalesforce', 'airtel_care', 'Kimpton', 'AskCiti', 'IHGService',\n",
              "       'LondonMidland', 'JetBlue', 'BoostCare', 'JackBox', 'AldiUK',\n",
              "       'HiltonHelp', 'GooglePlayMusic', 'OfficeSupport', 'KFC_UKI_Help',\n",
              "       'DellCares', 'TwitterSupport', 'GreggsOfficial', 'ATT',\n",
              "       'TacoBellTeam', 'AskRBC', 'ArbysCares', 'NortonSupport',\n",
              "       'AskSeagate', 'sizehelpteam', 'SCsupport', 'MOO', 'AskDSC',\n",
              "       'AskVirginMoney', 'AskRobinhood', 'MTNC_Care', 'AWSSupport',\n",
              "       'VMUcare', 'mediatemplehelp', 'AskTigogh', 'PandoraSupport',\n",
              "       'askvisa', 'OPPOCareIN', 'ask_progressive', 'PearsonSupport',\n",
              "       'CarlsJr', 'HotelTonightCX', 'KeyBank_Help'], dtype=object)"
            ]
          },
          "metadata": {
            "tags": []
          },
          "execution_count": 10
        }
      ]
    },
    {
      "cell_type": "code",
      "metadata": {
        "id": "W1xjZeWzkFSa",
        "colab_type": "code",
        "outputId": "5163f9e8-3eed-4a37-e374-e61f05f5a31b",
        "colab": {
          "base_uri": "https://localhost:8080/",
          "height": 34
        }
      },
      "source": [
        "authors_df['author_id'].nunique()"
      ],
      "execution_count": 11,
      "outputs": [
        {
          "output_type": "execute_result",
          "data": {
            "text/plain": [
              "108"
            ]
          },
          "metadata": {
            "tags": []
          },
          "execution_count": 11
        }
      ]
    },
    {
      "cell_type": "markdown",
      "metadata": {
        "id": "UYeXZpZmLuPZ",
        "colab_type": "text"
      },
      "source": [
        "Now that I know what companies are in the dataset, I'll add this business information:\n",
        "\n",
        "1. Industry.\n",
        "  - This will show which sector each company's in. This includes banks, retail, restaurants and so on.\n",
        "  - To get the sector information, I went to the US Chamber of Commerce's [frequently asked questions page](https://www.uschamber.com/about/about-the-us-chamber/frequently-asked-questions#3) followed their guidance of using [Salesgenie](https://www.salesgenie.com/) to see how companies are classified. \n",
        "    * Note: Salesgenie only has information on US companies, but some of the companies in the dataset were from other countries or weren't listed on Salesgenie. In those cases, I assigned industries to companies based off how their American counter-parts had been classified. Or, if a company wasn't listed on Salesgenie, I assigned it to a a category that seemed like a good fit. For instance, I listed the Royal Bank of Canada as a bank and DoorDash as a restaurant.\n",
        "    * For the full list of the companies that I assigned on my own, please see the Appendix.\n",
        "\n",
        "2. NASDAQ Listing.\n",
        "  - The NASDAQ information was gathered from [Yahoo! Finance](https://finance.yahoo.com/).\n",
        "\n",
        "3. NASDAQ Price (in USD).\n",
        "  - Where possible, I recorded each compnay's Adjusted Close Number on May 31, 2016. Then, for your reference, here's an example of a search where I took the [Adjusted Close Number for Adobe's stock from May 31, 2016](https://finance.yahoo.com/quote/ADBE/history?period1=1462078800&period2=1464757200&interval=1mo&filter=history&frequency=1mo).\n",
        "  - Some companies that are listed on NASDAQ now, like Uber, weren't listed on the exchange in 2016 because they hadn't gone public yet. In some cases a company's not listed on NASDAQ because it's privately held. For those situations, I assigned the companies a value of zero to show that they're not listed.\n",
        "\n",
        "4. Major Event.\n",
        "  - If a company experienced an event that impacted thousands of people, like a service outtage, and the event was covered by multiple news sources I recorded that and assigned it a value of one; however, if a company didn't have a major event, it was given a zero.\n",
        "  - For your reference, [here's an example of a search](https://www.google.com/search?biw=1920&bih=969&tbs=cdr%3A1%2Ccd_min%3A4%2F1%2F2016%2Ccd_max%3A9%2F28%2F2016&tbm=nws&ei=MznTXcm0Eoi8tgWlqqZY&q=london+midland&oq=london+midland&s_l=psy-ab.3..0l2.39991.41189.0.41514.14.11.0.3.3.0.165.1405.3j8.11.0....0...1c.1.64.psy-ab..1.13.1263...0i131k1.0.X-aRa17UL9k) with information about a train derailment that impacted London Midland's services. In the 'major_event' column, I said that a, \"train derailment caused disruption in service\".\n",
        "\n",
        "5. Event Month.\n",
        "  - Because the dataframe covers April 1st through September 28th, I looked for events that took place during that timeframe and noted the month as a number. (April was four, May was five and so on). \n",
        "  - If a company didn't have a major event, I put down a zero.\n",
        "\n",
        "6. Event Highlights.\n",
        "  - To provide insights, I wrote down a highlight about event.\n",
        "\n",
        "7. Company.\n",
        "  - To make it easier to tell companies and individuals apart, a column will be added to show if the author of a tweet is a company or an individual. \n",
        "  - If the author's a company, they'll get assigned a value of one. If it's an individual, the value will be zero.\n",
        "\n",
        "Adding the new features to the dataframe:"
      ]
    },
    {
      "cell_type": "code",
      "metadata": {
        "id": "1mqjsBCQjOEP",
        "colab_type": "code",
        "colab": {}
      },
      "source": [
        "# I'll make a new dataframe for the feature engineering.\n",
        "feature_engineering_df = twitter_df.copy()"
      ],
      "execution_count": 0,
      "outputs": []
    },
    {
      "cell_type": "code",
      "metadata": {
        "id": "5Ufw-gY-1dnS",
        "colab_type": "code",
        "outputId": "e0fcdad7-a2ec-4404-ac49-15f7d3ffd32f",
        "colab": {
          "base_uri": "https://localhost:8080/",
          "height": 255
        }
      },
      "source": [
        "# Creating a column to show if the author of a tweet is a company or not.\n",
        "list1 = []\n",
        "\n",
        "for i in feature_engineering_df['author_id']:\n",
        " try:\n",
        "   i = float(i)\n",
        " except:\n",
        "   pass\n",
        " if type(i) in [int, float]:\n",
        "   list1.append('non-company')\n",
        " else:\n",
        "   list1.append(i)\n",
        "\n",
        "feature_engineering_df['new_column'] = list1\n",
        "print(feature_engineering_df)"
      ],
      "execution_count": 13,
      "outputs": [
        {
          "output_type": "stream",
          "text": [
            "         tweet_id   author_id  ...  in_response_to_tweet_id   new_column\n",
            "0               1  sprintcare  ...                      3.0   sprintcare\n",
            "1               2      115712  ...                      1.0  non-company\n",
            "2               3      115712  ...                      4.0  non-company\n",
            "3               4  sprintcare  ...                      5.0   sprintcare\n",
            "4               5      115712  ...                      6.0  non-company\n",
            "...           ...         ...  ...                      ...          ...\n",
            "2811769   2987947  sprintcare  ...                2987948.0   sprintcare\n",
            "2811770   2987948      823869  ...                      NaN  non-company\n",
            "2811771   2812240      121673  ...                2812239.0  non-company\n",
            "2811772   2987949      AldiUK  ...                2987950.0       AldiUK\n",
            "2811773   2987950      823870  ...                      NaN  non-company\n",
            "\n",
            "[2811774 rows x 8 columns]\n"
          ],
          "name": "stdout"
        }
      ]
    },
    {
      "cell_type": "code",
      "metadata": {
        "id": "rBjXbx64ml0X",
        "colab_type": "code",
        "colab": {}
      },
      "source": [
        "# Droppping the 'author_id' column since 'new_column' has been added.\n",
        "feature_engineering_df = feature_engineering_df[['tweet_id', 'inbound', 'created_at', 'text', 'response_tweet_id', 'in_response_to_tweet_id', 'new_column']]"
      ],
      "execution_count": 0,
      "outputs": []
    },
    {
      "cell_type": "code",
      "metadata": {
        "id": "nHGVEMgZmlGj",
        "colab_type": "code",
        "colab": {}
      },
      "source": [
        "# Renaming 'new_column' as 'author_id'.\n",
        "feature_engineering_df = feature_engineering_df.rename(columns={'new_column': 'author_id'})"
      ],
      "execution_count": 0,
      "outputs": []
    },
    {
      "cell_type": "code",
      "metadata": {
        "colab_type": "code",
        "id": "I7PYlFcaNdCm",
        "colab": {}
      },
      "source": [
        " # Creating a new column for 'company'.\n",
        "feature_engineering_df['company'] = np.where(feature_engineering_df['author_id']=='non-company', 0, 1)"
      ],
      "execution_count": 0,
      "outputs": []
    },
    {
      "cell_type": "code",
      "metadata": {
        "id": "XTPWPY0vd8gz",
        "colab_type": "code",
        "colab": {}
      },
      "source": [
        "# To make it easy to maintain company information, I made a spreadsheet for the new columns.\n",
        "path = '/content/drive/My Drive/Colab Notebooks/Industry List Spreadsheet - No Company Column.xlsx'\n",
        "companies_df = pd.read_excel(path)"
      ],
      "execution_count": 0,
      "outputs": []
    },
    {
      "cell_type": "code",
      "metadata": {
        "id": "26I8OJWxeqdJ",
        "colab_type": "code",
        "colab": {}
      },
      "source": [
        "# Merging the 'feature_engineering_df' and 'companies_df' dataframes.\n",
        "feature_engineering_df = feature_engineering_df.merge(companies_df, on='author_id', how='left')"
      ],
      "execution_count": 0,
      "outputs": []
    },
    {
      "cell_type": "code",
      "metadata": {
        "id": "13jm0SFKer7S",
        "colab_type": "code",
        "outputId": "7889597a-cffc-4800-b008-e907ba54fb3f",
        "colab": {
          "base_uri": "https://localhost:8080/",
          "height": 289
        }
      },
      "source": [
        "feature_engineering_df.head()"
      ],
      "execution_count": 19,
      "outputs": [
        {
          "output_type": "execute_result",
          "data": {
            "text/html": [
              "<div>\n",
              "<style scoped>\n",
              "    .dataframe tbody tr th:only-of-type {\n",
              "        vertical-align: middle;\n",
              "    }\n",
              "\n",
              "    .dataframe tbody tr th {\n",
              "        vertical-align: top;\n",
              "    }\n",
              "\n",
              "    .dataframe thead th {\n",
              "        text-align: right;\n",
              "    }\n",
              "</style>\n",
              "<table border=\"1\" class=\"dataframe\">\n",
              "  <thead>\n",
              "    <tr style=\"text-align: right;\">\n",
              "      <th></th>\n",
              "      <th>tweet_id</th>\n",
              "      <th>inbound</th>\n",
              "      <th>created_at</th>\n",
              "      <th>text</th>\n",
              "      <th>response_tweet_id</th>\n",
              "      <th>in_response_to_tweet_id</th>\n",
              "      <th>author_id</th>\n",
              "      <th>company</th>\n",
              "      <th>industry</th>\n",
              "      <th>nasdaq_listing</th>\n",
              "      <th>nasdaq_price</th>\n",
              "      <th>major_event</th>\n",
              "      <th>event_month</th>\n",
              "      <th>event_highlights</th>\n",
              "    </tr>\n",
              "  </thead>\n",
              "  <tbody>\n",
              "    <tr>\n",
              "      <th>0</th>\n",
              "      <td>1</td>\n",
              "      <td>False</td>\n",
              "      <td>Tue Oct 31 22:10:47 +0000 2017</td>\n",
              "      <td>@115712 I understand. I would like to assist y...</td>\n",
              "      <td>2</td>\n",
              "      <td>3.0</td>\n",
              "      <td>sprintcare</td>\n",
              "      <td>1</td>\n",
              "      <td>Cellular Telephones (Services)</td>\n",
              "      <td>1.0</td>\n",
              "      <td>4.53</td>\n",
              "      <td>1.0</td>\n",
              "      <td>8.0</td>\n",
              "      <td>Sprint offers unlimited data plan.</td>\n",
              "    </tr>\n",
              "    <tr>\n",
              "      <th>1</th>\n",
              "      <td>2</td>\n",
              "      <td>True</td>\n",
              "      <td>Tue Oct 31 22:11:45 +0000 2017</td>\n",
              "      <td>@sprintcare and how do you propose we do that</td>\n",
              "      <td>NaN</td>\n",
              "      <td>1.0</td>\n",
              "      <td>non-company</td>\n",
              "      <td>0</td>\n",
              "      <td>non-company</td>\n",
              "      <td>0.0</td>\n",
              "      <td>0.00</td>\n",
              "      <td>0.0</td>\n",
              "      <td>0.0</td>\n",
              "      <td>NaN</td>\n",
              "    </tr>\n",
              "    <tr>\n",
              "      <th>2</th>\n",
              "      <td>3</td>\n",
              "      <td>True</td>\n",
              "      <td>Tue Oct 31 22:08:27 +0000 2017</td>\n",
              "      <td>@sprintcare I have sent several private messag...</td>\n",
              "      <td>1</td>\n",
              "      <td>4.0</td>\n",
              "      <td>non-company</td>\n",
              "      <td>0</td>\n",
              "      <td>non-company</td>\n",
              "      <td>0.0</td>\n",
              "      <td>0.00</td>\n",
              "      <td>0.0</td>\n",
              "      <td>0.0</td>\n",
              "      <td>NaN</td>\n",
              "    </tr>\n",
              "    <tr>\n",
              "      <th>3</th>\n",
              "      <td>4</td>\n",
              "      <td>False</td>\n",
              "      <td>Tue Oct 31 21:54:49 +0000 2017</td>\n",
              "      <td>@115712 Please send us a Private Message so th...</td>\n",
              "      <td>3</td>\n",
              "      <td>5.0</td>\n",
              "      <td>sprintcare</td>\n",
              "      <td>1</td>\n",
              "      <td>Cellular Telephones (Services)</td>\n",
              "      <td>1.0</td>\n",
              "      <td>4.53</td>\n",
              "      <td>1.0</td>\n",
              "      <td>8.0</td>\n",
              "      <td>Sprint offers unlimited data plan.</td>\n",
              "    </tr>\n",
              "    <tr>\n",
              "      <th>4</th>\n",
              "      <td>5</td>\n",
              "      <td>True</td>\n",
              "      <td>Tue Oct 31 21:49:35 +0000 2017</td>\n",
              "      <td>@sprintcare I did.</td>\n",
              "      <td>4</td>\n",
              "      <td>6.0</td>\n",
              "      <td>non-company</td>\n",
              "      <td>0</td>\n",
              "      <td>non-company</td>\n",
              "      <td>0.0</td>\n",
              "      <td>0.00</td>\n",
              "      <td>0.0</td>\n",
              "      <td>0.0</td>\n",
              "      <td>NaN</td>\n",
              "    </tr>\n",
              "  </tbody>\n",
              "</table>\n",
              "</div>"
            ],
            "text/plain": [
              "   tweet_id  inbound  ... event_month                    event_highlights\n",
              "0         1    False  ...         8.0  Sprint offers unlimited data plan.\n",
              "1         2     True  ...         0.0                                 NaN\n",
              "2         3     True  ...         0.0                                 NaN\n",
              "3         4    False  ...         8.0  Sprint offers unlimited data plan.\n",
              "4         5     True  ...         0.0                                 NaN\n",
              "\n",
              "[5 rows x 14 columns]"
            ]
          },
          "metadata": {
            "tags": []
          },
          "execution_count": 19
        }
      ]
    },
    {
      "cell_type": "code",
      "metadata": {
        "id": "ZflxxrjPe3UW",
        "colab_type": "code",
        "outputId": "c814feee-eff3-4112-8149-797b19cc700c",
        "colab": {
          "base_uri": "https://localhost:8080/",
          "height": 51
        }
      },
      "source": [
        "# Comparing the shape of the original and new dataframes to make sure nothing was lost.\n",
        "print('- Shape of the Twitter dataframe:', twitter_df.shape)\n",
        "print('- Shape of the feature engineering dataframe:', feature_engineering_df.shape)"
      ],
      "execution_count": 20,
      "outputs": [
        {
          "output_type": "stream",
          "text": [
            "- Shape of the Twitter dataframe: (2811774, 7)\n",
            "- Shape of the feature engineering dataframe: (2811774, 14)\n"
          ],
          "name": "stdout"
        }
      ]
    },
    {
      "cell_type": "markdown",
      "metadata": {
        "id": "uYSMRkiC4Apv",
        "colab_type": "text"
      },
      "source": [
        "*Data Cleaning*\n",
        "\n",
        "For the next step, the dataframe's text data needs to be cleaned."
      ]
    },
    {
      "cell_type": "code",
      "metadata": {
        "id": "0qCs8qtGrQm9",
        "colab_type": "code",
        "colab": {}
      },
      "source": [
        "# Making a new dataframe for the cleaning.\n",
        "clean_df = feature_engineering_df.copy()"
      ],
      "execution_count": 0,
      "outputs": []
    },
    {
      "cell_type": "code",
      "metadata": {
        "id": "-8yJbxim57XX",
        "colab_type": "code",
        "colab": {}
      },
      "source": [
        "import re\n",
        "import string"
      ],
      "execution_count": 0,
      "outputs": []
    },
    {
      "cell_type": "code",
      "metadata": {
        "id": "vUtISRNlGmGD",
        "colab_type": "code",
        "colab": {}
      },
      "source": [
        "# First, the columns with text need to get converted from floats to strings.\n",
        "def make_string(df, string):\n",
        "  df[string] = df[string].astype(str)\n",
        "  return;"
      ],
      "execution_count": 0,
      "outputs": []
    },
    {
      "cell_type": "code",
      "metadata": {
        "id": "O7yKioMBG811",
        "colab_type": "code",
        "colab": {}
      },
      "source": [
        "make_string(clean_df, 'text')"
      ],
      "execution_count": 0,
      "outputs": []
    },
    {
      "cell_type": "code",
      "metadata": {
        "id": "xMAhFzEUG9F1",
        "colab_type": "code",
        "colab": {}
      },
      "source": [
        "make_string(clean_df, 'industry')"
      ],
      "execution_count": 0,
      "outputs": []
    },
    {
      "cell_type": "code",
      "metadata": {
        "id": "uCZRpGshG9Ys",
        "colab_type": "code",
        "colab": {}
      },
      "source": [
        "make_string(clean_df, 'event_highlights')"
      ],
      "execution_count": 0,
      "outputs": []
    },
    {
      "cell_type": "code",
      "metadata": {
        "id": "7zhvXvhcG9ot",
        "colab_type": "code",
        "colab": {}
      },
      "source": [
        "make_string(clean_df, 'created_at')"
      ],
      "execution_count": 0,
      "outputs": []
    },
    {
      "cell_type": "code",
      "metadata": {
        "id": "iFE74kF557Z5",
        "colab_type": "code",
        "colab": {}
      },
      "source": [
        "# The 'clean_text' function will: make text lowercase, remove text in the square brackets, remove punctuation and words that have numbers.\n",
        "def clean_text(text):\n",
        "    text = text.lower()\n",
        "    text = re.sub('\\[.*?\\'\\]', '', text)\n",
        "    text = re.sub('[%s]' % re.escape(string.punctuation), '', text)\n",
        "    text = re.sub('\\w*\\d\\w*', '', text)\n",
        "    text = re.sub('[‘’“”…]', '', text)\n",
        "    return text;\n",
        "\n",
        "round1 = lambda x: clean_text(x)"
      ],
      "execution_count": 0,
      "outputs": []
    },
    {
      "cell_type": "code",
      "metadata": {
        "id": "EmYrFDUP57cQ",
        "colab_type": "code",
        "colab": {}
      },
      "source": [
        "clean_df['text'] = pd.DataFrame(clean_df['text'].apply(round1))"
      ],
      "execution_count": 0,
      "outputs": []
    },
    {
      "cell_type": "code",
      "metadata": {
        "id": "6GgF-Jrp6EFf",
        "colab_type": "code",
        "colab": {}
      },
      "source": [
        "clean_df['industry'] = pd.DataFrame(clean_df['industry'].apply(round1))"
      ],
      "execution_count": 0,
      "outputs": []
    },
    {
      "cell_type": "code",
      "metadata": {
        "id": "Beae-GDb3Y2V",
        "colab_type": "code",
        "colab": {}
      },
      "source": [
        "clean_df['event_highlights'] = pd.DataFrame(clean_df['event_highlights'].apply(round1))"
      ],
      "execution_count": 0,
      "outputs": []
    },
    {
      "cell_type": "code",
      "metadata": {
        "id": "j_cBjbB19p8r",
        "colab_type": "code",
        "colab": {}
      },
      "source": [
        "clean_df['created_at'] = pd.DataFrame(clean_df['created_at'].apply(round1))"
      ],
      "execution_count": 0,
      "outputs": []
    },
    {
      "cell_type": "markdown",
      "metadata": {
        "id": "fSB3d_UBemhM",
        "colab_type": "text"
      },
      "source": [
        "*Visualizing the Data*\n",
        "\n",
        "To get started, let's look the volume of Tweets sent by individuals and companies."
      ]
    },
    {
      "cell_type": "code",
      "metadata": {
        "id": "tOTg9u_itUKe",
        "colab_type": "code",
        "outputId": "88a7a746-10ed-4ba7-ef72-0f05f45f070c",
        "colab": {
          "base_uri": "https://localhost:8080/",
          "height": 68
        }
      },
      "source": [
        "# Finding what percent of tweets were sent by individuals and companies.\n",
        "clean_df['company'].value_counts('0.0')"
      ],
      "execution_count": 33,
      "outputs": [
        {
          "output_type": "execute_result",
          "data": {
            "text/plain": [
              "0    0.54693\n",
              "1    0.45307\n",
              "Name: company, dtype: float64"
            ]
          },
          "metadata": {
            "tags": []
          },
          "execution_count": 33
        }
      ]
    },
    {
      "cell_type": "code",
      "metadata": {
        "id": "or3EE0lL5ilo",
        "colab_type": "code",
        "outputId": "ccce1e31-6840-41e6-b10b-867da3dd8092",
        "colab": {
          "base_uri": "https://localhost:8080/",
          "height": 585
        }
      },
      "source": [
        "plt.figure(figsize=(8, 8))\n",
        "\n",
        "plt.subplot(1, 2, 1)\n",
        "df = clean_df.groupby(['company'])['industry'].count()\n",
        "plt.ylabel('Number of Tweets by Group')\n",
        "plt.title('Tweets by Individuals and Companies')\n",
        "df.plot.bar()\n",
        "\n",
        "plt.subplot(1, 2, 2)\n",
        "\n",
        "df = clean_df.groupby(['industry'])['company'].count().sort_values(ascending=False).iloc[:10]\n",
        "plt.ylabel('Number of Tweets by Group')\n",
        "plt.title('Tweets by Industry')\n",
        "df.plot.bar()\n",
        "\n",
        "plt.tight_layout()\n",
        "plt.show()"
      ],
      "execution_count": 34,
      "outputs": [
        {
          "output_type": "display_data",
          "data": {
            "image/png": "[encoded data removed]",
            "text/plain": [
              "<Figure size 576x576 with 2 Axes>"
            ]
          },
          "metadata": {
            "tags": []
          }
        }
      ]
    },
    {
      "cell_type": "markdown",
      "metadata": {
        "id": "9ZNR6HNDpZPS",
        "colab_type": "text"
      },
      "source": [
        "Customers are sending quite a bit more tweets than companies are. Even with all of the companies' tweets combined, as a group customers sent 55% of the tweets while companies sent 45%.\n",
        "\n",
        "Although, after consumers, airlines send the most tweets. That's likely because customers have learned that it's faster to get help from airlines on social media than it is to call customer service. ([Wolfe](https://www.nytimes.com/2018/11/20/travel/airline-customer-service-twitter.html))"
      ]
    },
    {
      "cell_type": "code",
      "metadata": {
        "id": "S560gCw-4m_u",
        "colab_type": "code",
        "colab": {}
      },
      "source": [
        "# I need to make changes to the dataframe, so to make sure the 'clean_df' stays intact for future use, I'll make a new dataframe.\n",
        "visual_df = clean_df.copy()\n",
        "drop_non_company = visual_df[visual_df['company'] == 0].index\n",
        "visual_df = visual_df.drop(drop_non_company)"
      ],
      "execution_count": 0,
      "outputs": []
    },
    {
      "cell_type": "code",
      "metadata": {
        "id": "mtpuh5KYjjse",
        "colab_type": "code",
        "outputId": "5c86063d-9695-4eb9-ee78-9de9410be5bc",
        "colab": {
          "base_uri": "https://localhost:8080/",
          "height": 426
        }
      },
      "source": [
        "plt.figure(figsize=(5, 5))\n",
        "df = visual_df.groupby(['author_id'])['company'].count().sort_values(ascending=False).iloc[:5]\n",
        "plt.ylabel('Number of Tweets')\n",
        "plt.title('Tweets by Company')\n",
        "\n",
        "df.plot.bar()"
      ],
      "execution_count": 36,
      "outputs": [
        {
          "output_type": "execute_result",
          "data": {
            "text/plain": [
              "<matplotlib.axes._subplots.AxesSubplot at 0x7f652e63aa90>"
            ]
          },
          "metadata": {
            "tags": []
          },
          "execution_count": 36
        },
        {
          "output_type": "display_data",
          "data": {
            "image/png": "[encoded data removed]",
            "text/plain": [
              "<Figure size 360x360 with 1 Axes>"
            ]
          },
          "metadata": {
            "tags": []
          }
        }
      ]
    },
    {
      "cell_type": "markdown",
      "metadata": {
        "id": "0AKWlAPA65Bp",
        "colab_type": "text"
      },
      "source": [
        "By volume of Tweets, the top five companies are Amazon, Apple, Uber, Spotify and Delta. \n",
        "\n",
        "Given that (as a group) airline companies send the most tweets, it's suprising that there's only one airline company listed in the top five and that it's in fifth place. \n",
        "\n",
        "It's also interesting that four out of the top five companies rely heavily on technology to deliver their products and services. It's possible that because they're very comfortable with technology, it was easier for them to embrace Twitter when compared to other companies that are less tech-heavy."
      ]
    },
    {
      "cell_type": "code",
      "metadata": {
        "id": "3xitkrsZu2aW",
        "colab_type": "code",
        "outputId": "5e623c79-57d5-4d50-e1d7-68010d8ce6c6",
        "colab": {
          "base_uri": "https://localhost:8080/",
          "height": 170
        }
      },
      "source": [
        "visual_df['nasdaq_price'].describe()"
      ],
      "execution_count": 37,
      "outputs": [
        {
          "output_type": "execute_result",
          "data": {
            "text/plain": [
              "count    1.272602e+06\n",
              "mean     1.227558e+02\n",
              "std      2.398390e+02\n",
              "min      0.000000e+00\n",
              "25%      0.000000e+00\n",
              "50%      2.268000e+01\n",
              "75%      9.037000e+01\n",
              "max      7.156200e+02\n",
              "Name: nasdaq_price, dtype: float64"
            ]
          },
          "metadata": {
            "tags": []
          },
          "execution_count": 37
        }
      ]
    },
    {
      "cell_type": "code",
      "metadata": {
        "id": "_0kg5fIxNE3n",
        "colab_type": "code",
        "outputId": "315be4d3-b6d4-4678-a298-415dbf6b8e67",
        "colab": {
          "base_uri": "https://localhost:8080/",
          "height": 369
        }
      },
      "source": [
        "plt.figure(figsize=(10, 5))\n",
        "\n",
        "plt.subplot(1, 2, 1)\n",
        "df = visual_df.groupby(['nasdaq_listing'])['industry'].count()\n",
        "plt.ylabel('Listings')\n",
        "plt.title('Number of Companies on NASDAQ')\n",
        "df.plot.bar()\n",
        "\n",
        "plt.subplot(1, 2, 2)\n",
        "df = visual_df['nasdaq_price']\n",
        "plt.ylabel('USD')\n",
        "plt.title('Stock Price')\n",
        "df.plot.box()\n",
        "\n",
        "plt.tight_layout()\n",
        "plt.show()"
      ],
      "execution_count": 38,
      "outputs": [
        {
          "output_type": "display_data",
          "data": {
            "image/png": "[encoded data removed]",
            "text/plain": [
              "<Figure size 720x360 with 2 Axes>"
            ]
          },
          "metadata": {
            "tags": []
          }
        }
      ]
    },
    {
      "cell_type": "markdown",
      "metadata": {
        "id": "6ttKZSTYvNTT",
        "colab_type": "text"
      },
      "source": [
        "Most of the companies that are sending tweets are listed on NASDAQ. This may be because Twitter's an easy way forfor businesses to have direct conversations with their customers, which could be especially important for large companies that have layers of bureaucracy. ([Parmar](https://hbr.org/2015/04/the-best-and-worst-corporate-tweeters))\n",
        "\n",
        "Then, here are key figures (in USD) for the stock prices:\n",
        "* Min. price: $0.\n",
        "\n",
        "* Avg. price: $122.\n",
        "\n",
        "* Max. price: $716.\n",
        "\n",
        "The stock values suggests that providing customer support on Twitter is a value-add for a wide range of companies."
      ]
    },
    {
      "cell_type": "code",
      "metadata": {
        "id": "qcK39_h68FSB",
        "colab_type": "code",
        "outputId": "3324c0c8-a224-4759-9eca-dbebb8ef6663",
        "colab": {
          "base_uri": "https://localhost:8080/",
          "height": 390
        }
      },
      "source": [
        "plt.figure(figsize=(10, 5))\n",
        "\n",
        "plt.subplot(1, 3, 1)\n",
        "df = clean_df.groupby(['major_event'])['industry'].count()\n",
        "plt.ylabel('Number of Events')\n",
        "plt.title('Companies with Major Events')\n",
        "df.plot.bar()\n",
        "\n",
        "plt.subplot(1, 2, 2)\n",
        "\n",
        "df = clean_df.groupby(['event_month'])['company'].count()\n",
        "plt.ylabel('Number of Events')\n",
        "plt.title('When Events Occurred')\n",
        "df.plot.bar()\n",
        "\n",
        "plt.tight_layout()\n",
        "plt.show()"
      ],
      "execution_count": 39,
      "outputs": [
        {
          "output_type": "stream",
          "text": [
            "/usr/local/lib/python3.6/dist-packages/ipykernel_launcher.py:16: UserWarning: tight_layout not applied: number of columns in subplot specifications must be multiples of one another.\n",
            "  app.launch_new_instance()\n"
          ],
          "name": "stderr"
        },
        {
          "output_type": "display_data",
          "data": {
            "image/png": "[encoded data removed]",
            "text/plain": [
              "<Figure size 720x360 with 2 Axes>"
            ]
          },
          "metadata": {
            "tags": []
          }
        }
      ]
    },
    {
      "cell_type": "markdown",
      "metadata": {
        "id": "ju-iZQ-l_auC",
        "colab_type": "text"
      },
      "source": [
        "Most of the companies in the dataset didn't have a major event take place. Although for companies that went through an event, like a service disruption or new product release, events spiked in April and August.\n",
        "\n",
        "If a company knows that a major event will likely happen (like a transportation company that typically has service disruptions due to winter storms), they can give special training to their customer service reps so that they can take advantage of the service recovery paradox and come out of the situation with stronger customer relationships. ([IGI Global](https://www.igi-global.com/dictionary/service-failure-and-recovery-strategy-in-computer-mediated-marketing-environments-cmmes/69930)) "
      ]
    },
    {
      "cell_type": "code",
      "metadata": {
        "id": "dMF4FWZbXYXb",
        "colab_type": "code",
        "outputId": "106bf3bf-7b03-4fa0-f3f5-b1f3d6771acb",
        "colab": {
          "base_uri": "https://localhost:8080/",
          "height": 85
        }
      },
      "source": [
        "import nltk\n",
        "nltk.download('punkt')\n",
        "from nltk.tokenize import word_tokenize\n",
        "\n",
        "from nltk.corpus import stopwords\n",
        "nltk.download('stopwords')\n",
        "\n",
        "from wordcloud import WordCloud"
      ],
      "execution_count": 40,
      "outputs": [
        {
          "output_type": "stream",
          "text": [
            "[nltk_data] Downloading package punkt to /root/nltk_data...\n",
            "[nltk_data]   Package punkt is already up-to-date!\n",
            "[nltk_data] Downloading package stopwords to /root/nltk_data...\n",
            "[nltk_data]   Package stopwords is already up-to-date!\n"
          ],
          "name": "stdout"
        }
      ]
    },
    {
      "cell_type": "code",
      "metadata": {
        "id": "lv82goQKXemN",
        "colab_type": "code",
        "colab": {}
      },
      "source": [
        "def wordcloud(df, string):\n",
        "  highlights = df[string].str.cat(sep=' ')\n",
        "\n",
        "  tokens = word_tokenize(highlights)\n",
        "  vocabulary = set(tokens)\n",
        "\n",
        "  frequency_dist = nltk.FreqDist(tokens)\n",
        "\n",
        "  stop_words = set(stopwords.words('english'))\n",
        "  tokens = [w for w in tokens if not w in stop_words]\n",
        "\n",
        "  wordcloud = WordCloud().generate_from_frequencies(frequency_dist)\n",
        "  plt.imshow(wordcloud)\n",
        "  plt.axis('off')\n",
        "  plt.show()\n",
        "  return;"
      ],
      "execution_count": 0,
      "outputs": []
    },
    {
      "cell_type": "code",
      "metadata": {
        "id": "QRqDX4NSX1lB",
        "colab_type": "code",
        "outputId": "79ede471-fed1-4b6b-c19c-ceae60665754",
        "colab": {
          "base_uri": "https://localhost:8080/",
          "height": 198
        }
      },
      "source": [
        "wordcloud(visual_df, 'event_highlights')"
      ],
      "execution_count": 42,
      "outputs": [
        {
          "output_type": "display_data",
          "data": {
            "image/png": "[encoded data removed]",
            "text/plain": [
              "<Figure size 432x288 with 1 Axes>"
            ]
          },
          "metadata": {
            "tags": []
          }
        }
      ]
    },
    {
      "cell_type": "markdown",
      "metadata": {
        "id": "73kBRV3rXKBD",
        "colab_type": "text"
      },
      "source": [
        "From a customer standpoint, the events which likely had the biggest impact on them were those related to service disruptions and new product offerings.\n",
        "  * An example of this is the words \"amazon,\" \"netflix\" and \"challenges\" are related to the headline, \"Amazon challenges Netflix\", which referred to Amazon changing its product offering and allowing customers to have month-to-month Prime Video memberships.\n",
        "\n",
        "But other words in the wordcloud are related to business issues that may not directly impact customers.\n",
        "  * This includes the words \"illegal\" and \"apple\", which are related to Apple getting sued for receiving illegal tax benefits. That was a major event, although it likely didn't have a major impact Apple's sales or customer relations.\n",
        "\n",
        "What's valuable to note here is that even if a company experienced a major event, the importance of it should be looked at through the customers' eyes."
      ]
    },
    {
      "cell_type": "code",
      "metadata": {
        "id": "NOkuUMXuDBOK",
        "colab_type": "code",
        "outputId": "b769b63d-5168-4a86-8978-6399fdeccd0a",
        "colab": {
          "base_uri": "https://localhost:8080/",
          "height": 413
        }
      },
      "source": [
        "print('What companies are tweeting about compared to...', wordcloud(visual_df, 'text'))\n",
        "\n",
        "visual_df = clean_df.copy()\n",
        "drop_companies = visual_df[visual_df['company'] == 1].index\n",
        "visual_df = visual_df.drop(drop_companies)\n",
        "print('... what individuals are tweeting about:', wordcloud(visual_df, 'text'))"
      ],
      "execution_count": 43,
      "outputs": [
        {
          "output_type": "display_data",
          "data": {
            "image/png": "[encoded data removed]",
            "text/plain": [
              "<Figure size 432x288 with 1 Axes>"
            ]
          },
          "metadata": {
            "tags": []
          }
        },
        {
          "output_type": "stream",
          "text": [
            "What companies are tweeting about compared to... None\n"
          ],
          "name": "stdout"
        },
        {
          "output_type": "display_data",
          "data": {
            "image/png": "[encoded data removed]",
            "text/plain": [
              "<Figure size 432x288 with 1 Axes>"
            ]
          },
          "metadata": {
            "tags": []
          }
        },
        {
          "output_type": "stream",
          "text": [
            "... what individuals are tweeting about: None\n"
          ],
          "name": "stdout"
        }
      ]
    },
    {
      "cell_type": "markdown",
      "metadata": {
        "id": "SbqK3YXtZcqW",
        "colab_type": "text"
      },
      "source": [
        "While there are stop words in the wordclouds above, there's an important detail in the wordcloud for companies: the businesses are frequently using the words \"you\" and \"your\". By doing that, they're keeping the focus on the customers and providing consistent interactions, which is important for customer satisfaction. ([Afshar](https://www.salesforce.com/blog/2019/06/customer-focus.html))\n",
        "\n",
        "On the customer side, customers are focused on what's important to them, which shows up in \"I\" and \"my.\"\n",
        "\n",
        "\n",
        "\n",
        "---\n",
        "\n",
        "\n",
        "\n",
        "### 4. Topic Modeling\n",
        "\n",
        "To get started with the machine learning analysis, we'll use Latent Dirichlet Allocation (LDA) topic modeling to see what customers and companies are talking about."
      ]
    },
    {
      "cell_type": "code",
      "metadata": {
        "id": "rwBZFCgbdXJz",
        "colab_type": "code",
        "outputId": "61abaff0-b137-43ac-ed58-30c81402eed6",
        "colab": {
          "base_uri": "https://localhost:8080/",
          "height": 68
        }
      },
      "source": [
        "import gensim\n",
        "from gensim.utils import simple_preprocess\n",
        "from gensim.parsing.preprocessing import STOPWORDS\n",
        "from nltk.stem import WordNetLemmatizer, SnowballStemmer\n",
        "from nltk.stem.porter import *\n",
        "import nltk\n",
        "nltk.download('wordnet')"
      ],
      "execution_count": 44,
      "outputs": [
        {
          "output_type": "stream",
          "text": [
            "[nltk_data] Downloading package wordnet to /root/nltk_data...\n",
            "[nltk_data]   Package wordnet is already up-to-date!\n"
          ],
          "name": "stdout"
        },
        {
          "output_type": "execute_result",
          "data": {
            "text/plain": [
              "True"
            ]
          },
          "metadata": {
            "tags": []
          },
          "execution_count": 44
        }
      ]
    },
    {
      "cell_type": "code",
      "metadata": {
        "id": "OgtcDuANEGHg",
        "colab_type": "code",
        "colab": {}
      },
      "source": [
        "stemmer = SnowballStemmer('english')"
      ],
      "execution_count": 0,
      "outputs": []
    },
    {
      "cell_type": "code",
      "metadata": {
        "id": "nKOee28BdXMD",
        "colab_type": "code",
        "colab": {}
      },
      "source": [
        "# This function will go through the pre-processing steps on the text data.\n",
        "def lemmatize_stemming(text):\n",
        "    return stemmer.stem(WordNetLemmatizer().lemmatize(text, pos='v'))\n",
        "\n",
        "# Tokenize and lemmatize.\n",
        "def preprocess(text):\n",
        "    result=[]\n",
        "    for token in gensim.utils.simple_preprocess(text):\n",
        "        if token not in gensim.parsing.preprocessing.STOPWORDS and len(token) > 3:\n",
        "            result.append(lemmatize_stemming(token))\n",
        "            \n",
        "    return result;"
      ],
      "execution_count": 0,
      "outputs": []
    },
    {
      "cell_type": "code",
      "metadata": {
        "id": "MYMy0VnkDVr5",
        "colab_type": "code",
        "colab": {}
      },
      "source": [
        "# Taking a random sample of the text data.\n",
        "processed_docs = []\n",
        "\n",
        "for doc in clean_df['text'].sample(n=50000, random_state=1):\n",
        "    processed_docs.append(preprocess(doc))"
      ],
      "execution_count": 0,
      "outputs": []
    },
    {
      "cell_type": "code",
      "metadata": {
        "id": "4BSCI7cQDVx3",
        "colab_type": "code",
        "colab": {}
      },
      "source": [
        "# using gensim.corpora.Dictionary, I'll create a dictionary from 'processed_docs' that has the number of times a word appears in the training set.\n",
        "dictionary = gensim.corpora.Dictionary(processed_docs)"
      ],
      "execution_count": 0,
      "outputs": []
    },
    {
      "cell_type": "code",
      "metadata": {
        "id": "1bb8aOlSGItw",
        "colab_type": "code",
        "outputId": "1971cca8-4b07-41ae-cd87-423bedc050ec",
        "colab": {
          "base_uri": "https://localhost:8080/",
          "height": 204
        }
      },
      "source": [
        "# Checking the dictionary.\n",
        "count = 0\n",
        "for k, v in dictionary.iteritems():\n",
        "    print(k, v)\n",
        "    count += 1\n",
        "    if count > 10:\n",
        "        break"
      ],
      "execution_count": 49,
      "outputs": [
        {
          "output_type": "stream",
          "text": [
            "0 atviassist\n",
            "1 applesupport\n",
            "2 iphon\n",
            "3 americanair\n",
            "4 dont\n",
            "5 dumb\n",
            "6 know\n",
            "7 store\n",
            "8 think\n",
            "9 pain\n",
            "10 info\n"
          ],
          "name": "stdout"
        }
      ]
    },
    {
      "cell_type": "code",
      "metadata": {
        "id": "WhV5GAPPGbhH",
        "colab_type": "code",
        "colab": {}
      },
      "source": [
        "# Removing words that are used less than 15 times and that show up in more than 10% of all the documents.\n",
        "dictionary.filter_extremes(no_below=15, no_above=0.1, keep_n=100000)"
      ],
      "execution_count": 0,
      "outputs": []
    },
    {
      "cell_type": "code",
      "metadata": {
        "id": "GFOMeyX3GbmM",
        "colab_type": "code",
        "colab": {}
      },
      "source": [
        "# Creating the BoW model for each document.\n",
        "bow_corpus = [dictionary.doc2bow(doc) for doc in processed_docs]"
      ],
      "execution_count": 0,
      "outputs": []
    },
    {
      "cell_type": "code",
      "metadata": {
        "id": "1g2cDRvrGybq",
        "colab_type": "code",
        "outputId": "1802f7c4-8735-4a68-fdc7-004d0e6dd40f",
        "colab": {
          "base_uri": "https://localhost:8080/",
          "height": 68
        }
      },
      "source": [
        "# Preview BoW for the sample preprocessed document.\n",
        "document_num = 20\n",
        "bow_doc_x = bow_corpus[document_num]\n",
        "\n",
        "for i in range(len(bow_doc_x)):\n",
        "    print(\"Word {} (\\\"{}\\\") appears {} time.\".format(bow_doc_x[i][0], \n",
        "                                                     dictionary[bow_doc_x[i][0]], \n",
        "                                                     bow_doc_x[i][1]))"
      ],
      "execution_count": 52,
      "outputs": [
        {
          "output_type": "stream",
          "text": [
            "Word 91 (\"kind\") appears 1 time.\n",
            "Word 92 (\"respons\") appears 1 time.\n",
            "Word 93 (\"ubersupport\") appears 1 time.\n"
          ],
          "name": "stdout"
        }
      ]
    },
    {
      "cell_type": "code",
      "metadata": {
        "id": "qjnovHk6G4uo",
        "colab_type": "code",
        "colab": {}
      },
      "source": [
        "# The LDA model will be trained using gensim.models.LdaMulticore and saved to 'lda_model'.\n",
        "lda_model = gensim.models.LdaMulticore(bow_corpus, num_topics=10, id2word=dictionary, passes=6, workers=3)"
      ],
      "execution_count": 0,
      "outputs": []
    },
    {
      "cell_type": "code",
      "metadata": {
        "id": "SafqekPkHD4Z",
        "colab_type": "code",
        "outputId": "78e0a9db-931e-4955-ce15-9b6810c377f9",
        "colab": {
          "base_uri": "https://localhost:8080/",
          "height": 697
        }
      },
      "source": [
        "# For each topic, we'll look at the words that occur and how much they weigh.\n",
        "for idx, topic in lda_model.print_topics(-1, num_words=5):\n",
        "    print('Topic: {} \\nWords: {}'.format(idx, topic))\n",
        "    print('\\n')"
      ],
      "execution_count": 54,
      "outputs": [
        {
          "output_type": "stream",
          "text": [
            "Topic: 0 \n",
            "Words: 0.020*\"spotifycar\" + 0.019*\"guy\" + 0.018*\"problem\" + 0.015*\"atviassist\" + 0.013*\"play\"\n",
            "\n",
            "\n",
            "Topic: 1 \n",
            "Words: 0.061*\"applesupport\" + 0.057*\"updat\" + 0.032*\"iphon\" + 0.024*\"phone\" + 0.022*\"work\"\n",
            "\n",
            "\n",
            "Topic: 2 \n",
            "Words: 0.078*\"send\" + 0.072*\"look\" + 0.048*\"email\" + 0.041*\"address\" + 0.034*\"account\"\n",
            "\n",
            "\n",
            "Topic: 3 \n",
            "Words: 0.030*\"issu\" + 0.028*\"great\" + 0.024*\"know\" + 0.021*\"inform\" + 0.020*\"glad\"\n",
            "\n",
            "\n",
            "Topic: 4 \n",
            "Words: 0.068*\"amazonhelp\" + 0.022*\"chipotletweet\" + 0.021*\"card\" + 0.019*\"futur\" + 0.017*\"safaricomcar\"\n",
            "\n",
            "\n",
            "Topic: 5 \n",
            "Words: 0.060*\"order\" + 0.037*\"amazonhelp\" + 0.031*\"deliveri\" + 0.021*\"deliv\" + 0.020*\"packag\"\n",
            "\n",
            "\n",
            "Topic: 6 \n",
            "Words: 0.074*\"sorri\" + 0.044*\"team\" + 0.034*\"hear\" + 0.022*\"store\" + 0.020*\"feedback\"\n",
            "\n",
            "\n",
            "Topic: 7 \n",
            "Words: 0.036*\"flight\" + 0.022*\"delta\" + 0.022*\"americanair\" + 0.016*\"virgintrain\" + 0.016*\"train\"\n",
            "\n",
            "\n",
            "Topic: 8 \n",
            "Words: 0.087*\"servic\" + 0.043*\"custom\" + 0.037*\"number\" + 0.025*\"issu\" + 0.023*\"account\"\n",
            "\n",
            "\n",
            "Topic: 9 \n",
            "Words: 0.029*\"go\" + 0.029*\"know\" + 0.027*\"tesco\" + 0.023*\"what\" + 0.021*\"dont\"\n",
            "\n",
            "\n"
          ],
          "name": "stdout"
        }
      ]
    },
    {
      "cell_type": "markdown",
      "metadata": {
        "id": "P7moqxhwNkuG",
        "colab_type": "text"
      },
      "source": [
        "*Notes on Tuning the Model Parameters*\n",
        "\n",
        "I tried several different options while tuning the parameters and the current set of parameters gave the best results because each topic focused on a single subject and group of companies, like \"AmericanAir\" and \"flight\".\n",
        "\n",
        "*Topic Analysis*\n",
        "\n",
        "These topics had distinct themes:\n",
        "- Topic 0 - Digital products.\n",
        "- Topic 1 - Apple.\n",
        "- Topic 2 - Gathering information to fix customer issues.\n",
        "- Topic 3 - Amazon customer support.\n",
        "- Topic 4 - Product delivery.\n",
        "- Topic 5 - Amazon.\n",
        "- Topic 6 - Acknowledging mistakes.\n",
        "- Topic 7 - Flights.\n",
        "- Topic 8 - Gathering information to fix customer issues.\n",
        "- Topic 9 - Tesco.\n",
        "\n",
        "Takeaways: \n",
        "- There's a mix of customers talking to companies about specific products and services, like having issues with travelling and needing product support.\n",
        "- The topics that relate direclty to companies are a good example of the value-add topic modeling can bring to companies because it shows the words that are closely associated to them.\n",
        "\n",
        "Next Steps:\n",
        "- While it's helpful to see the language companies use when they need to fix a mistake, it could be worth adding words that showed up multiple times, like \"account\" to the stopwords list so that it's easier to find distinctive patterns.\n",
        "- It may also be worth analyzing companies or industries by themselves to find patterns on a smaller scale.\n",
        "\n",
        "\n",
        "\n",
        "---\n",
        "\n",
        "### 5. Classifying the Tweets\n",
        "\n",
        "For the purpose of using supervised learning techniques, I'll use machine learning to see if a tweet was from a company or an individual.\n",
        "\n",
        "Note: in this case, classifying the information has limited value, but it is useful for other NLP projects, like spam filtering.\n",
        "\n",
        "*Building the Train and Test Sets*\n"
      ]
    },
    {
      "cell_type": "code",
      "metadata": {
        "id": "ikrorShy6_OT",
        "colab_type": "code",
        "colab": {}
      },
      "source": [
        "X_train = clean_df.loc[:24999, 'text'].values\n",
        "y_train = clean_df.loc[:24999, 'company'].values\n",
        "X_test = clean_df.loc[25000:, 'text'].values\n",
        "y_test = clean_df.loc[25000:, 'company'].values"
      ],
      "execution_count": 0,
      "outputs": []
    },
    {
      "cell_type": "code",
      "metadata": {
        "id": "w2oVIMdVtz-X",
        "colab_type": "code",
        "colab": {}
      },
      "source": [
        "from sklearn.feature_extraction.text import TfidfTransformer\n",
        "from sklearn.feature_extraction.text import TfidfVectorizer"
      ],
      "execution_count": 0,
      "outputs": []
    },
    {
      "cell_type": "code",
      "metadata": {
        "id": "m_ACyegvhQxx",
        "colab_type": "code",
        "outputId": "63072b51-c68d-45f7-8d33-0f3fd2d82f8f",
        "colab": {
          "base_uri": "https://localhost:8080/",
          "height": 34
        }
      },
      "source": [
        "vectorizer = TfidfVectorizer()\n",
        "train_vectors = vectorizer.fit_transform(X_train)\n",
        "test_vectors = vectorizer.transform(X_test)\n",
        "print(train_vectors.shape, test_vectors.shape)"
      ],
      "execution_count": 57,
      "outputs": [
        {
          "output_type": "stream",
          "text": [
            "(25000, 20432) (2786774, 20432)\n"
          ],
          "name": "stdout"
        }
      ]
    },
    {
      "cell_type": "markdown",
      "metadata": {
        "id": "pTvWFSDMxdfY",
        "colab_type": "text"
      },
      "source": [
        "*Running the Initial Models*\n",
        "\n",
        "These models will be run:\n",
        "\n",
        "1. Random Forest.\n",
        "2. Gradient Boosting.\n",
        "3. Naive-Bayes.\n",
        "4. Linear Regression.\n",
        "\n",
        "Please note that I ran SVM once, but it took two hours to process the information, so I removed it because of time constraints."
      ]
    },
    {
      "cell_type": "code",
      "metadata": {
        "id": "cky6TNMR1Fah",
        "colab_type": "code",
        "colab": {}
      },
      "source": [
        "from sklearn.naive_bayes import MultinomialNB\n",
        "from sklearn.linear_model import LogisticRegression\n",
        "from sklearn import ensemble\n",
        "from sklearn.metrics import accuracy_score"
      ],
      "execution_count": 0,
      "outputs": []
    },
    {
      "cell_type": "code",
      "metadata": {
        "id": "-5_CFPU-0dqQ",
        "colab_type": "code",
        "colab": {}
      },
      "source": [
        "# Defining a function to run a machine learning model and print out its accuracy score.\n",
        "def classifier(model):\n",
        "  predicted = model.fit(train_vectors, y_train).predict(test_vectors)\n",
        "  print(accuracy_score(y_test, predicted))"
      ],
      "execution_count": 0,
      "outputs": []
    },
    {
      "cell_type": "code",
      "metadata": {
        "id": "4q2zE5DrMesy",
        "colab_type": "code",
        "outputId": "03864c85-8d3c-406a-d49e-5b335fa9179b",
        "colab": {
          "base_uri": "https://localhost:8080/",
          "height": 34
        }
      },
      "source": [
        "# Gradient Boosting model.\n",
        "classifier(ensemble.GradientBoostingClassifier())"
      ],
      "execution_count": 60,
      "outputs": [
        {
          "output_type": "stream",
          "text": [
            "0.8786209430689392\n"
          ],
          "name": "stdout"
        }
      ]
    },
    {
      "cell_type": "code",
      "metadata": {
        "id": "-xzb9ttQdl49",
        "colab_type": "code",
        "outputId": "ebc72f66-6b01-4553-d840-6f3055fd21d9",
        "colab": {
          "base_uri": "https://localhost:8080/",
          "height": 34
        }
      },
      "source": [
        "# Note: when I ran the random forest model the first time, I got a future warning about 'n_estimators'.\n",
        "# To get rid of the warning, I set 'n_estimators=100'.\n",
        "classifier(ensemble.RandomForestClassifier(n_estimators=100))"
      ],
      "execution_count": 61,
      "outputs": [
        {
          "output_type": "stream",
          "text": [
            "0.929002136520579\n"
          ],
          "name": "stdout"
        }
      ]
    },
    {
      "cell_type": "code",
      "metadata": {
        "id": "3cUKUUR407-7",
        "colab_type": "code",
        "outputId": "971dd5ff-c4c5-438c-f9ce-600097d3ab14",
        "colab": {
          "base_uri": "https://localhost:8080/",
          "height": 34
        }
      },
      "source": [
        "# Naive-Bayes model.\n",
        "classifier(MultinomialNB())"
      ],
      "execution_count": 62,
      "outputs": [
        {
          "output_type": "stream",
          "text": [
            "0.9477460317915984\n"
          ],
          "name": "stdout"
        }
      ]
    },
    {
      "cell_type": "code",
      "metadata": {
        "id": "FNYVNkUy1XF1",
        "colab_type": "code",
        "outputId": "8989aead-1deb-4b8a-8d42-bea46de4a7fe",
        "colab": {
          "base_uri": "https://localhost:8080/",
          "height": 34
        }
      },
      "source": [
        "# Logistic Regression model.\n",
        "# Note: when I ran the logistic regression model the first time, I got a future warning about 'solver'.\n",
        "# To get rid of the warning, I set 'solver' equal to 'liblinear'.\n",
        "classifier(LogisticRegression(solver='liblinear'))"
      ],
      "execution_count": 63,
      "outputs": [
        {
          "output_type": "stream",
          "text": [
            "0.949245974018704\n"
          ],
          "name": "stdout"
        }
      ]
    },
    {
      "cell_type": "markdown",
      "metadata": {
        "id": "mgqQikU_xhPe",
        "colab_type": "text"
      },
      "source": [
        "*Running Models with Truncated SVD*\n",
        "\n",
        "As an experiment, I'll see if the models perform better with truncated SVD.\n",
        "\n",
        "(Please note that Naive-Bayes couldn't be run with SVD because it results in a ValueError message that says that \"Input X must be non-negative.\")"
      ]
    },
    {
      "cell_type": "code",
      "metadata": {
        "id": "Ppl_1hGnOFsO",
        "colab_type": "code",
        "colab": {}
      },
      "source": [
        "from sklearn.decomposition import TruncatedSVD\n",
        "svd = TruncatedSVD(n_components=5, random_state=42)"
      ],
      "execution_count": 0,
      "outputs": []
    },
    {
      "cell_type": "code",
      "metadata": {
        "id": "cZT8rd7XKvbG",
        "colab_type": "code",
        "outputId": "ef630860-858d-4330-ff6a-daae3a08cc29",
        "colab": {
          "base_uri": "https://localhost:8080/",
          "height": 51
        }
      },
      "source": [
        "svd.fit(train_vectors)"
      ],
      "execution_count": 65,
      "outputs": [
        {
          "output_type": "execute_result",
          "data": {
            "text/plain": [
              "TruncatedSVD(algorithm='randomized', n_components=5, n_iter=5, random_state=42,\n",
              "             tol=0.0)"
            ]
          },
          "metadata": {
            "tags": []
          },
          "execution_count": 65
        }
      ]
    },
    {
      "cell_type": "code",
      "metadata": {
        "id": "I3w-e5w8Kvnu",
        "colab_type": "code",
        "colab": {}
      },
      "source": [
        "train_vectors = svd.transform(train_vectors)\n",
        "test_vectors = svd.transform(test_vectors)"
      ],
      "execution_count": 0,
      "outputs": []
    },
    {
      "cell_type": "code",
      "metadata": {
        "id": "nty7oyCLLxR3",
        "colab_type": "code",
        "outputId": "fb18e947-6449-4d48-c8e0-94a43879693f",
        "colab": {
          "base_uri": "https://localhost:8080/",
          "height": 34
        }
      },
      "source": [
        "# Logistic Regression model.\n",
        "classifier(LogisticRegression(solver='liblinear'))"
      ],
      "execution_count": 67,
      "outputs": [
        {
          "output_type": "stream",
          "text": [
            "0.8461457585006893\n"
          ],
          "name": "stdout"
        }
      ]
    },
    {
      "cell_type": "code",
      "metadata": {
        "id": "Tv8GhxhmLxOK",
        "colab_type": "code",
        "outputId": "00966ae2-cda0-4419-f1f9-5c1296c374ae",
        "colab": {
          "base_uri": "https://localhost:8080/",
          "height": 34
        }
      },
      "source": [
        "# Random Forest model.\n",
        "classifier(ensemble.RandomForestClassifier(n_estimators=100))"
      ],
      "execution_count": 68,
      "outputs": [
        {
          "output_type": "stream",
          "text": [
            "0.8620017267277504\n"
          ],
          "name": "stdout"
        }
      ]
    },
    {
      "cell_type": "code",
      "metadata": {
        "id": "ffMgT2Y_f48d",
        "colab_type": "code",
        "outputId": "82771db0-4cab-4fbc-cbb0-f4f67f6d4ef1",
        "colab": {
          "base_uri": "https://localhost:8080/",
          "height": 34
        }
      },
      "source": [
        "# Gradient Boosting model.\n",
        "classifier(ensemble.GradientBoostingClassifier())"
      ],
      "execution_count": 69,
      "outputs": [
        {
          "output_type": "stream",
          "text": [
            "0.8617508990682416\n"
          ],
          "name": "stdout"
        }
      ]
    },
    {
      "cell_type": "markdown",
      "metadata": {
        "id": "euokRoQARqGb",
        "colab_type": "text"
      },
      "source": [
        "*Insights*\n",
        "\n",
        "* SVD negatively impacted the analysis and the models performed best on their own.\n",
        "* Of the four models, Naive Bayes and logistic regression had the strongest performance.\n",
        "\n",
        "\n",
        "\n",
        "---\n",
        "\n",
        "### 6. Sentiment Analysis\n",
        "\n",
        "By using TextBlob, we can measure sentiment objectively."
      ]
    },
    {
      "cell_type": "code",
      "metadata": {
        "id": "FRGyuYpU3wJB",
        "colab_type": "code",
        "colab": {}
      },
      "source": [
        "from textblob import TextBlob"
      ],
      "execution_count": 0,
      "outputs": []
    },
    {
      "cell_type": "code",
      "metadata": {
        "id": "RiYU71viVZlC",
        "colab_type": "code",
        "colab": {}
      },
      "source": [
        "sentiment_df = clean_df[['text', 'company', 'author_id', 'industry']].copy()"
      ],
      "execution_count": 0,
      "outputs": []
    },
    {
      "cell_type": "code",
      "metadata": {
        "colab_type": "code",
        "id": "S4lrKXi1Y_8v",
        "colab": {}
      },
      "source": [
        "sentiment_df = sentiment_df.sample(n=40000, random_state=1)"
      ],
      "execution_count": 0,
      "outputs": []
    },
    {
      "cell_type": "code",
      "metadata": {
        "id": "on7maeS_XxLV",
        "colab_type": "code",
        "colab": {}
      },
      "source": [
        "def find_polarity(polarity):\n",
        "    return TextBlob(polarity).sentiment.polarity\n",
        "\n",
        "sentiment_df['polarity'] = sentiment_df['text'].apply(find_polarity)"
      ],
      "execution_count": 0,
      "outputs": []
    },
    {
      "cell_type": "code",
      "metadata": {
        "id": "DbOfuDv0XxQV",
        "colab_type": "code",
        "colab": {}
      },
      "source": [
        "def find_subjectivity(subjectivity):\n",
        "    return TextBlob(subjectivity).sentiment.subjectivity;\n",
        "\n",
        "sentiment_df['subjectivity'] = sentiment_df['text'].apply(find_subjectivity)"
      ],
      "execution_count": 0,
      "outputs": []
    },
    {
      "cell_type": "markdown",
      "metadata": {
        "id": "ADrFJwnYgjVV",
        "colab_type": "text"
      },
      "source": [
        "*Analyzing the Polarity*\n",
        "\n",
        "The value of polarity can be between -1 and 1 where the reviews with negative polarities have negative sentiments, while the reviews with positive polarities have positive sentiments."
      ]
    },
    {
      "cell_type": "code",
      "metadata": {
        "id": "F-3-vCNZJyxK",
        "colab_type": "code",
        "outputId": "2819cf5a-f545-45db-8bed-fda1a468aed0",
        "colab": {
          "base_uri": "https://localhost:8080/",
          "height": 450
        }
      },
      "source": [
        "sentiment_df.groupby(['polarity']).first()"
      ],
      "execution_count": 75,
      "outputs": [
        {
          "output_type": "execute_result",
          "data": {
            "text/html": [
              "<div>\n",
              "<style scoped>\n",
              "    .dataframe tbody tr th:only-of-type {\n",
              "        vertical-align: middle;\n",
              "    }\n",
              "\n",
              "    .dataframe tbody tr th {\n",
              "        vertical-align: top;\n",
              "    }\n",
              "\n",
              "    .dataframe thead th {\n",
              "        text-align: right;\n",
              "    }\n",
              "</style>\n",
              "<table border=\"1\" class=\"dataframe\">\n",
              "  <thead>\n",
              "    <tr style=\"text-align: right;\">\n",
              "      <th></th>\n",
              "      <th>text</th>\n",
              "      <th>company</th>\n",
              "      <th>author_id</th>\n",
              "      <th>industry</th>\n",
              "      <th>subjectivity</th>\n",
              "    </tr>\n",
              "    <tr>\n",
              "      <th>polarity</th>\n",
              "      <th></th>\n",
              "      <th></th>\n",
              "      <th></th>\n",
              "      <th></th>\n",
              "      <th></th>\n",
              "    </tr>\n",
              "  </thead>\n",
              "  <tbody>\n",
              "    <tr>\n",
              "      <th>-1.000000</th>\n",
              "      <td>wells fargo is the worst bank to have</td>\n",
              "      <td>0</td>\n",
              "      <td>non-company</td>\n",
              "      <td>noncompany</td>\n",
              "      <td>1.0000</td>\n",
              "    </tr>\n",
              "    <tr>\n",
              "      <th>-0.987500</th>\n",
              "      <td>very disappointed in americanair the service w...</td>\n",
              "      <td>0</td>\n",
              "      <td>non-company</td>\n",
              "      <td>noncompany</td>\n",
              "      <td>0.9875</td>\n",
              "    </tr>\n",
              "    <tr>\n",
              "      <th>-0.975000</th>\n",
              "      <td>thinking about  especially  very disappointed ...</td>\n",
              "      <td>0</td>\n",
              "      <td>non-company</td>\n",
              "      <td>noncompany</td>\n",
              "      <td>0.9750</td>\n",
              "    </tr>\n",
              "    <tr>\n",
              "      <th>-0.928571</th>\n",
              "      <td>pls fix my phone im very sick if i autocorrec...</td>\n",
              "      <td>0</td>\n",
              "      <td>non-company</td>\n",
              "      <td>noncompany</td>\n",
              "      <td>1.0000</td>\n",
              "    </tr>\n",
              "    <tr>\n",
              "      <th>-0.910000</th>\n",
              "      <td>i apologize again jessica as delivery will no...</td>\n",
              "      <td>1</td>\n",
              "      <td>UPSHelp</td>\n",
              "      <td>mailing  shipping services</td>\n",
              "      <td>0.2600</td>\n",
              "    </tr>\n",
              "    <tr>\n",
              "      <th>...</th>\n",
              "      <td>...</td>\n",
              "      <td>...</td>\n",
              "      <td>...</td>\n",
              "      <td>...</td>\n",
              "      <td>...</td>\n",
              "    </tr>\n",
              "    <tr>\n",
              "      <th>0.866667</th>\n",
              "      <td>happy happy birthday to you we cant promise a...</td>\n",
              "      <td>1</td>\n",
              "      <td>AmericanAir</td>\n",
              "      <td>airline companies</td>\n",
              "      <td>1.0000</td>\n",
              "    </tr>\n",
              "    <tr>\n",
              "      <th>0.900000</th>\n",
              "      <td>i hear you amp i know that isnt an ideal situ...</td>\n",
              "      <td>1</td>\n",
              "      <td>TMobileHelp</td>\n",
              "      <td>cellular telephones services</td>\n",
              "      <td>1.0000</td>\n",
              "    </tr>\n",
              "    <tr>\n",
              "      <th>0.933333</th>\n",
              "      <td>wed do our best to match the joy given by tha...</td>\n",
              "      <td>1</td>\n",
              "      <td>ChipotleTweets</td>\n",
              "      <td>restaurant management</td>\n",
              "      <td>0.5000</td>\n",
              "    </tr>\n",
              "    <tr>\n",
              "      <th>0.950000</th>\n",
              "      <td>delta absolutely incredible service this eveni...</td>\n",
              "      <td>0</td>\n",
              "      <td>non-company</td>\n",
              "      <td>noncompany</td>\n",
              "      <td>0.9500</td>\n",
              "    </tr>\n",
              "    <tr>\n",
              "      <th>1.000000</th>\n",
              "      <td>virgintrains always answered my queries promp...</td>\n",
              "      <td>0</td>\n",
              "      <td>non-company</td>\n",
              "      <td>noncompany</td>\n",
              "      <td>1.0000</td>\n",
              "    </tr>\n",
              "  </tbody>\n",
              "</table>\n",
              "<p>2231 rows × 5 columns</p>\n",
              "</div>"
            ],
            "text/plain": [
              "                                                        text  ...  subjectivity\n",
              "polarity                                                      ...              \n",
              "-1.000000              wells fargo is the worst bank to have  ...        1.0000\n",
              "-0.987500  very disappointed in americanair the service w...  ...        0.9875\n",
              "-0.975000  thinking about  especially  very disappointed ...  ...        0.9750\n",
              "-0.928571   pls fix my phone im very sick if i autocorrec...  ...        1.0000\n",
              "-0.910000   i apologize again jessica as delivery will no...  ...        0.2600\n",
              "...                                                      ...  ...           ...\n",
              " 0.866667   happy happy birthday to you we cant promise a...  ...        1.0000\n",
              " 0.900000   i hear you amp i know that isnt an ideal situ...  ...        1.0000\n",
              " 0.933333   wed do our best to match the joy given by tha...  ...        0.5000\n",
              " 0.950000  delta absolutely incredible service this eveni...  ...        0.9500\n",
              " 1.000000   virgintrains always answered my queries promp...  ...        1.0000\n",
              "\n",
              "[2231 rows x 5 columns]"
            ]
          },
          "metadata": {
            "tags": []
          },
          "execution_count": 75
        }
      ]
    },
    {
      "cell_type": "code",
      "metadata": {
        "id": "rvztmKOIMW-H",
        "colab_type": "code",
        "outputId": "ab5a5eee-2d59-42f6-ee9a-bdc1c352c586",
        "colab": {
          "base_uri": "https://localhost:8080/",
          "height": 297
        }
      },
      "source": [
        "plt.figure(figsize=(10, 4))\n",
        "\n",
        "plt.subplot(1, 2, 1)\n",
        "sns.distplot(sentiment_df['polarity'])\n",
        "plt.xlabel('<-- Negative -------- Positive -->', fontsize=15)\n",
        "plt.title('Polarity Distribution')\n",
        "\n",
        "plt.subplot(1, 2, 2)\n",
        "sns.barplot(x='company', y='polarity', data=sentiment_df)\n",
        "plt.title('Polarity in Tweets')\n",
        "\n",
        "plt.tight_layout()\n",
        "plt.show()"
      ],
      "execution_count": 76,
      "outputs": [
        {
          "output_type": "display_data",
          "data": {
            "image/png": "[encoded data removed]",
            "text/plain": [
              "<Figure size 720x288 with 2 Axes>"
            ]
          },
          "metadata": {
            "tags": []
          }
        }
      ]
    },
    {
      "cell_type": "markdown",
      "metadata": {
        "id": "CL6X0bDaOOWf",
        "colab_type": "text"
      },
      "source": [
        "While the graphs show that customers' polarity is almost neutral, be mindful that consumers are likely coming to you when they have an issue that they need help with - if they're frustrated with an issue they're experiencing, they may vent their feelings in a tweet.\n",
        "\n",
        "And on the whole, Twitter isn't known for neutrality. (Earlier this year Disney decided to not buy Twitter, citing the \"nastiness\" of Twitter's environment as the key reason why they didn't buy the company. [[Keown](https://www.barrons.com/articles/disney-snubbed-twitter-purchase-due-to-platforms-nastiness-ceo-bob-iger-reveals-51569248274?mod=article_signInButton?mod=article_signInButton)])\n",
        "\n",
        "But if you're strategic and respond to your customers with empathy and thoughtfulness, they'll feel valued and your brand will get a boost. ([Parmar](https://hbr.org/2015/04/the-best-and-worst-corporate-tweeters))\n",
        "\n",
        "*Analyzing Subjectivity*\n",
        "\n",
        "The subjectivity value can be between 0 and 1. The value shows how much opinion or facts are in the text. A higher score means that the text is more opinionated than fact-based."
      ]
    },
    {
      "cell_type": "code",
      "metadata": {
        "id": "ciK9WCwSILHK",
        "colab_type": "code",
        "outputId": "b7628a6b-4861-4ad2-da03-d796d4df25d3",
        "colab": {
          "base_uri": "https://localhost:8080/",
          "height": 450
        }
      },
      "source": [
        "sentiment_df.groupby(['subjectivity']).first()"
      ],
      "execution_count": 77,
      "outputs": [
        {
          "output_type": "execute_result",
          "data": {
            "text/html": [
              "<div>\n",
              "<style scoped>\n",
              "    .dataframe tbody tr th:only-of-type {\n",
              "        vertical-align: middle;\n",
              "    }\n",
              "\n",
              "    .dataframe tbody tr th {\n",
              "        vertical-align: top;\n",
              "    }\n",
              "\n",
              "    .dataframe thead th {\n",
              "        text-align: right;\n",
              "    }\n",
              "</style>\n",
              "<table border=\"1\" class=\"dataframe\">\n",
              "  <thead>\n",
              "    <tr style=\"text-align: right;\">\n",
              "      <th></th>\n",
              "      <th>text</th>\n",
              "      <th>company</th>\n",
              "      <th>author_id</th>\n",
              "      <th>industry</th>\n",
              "      <th>polarity</th>\n",
              "    </tr>\n",
              "    <tr>\n",
              "      <th>subjectivity</th>\n",
              "      <th></th>\n",
              "      <th></th>\n",
              "      <th></th>\n",
              "      <th></th>\n",
              "      <th></th>\n",
              "    </tr>\n",
              "  </thead>\n",
              "  <tbody>\n",
              "    <tr>\n",
              "      <th>0.000000</th>\n",
              "      <td>atviassist pls fix hqs</td>\n",
              "      <td>0</td>\n",
              "      <td>non-company</td>\n",
              "      <td>noncompany</td>\n",
              "      <td>0.000000</td>\n",
              "    </tr>\n",
              "    <tr>\n",
              "      <th>0.016667</th>\n",
              "      <td>hey we were off beat for a second but were ba...</td>\n",
              "      <td>1</td>\n",
              "      <td>SpotifyCares</td>\n",
              "      <td>radio stations  broadcasting companies</td>\n",
              "      <td>-0.016667</td>\n",
              "    </tr>\n",
              "    <tr>\n",
              "      <th>0.022222</th>\n",
              "      <td>gwrhelp  southampton to cardiff  one ive been ...</td>\n",
              "      <td>0</td>\n",
              "      <td>non-company</td>\n",
              "      <td>noncompany</td>\n",
              "      <td>-0.022222</td>\n",
              "    </tr>\n",
              "    <tr>\n",
              "      <th>0.025000</th>\n",
              "      <td>gwrhelp just left a blue amp white golf umbrel...</td>\n",
              "      <td>0</td>\n",
              "      <td>non-company</td>\n",
              "      <td>noncompany</td>\n",
              "      <td>0.000000</td>\n",
              "    </tr>\n",
              "    <tr>\n",
              "      <th>0.033333</th>\n",
              "      <td>ideacares if issue is not resolved i will not ...</td>\n",
              "      <td>0</td>\n",
              "      <td>non-company</td>\n",
              "      <td>noncompany</td>\n",
              "      <td>0.000000</td>\n",
              "    </tr>\n",
              "    <tr>\n",
              "      <th>...</th>\n",
              "      <td>...</td>\n",
              "      <td>...</td>\n",
              "      <td>...</td>\n",
              "      <td>...</td>\n",
              "      <td>...</td>\n",
              "    </tr>\n",
              "    <tr>\n",
              "      <th>0.975000</th>\n",
              "      <td>im sorry about the unpleasant experience youv...</td>\n",
              "      <td>1</td>\n",
              "      <td>AmazonHelp</td>\n",
              "      <td>internet  catalog shopping</td>\n",
              "      <td>-0.575000</td>\n",
              "    </tr>\n",
              "    <tr>\n",
              "      <th>0.975000</th>\n",
              "      <td>thinking about  especially  very disappointed ...</td>\n",
              "      <td>0</td>\n",
              "      <td>non-company</td>\n",
              "      <td>noncompany</td>\n",
              "      <td>-0.975000</td>\n",
              "    </tr>\n",
              "    <tr>\n",
              "      <th>0.983333</th>\n",
              "      <td>hi christina thank you for your feedback im p...</td>\n",
              "      <td>1</td>\n",
              "      <td>Tesco</td>\n",
              "      <td>grocers  retail</td>\n",
              "      <td>0.616667</td>\n",
              "    </tr>\n",
              "    <tr>\n",
              "      <th>0.987500</th>\n",
              "      <td>very disappointed in americanair the service w...</td>\n",
              "      <td>0</td>\n",
              "      <td>non-company</td>\n",
              "      <td>noncompany</td>\n",
              "      <td>-0.987500</td>\n",
              "    </tr>\n",
              "    <tr>\n",
              "      <th>1.000000</th>\n",
              "      <td>its possible the flight was going to reno nv ...</td>\n",
              "      <td>1</td>\n",
              "      <td>AlaskaAir</td>\n",
              "      <td>airline companies</td>\n",
              "      <td>0.000000</td>\n",
              "    </tr>\n",
              "  </tbody>\n",
              "</table>\n",
              "<p>1887 rows × 5 columns</p>\n",
              "</div>"
            ],
            "text/plain": [
              "                                                           text  ...  polarity\n",
              "subjectivity                                                     ...          \n",
              "0.000000                                atviassist pls fix hqs   ...  0.000000\n",
              "0.016667       hey we were off beat for a second but were ba...  ... -0.016667\n",
              "0.022222      gwrhelp  southampton to cardiff  one ive been ...  ... -0.022222\n",
              "0.025000      gwrhelp just left a blue amp white golf umbrel...  ...  0.000000\n",
              "0.033333      ideacares if issue is not resolved i will not ...  ...  0.000000\n",
              "...                                                         ...  ...       ...\n",
              "0.975000       im sorry about the unpleasant experience youv...  ... -0.575000\n",
              "0.975000      thinking about  especially  very disappointed ...  ... -0.975000\n",
              "0.983333       hi christina thank you for your feedback im p...  ...  0.616667\n",
              "0.987500      very disappointed in americanair the service w...  ... -0.987500\n",
              "1.000000       its possible the flight was going to reno nv ...  ...  0.000000\n",
              "\n",
              "[1887 rows x 5 columns]"
            ]
          },
          "metadata": {
            "tags": []
          },
          "execution_count": 77
        }
      ]
    },
    {
      "cell_type": "code",
      "metadata": {
        "id": "GKsKhZlKNBDO",
        "colab_type": "code",
        "outputId": "d7644f26-5959-4716-a571-5d742e9eaad4",
        "colab": {
          "base_uri": "https://localhost:8080/",
          "height": 297
        }
      },
      "source": [
        "plt.figure(figsize=(10, 4))\n",
        "\n",
        "plt.subplot(1, 2, 1)\n",
        "sns.distplot(sentiment_df['subjectivity'])\n",
        "plt.xlabel('<-- Facts ----------- Opinions -->', fontsize=15)\n",
        "plt.title('Subjectivity Distribution')\n",
        "\n",
        "plt.subplot(1, 2, 2)\n",
        "sns.barplot(x='company', y='subjectivity', data=sentiment_df)\n",
        "plt.title('Subjectivity in Tweets')\n",
        "\n",
        "plt.tight_layout()\n",
        "plt.show()"
      ],
      "execution_count": 78,
      "outputs": [
        {
          "output_type": "display_data",
          "data": {
            "image/png": "[encoded data removed]",
            "text/plain": [
              "<Figure size 720x288 with 2 Axes>"
            ]
          },
          "metadata": {
            "tags": []
          }
        }
      ]
    },
    {
      "cell_type": "markdown",
      "metadata": {
        "id": "kxbtXmFNOJiA",
        "colab_type": "text"
      },
      "source": [
        "Interestingly, most of the information is fact-based, with companies being more factual than individuals.\n",
        "\n",
        "For a company that wants to offer customer support via Twitter, focusing on sticking to the facts is a good strategy to keep in mind.\n",
        "\n",
        "*Analzying Polarity and Subjectivity*\n",
        "\n",
        "After looking at polarity and subjectivity as a whole, it'd be great to take a deeper look at how those values vary across some of the industries and companies."
      ]
    },
    {
      "cell_type": "code",
      "metadata": {
        "id": "yZRqBPn0m3Bh",
        "colab_type": "code",
        "colab": {}
      },
      "source": [
        "# Setting up an 'industry_df'.\n",
        "industry_df = sentiment_df[['industry', 'polarity', 'subjectivity']]\n",
        "industry_df = industry_df.groupby(['industry']).mean().head(5)"
      ],
      "execution_count": 0,
      "outputs": []
    },
    {
      "cell_type": "code",
      "metadata": {
        "id": "xVoOjYcSkS4T",
        "colab_type": "code",
        "colab": {}
      },
      "source": [
        "# Setting up an 'author_df'.\n",
        "author_df = sentiment_df[['author_id', 'polarity', 'subjectivity']]\n",
        "author_df = author_df.groupby(['author_id']).mean().head(5)"
      ],
      "execution_count": 0,
      "outputs": []
    },
    {
      "cell_type": "code",
      "metadata": {
        "id": "Fl9TH1F__Txf",
        "colab_type": "code",
        "outputId": "f0f90cf2-08f3-40e8-fcfc-eb415e4f4f6f",
        "colab": {
          "base_uri": "https://localhost:8080/",
          "height": 297
        }
      },
      "source": [
        "plt.figure(figsize=(10, 4))\n",
        "\n",
        "plt.subplot(1, 2, 1)\n",
        "sns.scatterplot(x=industry_df['polarity'], y=industry_df['subjectivity'], hue=industry_df.index, data=industry_df)\n",
        "plt.title('Sentiment by Industry', fontsize=15)\n",
        "plt.xlabel('<-- Negative -------- Positive -->', fontsize=15)\n",
        "plt.ylabel('<-- Facts ----------- Opinions -->', fontsize=15)\n",
        "\n",
        "plt.subplot(1, 2, 2)\n",
        "sns.scatterplot(x=author_df['polarity'], y=author_df['subjectivity'], hue=author_df.index, data=author_df)\n",
        "plt.title('Sentiment by Company', fontsize=15)\n",
        "plt.xlabel('<-- Negative -------- Positive -->', fontsize=15)\n",
        "plt.ylabel('<-- Facts ----------- Opinions -->', fontsize=15)\n",
        "\n",
        "plt.tight_layout()\n",
        "plt.show()"
      ],
      "execution_count": 81,
      "outputs": [
        {
          "output_type": "display_data",
          "data": {
            "image/png": "[encoded data removed]",
            "text/plain": [
              "<Figure size 720x288 with 2 Axes>"
            ]
          },
          "metadata": {
            "tags": []
          }
        }
      ]
    },
    {
      "cell_type": "markdown",
      "metadata": {
        "id": "p_uQRCUClkdL",
        "colab_type": "text"
      },
      "source": [
        "Across industries, there are big differences in how polarity and subjectivity is approached. And even within the industries, individual companies can break away from the group, which is shown by AirAsiaSupport and how its tweetes are more positive than that of the airline industry as a whole.\n",
        "\n",
        "If a company's analyzing their tweets, they may want to see if they're aligned with the pack. It could make sense to stay there or they could be better off in taking their own approach. How they decide to handle that depends on what they value and how they want to be perceived. ([Cheng](https://www.forbes.com/sites/andriacheng/2018/10/08/wendys-twitter-roasts-have-become-the-envy-of-marketers-heres-how-it-does-it/#6b7919b6fea4))\n",
        "\n",
        "Likewise, for a business that wants to offer customer support on Twitter, they could look at their industry as a whole to get a sense of how to approach tone.\n",
        "\n",
        "### 6. Text Generation\n",
        "\n",
        "For companies that want to offer customer support on Twitter, but who don't have the resources to write individual replies to every tweet they get, a text generator could be valuable."
      ]
    },
    {
      "cell_type": "code",
      "metadata": {
        "id": "d3Tg478-m4iI",
        "colab_type": "code",
        "outputId": "f6f11ef6-6bf9-42e0-d278-e415fa297ab1",
        "colab": {
          "base_uri": "https://localhost:8080/",
          "height": 51
        }
      },
      "source": [
        "pip install markovify"
      ],
      "execution_count": 82,
      "outputs": [
        {
          "output_type": "stream",
          "text": [
            "Requirement already satisfied: markovify in /usr/local/lib/python3.6/dist-packages (0.7.2)\n",
            "Requirement already satisfied: unidecode in /usr/local/lib/python3.6/dist-packages (from markovify) (1.1.1)\n"
          ],
          "name": "stdout"
        }
      ]
    },
    {
      "cell_type": "code",
      "metadata": {
        "id": "iQwVvPTnMKJB",
        "colab_type": "code",
        "colab": {}
      },
      "source": [
        "import markovify"
      ],
      "execution_count": 0,
      "outputs": []
    },
    {
      "cell_type": "code",
      "metadata": {
        "id": "0TS08L8Vi5uV",
        "colab_type": "code",
        "colab": {}
      },
      "source": [
        "markovify_df = clean_df.copy()\n",
        "drop = markovify_df[markovify_df['author_id'] != 'Delta'].index\n",
        "markovify_df = markovify_df.drop(drop)"
      ],
      "execution_count": 0,
      "outputs": []
    },
    {
      "cell_type": "code",
      "metadata": {
        "id": "sm6QYbqlMKG0",
        "colab_type": "code",
        "colab": {}
      },
      "source": [
        "text_model = markovify.NewlineText(markovify_df['text'], state_size = 2)"
      ],
      "execution_count": 0,
      "outputs": []
    },
    {
      "cell_type": "code",
      "metadata": {
        "id": "xJnHr77fNXmO",
        "colab_type": "code",
        "outputId": "43413a1b-4f7c-4843-ef06-cc1a03adce70",
        "colab": {
          "base_uri": "https://localhost:8080/",
          "height": 207
        }
      },
      "source": [
        "# Print ten randomly-generated sentences using the built model\n",
        "for i in range(10):\n",
        "    print(text_model.make_sentence())"
      ],
      "execution_count": 86,
      "outputs": [
        {
          "output_type": "stream",
          "text": [
            " it will have you as soon as possible hkc\n",
            " well in that case a later flight departing out of the flight that you dont need to ask the questions please let us know ajy\n",
            " hi michael please give us another chance to file your complaint here amc\n",
            " hi it should show in the air as soon as possible please be ready to help tcc\n",
            " karyn i am confident that the air shortly cac\n",
            " were sorry for your flight tjm\n",
            " hello interesting to hear i will be the third party hotwire you must report your photo id tjh\n",
            " hi sarah sorry to hear about your seat upgrade the gbl upgrades are based on the book a car rental although you can retrieve your bag file number via dm for privacy concerns please refresh your app issues acj\n",
            " hey brett im very sorry to hear it thanks for waiting theres no award seats left to apply towards the end of today were always here ready to go crew keep up with us we look forward having you and your time at the gate agent about this simon please follow this link acj \n",
            " i am very sorry you didnt receive the delta honor guard is one symbol of deltas culture or of the basic economy fare so the problem ttn\n"
          ],
          "name": "stdout"
        }
      ]
    },
    {
      "cell_type": "markdown",
      "metadata": {
        "id": "NVDoMiFQnzv_",
        "colab_type": "text"
      },
      "source": [
        "The tweets that were generated aren't perfect, but they're a nice start. A business owner could use take this content, then update it so it's more polished and fits the conversation.\n",
        "\n",
        "Added to that, this text generator is simple. If a more complex model was used, the text would be higher quality and a greater value-add.\n",
        "\n",
        "---\n",
        "\n",
        "\n",
        "\n",
        "### 7. Key Takeaways\n",
        "\n",
        "With the models and analysis done, here's a recap of the value-add for: \n",
        "\n",
        "*Companies that Already Offer Customer Support on Twitter*\n",
        "- Use LDA to figure out what's associated with your products and services. \n",
        "  * If the model shows you red flags, take that information to course correct.\n",
        "- Objectively analyze the sentiment in your tweets and take a moment to decide if your tone matches with what you want to be known for. \n",
        "  * While it can seem like a small thing, getting your communication right can have big impacts for your business.\n",
        "\n",
        "*Businesses that Want to Offer Customer Support on Twitter*\n",
        "- Creating a communications strategy can be intimidating, so use data science to see what your peers are doing, then decide if you want to join the pack or stand out.\n",
        "  * You'd take a risk by being individual, but if you create a voice that's unqiue and true to your brand that could translate to more profits. ([Cheng](https://www.forbes.com/sites/andriacheng/2018/10/08/wendys-twitter-roasts-have-become-the-envy-of-marketers-heres-how-it-does-it/#8c1ed1efea4c), [Vincent](https://www.fool.com/investing/2019/11/12/3-key-takeaways-from-wendys-q3-earnings.aspx))\n",
        "- Use text generation to help you get started. \n",
        "  * Even though the text generation wasn't perfect, it'll help you avoid pitfalls (like the perfection trap) and get more comfortable with writing content.\n",
        "\n",
        "\n",
        "\n",
        "---\n",
        "\n",
        "\n",
        "### 8. Next Steps\n",
        "\n",
        "*Analytical Changes*\n",
        "\n",
        "In a future version of this project, here are changes that could be made: \n",
        "\n",
        "- First, it'd be great to see if there's a correlation between:\n",
        "  * A major event and how many tweets a company gets, as well as if certain events draw more tweets than others (like a service disruption vs. an announcement about business strategy changes). \n",
        "  * How many tweets a company gets and the time of year.\n",
        "\n",
        "- Then, it'd be interesting to look at inbound vs. outbound tweets and see if the interactions start negatively and end positively or if there's another, less obvious trend.\n",
        "\n",
        "That additional analysis would lead to valuable insights that could help companies anticipate things like how many staff they'll need during certain times of the year and if they should change their guidance on how they direct customer service reps to handle conversations.\n",
        "\n",
        "*Technical Changes*\n",
        "\n",
        "- Remove non-English languages and emojis.\n",
        "  * Non-English words and emojis didn't have a major impact on the models' results, though it'd be good to remove them from the dataset.\n",
        "\n",
        "\n",
        "---\n",
        "\n",
        "\n",
        "### 9. Resources\n",
        "\n",
        "Below is a list of resources that was used for this project. For ease of use, the resources are grouped by Business Intelligence, the Kaggle Dataset and Technical Resources.\n",
        "\n",
        "*Business Intelligence*\n",
        "\n",
        "1. [Afshar](https://www.salesforce.com/blog/2019/06/customer-focus.html). Salesforce. \"How to Improve Your Company’s Customer Focus.\"\n",
        "2.  [Cheng](https://www.forbes.com/sites/andriacheng/2018/10/08/wendys-twitter-roasts-have-become-the-envy-of-marketers-heres-how-it-does-it/#28ef096dfea4). Forbes. \"How Wendy's Learned To Stop Worrying And Love Its Twitter Roasts Of McDonald's.\"\n",
        "3. [Google News](https://news.google.com/?hl=en-US&gl=US&ceid=US:en).\n",
        "4. [IGI Global](https://www.igi-global.com/dictionary/service-failure-and-recovery-strategy-in-computer-mediated-marketing-environments-cmmes/69930)\n",
        "5. [Keown](https://www.barrons.com/articles/disney-snubbed-twitter-purchase-due-to-platforms-nastiness-ceo-bob-iger-reveals-51569248274?mod=article_signInButton?mod=article_signInButton). Barron's. \"Disney Pulled Out of Twitter Purchase Due to Platform’s ‘Nastiness,’ CEO Bob Iger Reveals.\"\n",
        "6. [Parmar](https://hbr.org/2015/04/the-best-and-worst-corporate-tweeters). Harvard Business Review. \"50 Companies That Get Twitter – and 50 That Don’t.\"\n",
        "7. [Salesgenie.com](https://www.salesgenie.com/).\n",
        "8. [Steinmetz](https://time.com/4894182/twitter-company-complaints/). Time - Tech. \"Does Tweeting at Companies Really Work?\"\n",
        "9. [US Chamber of Commerce](https://www.uschamber.com/about/about-the-us-chamber/frequently-asked-questions#3). \"Frequently Asked Questions.\"\n",
        "10. [Vincent](https://www.fool.com/investing/2019/11/12/3-key-takeaways-from-wendys-q3-earnings.aspx). Motley Fool. \"3 Key Takeaways from Wendy's Q3 Earnings.\"\n",
        "11. [Wolfe](https://www.nytimes.com/2018/11/20/travel/airline-customer-service-twitter.html). New York Times. \"Want Faster Airline Customer Service? Try Tweeting.\"\n",
        "12. [Yahoo! Finance](https://finance.yahoo.com/).\n",
        "\n",
        "*The Kaggle Datset*\n",
        "1. [Kaggle - Customer Support on Twitter Dataset](https://www.kaggle.com/thoughtvector/customer-support-on-twitter/data).\n",
        "\n",
        "*Technical Resources*\n",
        "1. [Dwivedi](https://github.com/priya-dwivedi/Deep-Learning/blob/master/topic_modeling/LDA_Newsgroup.ipynb). GitHub. \"Latent Dirichlet Allocation.\"\n",
        "2. [Dwivedi](https://towardsdatascience.com/nlp-extracting-the-main-topics-from-your-dataset-using-lda-in-minutes-21486f5aa925). Towards Data Science. \"NLP: Extracting the Main Topics From Your Dataset Using LDA in Minutes.\"\n",
        "3. [Geeks for Geeks](https://www.geeksforgeeks.org/generating-word-cloud-python/). \"Generating Word Cloud in Python.\"\n",
        "4. [Majed Raja](https://datascienceplus.com/natural-language-generation-with-markovify-in-python/). Data Science+. \"Natural Language Generation with Markovify in Python.\"\n",
        "5. [Malik](https://stackabuse.com/python-for-nlp-introduction-to-the-textblob-library/). Stack Abuse. \"Python for NLP: Introduction to the TextBlob Library.\"\n",
        "6. [Nabi](https://towardsdatascience.com/machine-learning-text-processing-1d5a2d638958). Towards Data Science. \"Machine Learning - Text Processing.\"\n",
        "7. [Powell](http://setosa.io/ev/markov-chains/). Setosa. \"Markov Chains Explained Visually.\"\n",
        "8. [TextBlob](https://textblob.readthedocs.io/en/dev/advanced_usage.html#sentiment-analyzers). TextBlob. \"Advanced Usage: Overriding Models and the Blobber Class.\"\n",
        "9. [Zhao](https://github.com/adashofdata/nlp-in-python-tutorial). GitHub. \"Natural Language Processing in Python Tutorial.\"\n",
        "\n",
        "\n",
        "\n",
        "\n",
        "---\n",
        "\n",
        "\n",
        "### 9. Appendix\n",
        "\n",
        "For your reference, here's the list of non-US companies that were in the dataframe, along with companies that weren't categorized by Salesgenie, and which industry they were assigned to:\n",
        "\n",
        "1. Aldi UK, Grocers - Retail.\n",
        "2. Airtel Care, Telecommunications Services.\n",
        "3. Argos, Retail.\n",
        "4. British Airways, Airline Companies.\n",
        "5. Dollar Shave Club, Retail.\n",
        "6. DoorDash, Restaurants.\n",
        "7. Glo, Cellular Telephones (Services).\n",
        "8. Great Western Railway, Commuter & Passenger Rail Service.\n",
        "9. Greggs, Restaurants.\n",
        "10. Idea Cares, Cellular Telephones (Services).\n",
        "11. InterContinental Hotel Group, Hotel & Motel Management.\n",
        "12. London Midland, Commuter & Passenger Rail Service.\n",
        "13. Marks and Spencer, Grocers - Retail.\n",
        "14. Morrisons, Grocers - Retail.\n",
        "15. MTNC, Cellular Telephones (Services).\n",
        "16. National Rail, Commuter & Passenger Rail Service.\n",
        "17. OPPO Care India, Cellular Telephones (Services).\n",
        "18. Pearson, Education.\n",
        "19. PlayStation, Video Games - Manufacturer.\n",
        "20. Postmates, Restaurants.\n",
        "21. Royal Bank of Canada, Banks.\n",
        "22. Sainsburys, Grocers - Retail.\n",
        "23. Size?, Retail.\n",
        "24. SoundCloud, Radio Stations & Broadcasting Companies.\n",
        "25. Spotify, Radio Stations & Broadcasting Companies.\n",
        "26. Tesco, Grocers - Retail.\n",
        "27. Tigo Ghana, Cellular Telephones (Services).\n",
        "28. Transport for London, Commuter & Passenger Rail Service.\n",
        "29. Virgin America, Airline Companies.\n",
        "30. Virgin Atlantic, Airline Companies.\n",
        "31. Virgin Mobile USA, Cellular Telephones (Services).\n",
        "32. Virgin Money, Banks.\n",
        "33. Virgin Trains, Commuter & Passenger Rail Service."
      ]
    }
  ]
}