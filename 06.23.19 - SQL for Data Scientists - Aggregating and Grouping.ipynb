{
 "cells": [
  {
   "cell_type": "markdown",
   "metadata": {},
   "source": [
    "## Assignments"
   ]
  },
  {
   "cell_type": "markdown",
   "metadata": {},
   "source": [
    "Answer these questions using SQL:\n",
    "\n",
    "- What was the hottest day in our data set? Where was that?\n",
    "- How many trips started at each station?\n",
    "- What's the shortest trip that happened?\n",
    "- What is the average trip duration, by end station?"
   ]
  },
  {
   "cell_type": "markdown",
   "metadata": {},
   "source": [
    "### What was the hottest day in our data set? Where was that?"
   ]
  },
  {
   "cell_type": "markdown",
   "metadata": {},
   "source": [
    "SELECT \n",
    "\tzip, MAX(meantemperaturef) AS MaxTemp\n",
    "FROM \n",
    "\tweather\n",
    "GROUP BY\n",
    "\tzip;"
   ]
  },
  {
   "cell_type": "markdown",
   "metadata": {},
   "source": [
    "The hottest day in the data set was 94 degrees and was in the 94063 zipcode."
   ]
  },
  {
   "cell_type": "markdown",
   "metadata": {},
   "source": [
    "### How many trips started at each station?"
   ]
  },
  {
   "cell_type": "markdown",
   "metadata": {},
   "source": [
    "SELECT\n",
    "\tstart_station,\n",
    "\tCOUNT(*) as start_station\n",
    "FROM\n",
    "\ttrips\n",
    "GROUP BY 1;\n",
    "-- This returns how many times each station name was in the \"start_station\" column."
   ]
  },
  {
   "cell_type": "markdown",
   "metadata": {},
   "source": [
    "### What's the shortest trip that happened?"
   ]
  },
  {
   "cell_type": "markdown",
   "metadata": {},
   "source": [
    "SELECT \n",
    "\tstart_station,\n",
    "\tMIN(duration) AS shortest_trip\n",
    "FROM\n",
    "\ttrips\n",
    "GROUP BY 1;\n",
    "-- This returns each start station's shortest trip."
   ]
  },
  {
   "cell_type": "markdown",
   "metadata": {},
   "source": [
    "### What is the average trip duration, by end station?"
   ]
  },
  {
   "cell_type": "markdown",
   "metadata": {},
   "source": [
    "SELECT \n",
    "\tend_station,\n",
    "\tAVG(duration) AS average_trip\n",
    "FROM\n",
    "\ttrips\n",
    "GROUP BY 1;"
   ]
  }
 ],
 "metadata": {
  "kernelspec": {
   "display_name": "Python 3",
   "language": "python",
   "name": "python3"
  },
  "language_info": {
   "codemirror_mode": {
    "name": "ipython",
    "version": 3
   },
   "file_extension": ".py",
   "mimetype": "text/x-python",
   "name": "python",
   "nbconvert_exporter": "python",
   "pygments_lexer": "ipython3",
   "version": "3.7.3"
  }
 },
 "nbformat": 4,
 "nbformat_minor": 2
}
