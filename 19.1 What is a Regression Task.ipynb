﻿{
 "cells": [
  {
   "cell_type": "markdown",
   "metadata": {},
   "source": [
    "### Assignment\n",
    "\n",
    "To close out this checkpoint, answer the following questions. Once you're done, you can compare your answers to the ones found in [this notebook](https://tf-assets-prod.s3.amazonaws.com/tf-curric/data-science/machine-learning-regression/solutions/1.solution_what_is_regression.ipynb), which you can download.\n",
    "\n",
    "1. Let's assume that you have World Bank data on financial, economic and social indicators for several countries. You want to measure the factors that affect the level of development in these countries. To this end, you decide to use per capita income as a proxy for the development level, which is defined as the national income divided by the population. You want to use some features in your dataset to predict per capita income. Is this task a classification or a regression task? Why?\n",
    "\n",
    "2. Which of the following arguments are false and why?\n",
    "    - OLS is a special type of linear regression models\n",
    "    - Regression models become useless if they don’t meet the assumptions of linear regression.\n",
    "    - Estimation and prediction are the same thing in the context of linear regression models.\n",
    "    - Linear regression is only one kind of regression model. Regression problems can also be solved with other kind of models like Support Vector Machines or Random Forests.\n",
    "\n",
    "3. Assume that your project manager wants you to discover which free services your company offers make your customers buy more of your paid services. Formulate this task as a regression problem and write down the potential outcome and features that you’d like to work on."
   ]
  },
  {
   "cell_type": "markdown",
   "metadata": {},
   "source": [
    "### 1. Let's assume that you have World Bank data on financial, economic and social indicators for several countries. You want to measure the factors that affect the level of development in these countries. To this end, you decide to use per capita income as a proxy for the development level, which is defined as the national income divided by the population. You want to use some features in your dataset to predict per capita income. Is this task a classification or a regression task? Why?"
   ]
  },
  {
   "cell_type": "markdown",
   "metadata": {},
   "source": [
    "Regression because national income is a continuous outcome variable that can have an infinite number of possible values."
   ]
  },
  {
   "cell_type": "markdown",
   "metadata": {},
   "source": [
    "### 2. Which of the following arguments are false and why?\n",
    "\n",
    "    - OLS is a special type of linear regression models\n",
    "    - Regression models become useless if they don’t meet the assumptions of linear regression.\n",
    "    - Estimation and prediction are the same thing in the context of linear regression models.\n",
    "    - Linear regression is only one kind of regression model. Regression problems can also be solved with other kind of models like Support Vector Machines or Random Forests."
   ]
  },
  {
   "cell_type": "markdown",
   "metadata": {},
   "source": [
    "- First argument: false, Ordinary Least Squares (OLS) is an optmization algorithm that tries to minimze the sum of the squared distances between each point and the line, and it chooses the line that minimizes this sum. \n",
    "- Second argument: false, regression models don't become useless if they don't meet the assumptions of linear regression and there'll be coaching on that later in the course.\n",
    "- Third argument: maybe false? My understanding is that estimation's a step in building regression models that'll help you make predictions, so until you've gone through all the steps of building and testing a model to make sure it works well, an estimation isn't a prediction.\n",
    "- Fourth argument: true, linear regressions are only one kind of regression model (though I'm not sure if Support Vector Machines or Random Forests are also linear regression models) and other types of linear regression models include multivaraible and multivariate models."
   ]
  },
  {
   "cell_type": "markdown",
   "metadata": {},
   "source": [
    "### 3. Assume that your project manager wants you to discover which free services your company offers make your customers buy more of your paid services. Formulate this task as a regression problem and write down the potential outcome and features that you’d like to work on."
   ]
  },
  {
   "cell_type": "markdown",
   "metadata": {},
   "source": [
    "This linear regression problem will have a target (y) and two features (x and z): \n",
    "\n",
    "- y: number of paid services purhcased\n",
    "- x: free services\n",
    "- z: paid services\n",
    "\n",
    "The outcome I'd like to work on is figuring out which free services the compnay offers that'll get customers to buy more of the paid services."
   ]
  },
  {
   "cell_type": "code",
   "execution_count": null,
   "metadata": {},
   "outputs": [],
   "source": []
  }
 ],
 "metadata": {
  "kernelspec": {
   "display_name": "Python 3",
   "language": "python",
   "name": "python3"
  },
  "language_info": {
   "codemirror_mode": {
    "name": "ipython",
    "version": 3
   },
   "file_extension": ".py",
   "mimetype": "text/x-python",
   "name": "python",
   "nbconvert_exporter": "python",
   "pygments_lexer": "ipython3",
   "version": "3.7.3"
  }
 },
 "nbformat": 4,
 "nbformat_minor": 2
}
