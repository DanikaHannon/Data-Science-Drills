{
 "cells": [
  {
   "cell_type": "markdown",
   "metadata": {},
   "source": [
    "# Assignments\n",
    "\n",
    "As in previous checkpoints, please submit links to two Juypyter notebooks (one for each assignment below).\n",
    "\n",
    "Please submit links to all your work below. This is not a graded checkpoint, but you should discuss your solutions with your mentor. Also, when you're done, compare your work to these [example solutions](https://github.com/Thinkful-Ed/machine-learning-regression-problems/blob/master/notebooks/5.solution_evaluating_goodness_of_fit.ipynb).\n",
    "\n",
    "1. Weather model\n",
    "\n",
    "For this assignment, you'll revisit the historical temperature dataset. To complete this assignment, submit a link a Jupyter notebook containing your solutions to the following tasks:\n",
    "\n",
    "- First, load the dataset from the weatherinszeged table from Thinkful's database.\n",
    "- Like in the previous checkpoint, build a linear regression model where your target variable is the difference between the apparenttemperature and the temperature. As explanatory variables, use humidity and windspeed. Now, estimate your model using OLS. What are the R-squared and adjusted R-squared values? Do you think they are satisfactory? Why?\n",
    "- Next, include the interaction of humidity and windspeed to the model above and estimate the model using OLS. Now, what is the R-squared of this model? Does this model improve upon the previous one?\n",
    "- Add visibility as an additional explanatory variable to the first model and estimate it. Did R-squared increase? What about adjusted R-squared? Compare the differences put on the table by the interaction term and the visibility in terms of the improvement in the adjusted R-squared. Which one is more useful?\n",
    "- Choose the best one from the three models above with respect to their AIC and BIC scores. Validate your choice by discussing your justification with your mentor.\n",
    "\n",
    "\n",
    "2. House prices model\n",
    "\n",
    "In this exercise, you'll work on your house prices model. To complete this assignment, submit a link to a Jupyter notebook containing your solutions to the following tasks:\n",
    "\n",
    "- Load the houseprices data from Thinkful's database.\n",
    "- Run your house prices model again and assess the goodness of fit of your model using F-test, R-squared, adjusted R-squared, AIC and BIC.\n",
    "- Do you think your model is satisfactory? If so, why?\n",
    "- In order to improve the goodness of fit of your model, try different model specifications by adding or removing some variables.\n",
    "- For each model you try, get the goodness of fit metrics and compare your models with each other. Which model is the best and why?"
   ]
  },
  {
   "cell_type": "markdown",
   "metadata": {},
   "source": [
    "### Import Statements"
   ]
  },
  {
   "cell_type": "code",
   "execution_count": 1,
   "metadata": {},
   "outputs": [],
   "source": [
    "import matplotlib.pyplot as plt\n",
    "import seaborn as sns\n",
    "import numpy as np\n",
    "import pandas as pd\n",
    "import seaborn as sns\n",
    "import scipy.stats as stats\n",
    "from scipy.stats.mstats import winsorize\n",
    "from scipy.stats import bartlett\n",
    "from scipy.stats import levene\n",
    "from scipy.stats import jarque_bera\n",
    "from scipy.stats import normaltest\n",
    "from statsmodels.tsa.stattools import acf\n",
    "from sklearn import linear_model\n",
    "from sqlalchemy import create_engine\n",
    "import statsmodels.api as sm\n",
    "\n",
    "# Display preferences.\n",
    "%matplotlib inline\n",
    "pd.options.display.float_format = '{:.3f}'.format\n",
    "\n",
    "import warnings\n",
    "warnings.filterwarnings('ignore')"
   ]
  },
  {
   "cell_type": "markdown",
   "metadata": {},
   "source": [
    "### Loading the Weather Dataframe"
   ]
  },
  {
   "cell_type": "code",
   "execution_count": 4,
   "metadata": {},
   "outputs": [],
   "source": [
    "postgres_user = 'dsbc_student'\n",
    "postgres_pw = '7*.8G9QH21'\n",
    "postgres_host = '142.93.121.174'\n",
    "postgres_port = '5432'\n",
    "postgres_db = 'weatherinszeged'\n",
    "\n",
    "engine = create_engine('postgresql://{}:{}@{}:{}/{}'.format(\n",
    "    postgres_user, postgres_pw, postgres_host, postgres_port, postgres_db))\n",
    "weather_df = pd.read_sql_query('select * from weatherinszeged',con=engine)\n",
    "\n",
    "engine.dispose()"
   ]
  },
  {
   "cell_type": "markdown",
   "metadata": {},
   "source": [
    "### Weather Model Assignment Recap\n",
    "\n",
    "- Like in the previous checkpoint, build a linear regression model where your target variable is the difference between the apparenttemperature and the temperature. As explanatory variables, use humidity and windspeed. Now, estimate your model using OLS. What are the R-squared and adjusted R-squared values? Do you think they are satisfactory? Why?\n",
    "- Next, include the interaction of humidity and windspeed to the model above and estimate the model using OLS. Now, what is the R-squared of this model? Does this model improve upon the previous one?\n",
    "- Add visibility as an additional explanatory variable to the first model and estimate it. Did R-squared increase? What about adjusted R-squared? Compare the differences put on the table by the interaction term and the visibility in terms of the improvement in the adjusted R-squared. Which one is more useful?\n",
    "- Choose the best one from the three models above with respect to their AIC and BIC scores. Validate your choice by discussing your justification with your mentor."
   ]
  },
  {
   "cell_type": "markdown",
   "metadata": {},
   "source": [
    "_Build a Linear Regression Model & Estimate Your Model Using Ordinary Least Squares (OLS)_\n",
    "\n",
    "Tips:\n",
    "\n",
    "- The target variable is the difference between the apparenttemperature and the temperature.\n",
    "- The explanatory variables are humidity and windspeed."
   ]
  },
  {
   "cell_type": "code",
   "execution_count": 5,
   "metadata": {},
   "outputs": [
    {
     "name": "stdout",
     "output_type": "stream",
     "text": [
      "                            OLS Regression Results                            \n",
      "==============================================================================\n",
      "Dep. Variable:                      y   R-squared:                       0.288\n",
      "Model:                            OLS   Adj. R-squared:                  0.288\n",
      "Method:                 Least Squares   F-statistic:                 1.949e+04\n",
      "Date:                Tue, 20 Aug 2019   Prob (F-statistic):               0.00\n",
      "Time:                        16:44:00   Log-Likelihood:            -1.7046e+05\n",
      "No. Observations:               96453   AIC:                         3.409e+05\n",
      "Df Residuals:                   96450   BIC:                         3.409e+05\n",
      "Df Model:                           2                                         \n",
      "Covariance Type:            nonrobust                                         \n",
      "==============================================================================\n",
      "                 coef    std err          t      P>|t|      [0.025      0.975]\n",
      "------------------------------------------------------------------------------\n",
      "const          2.4381      0.021    115.948      0.000       2.397       2.479\n",
      "humidity      -3.0292      0.024   -126.479      0.000      -3.076      -2.982\n",
      "windspeed     -0.1193      0.001   -176.164      0.000      -0.121      -0.118\n",
      "==============================================================================\n",
      "Omnibus:                     3935.747   Durbin-Watson:                   0.267\n",
      "Prob(Omnibus):                  0.000   Jarque-Bera (JB):             4613.311\n",
      "Skew:                          -0.478   Prob(JB):                         0.00\n",
      "Kurtosis:                       3.484   Cond. No.                         88.1\n",
      "==============================================================================\n",
      "\n",
      "Warnings:\n",
      "[1] Standard Errors assume that the covariance matrix of the errors is correctly specified.\n"
     ]
    }
   ],
   "source": [
    "# Y is the target variable.\n",
    "temperature_differences = weather_df['apparenttemperature'] - weather_df['temperature']\n",
    "Y = temperature_differences\n",
    "\n",
    "# X is the feature set (or the explanatory variables).\n",
    "X = weather_df[['humidity', 'windspeed']]\n",
    "\n",
    "# As a best practice, add a constant to the model.\n",
    "X = sm.add_constant(X)\n",
    "\n",
    "# Fit an OLS model using statsmodels.\n",
    "results = sm.OLS(Y, X).fit()\n",
    "\n",
    "print(results.summary())"
   ]
  },
  {
   "cell_type": "markdown",
   "metadata": {},
   "source": [
    "_What are the R-squared and adjusted R-squared values? Do you think they are satisfactory? Why?_\n",
    "\n",
    "The R-squared value and the adjusted R-squared value are the same at 0.288, which is striking.\n",
    "\n",
    "Those values don't seem satisfactory because they're low. (With the exception of over-fitting, if the adjusted R-squared value is high, it means the model explains the target variable well.)"
   ]
  },
  {
   "cell_type": "markdown",
   "metadata": {},
   "source": [
    "_Next, include the interaction of humidity and windspeed to the model above and estimate the model using OLS._"
   ]
  },
  {
   "cell_type": "code",
   "execution_count": 6,
   "metadata": {},
   "outputs": [
    {
     "name": "stdout",
     "output_type": "stream",
     "text": [
      "                            OLS Regression Results                            \n",
      "==============================================================================\n",
      "Dep. Variable:                      y   R-squared:                       0.341\n",
      "Model:                            OLS   Adj. R-squared:                  0.341\n",
      "Method:                 Least Squares   F-statistic:                 1.666e+04\n",
      "Date:                Tue, 20 Aug 2019   Prob (F-statistic):               0.00\n",
      "Time:                        16:49:34   Log-Likelihood:            -1.6669e+05\n",
      "No. Observations:               96453   AIC:                         3.334e+05\n",
      "Df Residuals:                   96449   BIC:                         3.334e+05\n",
      "Df Model:                           3                                         \n",
      "Covariance Type:            nonrobust                                         \n",
      "============================================================================================\n",
      "                               coef    std err          t      P>|t|      [0.025      0.975]\n",
      "--------------------------------------------------------------------------------------------\n",
      "const                        0.0839      0.033      2.511      0.012       0.018       0.149\n",
      "humidity                     0.1775      0.043      4.133      0.000       0.093       0.262\n",
      "windspeed                    0.0905      0.002     36.797      0.000       0.086       0.095\n",
      "humidity_times_windspeed    -0.2971      0.003    -88.470      0.000      -0.304      -0.291\n",
      "==============================================================================\n",
      "Omnibus:                     4849.937   Durbin-Watson:                   0.265\n",
      "Prob(Omnibus):                  0.000   Jarque-Bera (JB):             9295.404\n",
      "Skew:                          -0.378   Prob(JB):                         0.00\n",
      "Kurtosis:                       4.320   Cond. No.                         193.\n",
      "==============================================================================\n",
      "\n",
      "Warnings:\n",
      "[1] Standard Errors assume that the covariance matrix of the errors is correctly specified.\n"
     ]
    }
   ],
   "source": [
    "# Y is the target variable.\n",
    "Y = temperature_differences\n",
    "\n",
    "# Using feature engineering to capture the interaction between humidity and windspeed.\n",
    "weather_df['humidity_times_windspeed'] = weather_df['humidity']*weather_df['windspeed']\n",
    "\n",
    "# X is the feature set (or the explanatory variables).\n",
    "X = weather_df[['humidity', 'windspeed', 'humidity_times_windspeed']]\n",
    "\n",
    "# As a best practice, add a constant to the model.\n",
    "X = sm.add_constant(X)\n",
    "\n",
    "# Fit an OLS model using statsmodels.\n",
    "results = sm.OLS(Y, X).fit()\n",
    "\n",
    "# Print the summary results.\n",
    "print(results.summary())"
   ]
  },
  {
   "cell_type": "markdown",
   "metadata": {},
   "source": [
    "_Now, what is the R-squared of this model? Does this model improve upon the previous one?_\n",
    "\n",
    "The R-squared value of this model is 0.341, which is a better than the previous score of 0.288."
   ]
  },
  {
   "cell_type": "markdown",
   "metadata": {},
   "source": [
    "_Add visibility as an additional explanatory variable to the first model and estimate it._"
   ]
  },
  {
   "cell_type": "code",
   "execution_count": 8,
   "metadata": {},
   "outputs": [
    {
     "name": "stdout",
     "output_type": "stream",
     "text": [
      "                            OLS Regression Results                            \n",
      "==============================================================================\n",
      "Dep. Variable:                      y   R-squared:                       0.364\n",
      "Model:                            OLS   Adj. R-squared:                  0.363\n",
      "Method:                 Least Squares   F-statistic:                 1.377e+04\n",
      "Date:                Tue, 20 Aug 2019   Prob (F-statistic):               0.00\n",
      "Time:                        16:51:25   Log-Likelihood:            -1.6504e+05\n",
      "No. Observations:               96453   AIC:                         3.301e+05\n",
      "Df Residuals:                   96448   BIC:                         3.301e+05\n",
      "Df Model:                           4                                         \n",
      "Covariance Type:            nonrobust                                         \n",
      "============================================================================================\n",
      "                               coef    std err          t      P>|t|      [0.025      0.975]\n",
      "--------------------------------------------------------------------------------------------\n",
      "const                       -1.1006      0.039    -28.459      0.000      -1.176      -1.025\n",
      "humidity                     0.8909      0.044     20.263      0.000       0.805       0.977\n",
      "windspeed                    0.1033      0.002     42.579      0.000       0.099       0.108\n",
      "humidity_times_windspeed    -0.3164      0.003    -95.355      0.000      -0.323      -0.310\n",
      "visibility                   0.0646      0.001     58.051      0.000       0.062       0.067\n",
      "==============================================================================\n",
      "Omnibus:                     5328.364   Durbin-Watson:                   0.288\n",
      "Prob(Omnibus):                  0.000   Jarque-Bera (JB):            11525.074\n",
      "Skew:                          -0.373   Prob(JB):                         0.00\n",
      "Kurtosis:                       4.520   Cond. No.                         246.\n",
      "==============================================================================\n",
      "\n",
      "Warnings:\n",
      "[1] Standard Errors assume that the covariance matrix of the errors is correctly specified.\n"
     ]
    }
   ],
   "source": [
    "# Y is the target variable.\n",
    "Y = temperature_differences\n",
    "\n",
    "# Using feature engineering to capture the interaction between humidity and windspeed.\n",
    "weather_df['humidity_times_windspeed'] = weather_df['humidity']*weather_df['windspeed']\n",
    "\n",
    "# X is the feature set (or the explanatory variables).\n",
    "X = weather_df[['humidity', 'windspeed', 'humidity_times_windspeed', 'visibility']]\n",
    "\n",
    "# As a best practice, add a constant to the model.\n",
    "X = sm.add_constant(X)\n",
    "\n",
    "# Fit an OLS model using statsmodels.\n",
    "results = sm.OLS(Y, X).fit()\n",
    "\n",
    "# Print the summary results.\n",
    "print(results.summary())"
   ]
  },
  {
   "cell_type": "markdown",
   "metadata": {},
   "source": [
    "_Did R-squared increase? What about adjusted R-squared?_\n",
    "\n",
    "Yes, R-squared increased from 0.341 in the second model to 0.364 in this third model; however, the adjusted R-squared value didn't increase quite as much because its new value is 0.363."
   ]
  },
  {
   "cell_type": "markdown",
   "metadata": {},
   "source": [
    "_Compare the differences put on the table by the interaction term and the visibility in terms of the improvement in the adjusted R-squared. Which one is more useful?_"
   ]
  },
  {
   "cell_type": "code",
   "execution_count": 10,
   "metadata": {},
   "outputs": [
    {
     "name": "stdout",
     "output_type": "stream",
     "text": [
      "                            OLS Regression Results                            \n",
      "==============================================================================\n",
      "Dep. Variable:                      y   R-squared:                       0.304\n",
      "Model:                            OLS   Adj. R-squared:                  0.303\n",
      "Method:                 Least Squares   F-statistic:                 1.401e+04\n",
      "Date:                Tue, 20 Aug 2019   Prob (F-statistic):               0.00\n",
      "Time:                        17:45:10   Log-Likelihood:            -1.6938e+05\n",
      "No. Observations:               96453   AIC:                         3.388e+05\n",
      "Df Residuals:                   96449   BIC:                         3.388e+05\n",
      "Df Model:                           3                                         \n",
      "Covariance Type:            nonrobust                                         \n",
      "==============================================================================\n",
      "                 coef    std err          t      P>|t|      [0.025      0.975]\n",
      "------------------------------------------------------------------------------\n",
      "const          1.5756      0.028     56.605      0.000       1.521       1.630\n",
      "humidity      -2.6066      0.025   -102.784      0.000      -2.656      -2.557\n",
      "windspeed     -0.1199      0.001   -179.014      0.000      -0.121      -0.119\n",
      "visibility     0.0540      0.001     46.614      0.000       0.052       0.056\n",
      "==============================================================================\n",
      "Omnibus:                     3833.895   Durbin-Watson:                   0.282\n",
      "Prob(Omnibus):                  0.000   Jarque-Bera (JB):             4584.022\n",
      "Skew:                          -0.459   Prob(JB):                         0.00\n",
      "Kurtosis:                       3.545   Cond. No.                         131.\n",
      "==============================================================================\n",
      "\n",
      "Warnings:\n",
      "[1] Standard Errors assume that the covariance matrix of the errors is correctly specified.\n"
     ]
    }
   ],
   "source": [
    "#I'm going to test the model again by removing the interaction term and leaving in visibility.\n",
    "\n",
    "# Y is the target variable.\n",
    "Y = temperature_differences\n",
    "\n",
    "# X is the feature set (or the explanatory variables).\n",
    "X = weather_df[['humidity', 'windspeed', 'visibility']]\n",
    "\n",
    "# As a best practice, add a constant to the model.\n",
    "X = sm.add_constant(X)\n",
    "\n",
    "# Fit an OLS model using statsmodels.\n",
    "results = sm.OLS(Y, X).fit()\n",
    "\n",
    "# Print the summary results.\n",
    "print(results.summary())"
   ]
  },
  {
   "cell_type": "markdown",
   "metadata": {},
   "source": [
    "The interaction term improved the model more than adding visibility did because the adjusted R-squared value was 0.341 vs. 0.303."
   ]
  },
  {
   "cell_type": "markdown",
   "metadata": {},
   "source": [
    "_Choose the best one from the three models above with respect to their AIC and BIC scores. Validate your choice by discussing your justification with your mentor._\n",
    "\n",
    "AIC and BIC scores for each model:\n",
    "- First model's scores (humidity and windspeed were the explanatory variables {EVs}):\n",
    "    - AIC: 3.409e+05\n",
    "    - BIC: 3.409e+05\n",
    "    \n",
    "    \n",
    "- Second model's scores (humidity, windspeed and the interaction term {humidity times windspeed} were the EVs):\n",
    "    - AIC: 3.334e+05\n",
    "    - BIC: 3.334e+05\n",
    "    \n",
    "    \n",
    "- Third model's scores (humidity, windspeed, interaction term and visibility were the EVs:\n",
    "    - AIC: 3.301e+05\n",
    "    - BIC: 3.301e+05\n",
    "    \n",
    "    \n",
    "- Fourth models' scores (humidity, windspeed and visibility were the EVs)\n",
    "    - AIC: 3.388e+05\n",
    "    - BIC: 3.388e+05\n",
    "    \n",
    "    \n",
    "Based off the AIC and BIC scores alone, the third model performed the best."
   ]
  },
  {
   "cell_type": "markdown",
   "metadata": {},
   "source": [
    "### Loading the House Prices Dataframe"
   ]
  },
  {
   "cell_type": "code",
   "execution_count": 24,
   "metadata": {},
   "outputs": [],
   "source": [
    "postgres_user = 'dsbc_student'\n",
    "postgres_pw = '7*.8G9QH21'\n",
    "postgres_host = '142.93.121.174'\n",
    "postgres_port = '5432'\n",
    "postgres_db = 'houseprices'\n",
    "\n",
    "engine = create_engine('postgresql://{}:{}@{}:{}/{}'.format(\n",
    "    postgres_user, postgres_pw, postgres_host, postgres_port, postgres_db))\n",
    "house_prices_df = pd.read_sql_query('select * from houseprices',con=engine)\n",
    "\n",
    "engine.dispose()"
   ]
  },
  {
   "cell_type": "markdown",
   "metadata": {},
   "source": [
    "### House Prices Model Recap\n",
    "\n",
    "- Load the houseprices data from Thinkful's database.\n",
    "- Run your house prices model again and assess the goodness of fit of your model using F-test, R-squared, adjusted R-squared, AIC and BIC.\n",
    "- Do you think your model is satisfactory? If so, why?\n",
    "- In order to improve the goodness of fit of your model, try different model specifications by adding or removing some variables.\n",
    "- For each model you try, get the goodness of fit metrics and compare your models with each other. Which model is the best and why?"
   ]
  },
  {
   "cell_type": "markdown",
   "metadata": {},
   "source": [
    "_Run your house prices model again and assess the goodness of fit of your model using F-test, R-squared, adjusted R-squared, AIC and BIC._"
   ]
  },
  {
   "cell_type": "code",
   "execution_count": 25,
   "metadata": {},
   "outputs": [
    {
     "name": "stdout",
     "output_type": "stream",
     "text": [
      "                            OLS Regression Results                            \n",
      "==============================================================================\n",
      "Dep. Variable:              saleprice   R-squared:                       0.761\n",
      "Model:                            OLS   Adj. R-squared:                  0.760\n",
      "Method:                 Least Squares   F-statistic:                     926.5\n",
      "Date:                Tue, 20 Aug 2019   Prob (F-statistic):               0.00\n",
      "Time:                        18:21:49   Log-Likelihood:                -17499.\n",
      "No. Observations:                1460   AIC:                         3.501e+04\n",
      "Df Residuals:                    1454   BIC:                         3.504e+04\n",
      "Df Model:                           5                                         \n",
      "Covariance Type:            nonrobust                                         \n",
      "===============================================================================\n",
      "                  coef    std err          t      P>|t|      [0.025      0.975]\n",
      "-------------------------------------------------------------------------------\n",
      "const       -9.907e+04   4638.450    -21.359      0.000   -1.08e+05      -9e+04\n",
      "overallqual  2.364e+04   1072.532     22.037      0.000    2.15e+04    2.57e+04\n",
      "grlivarea      45.3458      2.489     18.218      0.000      40.463      50.228\n",
      "garagecars   1.454e+04   3022.681      4.812      0.000    8615.034    2.05e+04\n",
      "garagearea     17.1334     10.468      1.637      0.102      -3.401      37.668\n",
      "totalbsmtsf    31.5015      2.904     10.848      0.000      25.805      37.198\n",
      "==============================================================================\n",
      "Omnibus:                      438.146   Durbin-Watson:                   1.971\n",
      "Prob(Omnibus):                  0.000   Jarque-Bera (JB):            40648.199\n",
      "Skew:                          -0.338   Prob(JB):                         0.00\n",
      "Kurtosis:                      28.841   Cond. No.                     9.23e+03\n",
      "==============================================================================\n",
      "\n",
      "Warnings:\n",
      "[1] Standard Errors assume that the covariance matrix of the errors is correctly specified.\n",
      "[2] The condition number is large, 9.23e+03. This might indicate that there are\n",
      "strong multicollinearity or other numerical problems.\n"
     ]
    }
   ],
   "source": [
    "# Y is the target variable.\n",
    "Y = house_prices_df['saleprice']\n",
    "\n",
    "# X is the feature set (or the explanatory variables).\n",
    "X = house_prices_df[['overallqual', 'grlivarea', 'garagecars', 'garagearea', 'totalbsmtsf']]\n",
    "\n",
    "# As a best practice, add a constant to the model.\n",
    "X = sm.add_constant(X)\n",
    "\n",
    "# Fit an OLS model using statsmodels.\n",
    "results = sm.OLS(Y, X).fit()\n",
    "\n",
    "# Print the summary results.\n",
    "print(results.summary())"
   ]
  },
  {
   "cell_type": "markdown",
   "metadata": {},
   "source": [
    "Here are the model's statistics:\n",
    "\n",
    "- F-test: 926.5\n",
    "- R-squared: 0.761\n",
    "- Adjusted R-squared: 0.760\n",
    "- AIC: 3.501e+04\n",
    "- BIC: 3.504e+04\n",
    "\n",
    "_Do you think your model's satisfactory?_\n",
    "\n",
    "I'm pleased with the R-squared, adjusted R-squared, AIC and BIC values, but I'm not sure what to make of the F-test because I'm not sure how to measure my model's error terms (which impact the F-test) and I don't believe this model's nested."
   ]
  },
  {
   "cell_type": "markdown",
   "metadata": {},
   "source": [
    "_In order to improve the goodness of fit of your model, try different model specifications by adding or removing some variables._\n",
    "\n",
    "I'll make two more versions of my model: one where I remove two explanatory variables and another where I add two explanatory variables."
   ]
  },
  {
   "cell_type": "code",
   "execution_count": 27,
   "metadata": {},
   "outputs": [
    {
     "name": "stdout",
     "output_type": "stream",
     "text": [
      "                            OLS Regression Results                            \n",
      "==============================================================================\n",
      "Dep. Variable:              saleprice   R-squared:                       0.765\n",
      "Model:                            OLS   Adj. R-squared:                  0.764\n",
      "Method:                 Least Squares   F-statistic:                     675.5\n",
      "Date:                Tue, 20 Aug 2019   Prob (F-statistic):               0.00\n",
      "Time:                        18:22:11   Log-Likelihood:                -17487.\n",
      "No. Observations:                1460   AIC:                         3.499e+04\n",
      "Df Residuals:                    1452   BIC:                         3.503e+04\n",
      "Df Model:                           7                                         \n",
      "Covariance Type:            nonrobust                                         \n",
      "===============================================================================\n",
      "                  coef    std err          t      P>|t|      [0.025      0.975]\n",
      "-------------------------------------------------------------------------------\n",
      "const       -9.452e+04   4729.676    -19.984      0.000   -1.04e+05   -8.52e+04\n",
      "overallqual  2.281e+04   1096.567     20.802      0.000    2.07e+04     2.5e+04\n",
      "grlivarea      40.1702      2.899     13.856      0.000      34.483      45.857\n",
      "garagecars   1.275e+04   3061.098      4.167      0.000    6749.812    1.88e+04\n",
      "garagearea     22.4801     10.488      2.143      0.032       1.907      43.053\n",
      "totalbsmtsf    29.9981      2.905     10.327      0.000      24.300      35.696\n",
      "fullbath     3230.4464   2534.069      1.275      0.203   -1740.381    8201.274\n",
      "fireplaces   8949.7084   1826.462      4.900      0.000    5366.922    1.25e+04\n",
      "==============================================================================\n",
      "Omnibus:                      422.750   Durbin-Watson:                   1.972\n",
      "Prob(Omnibus):                  0.000   Jarque-Bera (JB):            40435.699\n",
      "Skew:                          -0.220   Prob(JB):                         0.00\n",
      "Kurtosis:                      28.778   Cond. No.                     9.51e+03\n",
      "==============================================================================\n",
      "\n",
      "Warnings:\n",
      "[1] Standard Errors assume that the covariance matrix of the errors is correctly specified.\n",
      "[2] The condition number is large, 9.51e+03. This might indicate that there are\n",
      "strong multicollinearity or other numerical problems.\n"
     ]
    }
   ],
   "source": [
    "# First model with two explanatory variables added.\n",
    "\n",
    "# Y is the target variable.\n",
    "Y = house_prices_df['saleprice']\n",
    "\n",
    "# X is the feature set (or the explanatory variables).\n",
    "X = house_prices_df[['overallqual', 'grlivarea', 'garagecars', 'garagearea', 'totalbsmtsf', 'fullbath', 'fireplaces']]\n",
    "\n",
    "# As a best practice, add a constant to the model.\n",
    "X = sm.add_constant(X)\n",
    "\n",
    "# Fit an OLS model using statsmodels.\n",
    "results = sm.OLS(Y, X).fit()\n",
    "\n",
    "# Print the summary results.\n",
    "print(results.summary())"
   ]
  },
  {
   "cell_type": "code",
   "execution_count": 28,
   "metadata": {},
   "outputs": [
    {
     "name": "stdout",
     "output_type": "stream",
     "text": [
      "                            OLS Regression Results                            \n",
      "==============================================================================\n",
      "Dep. Variable:              saleprice   R-squared:                       0.739\n",
      "Model:                            OLS   Adj. R-squared:                  0.739\n",
      "Method:                 Least Squares   F-statistic:                     1375.\n",
      "Date:                Tue, 20 Aug 2019   Prob (F-statistic):               0.00\n",
      "Time:                        18:22:41   Log-Likelihood:                -17563.\n",
      "No. Observations:                1460   AIC:                         3.513e+04\n",
      "Df Residuals:                    1456   BIC:                         3.516e+04\n",
      "Df Model:                           3                                         \n",
      "Covariance Type:            nonrobust                                         \n",
      "===============================================================================\n",
      "                  coef    std err          t      P>|t|      [0.025      0.975]\n",
      "-------------------------------------------------------------------------------\n",
      "const       -9.883e+04   4842.897    -20.408      0.000   -1.08e+05   -8.93e+04\n",
      "overallqual   2.71e+04   1072.182     25.280      0.000     2.5e+04    2.92e+04\n",
      "grlivarea      50.6742      2.552     19.859      0.000      45.669      55.680\n",
      "garagecars    2.13e+04   1807.065     11.786      0.000    1.78e+04    2.48e+04\n",
      "==============================================================================\n",
      "Omnibus:                      419.972   Durbin-Watson:                   1.988\n",
      "Prob(Omnibus):                  0.000   Jarque-Bera (JB):             9575.801\n",
      "Skew:                           0.788   Prob(JB):                         0.00\n",
      "Kurtosis:                      15.447   Cond. No.                     7.40e+03\n",
      "==============================================================================\n",
      "\n",
      "Warnings:\n",
      "[1] Standard Errors assume that the covariance matrix of the errors is correctly specified.\n",
      "[2] The condition number is large, 7.4e+03. This might indicate that there are\n",
      "strong multicollinearity or other numerical problems.\n"
     ]
    }
   ],
   "source": [
    "# Second model with two explanatory variables removed.\n",
    "\n",
    "# Y is the target variable.\n",
    "Y = house_prices_df['saleprice']\n",
    "\n",
    "# X is the feature set (or the explanatory variables).\n",
    "X = house_prices_df[['overallqual', 'grlivarea', 'garagecars']]\n",
    "\n",
    "# As a best practice, add a constant to the model.\n",
    "X = sm.add_constant(X)\n",
    "\n",
    "# Fit an OLS model using statsmodels.\n",
    "results = sm.OLS(Y, X).fit()\n",
    "\n",
    "# Print the summary results.\n",
    "print(results.summary())"
   ]
  },
  {
   "cell_type": "markdown",
   "metadata": {},
   "source": [
    "_For each model you try, get the goodness of fit metrics and compare your models with each other. Which model is the best and why?_\n",
    "\n",
    "\n",
    "- First model's scores ('overallqual', 'grlivarea', 'garagecars', 'garagearea', 'totalbsmtsf' were the explanatory variables {EVs}):\n",
    "    - R-squared: 0.761\n",
    "    - Adjusted R-squared: 0.760\n",
    "    - F-test: 926.5\n",
    "    - AIC: 3.501e+04\n",
    "    - BIC: 3.501e+04\n",
    "    \n",
    "    \n",
    "- Second model's scores ('overallqual', 'grlivarea', 'garagecars', 'garagearea', 'totalbsmtsf', 'fullbath', 'fireplaces' were the EVs):\n",
    "    - R-squared: 0.765\n",
    "    - Adjusted R-squared: 0.764\n",
    "    - F-test: 675.5\n",
    "    - AIC: 3.499e+04\n",
    "    - BIC: 3.503e+04\n",
    "    \n",
    "    \n",
    "- Third model's scores ('overallqual', 'grlivarea', 'garagecars' were the EVs):\n",
    "    - R-squared: 0.739\n",
    "    - Adjusted R-squared: 0.739\n",
    "    - F-test: 1375\n",
    "    - AIC: 3.513e+04\n",
    "    - BIC: 3.516e+04\n",
    "    \n",
    "    \n",
    "The third model performed the best because it had the lowest AIC and BIC values, plus the highest R-squared and adjusted R-squared value. \n",
    "\n",
    "The models' performances surprised me because I was expecting the first model to do the best."
   ]
  },
  {
   "cell_type": "code",
   "execution_count": null,
   "metadata": {},
   "outputs": [],
   "source": []
  }
 ],
 "metadata": {
  "kernelspec": {
   "display_name": "Python 3",
   "language": "python",
   "name": "python3"
  },
  "language_info": {
   "codemirror_mode": {
    "name": "ipython",
    "version": 3
   },
   "file_extension": ".py",
   "mimetype": "text/x-python",
   "name": "python",
   "nbconvert_exporter": "python",
   "pygments_lexer": "ipython3",
   "version": "3.7.3"
  }
 },
 "nbformat": 4,
 "nbformat_minor": 2
}
